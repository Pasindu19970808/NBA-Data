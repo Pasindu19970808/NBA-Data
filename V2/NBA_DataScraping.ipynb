{
 "metadata": {
  "language_info": {
   "codemirror_mode": {
    "name": "ipython",
    "version": 3
   },
   "file_extension": ".py",
   "mimetype": "text/x-python",
   "name": "python",
   "nbconvert_exporter": "python",
   "pygments_lexer": "ipython3",
   "version": "3.8.8-final"
  },
  "orig_nbformat": 2,
  "kernelspec": {
   "name": "python3",
   "display_name": "Python 3.8.8 64-bit",
   "metadata": {
    "interpreter": {
     "hash": "965ba1120b0c101b3f715b6e258a73742ec1cf86f2c8b04492724c87d9f112c3"
    }
   }
  }
 },
 "nbformat": 4,
 "nbformat_minor": 2,
 "cells": [
  {
   "source": [
    "<h1> NBA Data Scraping of all players totals and WS values for the years 1980 to 2019 </h1>\n",
    "\n",
    "The following notebook works to extract data for all NBA players from the year 1980 to 2019. All data will be obtained from https://www.basketball-reference.com/"
   ],
   "cell_type": "markdown",
   "metadata": {}
  },
  {
   "cell_type": "code",
   "execution_count": 1,
   "metadata": {},
   "outputs": [],
   "source": [
    "import bs4 as BeautifulSoup\n",
    "import urllib.request\n",
    "import pandas as pd\n",
    "import numpy as np\n",
    "import re"
   ]
  },
  {
   "source": [
    "<h2> Scraping for Player Data </h2>"
   ],
   "cell_type": "markdown",
   "metadata": {}
  },
  {
   "cell_type": "code",
   "execution_count": 2,
   "metadata": {},
   "outputs": [
    {
     "output_type": "stream",
     "name": "stdout",
     "text": [
      "1980\n",
      "1981\n",
      "1982\n",
      "1983\n",
      "1984\n",
      "1985\n",
      "1986\n",
      "1987\n",
      "1988\n",
      "1989\n",
      "1990\n",
      "1991\n",
      "1992\n",
      "1993\n",
      "1994\n",
      "1995\n",
      "1996\n",
      "1997\n",
      "1998\n",
      "1999\n",
      "2000\n",
      "2001\n",
      "2002\n",
      "2003\n",
      "2004\n",
      "2005\n",
      "2006\n",
      "2007\n",
      "2008\n",
      "2009\n",
      "2010\n",
      "2011\n",
      "2012\n",
      "2013\n",
      "2014\n",
      "2015\n",
      "2016\n",
      "2017\n",
      "2018\n",
      "2019\n"
     ]
    }
   ],
   "source": [
    "#Years\n",
    "years = list(range(1980,2020))\n",
    "#The URL pattern for Player totals for each year is https://www.basketball-reference.com/leagues/NBA_\"year\"_totals.html\n",
    "complete_array = np.empty(shape = (0,0))\n",
    "\n",
    "#setting one url to get the headers of each column\n",
    "headers_url = \"https://www.basketball-reference.com/leagues/NBA_1980_totals.html\"\n",
    "headers_th_tags = BeautifulSoup.BeautifulSoup(urllib.request.urlopen(headers_url),'html.parser').find_all('table',{'id':'totals_stats'})[0].find_all('thead')[0].find_all('th')\n",
    "headers_list = list(map(lambda x:x.get_text(), headers_th_tags))\n",
    "headers_list.insert(0,'Year')\n",
    "headers_list.insert(0,'Player ID')\n",
    "headers_array = np.array(headers_list).reshape(1,-1)\n",
    "for year in years:\n",
    "    year_array = np.empty(shape = (0,0))\n",
    "    print(year)\n",
    "    url = \"https://www.basketball-reference.com/leagues/NBA_\" + str(year) + \"_totals.html\"\n",
    "    html_content = urllib.request.urlopen(url)\n",
    "    bsoup = BeautifulSoup.BeautifulSoup(html_content,'html.parser')\n",
    "    year_list = bsoup.find_all('table',{'id':'totals_stats'})[0].find_all('tbody')[0].find_all('tr',class_ = lambda x: x!= 'thead')\n",
    "    #can also use with html string(similar to a JQuery search)\n",
    "    #year_list = bsoup.find_all('table',{'id':'totals_stats'})[0].find_all('tbody')[0].select('tr:not(.thead)')\n",
    "    for row in year_list:\n",
    "        player_url = row.find_all('a')[0]['href']\n",
    "        playerid = re.findall('[a-zA-Z0-9]*',re.findall('[a-zA-Z0-9]*\\.html',player_url)[0])[0]\n",
    "        row_result = list(map(lambda x: x.get_text(),row))\n",
    "        row_result.insert(0,year)\n",
    "        row_result.insert(0,playerid)\n",
    "        if year_array.shape[0] == 0:\n",
    "            year_array = np.array(row_result).reshape(1,-1)\n",
    "        else:\n",
    "            year_array = np.vstack((year_array,np.array(row_result).reshape(1,-1)))\n",
    "    if complete_array.shape[0] == 0:\n",
    "        complete_array = np.vstack((headers_list,year_array))\n",
    "    else:\n",
    "        complete_array = np.vstack((complete_array,year_array))"
   ]
  },
  {
   "cell_type": "code",
   "execution_count": 3,
   "metadata": {},
   "outputs": [
    {
     "output_type": "execute_result",
     "data": {
      "text/plain": [
       "       Player ID  Year   Rk                Player Pos Age   Tm   G  GS    MP  \\\n",
       "0      abdulka01  1980    1  Kareem Abdul-Jabbar*   C  32  LAL  82      3143   \n",
       "1      abernto01  1980    2         Tom Abernethy  PF  25  GSW  67      1222   \n",
       "2      adamsal01  1980    3           Alvan Adams   C  25  PHO  75      2168   \n",
       "3      architi01  1980    4       Tiny Archibald*  PG  31  BOS  80  80  2864   \n",
       "4      awtrede01  1980    5         Dennis Awtrey   C  31  CHI  26       560   \n",
       "...          ...   ...  ...                   ...  ..  ..  ...  ..  ..   ...   \n",
       "20294  zellety01  2019  528          Tyler Zeller   C  29  MEM   4   1    82   \n",
       "20295  zizican01  2019  529            Ante Žižić   C  22  CLE  59  25  1082   \n",
       "20296  zubaciv01  2019  530           Ivica Zubac   C  21  TOT  59  37  1040   \n",
       "20297  zubaciv01  2019  530           Ivica Zubac   C  21  LAL  33  12   516   \n",
       "20298  zubaciv01  2019  530           Ivica Zubac   C  21  LAC  26  25   524   \n",
       "\n",
       "       ...   FT%  ORB  DRB  TRB  AST  STL  BLK  TOV   PF   PTS  \n",
       "0      ...  .765  190  696  886  371   81  280  297  216  2034  \n",
       "1      ...  .683   62  129  191   87   35   12   39  118   362  \n",
       "2      ...  .797  158  451  609  322  108   55  218  237  1118  \n",
       "3      ...  .830   59  138  197  671  106   10  242  218  1131  \n",
       "4      ...  .640   29   86  115   40   12   15   27   66    86  \n",
       "...    ...   ...  ...  ...  ...  ...  ...  ...  ...  ...   ...  \n",
       "20294  ...  .778    9    9   18    3    1    3    4   16    46  \n",
       "20295  ...  .705  108  212  320   53   13   22   61  113   459  \n",
       "20296  ...  .802  115  247  362   63   14   51   70  137   525  \n",
       "20297  ...  .864   54  108  162   25    4   27   33   73   281  \n",
       "20298  ...  .733   61  139  200   38   10   24   37   64   244  \n",
       "\n",
       "[20299 rows x 32 columns]"
      ],
      "text/html": "<div>\n<style scoped>\n    .dataframe tbody tr th:only-of-type {\n        vertical-align: middle;\n    }\n\n    .dataframe tbody tr th {\n        vertical-align: top;\n    }\n\n    .dataframe thead th {\n        text-align: right;\n    }\n</style>\n<table border=\"1\" class=\"dataframe\">\n  <thead>\n    <tr style=\"text-align: right;\">\n      <th></th>\n      <th>Player ID</th>\n      <th>Year</th>\n      <th>Rk</th>\n      <th>Player</th>\n      <th>Pos</th>\n      <th>Age</th>\n      <th>Tm</th>\n      <th>G</th>\n      <th>GS</th>\n      <th>MP</th>\n      <th>...</th>\n      <th>FT%</th>\n      <th>ORB</th>\n      <th>DRB</th>\n      <th>TRB</th>\n      <th>AST</th>\n      <th>STL</th>\n      <th>BLK</th>\n      <th>TOV</th>\n      <th>PF</th>\n      <th>PTS</th>\n    </tr>\n  </thead>\n  <tbody>\n    <tr>\n      <th>0</th>\n      <td>abdulka01</td>\n      <td>1980</td>\n      <td>1</td>\n      <td>Kareem Abdul-Jabbar*</td>\n      <td>C</td>\n      <td>32</td>\n      <td>LAL</td>\n      <td>82</td>\n      <td></td>\n      <td>3143</td>\n      <td>...</td>\n      <td>.765</td>\n      <td>190</td>\n      <td>696</td>\n      <td>886</td>\n      <td>371</td>\n      <td>81</td>\n      <td>280</td>\n      <td>297</td>\n      <td>216</td>\n      <td>2034</td>\n    </tr>\n    <tr>\n      <th>1</th>\n      <td>abernto01</td>\n      <td>1980</td>\n      <td>2</td>\n      <td>Tom Abernethy</td>\n      <td>PF</td>\n      <td>25</td>\n      <td>GSW</td>\n      <td>67</td>\n      <td></td>\n      <td>1222</td>\n      <td>...</td>\n      <td>.683</td>\n      <td>62</td>\n      <td>129</td>\n      <td>191</td>\n      <td>87</td>\n      <td>35</td>\n      <td>12</td>\n      <td>39</td>\n      <td>118</td>\n      <td>362</td>\n    </tr>\n    <tr>\n      <th>2</th>\n      <td>adamsal01</td>\n      <td>1980</td>\n      <td>3</td>\n      <td>Alvan Adams</td>\n      <td>C</td>\n      <td>25</td>\n      <td>PHO</td>\n      <td>75</td>\n      <td></td>\n      <td>2168</td>\n      <td>...</td>\n      <td>.797</td>\n      <td>158</td>\n      <td>451</td>\n      <td>609</td>\n      <td>322</td>\n      <td>108</td>\n      <td>55</td>\n      <td>218</td>\n      <td>237</td>\n      <td>1118</td>\n    </tr>\n    <tr>\n      <th>3</th>\n      <td>architi01</td>\n      <td>1980</td>\n      <td>4</td>\n      <td>Tiny Archibald*</td>\n      <td>PG</td>\n      <td>31</td>\n      <td>BOS</td>\n      <td>80</td>\n      <td>80</td>\n      <td>2864</td>\n      <td>...</td>\n      <td>.830</td>\n      <td>59</td>\n      <td>138</td>\n      <td>197</td>\n      <td>671</td>\n      <td>106</td>\n      <td>10</td>\n      <td>242</td>\n      <td>218</td>\n      <td>1131</td>\n    </tr>\n    <tr>\n      <th>4</th>\n      <td>awtrede01</td>\n      <td>1980</td>\n      <td>5</td>\n      <td>Dennis Awtrey</td>\n      <td>C</td>\n      <td>31</td>\n      <td>CHI</td>\n      <td>26</td>\n      <td></td>\n      <td>560</td>\n      <td>...</td>\n      <td>.640</td>\n      <td>29</td>\n      <td>86</td>\n      <td>115</td>\n      <td>40</td>\n      <td>12</td>\n      <td>15</td>\n      <td>27</td>\n      <td>66</td>\n      <td>86</td>\n    </tr>\n    <tr>\n      <th>...</th>\n      <td>...</td>\n      <td>...</td>\n      <td>...</td>\n      <td>...</td>\n      <td>...</td>\n      <td>...</td>\n      <td>...</td>\n      <td>...</td>\n      <td>...</td>\n      <td>...</td>\n      <td>...</td>\n      <td>...</td>\n      <td>...</td>\n      <td>...</td>\n      <td>...</td>\n      <td>...</td>\n      <td>...</td>\n      <td>...</td>\n      <td>...</td>\n      <td>...</td>\n      <td>...</td>\n    </tr>\n    <tr>\n      <th>20294</th>\n      <td>zellety01</td>\n      <td>2019</td>\n      <td>528</td>\n      <td>Tyler Zeller</td>\n      <td>C</td>\n      <td>29</td>\n      <td>MEM</td>\n      <td>4</td>\n      <td>1</td>\n      <td>82</td>\n      <td>...</td>\n      <td>.778</td>\n      <td>9</td>\n      <td>9</td>\n      <td>18</td>\n      <td>3</td>\n      <td>1</td>\n      <td>3</td>\n      <td>4</td>\n      <td>16</td>\n      <td>46</td>\n    </tr>\n    <tr>\n      <th>20295</th>\n      <td>zizican01</td>\n      <td>2019</td>\n      <td>529</td>\n      <td>Ante Žižić</td>\n      <td>C</td>\n      <td>22</td>\n      <td>CLE</td>\n      <td>59</td>\n      <td>25</td>\n      <td>1082</td>\n      <td>...</td>\n      <td>.705</td>\n      <td>108</td>\n      <td>212</td>\n      <td>320</td>\n      <td>53</td>\n      <td>13</td>\n      <td>22</td>\n      <td>61</td>\n      <td>113</td>\n      <td>459</td>\n    </tr>\n    <tr>\n      <th>20296</th>\n      <td>zubaciv01</td>\n      <td>2019</td>\n      <td>530</td>\n      <td>Ivica Zubac</td>\n      <td>C</td>\n      <td>21</td>\n      <td>TOT</td>\n      <td>59</td>\n      <td>37</td>\n      <td>1040</td>\n      <td>...</td>\n      <td>.802</td>\n      <td>115</td>\n      <td>247</td>\n      <td>362</td>\n      <td>63</td>\n      <td>14</td>\n      <td>51</td>\n      <td>70</td>\n      <td>137</td>\n      <td>525</td>\n    </tr>\n    <tr>\n      <th>20297</th>\n      <td>zubaciv01</td>\n      <td>2019</td>\n      <td>530</td>\n      <td>Ivica Zubac</td>\n      <td>C</td>\n      <td>21</td>\n      <td>LAL</td>\n      <td>33</td>\n      <td>12</td>\n      <td>516</td>\n      <td>...</td>\n      <td>.864</td>\n      <td>54</td>\n      <td>108</td>\n      <td>162</td>\n      <td>25</td>\n      <td>4</td>\n      <td>27</td>\n      <td>33</td>\n      <td>73</td>\n      <td>281</td>\n    </tr>\n    <tr>\n      <th>20298</th>\n      <td>zubaciv01</td>\n      <td>2019</td>\n      <td>530</td>\n      <td>Ivica Zubac</td>\n      <td>C</td>\n      <td>21</td>\n      <td>LAC</td>\n      <td>26</td>\n      <td>25</td>\n      <td>524</td>\n      <td>...</td>\n      <td>.733</td>\n      <td>61</td>\n      <td>139</td>\n      <td>200</td>\n      <td>38</td>\n      <td>10</td>\n      <td>24</td>\n      <td>37</td>\n      <td>64</td>\n      <td>244</td>\n    </tr>\n  </tbody>\n</table>\n<p>20299 rows × 32 columns</p>\n</div>"
     },
     "metadata": {},
     "execution_count": 3
    }
   ],
   "source": [
    "Player_Stats = pd.DataFrame(data = complete_array[1:,:], columns = list(complete_array[0]))\n",
    "Player_Stats"
   ]
  },
  {
   "cell_type": "code",
   "execution_count": 4,
   "metadata": {},
   "outputs": [],
   "source": [
    "Player_Stats.to_csv('PlayerData.csv',index = False)"
   ]
  },
  {
   "cell_type": "code",
   "execution_count": 5,
   "metadata": {},
   "outputs": [
    {
     "output_type": "stream",
     "name": "stdout",
     "text": [
      "1980\n",
      "1981\n",
      "1982\n",
      "1983\n",
      "1984\n",
      "1985\n",
      "1986\n",
      "1987\n",
      "1988\n",
      "1989\n",
      "1990\n",
      "1991\n",
      "1992\n",
      "1993\n",
      "1994\n",
      "1995\n",
      "1996\n",
      "1997\n",
      "1998\n",
      "1999\n",
      "2000\n",
      "2001\n",
      "2002\n",
      "2003\n",
      "2004\n",
      "2005\n",
      "2006\n",
      "2007\n",
      "2008\n",
      "2009\n",
      "2010\n",
      "2011\n",
      "2012\n",
      "2013\n",
      "2014\n",
      "2015\n",
      "2016\n",
      "2017\n",
      "2018\n",
      "2019\n"
     ]
    }
   ],
   "source": [
    "#Years\n",
    "years = list(range(1980,2020))\n",
    "#The URL pattern for Player totals for each year is https://www.basketball-reference.com/leagues/NBA_\"year\"_totals.html\n",
    "complete_array_advanced = np.empty(shape = (0,0))\n",
    "\n",
    "#setting one url to get the headers of each column\n",
    "headers_url = \"https://www.basketball-reference.com/leagues/NBA_1980_advanced.html\"\n",
    "headers_th_tags = BeautifulSoup.BeautifulSoup(urllib.request.urlopen(headers_url),'html.parser').find_all('table',{'id':'advanced_stats'})[0].find_all('thead')[0].find_all('th')\n",
    "headers_list = list(map(lambda x:x.get_text(), headers_th_tags))\n",
    "headers_list.insert(0,'Year')\n",
    "headers_list.insert(0,'Player ID')\n",
    "headers_array = np.array(headers_list).reshape(1,-1)\n",
    "for year in years:\n",
    "    year_array_advanced = np.empty(shape = (0,0))\n",
    "    print(year)\n",
    "    url = \"https://www.basketball-reference.com/leagues/NBA_\" + str(year) + \"_advanced.html\"\n",
    "    html_content = urllib.request.urlopen(url)\n",
    "    bsoup = BeautifulSoup.BeautifulSoup(html_content,'html.parser')\n",
    "    year_list = bsoup.find_all('table',{'id':'advanced_stats'})[0].find_all('tbody')[0].find_all('tr',class_ = lambda x: x!= 'thead')\n",
    "    #can also use with html string(similar to a JQuery search)\n",
    "    #year_list = bsoup.find_all('table',{'id':'totals_stats'})[0].find_all('tbody')[0].select('tr:not(.thead)')\n",
    "    for row in year_list:\n",
    "        player_url = row.find_all('a')[0]['href']\n",
    "        playerid = re.findall('[a-zA-Z0-9]*',re.findall('[a-zA-Z0-9]*\\.html',player_url)[0])[0]\n",
    "        row_result = list(map(lambda x: x.get_text(),row))\n",
    "        row_result.insert(0,year)\n",
    "        row_result.insert(0,playerid)\n",
    "        if year_array_advanced.shape[0] == 0:\n",
    "            year_array_advanced = np.array(row_result).reshape(1,-1)\n",
    "        else:\n",
    "            year_array_advanced = np.vstack((year_array_advanced,np.array(row_result).reshape(1,-1)))\n",
    "    if complete_array_advanced.shape[0] == 0:\n",
    "        complete_array_advanced = np.vstack((headers_list,year_array_advanced))\n",
    "    else:\n",
    "        complete_array_advanced = np.vstack((complete_array_advanced,year_array_advanced))"
   ]
  },
  {
   "cell_type": "code",
   "execution_count": 6,
   "metadata": {},
   "outputs": [
    {
     "output_type": "execute_result",
     "data": {
      "text/plain": [
       "(20300, 31)"
      ]
     },
     "metadata": {},
     "execution_count": 6
    }
   ],
   "source": [
    "complete_array_advanced.shape"
   ]
  },
  {
   "cell_type": "code",
   "execution_count": 7,
   "metadata": {},
   "outputs": [
    {
     "output_type": "execute_result",
     "data": {
      "text/plain": [
       "       Player ID  Year   Rk                Player Pos Age   Tm   G    MP  \\\n",
       "0      abdulka01  1980    1  Kareem Abdul-Jabbar*   C  32  LAL  82  3143   \n",
       "1      abernto01  1980    2         Tom Abernethy  PF  25  GSW  67  1222   \n",
       "2      adamsal01  1980    3           Alvan Adams   C  25  PHO  75  2168   \n",
       "3      architi01  1980    4       Tiny Archibald*  PG  31  BOS  80  2864   \n",
       "4      awtrede01  1980    5         Dennis Awtrey   C  31  CHI  26   560   \n",
       "...          ...   ...  ...                   ...  ..  ..  ...  ..   ...   \n",
       "20294  zellety01  2019  528          Tyler Zeller   C  29  MEM   4    82   \n",
       "20295  zizican01  2019  529            Ante Žižić   C  22  CLE  59  1082   \n",
       "20296  zubaciv01  2019  530           Ivica Zubac   C  21  TOT  59  1040   \n",
       "20297  zubaciv01  2019  530           Ivica Zubac   C  21  LAL  33   516   \n",
       "20298  zubaciv01  2019  530           Ivica Zubac   C  21  LAC  26   524   \n",
       "\n",
       "        PER  ...     OWS  DWS    WS WS/48     OBPM  DBPM   BPM  VORP  \n",
       "0      25.3  ...     9.5  5.3  14.8  .227      4.8   2.4   7.2   7.3  \n",
       "1      11.0  ...     1.2  0.8   2.0  .080     -1.0  -0.2  -1.2   0.2  \n",
       "2      19.2  ...     3.1  3.9   7.0  .155      1.7   1.9   3.6   3.1  \n",
       "3      15.3  ...     5.9  2.9   8.9  .148      1.4  -0.3   1.1   2.3  \n",
       "4       7.4  ...     0.1  0.5   0.6  .053     -2.3   0.9  -1.4   0.1  \n",
       "...     ...  ... ..  ...  ...   ...   ... ..   ...   ...   ...   ...  \n",
       "20294  19.4  ...     0.2  0.1   0.3  .191     -2.3  -1.9  -4.3   0.0  \n",
       "20295  16.2  ...     1.7  0.3   2.0  .087     -1.1  -2.1  -3.2  -0.3  \n",
       "20296  18.9  ...     1.9  1.3   3.2  .148     -0.2  -0.2  -0.5   0.4  \n",
       "20297  19.5  ...     1.1  0.6   1.8  .165     -0.3   0.1  -0.2   0.2  \n",
       "20298  18.3  ...     0.7  0.7   1.4  .132     -0.2  -0.5  -0.7   0.2  \n",
       "\n",
       "[20299 rows x 31 columns]"
      ],
      "text/html": "<div>\n<style scoped>\n    .dataframe tbody tr th:only-of-type {\n        vertical-align: middle;\n    }\n\n    .dataframe tbody tr th {\n        vertical-align: top;\n    }\n\n    .dataframe thead th {\n        text-align: right;\n    }\n</style>\n<table border=\"1\" class=\"dataframe\">\n  <thead>\n    <tr style=\"text-align: right;\">\n      <th></th>\n      <th>Player ID</th>\n      <th>Year</th>\n      <th>Rk</th>\n      <th>Player</th>\n      <th>Pos</th>\n      <th>Age</th>\n      <th>Tm</th>\n      <th>G</th>\n      <th>MP</th>\n      <th>PER</th>\n      <th>...</th>\n      <th></th>\n      <th>OWS</th>\n      <th>DWS</th>\n      <th>WS</th>\n      <th>WS/48</th>\n      <th></th>\n      <th>OBPM</th>\n      <th>DBPM</th>\n      <th>BPM</th>\n      <th>VORP</th>\n    </tr>\n  </thead>\n  <tbody>\n    <tr>\n      <th>0</th>\n      <td>abdulka01</td>\n      <td>1980</td>\n      <td>1</td>\n      <td>Kareem Abdul-Jabbar*</td>\n      <td>C</td>\n      <td>32</td>\n      <td>LAL</td>\n      <td>82</td>\n      <td>3143</td>\n      <td>25.3</td>\n      <td>...</td>\n      <td></td>\n      <td>9.5</td>\n      <td>5.3</td>\n      <td>14.8</td>\n      <td>.227</td>\n      <td></td>\n      <td>4.8</td>\n      <td>2.4</td>\n      <td>7.2</td>\n      <td>7.3</td>\n    </tr>\n    <tr>\n      <th>1</th>\n      <td>abernto01</td>\n      <td>1980</td>\n      <td>2</td>\n      <td>Tom Abernethy</td>\n      <td>PF</td>\n      <td>25</td>\n      <td>GSW</td>\n      <td>67</td>\n      <td>1222</td>\n      <td>11.0</td>\n      <td>...</td>\n      <td></td>\n      <td>1.2</td>\n      <td>0.8</td>\n      <td>2.0</td>\n      <td>.080</td>\n      <td></td>\n      <td>-1.0</td>\n      <td>-0.2</td>\n      <td>-1.2</td>\n      <td>0.2</td>\n    </tr>\n    <tr>\n      <th>2</th>\n      <td>adamsal01</td>\n      <td>1980</td>\n      <td>3</td>\n      <td>Alvan Adams</td>\n      <td>C</td>\n      <td>25</td>\n      <td>PHO</td>\n      <td>75</td>\n      <td>2168</td>\n      <td>19.2</td>\n      <td>...</td>\n      <td></td>\n      <td>3.1</td>\n      <td>3.9</td>\n      <td>7.0</td>\n      <td>.155</td>\n      <td></td>\n      <td>1.7</td>\n      <td>1.9</td>\n      <td>3.6</td>\n      <td>3.1</td>\n    </tr>\n    <tr>\n      <th>3</th>\n      <td>architi01</td>\n      <td>1980</td>\n      <td>4</td>\n      <td>Tiny Archibald*</td>\n      <td>PG</td>\n      <td>31</td>\n      <td>BOS</td>\n      <td>80</td>\n      <td>2864</td>\n      <td>15.3</td>\n      <td>...</td>\n      <td></td>\n      <td>5.9</td>\n      <td>2.9</td>\n      <td>8.9</td>\n      <td>.148</td>\n      <td></td>\n      <td>1.4</td>\n      <td>-0.3</td>\n      <td>1.1</td>\n      <td>2.3</td>\n    </tr>\n    <tr>\n      <th>4</th>\n      <td>awtrede01</td>\n      <td>1980</td>\n      <td>5</td>\n      <td>Dennis Awtrey</td>\n      <td>C</td>\n      <td>31</td>\n      <td>CHI</td>\n      <td>26</td>\n      <td>560</td>\n      <td>7.4</td>\n      <td>...</td>\n      <td></td>\n      <td>0.1</td>\n      <td>0.5</td>\n      <td>0.6</td>\n      <td>.053</td>\n      <td></td>\n      <td>-2.3</td>\n      <td>0.9</td>\n      <td>-1.4</td>\n      <td>0.1</td>\n    </tr>\n    <tr>\n      <th>...</th>\n      <td>...</td>\n      <td>...</td>\n      <td>...</td>\n      <td>...</td>\n      <td>...</td>\n      <td>...</td>\n      <td>...</td>\n      <td>...</td>\n      <td>...</td>\n      <td>...</td>\n      <td>...</td>\n      <td>...</td>\n      <td>...</td>\n      <td>...</td>\n      <td>...</td>\n      <td>...</td>\n      <td>...</td>\n      <td>...</td>\n      <td>...</td>\n      <td>...</td>\n      <td>...</td>\n    </tr>\n    <tr>\n      <th>20294</th>\n      <td>zellety01</td>\n      <td>2019</td>\n      <td>528</td>\n      <td>Tyler Zeller</td>\n      <td>C</td>\n      <td>29</td>\n      <td>MEM</td>\n      <td>4</td>\n      <td>82</td>\n      <td>19.4</td>\n      <td>...</td>\n      <td></td>\n      <td>0.2</td>\n      <td>0.1</td>\n      <td>0.3</td>\n      <td>.191</td>\n      <td></td>\n      <td>-2.3</td>\n      <td>-1.9</td>\n      <td>-4.3</td>\n      <td>0.0</td>\n    </tr>\n    <tr>\n      <th>20295</th>\n      <td>zizican01</td>\n      <td>2019</td>\n      <td>529</td>\n      <td>Ante Žižić</td>\n      <td>C</td>\n      <td>22</td>\n      <td>CLE</td>\n      <td>59</td>\n      <td>1082</td>\n      <td>16.2</td>\n      <td>...</td>\n      <td></td>\n      <td>1.7</td>\n      <td>0.3</td>\n      <td>2.0</td>\n      <td>.087</td>\n      <td></td>\n      <td>-1.1</td>\n      <td>-2.1</td>\n      <td>-3.2</td>\n      <td>-0.3</td>\n    </tr>\n    <tr>\n      <th>20296</th>\n      <td>zubaciv01</td>\n      <td>2019</td>\n      <td>530</td>\n      <td>Ivica Zubac</td>\n      <td>C</td>\n      <td>21</td>\n      <td>TOT</td>\n      <td>59</td>\n      <td>1040</td>\n      <td>18.9</td>\n      <td>...</td>\n      <td></td>\n      <td>1.9</td>\n      <td>1.3</td>\n      <td>3.2</td>\n      <td>.148</td>\n      <td></td>\n      <td>-0.2</td>\n      <td>-0.2</td>\n      <td>-0.5</td>\n      <td>0.4</td>\n    </tr>\n    <tr>\n      <th>20297</th>\n      <td>zubaciv01</td>\n      <td>2019</td>\n      <td>530</td>\n      <td>Ivica Zubac</td>\n      <td>C</td>\n      <td>21</td>\n      <td>LAL</td>\n      <td>33</td>\n      <td>516</td>\n      <td>19.5</td>\n      <td>...</td>\n      <td></td>\n      <td>1.1</td>\n      <td>0.6</td>\n      <td>1.8</td>\n      <td>.165</td>\n      <td></td>\n      <td>-0.3</td>\n      <td>0.1</td>\n      <td>-0.2</td>\n      <td>0.2</td>\n    </tr>\n    <tr>\n      <th>20298</th>\n      <td>zubaciv01</td>\n      <td>2019</td>\n      <td>530</td>\n      <td>Ivica Zubac</td>\n      <td>C</td>\n      <td>21</td>\n      <td>LAC</td>\n      <td>26</td>\n      <td>524</td>\n      <td>18.3</td>\n      <td>...</td>\n      <td></td>\n      <td>0.7</td>\n      <td>0.7</td>\n      <td>1.4</td>\n      <td>.132</td>\n      <td></td>\n      <td>-0.2</td>\n      <td>-0.5</td>\n      <td>-0.7</td>\n      <td>0.2</td>\n    </tr>\n  </tbody>\n</table>\n<p>20299 rows × 31 columns</p>\n</div>"
     },
     "metadata": {},
     "execution_count": 7
    }
   ],
   "source": [
    "Player_Stats_advanced = pd.DataFrame(data = complete_array_advanced[1:,:], columns = list(complete_array_advanced[0]))\n",
    "Player_Stats_advanced"
   ]
  },
  {
   "cell_type": "code",
   "execution_count": 8,
   "metadata": {},
   "outputs": [],
   "source": [
    "Player_Stats_advanced.to_csv('PlayerDataAdvanced.csv',index = False)"
   ]
  },
  {
   "cell_type": "code",
   "execution_count": null,
   "metadata": {},
   "outputs": [],
   "source": []
  }
 ]
}