{
 "metadata": {
  "language_info": {
   "codemirror_mode": {
    "name": "ipython",
    "version": 3
   },
   "file_extension": ".py",
   "mimetype": "text/x-python",
   "name": "python",
   "nbconvert_exporter": "python",
   "pygments_lexer": "ipython3",
   "version": "3.8.8-final"
  },
  "orig_nbformat": 2,
  "kernelspec": {
   "name": "python3",
   "display_name": "Python 3.8.8 64-bit",
   "metadata": {
    "interpreter": {
     "hash": "965ba1120b0c101b3f715b6e258a73742ec1cf86f2c8b04492724c87d9f112c3"
    }
   }
  }
 },
 "nbformat": 4,
 "nbformat_minor": 2,
 "cells": [
  {
   "source": [
    "<h1>Cleaning of Data and Exploratory Data Analysis</h1>"
   ],
   "cell_type": "markdown",
   "metadata": {}
  },
  {
   "cell_type": "code",
   "execution_count": 1,
   "metadata": {},
   "outputs": [],
   "source": [
    "import pandas as pd\n",
    "import numpy as np"
   ]
  },
  {
   "cell_type": "code",
   "execution_count": 2,
   "metadata": {},
   "outputs": [],
   "source": [
    "Totals_df = pd.read_csv(r'C:\\Users\\ASUS\\Desktop\\Kaggle\\PlayerData.csv')\n",
    "Advanced_df = pd.read_csv(r'C:\\Users\\ASUS\\Desktop\\Kaggle\\PlayerDataAdvanced.csv')"
   ]
  },
  {
   "cell_type": "code",
   "execution_count": 3,
   "metadata": {},
   "outputs": [
    {
     "output_type": "execute_result",
     "data": {
      "text/plain": [
       "       Year   Rk                Player Pos  Age   Tm   G    GS    MP   FG  \\\n",
       "0      1980    1  Kareem Abdul-Jabbar*   C   32  LAL  82   NaN  3143  835   \n",
       "1      1980    2         Tom Abernethy  PF   25  GSW  67   NaN  1222  153   \n",
       "2      1980    3           Alvan Adams   C   25  PHO  75   NaN  2168  465   \n",
       "3      1980    4       Tiny Archibald*  PG   31  BOS  80  80.0  2864  383   \n",
       "4      1980    5         Dennis Awtrey   C   31  CHI  26   NaN   560   27   \n",
       "...     ...  ...                   ...  ..  ...  ...  ..   ...   ...  ...   \n",
       "20294  2019  528          Tyler Zeller   C   29  MEM   4   1.0    82   16   \n",
       "20295  2019  529            Ante Žižić   C   22  CLE  59  25.0  1082  183   \n",
       "20296  2019  530           Ivica Zubac   C   21  TOT  59  37.0  1040  212   \n",
       "20297  2019  530           Ivica Zubac   C   21  LAL  33  12.0   516  112   \n",
       "20298  2019  530           Ivica Zubac   C   21  LAC  26  25.0   524  100   \n",
       "\n",
       "       ...    FT%  ORB  DRB  TRB  AST  STL  BLK  TOV   PF   PTS  \n",
       "0      ...  0.765  190  696  886  371   81  280  297  216  2034  \n",
       "1      ...  0.683   62  129  191   87   35   12   39  118   362  \n",
       "2      ...  0.797  158  451  609  322  108   55  218  237  1118  \n",
       "3      ...  0.830   59  138  197  671  106   10  242  218  1131  \n",
       "4      ...  0.640   29   86  115   40   12   15   27   66    86  \n",
       "...    ...    ...  ...  ...  ...  ...  ...  ...  ...  ...   ...  \n",
       "20294  ...  0.778    9    9   18    3    1    3    4   16    46  \n",
       "20295  ...  0.705  108  212  320   53   13   22   61  113   459  \n",
       "20296  ...  0.802  115  247  362   63   14   51   70  137   525  \n",
       "20297  ...  0.864   54  108  162   25    4   27   33   73   281  \n",
       "20298  ...  0.733   61  139  200   38   10   24   37   64   244  \n",
       "\n",
       "[20299 rows x 31 columns]"
      ],
      "text/html": "<div>\n<style scoped>\n    .dataframe tbody tr th:only-of-type {\n        vertical-align: middle;\n    }\n\n    .dataframe tbody tr th {\n        vertical-align: top;\n    }\n\n    .dataframe thead th {\n        text-align: right;\n    }\n</style>\n<table border=\"1\" class=\"dataframe\">\n  <thead>\n    <tr style=\"text-align: right;\">\n      <th></th>\n      <th>Year</th>\n      <th>Rk</th>\n      <th>Player</th>\n      <th>Pos</th>\n      <th>Age</th>\n      <th>Tm</th>\n      <th>G</th>\n      <th>GS</th>\n      <th>MP</th>\n      <th>FG</th>\n      <th>...</th>\n      <th>FT%</th>\n      <th>ORB</th>\n      <th>DRB</th>\n      <th>TRB</th>\n      <th>AST</th>\n      <th>STL</th>\n      <th>BLK</th>\n      <th>TOV</th>\n      <th>PF</th>\n      <th>PTS</th>\n    </tr>\n  </thead>\n  <tbody>\n    <tr>\n      <th>0</th>\n      <td>1980</td>\n      <td>1</td>\n      <td>Kareem Abdul-Jabbar*</td>\n      <td>C</td>\n      <td>32</td>\n      <td>LAL</td>\n      <td>82</td>\n      <td>NaN</td>\n      <td>3143</td>\n      <td>835</td>\n      <td>...</td>\n      <td>0.765</td>\n      <td>190</td>\n      <td>696</td>\n      <td>886</td>\n      <td>371</td>\n      <td>81</td>\n      <td>280</td>\n      <td>297</td>\n      <td>216</td>\n      <td>2034</td>\n    </tr>\n    <tr>\n      <th>1</th>\n      <td>1980</td>\n      <td>2</td>\n      <td>Tom Abernethy</td>\n      <td>PF</td>\n      <td>25</td>\n      <td>GSW</td>\n      <td>67</td>\n      <td>NaN</td>\n      <td>1222</td>\n      <td>153</td>\n      <td>...</td>\n      <td>0.683</td>\n      <td>62</td>\n      <td>129</td>\n      <td>191</td>\n      <td>87</td>\n      <td>35</td>\n      <td>12</td>\n      <td>39</td>\n      <td>118</td>\n      <td>362</td>\n    </tr>\n    <tr>\n      <th>2</th>\n      <td>1980</td>\n      <td>3</td>\n      <td>Alvan Adams</td>\n      <td>C</td>\n      <td>25</td>\n      <td>PHO</td>\n      <td>75</td>\n      <td>NaN</td>\n      <td>2168</td>\n      <td>465</td>\n      <td>...</td>\n      <td>0.797</td>\n      <td>158</td>\n      <td>451</td>\n      <td>609</td>\n      <td>322</td>\n      <td>108</td>\n      <td>55</td>\n      <td>218</td>\n      <td>237</td>\n      <td>1118</td>\n    </tr>\n    <tr>\n      <th>3</th>\n      <td>1980</td>\n      <td>4</td>\n      <td>Tiny Archibald*</td>\n      <td>PG</td>\n      <td>31</td>\n      <td>BOS</td>\n      <td>80</td>\n      <td>80.0</td>\n      <td>2864</td>\n      <td>383</td>\n      <td>...</td>\n      <td>0.830</td>\n      <td>59</td>\n      <td>138</td>\n      <td>197</td>\n      <td>671</td>\n      <td>106</td>\n      <td>10</td>\n      <td>242</td>\n      <td>218</td>\n      <td>1131</td>\n    </tr>\n    <tr>\n      <th>4</th>\n      <td>1980</td>\n      <td>5</td>\n      <td>Dennis Awtrey</td>\n      <td>C</td>\n      <td>31</td>\n      <td>CHI</td>\n      <td>26</td>\n      <td>NaN</td>\n      <td>560</td>\n      <td>27</td>\n      <td>...</td>\n      <td>0.640</td>\n      <td>29</td>\n      <td>86</td>\n      <td>115</td>\n      <td>40</td>\n      <td>12</td>\n      <td>15</td>\n      <td>27</td>\n      <td>66</td>\n      <td>86</td>\n    </tr>\n    <tr>\n      <th>...</th>\n      <td>...</td>\n      <td>...</td>\n      <td>...</td>\n      <td>...</td>\n      <td>...</td>\n      <td>...</td>\n      <td>...</td>\n      <td>...</td>\n      <td>...</td>\n      <td>...</td>\n      <td>...</td>\n      <td>...</td>\n      <td>...</td>\n      <td>...</td>\n      <td>...</td>\n      <td>...</td>\n      <td>...</td>\n      <td>...</td>\n      <td>...</td>\n      <td>...</td>\n      <td>...</td>\n    </tr>\n    <tr>\n      <th>20294</th>\n      <td>2019</td>\n      <td>528</td>\n      <td>Tyler Zeller</td>\n      <td>C</td>\n      <td>29</td>\n      <td>MEM</td>\n      <td>4</td>\n      <td>1.0</td>\n      <td>82</td>\n      <td>16</td>\n      <td>...</td>\n      <td>0.778</td>\n      <td>9</td>\n      <td>9</td>\n      <td>18</td>\n      <td>3</td>\n      <td>1</td>\n      <td>3</td>\n      <td>4</td>\n      <td>16</td>\n      <td>46</td>\n    </tr>\n    <tr>\n      <th>20295</th>\n      <td>2019</td>\n      <td>529</td>\n      <td>Ante Žižić</td>\n      <td>C</td>\n      <td>22</td>\n      <td>CLE</td>\n      <td>59</td>\n      <td>25.0</td>\n      <td>1082</td>\n      <td>183</td>\n      <td>...</td>\n      <td>0.705</td>\n      <td>108</td>\n      <td>212</td>\n      <td>320</td>\n      <td>53</td>\n      <td>13</td>\n      <td>22</td>\n      <td>61</td>\n      <td>113</td>\n      <td>459</td>\n    </tr>\n    <tr>\n      <th>20296</th>\n      <td>2019</td>\n      <td>530</td>\n      <td>Ivica Zubac</td>\n      <td>C</td>\n      <td>21</td>\n      <td>TOT</td>\n      <td>59</td>\n      <td>37.0</td>\n      <td>1040</td>\n      <td>212</td>\n      <td>...</td>\n      <td>0.802</td>\n      <td>115</td>\n      <td>247</td>\n      <td>362</td>\n      <td>63</td>\n      <td>14</td>\n      <td>51</td>\n      <td>70</td>\n      <td>137</td>\n      <td>525</td>\n    </tr>\n    <tr>\n      <th>20297</th>\n      <td>2019</td>\n      <td>530</td>\n      <td>Ivica Zubac</td>\n      <td>C</td>\n      <td>21</td>\n      <td>LAL</td>\n      <td>33</td>\n      <td>12.0</td>\n      <td>516</td>\n      <td>112</td>\n      <td>...</td>\n      <td>0.864</td>\n      <td>54</td>\n      <td>108</td>\n      <td>162</td>\n      <td>25</td>\n      <td>4</td>\n      <td>27</td>\n      <td>33</td>\n      <td>73</td>\n      <td>281</td>\n    </tr>\n    <tr>\n      <th>20298</th>\n      <td>2019</td>\n      <td>530</td>\n      <td>Ivica Zubac</td>\n      <td>C</td>\n      <td>21</td>\n      <td>LAC</td>\n      <td>26</td>\n      <td>25.0</td>\n      <td>524</td>\n      <td>100</td>\n      <td>...</td>\n      <td>0.733</td>\n      <td>61</td>\n      <td>139</td>\n      <td>200</td>\n      <td>38</td>\n      <td>10</td>\n      <td>24</td>\n      <td>37</td>\n      <td>64</td>\n      <td>244</td>\n    </tr>\n  </tbody>\n</table>\n<p>20299 rows × 31 columns</p>\n</div>"
     },
     "metadata": {},
     "execution_count": 3
    }
   ],
   "source": [
    "Totals_df"
   ]
  },
  {
   "source": [
    "<h3> Sorting columns to be alphabetically in order </h3> "
   ],
   "cell_type": "markdown",
   "metadata": {}
  },
  {
   "cell_type": "code",
   "execution_count": 4,
   "metadata": {},
   "outputs": [],
   "source": [
    "#drop the Rk column\n",
    "Totals_df.drop([\"Rk\"], axis=1, inplace = True)\n",
    "Advanced_df.drop([\"Rk\"], axis=1, inplace = True)"
   ]
  },
  {
   "cell_type": "code",
   "execution_count": 5,
   "metadata": {},
   "outputs": [],
   "source": [
    "#fixing names with * on them\n",
    "def splitnames_firstname(x):\n",
    "    try:\n",
    "        namelist = x.split()\n",
    "        if (len(namelist) > 2):\n",
    "            firstname = \" \".join(x.split()[:-1])\n",
    "        else:\n",
    "            firstname =  x.split()[0]\n",
    "        return firstname\n",
    "    except:\n",
    "        return x\n"
   ]
  },
  {
   "cell_type": "code",
   "execution_count": 6,
   "metadata": {},
   "outputs": [],
   "source": [
    "def splitnames_surname(x):\n",
    "    try:\n",
    "        return x.split()[-1]\n",
    "    except:\n",
    "        return x"
   ]
  },
  {
   "cell_type": "code",
   "execution_count": 7,
   "metadata": {},
   "outputs": [],
   "source": [
    "Totals_df[\"Surname\"] = Totals_df[\"Player\"].apply(lambda x: splitnames_surname(x))\n",
    "Totals_df[\"FirstName\"] = Totals_df[\"Player\"].apply(lambda x: splitnames_firstname(x))\n",
    "Advanced_df[\"Surname\"] = Advanced_df[\"Player\"].apply(lambda x: splitnames_surname(x))\n",
    "Advanced_df[\"FirstName\"] = Advanced_df[\"Player\"].apply(lambda x: splitnames_firstname(x))"
   ]
  },
  {
   "cell_type": "code",
   "execution_count": 8,
   "metadata": {},
   "outputs": [
    {
     "output_type": "execute_result",
     "data": {
      "text/plain": [
       "       Year                Player Pos  Age   Tm   G    GS    MP   FG   FGA  \\\n",
       "0      1980  Kareem Abdul-Jabbar*   C   32  LAL  82   NaN  3143  835  1383   \n",
       "1      1980         Tom Abernethy  PF   25  GSW  67   NaN  1222  153   318   \n",
       "2      1980           Alvan Adams   C   25  PHO  75   NaN  2168  465   875   \n",
       "3      1980       Tiny Archibald*  PG   31  BOS  80  80.0  2864  383   794   \n",
       "4      1980         Dennis Awtrey   C   31  CHI  26   NaN   560   27    60   \n",
       "...     ...                   ...  ..  ...  ...  ..   ...   ...  ...   ...   \n",
       "20294  2019          Tyler Zeller   C   29  MEM   4   1.0    82   16    28   \n",
       "20295  2019            Ante Žižić   C   22  CLE  59  25.0  1082  183   331   \n",
       "20296  2019           Ivica Zubac   C   21  TOT  59  37.0  1040  212   379   \n",
       "20297  2019           Ivica Zubac   C   21  LAL  33  12.0   516  112   193   \n",
       "20298  2019           Ivica Zubac   C   21  LAC  26  25.0   524  100   186   \n",
       "\n",
       "       ...  DRB  TRB  AST  STL  BLK  TOV   PF   PTS        Surname  FirstName  \n",
       "0      ...  696  886  371   81  280  297  216  2034  Abdul-Jabbar*     Kareem  \n",
       "1      ...  129  191   87   35   12   39  118   362      Abernethy        Tom  \n",
       "2      ...  451  609  322  108   55  218  237  1118          Adams      Alvan  \n",
       "3      ...  138  197  671  106   10  242  218  1131     Archibald*       Tiny  \n",
       "4      ...   86  115   40   12   15   27   66    86         Awtrey     Dennis  \n",
       "...    ...  ...  ...  ...  ...  ...  ...  ...   ...            ...        ...  \n",
       "20294  ...    9   18    3    1    3    4   16    46         Zeller      Tyler  \n",
       "20295  ...  212  320   53   13   22   61  113   459          Žižić       Ante  \n",
       "20296  ...  247  362   63   14   51   70  137   525          Zubac      Ivica  \n",
       "20297  ...  108  162   25    4   27   33   73   281          Zubac      Ivica  \n",
       "20298  ...  139  200   38   10   24   37   64   244          Zubac      Ivica  \n",
       "\n",
       "[20299 rows x 32 columns]"
      ],
      "text/html": "<div>\n<style scoped>\n    .dataframe tbody tr th:only-of-type {\n        vertical-align: middle;\n    }\n\n    .dataframe tbody tr th {\n        vertical-align: top;\n    }\n\n    .dataframe thead th {\n        text-align: right;\n    }\n</style>\n<table border=\"1\" class=\"dataframe\">\n  <thead>\n    <tr style=\"text-align: right;\">\n      <th></th>\n      <th>Year</th>\n      <th>Player</th>\n      <th>Pos</th>\n      <th>Age</th>\n      <th>Tm</th>\n      <th>G</th>\n      <th>GS</th>\n      <th>MP</th>\n      <th>FG</th>\n      <th>FGA</th>\n      <th>...</th>\n      <th>DRB</th>\n      <th>TRB</th>\n      <th>AST</th>\n      <th>STL</th>\n      <th>BLK</th>\n      <th>TOV</th>\n      <th>PF</th>\n      <th>PTS</th>\n      <th>Surname</th>\n      <th>FirstName</th>\n    </tr>\n  </thead>\n  <tbody>\n    <tr>\n      <th>0</th>\n      <td>1980</td>\n      <td>Kareem Abdul-Jabbar*</td>\n      <td>C</td>\n      <td>32</td>\n      <td>LAL</td>\n      <td>82</td>\n      <td>NaN</td>\n      <td>3143</td>\n      <td>835</td>\n      <td>1383</td>\n      <td>...</td>\n      <td>696</td>\n      <td>886</td>\n      <td>371</td>\n      <td>81</td>\n      <td>280</td>\n      <td>297</td>\n      <td>216</td>\n      <td>2034</td>\n      <td>Abdul-Jabbar*</td>\n      <td>Kareem</td>\n    </tr>\n    <tr>\n      <th>1</th>\n      <td>1980</td>\n      <td>Tom Abernethy</td>\n      <td>PF</td>\n      <td>25</td>\n      <td>GSW</td>\n      <td>67</td>\n      <td>NaN</td>\n      <td>1222</td>\n      <td>153</td>\n      <td>318</td>\n      <td>...</td>\n      <td>129</td>\n      <td>191</td>\n      <td>87</td>\n      <td>35</td>\n      <td>12</td>\n      <td>39</td>\n      <td>118</td>\n      <td>362</td>\n      <td>Abernethy</td>\n      <td>Tom</td>\n    </tr>\n    <tr>\n      <th>2</th>\n      <td>1980</td>\n      <td>Alvan Adams</td>\n      <td>C</td>\n      <td>25</td>\n      <td>PHO</td>\n      <td>75</td>\n      <td>NaN</td>\n      <td>2168</td>\n      <td>465</td>\n      <td>875</td>\n      <td>...</td>\n      <td>451</td>\n      <td>609</td>\n      <td>322</td>\n      <td>108</td>\n      <td>55</td>\n      <td>218</td>\n      <td>237</td>\n      <td>1118</td>\n      <td>Adams</td>\n      <td>Alvan</td>\n    </tr>\n    <tr>\n      <th>3</th>\n      <td>1980</td>\n      <td>Tiny Archibald*</td>\n      <td>PG</td>\n      <td>31</td>\n      <td>BOS</td>\n      <td>80</td>\n      <td>80.0</td>\n      <td>2864</td>\n      <td>383</td>\n      <td>794</td>\n      <td>...</td>\n      <td>138</td>\n      <td>197</td>\n      <td>671</td>\n      <td>106</td>\n      <td>10</td>\n      <td>242</td>\n      <td>218</td>\n      <td>1131</td>\n      <td>Archibald*</td>\n      <td>Tiny</td>\n    </tr>\n    <tr>\n      <th>4</th>\n      <td>1980</td>\n      <td>Dennis Awtrey</td>\n      <td>C</td>\n      <td>31</td>\n      <td>CHI</td>\n      <td>26</td>\n      <td>NaN</td>\n      <td>560</td>\n      <td>27</td>\n      <td>60</td>\n      <td>...</td>\n      <td>86</td>\n      <td>115</td>\n      <td>40</td>\n      <td>12</td>\n      <td>15</td>\n      <td>27</td>\n      <td>66</td>\n      <td>86</td>\n      <td>Awtrey</td>\n      <td>Dennis</td>\n    </tr>\n    <tr>\n      <th>...</th>\n      <td>...</td>\n      <td>...</td>\n      <td>...</td>\n      <td>...</td>\n      <td>...</td>\n      <td>...</td>\n      <td>...</td>\n      <td>...</td>\n      <td>...</td>\n      <td>...</td>\n      <td>...</td>\n      <td>...</td>\n      <td>...</td>\n      <td>...</td>\n      <td>...</td>\n      <td>...</td>\n      <td>...</td>\n      <td>...</td>\n      <td>...</td>\n      <td>...</td>\n      <td>...</td>\n    </tr>\n    <tr>\n      <th>20294</th>\n      <td>2019</td>\n      <td>Tyler Zeller</td>\n      <td>C</td>\n      <td>29</td>\n      <td>MEM</td>\n      <td>4</td>\n      <td>1.0</td>\n      <td>82</td>\n      <td>16</td>\n      <td>28</td>\n      <td>...</td>\n      <td>9</td>\n      <td>18</td>\n      <td>3</td>\n      <td>1</td>\n      <td>3</td>\n      <td>4</td>\n      <td>16</td>\n      <td>46</td>\n      <td>Zeller</td>\n      <td>Tyler</td>\n    </tr>\n    <tr>\n      <th>20295</th>\n      <td>2019</td>\n      <td>Ante Žižić</td>\n      <td>C</td>\n      <td>22</td>\n      <td>CLE</td>\n      <td>59</td>\n      <td>25.0</td>\n      <td>1082</td>\n      <td>183</td>\n      <td>331</td>\n      <td>...</td>\n      <td>212</td>\n      <td>320</td>\n      <td>53</td>\n      <td>13</td>\n      <td>22</td>\n      <td>61</td>\n      <td>113</td>\n      <td>459</td>\n      <td>Žižić</td>\n      <td>Ante</td>\n    </tr>\n    <tr>\n      <th>20296</th>\n      <td>2019</td>\n      <td>Ivica Zubac</td>\n      <td>C</td>\n      <td>21</td>\n      <td>TOT</td>\n      <td>59</td>\n      <td>37.0</td>\n      <td>1040</td>\n      <td>212</td>\n      <td>379</td>\n      <td>...</td>\n      <td>247</td>\n      <td>362</td>\n      <td>63</td>\n      <td>14</td>\n      <td>51</td>\n      <td>70</td>\n      <td>137</td>\n      <td>525</td>\n      <td>Zubac</td>\n      <td>Ivica</td>\n    </tr>\n    <tr>\n      <th>20297</th>\n      <td>2019</td>\n      <td>Ivica Zubac</td>\n      <td>C</td>\n      <td>21</td>\n      <td>LAL</td>\n      <td>33</td>\n      <td>12.0</td>\n      <td>516</td>\n      <td>112</td>\n      <td>193</td>\n      <td>...</td>\n      <td>108</td>\n      <td>162</td>\n      <td>25</td>\n      <td>4</td>\n      <td>27</td>\n      <td>33</td>\n      <td>73</td>\n      <td>281</td>\n      <td>Zubac</td>\n      <td>Ivica</td>\n    </tr>\n    <tr>\n      <th>20298</th>\n      <td>2019</td>\n      <td>Ivica Zubac</td>\n      <td>C</td>\n      <td>21</td>\n      <td>LAC</td>\n      <td>26</td>\n      <td>25.0</td>\n      <td>524</td>\n      <td>100</td>\n      <td>186</td>\n      <td>...</td>\n      <td>139</td>\n      <td>200</td>\n      <td>38</td>\n      <td>10</td>\n      <td>24</td>\n      <td>37</td>\n      <td>64</td>\n      <td>244</td>\n      <td>Zubac</td>\n      <td>Ivica</td>\n    </tr>\n  </tbody>\n</table>\n<p>20299 rows × 32 columns</p>\n</div>"
     },
     "metadata": {},
     "execution_count": 8
    }
   ],
   "source": [
    "Totals_df"
   ]
  },
  {
   "cell_type": "code",
   "execution_count": 9,
   "metadata": {},
   "outputs": [],
   "source": [
    "#Rearranging the playerlist based on surname, firstname, Year\n",
    "Totals_df.sort_values(by = [\"Surname\",\"FirstName\",'Year'],axis = 0,inplace=True)\n",
    "Advanced_df.sort_values(by = [\"Surname\",\"FirstName\",'Year'],axis = 0,inplace=True)"
   ]
  },
  {
   "cell_type": "code",
   "execution_count": 10,
   "metadata": {},
   "outputs": [],
   "source": [
    "Totals_df.reset_index(drop = True, inplace = True)\n",
    "Advanced_df.reset_index(drop = True, inplace = True)"
   ]
  },
  {
   "cell_type": "code",
   "execution_count": 11,
   "metadata": {},
   "outputs": [
    {
     "output_type": "execute_result",
     "data": {
      "text/plain": [
       "    Year               Player Pos  Age   Tm   G    MP   PER    TS%   3PAr  \\\n",
       "0   1991       Alaa Abdelnaby  PF   22  POR  43   290  13.1  0.499  0.000   \n",
       "1   1992       Alaa Abdelnaby  PF   23  POR  71   934  13.5  0.533  0.000   \n",
       "2   1993       Alaa Abdelnaby  PF   24  TOT  75  1311  13.2  0.551  0.002   \n",
       "3   1993       Alaa Abdelnaby  PF   24  MIL  12   159  11.9  0.508  0.018   \n",
       "4   1993       Alaa Abdelnaby  PF   24  BOS  63  1152  13.4  0.557  0.000   \n",
       "5   1994       Alaa Abdelnaby  PF   25  BOS  13   159   9.2  0.485  0.000   \n",
       "6   1995       Alaa Abdelnaby  PF   26  TOT  54   506  12.6  0.519  0.009   \n",
       "7   1995       Alaa Abdelnaby  PF   26  SAC  51   476  14.1  0.540  0.009   \n",
       "8   1995       Alaa Abdelnaby  PF   26  PHI   3    30 -12.5  0.091  0.000   \n",
       "9   1980  Kareem Abdul-Jabbar   C   32  LAL  82  3143  25.3  0.639  0.001   \n",
       "10  1981  Kareem Abdul-Jabbar   C   33  LAL  80  2976  25.5  0.616  0.001   \n",
       "11  1982  Kareem Abdul-Jabbar   C   34  LAL  76  2677  23.4  0.608  0.002   \n",
       "12  1983  Kareem Abdul-Jabbar   C   35  LAL  79  2554  23.6  0.619  0.002   \n",
       "13  1984  Kareem Abdul-Jabbar   C   36  LAL  80  2622  21.3  0.608  0.001   \n",
       "14  1985  Kareem Abdul-Jabbar   C   37  LAL  79  2630  22.9  0.628  0.001   \n",
       "15  1986  Kareem Abdul-Jabbar   C   38  LAL  79  2629  22.7  0.603  0.001   \n",
       "16  1987  Kareem Abdul-Jabbar   C   39  LAL  78  2441  17.9  0.597  0.003   \n",
       "17  1988  Kareem Abdul-Jabbar   C   40  LAL  80  2308  15.8  0.570  0.001   \n",
       "18  1989  Kareem Abdul-Jabbar   C   41  LAL  74  1695  12.9  0.511  0.005   \n",
       "19  1991   Mahmoud Abdul-Rauf  PG   21  DEN  67  1505  12.2  0.448  0.099   \n",
       "\n",
       "    ...  DWS    WS  WS/48   .1  OBPM  DBPM   BPM  VORP        Surname  \\\n",
       "0   ...  0.5   0.5  0.079  NaN  -3.4  -1.2  -4.6  -0.2      Abdelnaby   \n",
       "1   ...  1.5   2.1  0.110  NaN  -2.3  -0.4  -2.6  -0.1      Abdelnaby   \n",
       "2   ...  1.3   2.0  0.074  NaN  -2.4  -1.5  -3.9  -0.6      Abdelnaby   \n",
       "3   ...  0.2   0.1  0.035  NaN  -3.3  -0.2  -3.5  -0.1      Abdelnaby   \n",
       "4   ...  1.2   1.9  0.079  NaN  -2.3  -1.7  -4.0  -0.6      Abdelnaby   \n",
       "5   ...  0.1  -0.1 -0.032  NaN  -5.3  -2.2  -7.4  -0.2      Abdelnaby   \n",
       "6   ...  0.7   0.3  0.027  NaN  -4.4   0.1  -4.3  -0.3      Abdelnaby   \n",
       "7   ...  0.7   0.6  0.058  NaN  -3.6   0.5  -3.1  -0.1      Abdelnaby   \n",
       "8   ...  0.0  -0.3 -0.466  NaN -17.6  -7.3 -24.9  -0.2      Abdelnaby   \n",
       "9   ...  5.3  14.8  0.227  NaN   4.8   2.4   7.2   7.3  Abdul-Jabbar*   \n",
       "10  ...  4.6  14.3  0.230  NaN   4.7   1.4   6.1   6.1  Abdul-Jabbar*   \n",
       "11  ...  3.9  10.7  0.192  NaN   3.8   1.2   5.0   4.7  Abdul-Jabbar*   \n",
       "12  ...  2.9  10.9  0.205  NaN   4.0   0.5   4.5   4.2  Abdul-Jabbar*   \n",
       "13  ...  3.1   8.9  0.163  NaN   2.8   0.2   3.0   3.3  Abdul-Jabbar*   \n",
       "14  ...  3.6  11.2  0.204  NaN   3.9   1.2   5.1   4.8  Abdul-Jabbar*   \n",
       "15  ...  3.2  10.8  0.197  NaN   4.4   1.0   5.4   4.9  Abdul-Jabbar*   \n",
       "16  ...  3.0   7.5  0.148  NaN   1.4   0.1   1.6   2.2  Abdul-Jabbar*   \n",
       "17  ...  2.7   5.3  0.111  NaN  -0.1   0.1   0.0   1.2  Abdul-Jabbar*   \n",
       "18  ...  2.0   2.9  0.082  NaN  -1.9  -0.2  -2.1   0.0  Abdul-Jabbar*   \n",
       "19  ... -0.3  -1.0 -0.031  NaN  -2.0  -3.0  -5.0  -1.1     Abdul-Rauf   \n",
       "\n",
       "    FirstName  \n",
       "0        Alaa  \n",
       "1        Alaa  \n",
       "2        Alaa  \n",
       "3        Alaa  \n",
       "4        Alaa  \n",
       "5        Alaa  \n",
       "6        Alaa  \n",
       "7        Alaa  \n",
       "8        Alaa  \n",
       "9      Kareem  \n",
       "10     Kareem  \n",
       "11     Kareem  \n",
       "12     Kareem  \n",
       "13     Kareem  \n",
       "14     Kareem  \n",
       "15     Kareem  \n",
       "16     Kareem  \n",
       "17     Kareem  \n",
       "18     Kareem  \n",
       "19    Mahmoud  \n",
       "\n",
       "[20 rows x 31 columns]"
      ],
      "text/html": "<div>\n<style scoped>\n    .dataframe tbody tr th:only-of-type {\n        vertical-align: middle;\n    }\n\n    .dataframe tbody tr th {\n        vertical-align: top;\n    }\n\n    .dataframe thead th {\n        text-align: right;\n    }\n</style>\n<table border=\"1\" class=\"dataframe\">\n  <thead>\n    <tr style=\"text-align: right;\">\n      <th></th>\n      <th>Year</th>\n      <th>Player</th>\n      <th>Pos</th>\n      <th>Age</th>\n      <th>Tm</th>\n      <th>G</th>\n      <th>MP</th>\n      <th>PER</th>\n      <th>TS%</th>\n      <th>3PAr</th>\n      <th>...</th>\n      <th>DWS</th>\n      <th>WS</th>\n      <th>WS/48</th>\n      <th>.1</th>\n      <th>OBPM</th>\n      <th>DBPM</th>\n      <th>BPM</th>\n      <th>VORP</th>\n      <th>Surname</th>\n      <th>FirstName</th>\n    </tr>\n  </thead>\n  <tbody>\n    <tr>\n      <th>0</th>\n      <td>1991</td>\n      <td>Alaa Abdelnaby</td>\n      <td>PF</td>\n      <td>22</td>\n      <td>POR</td>\n      <td>43</td>\n      <td>290</td>\n      <td>13.1</td>\n      <td>0.499</td>\n      <td>0.000</td>\n      <td>...</td>\n      <td>0.5</td>\n      <td>0.5</td>\n      <td>0.079</td>\n      <td>NaN</td>\n      <td>-3.4</td>\n      <td>-1.2</td>\n      <td>-4.6</td>\n      <td>-0.2</td>\n      <td>Abdelnaby</td>\n      <td>Alaa</td>\n    </tr>\n    <tr>\n      <th>1</th>\n      <td>1992</td>\n      <td>Alaa Abdelnaby</td>\n      <td>PF</td>\n      <td>23</td>\n      <td>POR</td>\n      <td>71</td>\n      <td>934</td>\n      <td>13.5</td>\n      <td>0.533</td>\n      <td>0.000</td>\n      <td>...</td>\n      <td>1.5</td>\n      <td>2.1</td>\n      <td>0.110</td>\n      <td>NaN</td>\n      <td>-2.3</td>\n      <td>-0.4</td>\n      <td>-2.6</td>\n      <td>-0.1</td>\n      <td>Abdelnaby</td>\n      <td>Alaa</td>\n    </tr>\n    <tr>\n      <th>2</th>\n      <td>1993</td>\n      <td>Alaa Abdelnaby</td>\n      <td>PF</td>\n      <td>24</td>\n      <td>TOT</td>\n      <td>75</td>\n      <td>1311</td>\n      <td>13.2</td>\n      <td>0.551</td>\n      <td>0.002</td>\n      <td>...</td>\n      <td>1.3</td>\n      <td>2.0</td>\n      <td>0.074</td>\n      <td>NaN</td>\n      <td>-2.4</td>\n      <td>-1.5</td>\n      <td>-3.9</td>\n      <td>-0.6</td>\n      <td>Abdelnaby</td>\n      <td>Alaa</td>\n    </tr>\n    <tr>\n      <th>3</th>\n      <td>1993</td>\n      <td>Alaa Abdelnaby</td>\n      <td>PF</td>\n      <td>24</td>\n      <td>MIL</td>\n      <td>12</td>\n      <td>159</td>\n      <td>11.9</td>\n      <td>0.508</td>\n      <td>0.018</td>\n      <td>...</td>\n      <td>0.2</td>\n      <td>0.1</td>\n      <td>0.035</td>\n      <td>NaN</td>\n      <td>-3.3</td>\n      <td>-0.2</td>\n      <td>-3.5</td>\n      <td>-0.1</td>\n      <td>Abdelnaby</td>\n      <td>Alaa</td>\n    </tr>\n    <tr>\n      <th>4</th>\n      <td>1993</td>\n      <td>Alaa Abdelnaby</td>\n      <td>PF</td>\n      <td>24</td>\n      <td>BOS</td>\n      <td>63</td>\n      <td>1152</td>\n      <td>13.4</td>\n      <td>0.557</td>\n      <td>0.000</td>\n      <td>...</td>\n      <td>1.2</td>\n      <td>1.9</td>\n      <td>0.079</td>\n      <td>NaN</td>\n      <td>-2.3</td>\n      <td>-1.7</td>\n      <td>-4.0</td>\n      <td>-0.6</td>\n      <td>Abdelnaby</td>\n      <td>Alaa</td>\n    </tr>\n    <tr>\n      <th>5</th>\n      <td>1994</td>\n      <td>Alaa Abdelnaby</td>\n      <td>PF</td>\n      <td>25</td>\n      <td>BOS</td>\n      <td>13</td>\n      <td>159</td>\n      <td>9.2</td>\n      <td>0.485</td>\n      <td>0.000</td>\n      <td>...</td>\n      <td>0.1</td>\n      <td>-0.1</td>\n      <td>-0.032</td>\n      <td>NaN</td>\n      <td>-5.3</td>\n      <td>-2.2</td>\n      <td>-7.4</td>\n      <td>-0.2</td>\n      <td>Abdelnaby</td>\n      <td>Alaa</td>\n    </tr>\n    <tr>\n      <th>6</th>\n      <td>1995</td>\n      <td>Alaa Abdelnaby</td>\n      <td>PF</td>\n      <td>26</td>\n      <td>TOT</td>\n      <td>54</td>\n      <td>506</td>\n      <td>12.6</td>\n      <td>0.519</td>\n      <td>0.009</td>\n      <td>...</td>\n      <td>0.7</td>\n      <td>0.3</td>\n      <td>0.027</td>\n      <td>NaN</td>\n      <td>-4.4</td>\n      <td>0.1</td>\n      <td>-4.3</td>\n      <td>-0.3</td>\n      <td>Abdelnaby</td>\n      <td>Alaa</td>\n    </tr>\n    <tr>\n      <th>7</th>\n      <td>1995</td>\n      <td>Alaa Abdelnaby</td>\n      <td>PF</td>\n      <td>26</td>\n      <td>SAC</td>\n      <td>51</td>\n      <td>476</td>\n      <td>14.1</td>\n      <td>0.540</td>\n      <td>0.009</td>\n      <td>...</td>\n      <td>0.7</td>\n      <td>0.6</td>\n      <td>0.058</td>\n      <td>NaN</td>\n      <td>-3.6</td>\n      <td>0.5</td>\n      <td>-3.1</td>\n      <td>-0.1</td>\n      <td>Abdelnaby</td>\n      <td>Alaa</td>\n    </tr>\n    <tr>\n      <th>8</th>\n      <td>1995</td>\n      <td>Alaa Abdelnaby</td>\n      <td>PF</td>\n      <td>26</td>\n      <td>PHI</td>\n      <td>3</td>\n      <td>30</td>\n      <td>-12.5</td>\n      <td>0.091</td>\n      <td>0.000</td>\n      <td>...</td>\n      <td>0.0</td>\n      <td>-0.3</td>\n      <td>-0.466</td>\n      <td>NaN</td>\n      <td>-17.6</td>\n      <td>-7.3</td>\n      <td>-24.9</td>\n      <td>-0.2</td>\n      <td>Abdelnaby</td>\n      <td>Alaa</td>\n    </tr>\n    <tr>\n      <th>9</th>\n      <td>1980</td>\n      <td>Kareem Abdul-Jabbar</td>\n      <td>C</td>\n      <td>32</td>\n      <td>LAL</td>\n      <td>82</td>\n      <td>3143</td>\n      <td>25.3</td>\n      <td>0.639</td>\n      <td>0.001</td>\n      <td>...</td>\n      <td>5.3</td>\n      <td>14.8</td>\n      <td>0.227</td>\n      <td>NaN</td>\n      <td>4.8</td>\n      <td>2.4</td>\n      <td>7.2</td>\n      <td>7.3</td>\n      <td>Abdul-Jabbar*</td>\n      <td>Kareem</td>\n    </tr>\n    <tr>\n      <th>10</th>\n      <td>1981</td>\n      <td>Kareem Abdul-Jabbar</td>\n      <td>C</td>\n      <td>33</td>\n      <td>LAL</td>\n      <td>80</td>\n      <td>2976</td>\n      <td>25.5</td>\n      <td>0.616</td>\n      <td>0.001</td>\n      <td>...</td>\n      <td>4.6</td>\n      <td>14.3</td>\n      <td>0.230</td>\n      <td>NaN</td>\n      <td>4.7</td>\n      <td>1.4</td>\n      <td>6.1</td>\n      <td>6.1</td>\n      <td>Abdul-Jabbar*</td>\n      <td>Kareem</td>\n    </tr>\n    <tr>\n      <th>11</th>\n      <td>1982</td>\n      <td>Kareem Abdul-Jabbar</td>\n      <td>C</td>\n      <td>34</td>\n      <td>LAL</td>\n      <td>76</td>\n      <td>2677</td>\n      <td>23.4</td>\n      <td>0.608</td>\n      <td>0.002</td>\n      <td>...</td>\n      <td>3.9</td>\n      <td>10.7</td>\n      <td>0.192</td>\n      <td>NaN</td>\n      <td>3.8</td>\n      <td>1.2</td>\n      <td>5.0</td>\n      <td>4.7</td>\n      <td>Abdul-Jabbar*</td>\n      <td>Kareem</td>\n    </tr>\n    <tr>\n      <th>12</th>\n      <td>1983</td>\n      <td>Kareem Abdul-Jabbar</td>\n      <td>C</td>\n      <td>35</td>\n      <td>LAL</td>\n      <td>79</td>\n      <td>2554</td>\n      <td>23.6</td>\n      <td>0.619</td>\n      <td>0.002</td>\n      <td>...</td>\n      <td>2.9</td>\n      <td>10.9</td>\n      <td>0.205</td>\n      <td>NaN</td>\n      <td>4.0</td>\n      <td>0.5</td>\n      <td>4.5</td>\n      <td>4.2</td>\n      <td>Abdul-Jabbar*</td>\n      <td>Kareem</td>\n    </tr>\n    <tr>\n      <th>13</th>\n      <td>1984</td>\n      <td>Kareem Abdul-Jabbar</td>\n      <td>C</td>\n      <td>36</td>\n      <td>LAL</td>\n      <td>80</td>\n      <td>2622</td>\n      <td>21.3</td>\n      <td>0.608</td>\n      <td>0.001</td>\n      <td>...</td>\n      <td>3.1</td>\n      <td>8.9</td>\n      <td>0.163</td>\n      <td>NaN</td>\n      <td>2.8</td>\n      <td>0.2</td>\n      <td>3.0</td>\n      <td>3.3</td>\n      <td>Abdul-Jabbar*</td>\n      <td>Kareem</td>\n    </tr>\n    <tr>\n      <th>14</th>\n      <td>1985</td>\n      <td>Kareem Abdul-Jabbar</td>\n      <td>C</td>\n      <td>37</td>\n      <td>LAL</td>\n      <td>79</td>\n      <td>2630</td>\n      <td>22.9</td>\n      <td>0.628</td>\n      <td>0.001</td>\n      <td>...</td>\n      <td>3.6</td>\n      <td>11.2</td>\n      <td>0.204</td>\n      <td>NaN</td>\n      <td>3.9</td>\n      <td>1.2</td>\n      <td>5.1</td>\n      <td>4.8</td>\n      <td>Abdul-Jabbar*</td>\n      <td>Kareem</td>\n    </tr>\n    <tr>\n      <th>15</th>\n      <td>1986</td>\n      <td>Kareem Abdul-Jabbar</td>\n      <td>C</td>\n      <td>38</td>\n      <td>LAL</td>\n      <td>79</td>\n      <td>2629</td>\n      <td>22.7</td>\n      <td>0.603</td>\n      <td>0.001</td>\n      <td>...</td>\n      <td>3.2</td>\n      <td>10.8</td>\n      <td>0.197</td>\n      <td>NaN</td>\n      <td>4.4</td>\n      <td>1.0</td>\n      <td>5.4</td>\n      <td>4.9</td>\n      <td>Abdul-Jabbar*</td>\n      <td>Kareem</td>\n    </tr>\n    <tr>\n      <th>16</th>\n      <td>1987</td>\n      <td>Kareem Abdul-Jabbar</td>\n      <td>C</td>\n      <td>39</td>\n      <td>LAL</td>\n      <td>78</td>\n      <td>2441</td>\n      <td>17.9</td>\n      <td>0.597</td>\n      <td>0.003</td>\n      <td>...</td>\n      <td>3.0</td>\n      <td>7.5</td>\n      <td>0.148</td>\n      <td>NaN</td>\n      <td>1.4</td>\n      <td>0.1</td>\n      <td>1.6</td>\n      <td>2.2</td>\n      <td>Abdul-Jabbar*</td>\n      <td>Kareem</td>\n    </tr>\n    <tr>\n      <th>17</th>\n      <td>1988</td>\n      <td>Kareem Abdul-Jabbar</td>\n      <td>C</td>\n      <td>40</td>\n      <td>LAL</td>\n      <td>80</td>\n      <td>2308</td>\n      <td>15.8</td>\n      <td>0.570</td>\n      <td>0.001</td>\n      <td>...</td>\n      <td>2.7</td>\n      <td>5.3</td>\n      <td>0.111</td>\n      <td>NaN</td>\n      <td>-0.1</td>\n      <td>0.1</td>\n      <td>0.0</td>\n      <td>1.2</td>\n      <td>Abdul-Jabbar*</td>\n      <td>Kareem</td>\n    </tr>\n    <tr>\n      <th>18</th>\n      <td>1989</td>\n      <td>Kareem Abdul-Jabbar</td>\n      <td>C</td>\n      <td>41</td>\n      <td>LAL</td>\n      <td>74</td>\n      <td>1695</td>\n      <td>12.9</td>\n      <td>0.511</td>\n      <td>0.005</td>\n      <td>...</td>\n      <td>2.0</td>\n      <td>2.9</td>\n      <td>0.082</td>\n      <td>NaN</td>\n      <td>-1.9</td>\n      <td>-0.2</td>\n      <td>-2.1</td>\n      <td>0.0</td>\n      <td>Abdul-Jabbar*</td>\n      <td>Kareem</td>\n    </tr>\n    <tr>\n      <th>19</th>\n      <td>1991</td>\n      <td>Mahmoud Abdul-Rauf</td>\n      <td>PG</td>\n      <td>21</td>\n      <td>DEN</td>\n      <td>67</td>\n      <td>1505</td>\n      <td>12.2</td>\n      <td>0.448</td>\n      <td>0.099</td>\n      <td>...</td>\n      <td>-0.3</td>\n      <td>-1.0</td>\n      <td>-0.031</td>\n      <td>NaN</td>\n      <td>-2.0</td>\n      <td>-3.0</td>\n      <td>-5.0</td>\n      <td>-1.1</td>\n      <td>Abdul-Rauf</td>\n      <td>Mahmoud</td>\n    </tr>\n  </tbody>\n</table>\n<p>20 rows × 31 columns</p>\n</div>"
     },
     "metadata": {},
     "execution_count": 11
    }
   ],
   "source": [
    "Totals_df[\"Player\"] = Totals_df[\"Player\"].apply(lambda x: x.strip('*'))\n",
    "Advanced_df[\"Player\"] = Advanced_df[\"Player\"].apply(lambda x: x.strip('*'))\n",
    "Advanced_df.head(20)"
   ]
  },
  {
   "cell_type": "code",
   "execution_count": 12,
   "metadata": {},
   "outputs": [
    {
     "output_type": "execute_result",
     "data": {
      "text/plain": [
       "    Year               Player Pos  Age   Tm   G    MP   PER    TS%   3PAr  \\\n",
       "0   1991       Alaa Abdelnaby  PF   22  POR  43   290  13.1  0.499  0.000   \n",
       "1   1992       Alaa Abdelnaby  PF   23  POR  71   934  13.5  0.533  0.000   \n",
       "2   1993       Alaa Abdelnaby  PF   24  TOT  75  1311  13.2  0.551  0.002   \n",
       "3   1993       Alaa Abdelnaby  PF   24  MIL  12   159  11.9  0.508  0.018   \n",
       "4   1993       Alaa Abdelnaby  PF   24  BOS  63  1152  13.4  0.557  0.000   \n",
       "5   1994       Alaa Abdelnaby  PF   25  BOS  13   159   9.2  0.485  0.000   \n",
       "6   1995       Alaa Abdelnaby  PF   26  TOT  54   506  12.6  0.519  0.009   \n",
       "7   1995       Alaa Abdelnaby  PF   26  SAC  51   476  14.1  0.540  0.009   \n",
       "8   1995       Alaa Abdelnaby  PF   26  PHI   3    30 -12.5  0.091  0.000   \n",
       "9   1980  Kareem Abdul-Jabbar   C   32  LAL  82  3143  25.3  0.639  0.001   \n",
       "10  1981  Kareem Abdul-Jabbar   C   33  LAL  80  2976  25.5  0.616  0.001   \n",
       "11  1982  Kareem Abdul-Jabbar   C   34  LAL  76  2677  23.4  0.608  0.002   \n",
       "12  1983  Kareem Abdul-Jabbar   C   35  LAL  79  2554  23.6  0.619  0.002   \n",
       "13  1984  Kareem Abdul-Jabbar   C   36  LAL  80  2622  21.3  0.608  0.001   \n",
       "14  1985  Kareem Abdul-Jabbar   C   37  LAL  79  2630  22.9  0.628  0.001   \n",
       "15  1986  Kareem Abdul-Jabbar   C   38  LAL  79  2629  22.7  0.603  0.001   \n",
       "16  1987  Kareem Abdul-Jabbar   C   39  LAL  78  2441  17.9  0.597  0.003   \n",
       "17  1988  Kareem Abdul-Jabbar   C   40  LAL  80  2308  15.8  0.570  0.001   \n",
       "18  1989  Kareem Abdul-Jabbar   C   41  LAL  74  1695  12.9  0.511  0.005   \n",
       "19  1991   Mahmoud Abdul-Rauf  PG   21  DEN  67  1505  12.2  0.448  0.099   \n",
       "\n",
       "    ...  OWS  DWS    WS  WS/48  OBPM  DBPM   BPM  VORP        Surname  \\\n",
       "0   ...  0.0  0.5   0.5  0.079  -3.4  -1.2  -4.6  -0.2      Abdelnaby   \n",
       "1   ...  0.6  1.5   2.1  0.110  -2.3  -0.4  -2.6  -0.1      Abdelnaby   \n",
       "2   ...  0.7  1.3   2.0  0.074  -2.4  -1.5  -3.9  -0.6      Abdelnaby   \n",
       "3   ...  0.0  0.2   0.1  0.035  -3.3  -0.2  -3.5  -0.1      Abdelnaby   \n",
       "4   ...  0.7  1.2   1.9  0.079  -2.3  -1.7  -4.0  -0.6      Abdelnaby   \n",
       "5   ... -0.2  0.1  -0.1 -0.032  -5.3  -2.2  -7.4  -0.2      Abdelnaby   \n",
       "6   ... -0.4  0.7   0.3  0.027  -4.4   0.1  -4.3  -0.3      Abdelnaby   \n",
       "7   ... -0.1  0.7   0.6  0.058  -3.6   0.5  -3.1  -0.1      Abdelnaby   \n",
       "8   ... -0.3  0.0  -0.3 -0.466 -17.6  -7.3 -24.9  -0.2      Abdelnaby   \n",
       "9   ...  9.5  5.3  14.8  0.227   4.8   2.4   7.2   7.3  Abdul-Jabbar*   \n",
       "10  ...  9.6  4.6  14.3  0.230   4.7   1.4   6.1   6.1  Abdul-Jabbar*   \n",
       "11  ...  6.9  3.9  10.7  0.192   3.8   1.2   5.0   4.7  Abdul-Jabbar*   \n",
       "12  ...  8.0  2.9  10.9  0.205   4.0   0.5   4.5   4.2  Abdul-Jabbar*   \n",
       "13  ...  5.9  3.1   8.9  0.163   2.8   0.2   3.0   3.3  Abdul-Jabbar*   \n",
       "14  ...  7.6  3.6  11.2  0.204   3.9   1.2   5.1   4.8  Abdul-Jabbar*   \n",
       "15  ...  7.6  3.2  10.8  0.197   4.4   1.0   5.4   4.9  Abdul-Jabbar*   \n",
       "16  ...  4.5  3.0   7.5  0.148   1.4   0.1   1.6   2.2  Abdul-Jabbar*   \n",
       "17  ...  2.6  2.7   5.3  0.111  -0.1   0.1   0.0   1.2  Abdul-Jabbar*   \n",
       "18  ...  0.9  2.0   2.9  0.082  -1.9  -0.2  -2.1   0.0  Abdul-Jabbar*   \n",
       "19  ... -0.7 -0.3  -1.0 -0.031  -2.0  -3.0  -5.0  -1.1     Abdul-Rauf   \n",
       "\n",
       "    FirstName  \n",
       "0        Alaa  \n",
       "1        Alaa  \n",
       "2        Alaa  \n",
       "3        Alaa  \n",
       "4        Alaa  \n",
       "5        Alaa  \n",
       "6        Alaa  \n",
       "7        Alaa  \n",
       "8        Alaa  \n",
       "9      Kareem  \n",
       "10     Kareem  \n",
       "11     Kareem  \n",
       "12     Kareem  \n",
       "13     Kareem  \n",
       "14     Kareem  \n",
       "15     Kareem  \n",
       "16     Kareem  \n",
       "17     Kareem  \n",
       "18     Kareem  \n",
       "19    Mahmoud  \n",
       "\n",
       "[20 rows x 29 columns]"
      ],
      "text/html": "<div>\n<style scoped>\n    .dataframe tbody tr th:only-of-type {\n        vertical-align: middle;\n    }\n\n    .dataframe tbody tr th {\n        vertical-align: top;\n    }\n\n    .dataframe thead th {\n        text-align: right;\n    }\n</style>\n<table border=\"1\" class=\"dataframe\">\n  <thead>\n    <tr style=\"text-align: right;\">\n      <th></th>\n      <th>Year</th>\n      <th>Player</th>\n      <th>Pos</th>\n      <th>Age</th>\n      <th>Tm</th>\n      <th>G</th>\n      <th>MP</th>\n      <th>PER</th>\n      <th>TS%</th>\n      <th>3PAr</th>\n      <th>...</th>\n      <th>OWS</th>\n      <th>DWS</th>\n      <th>WS</th>\n      <th>WS/48</th>\n      <th>OBPM</th>\n      <th>DBPM</th>\n      <th>BPM</th>\n      <th>VORP</th>\n      <th>Surname</th>\n      <th>FirstName</th>\n    </tr>\n  </thead>\n  <tbody>\n    <tr>\n      <th>0</th>\n      <td>1991</td>\n      <td>Alaa Abdelnaby</td>\n      <td>PF</td>\n      <td>22</td>\n      <td>POR</td>\n      <td>43</td>\n      <td>290</td>\n      <td>13.1</td>\n      <td>0.499</td>\n      <td>0.000</td>\n      <td>...</td>\n      <td>0.0</td>\n      <td>0.5</td>\n      <td>0.5</td>\n      <td>0.079</td>\n      <td>-3.4</td>\n      <td>-1.2</td>\n      <td>-4.6</td>\n      <td>-0.2</td>\n      <td>Abdelnaby</td>\n      <td>Alaa</td>\n    </tr>\n    <tr>\n      <th>1</th>\n      <td>1992</td>\n      <td>Alaa Abdelnaby</td>\n      <td>PF</td>\n      <td>23</td>\n      <td>POR</td>\n      <td>71</td>\n      <td>934</td>\n      <td>13.5</td>\n      <td>0.533</td>\n      <td>0.000</td>\n      <td>...</td>\n      <td>0.6</td>\n      <td>1.5</td>\n      <td>2.1</td>\n      <td>0.110</td>\n      <td>-2.3</td>\n      <td>-0.4</td>\n      <td>-2.6</td>\n      <td>-0.1</td>\n      <td>Abdelnaby</td>\n      <td>Alaa</td>\n    </tr>\n    <tr>\n      <th>2</th>\n      <td>1993</td>\n      <td>Alaa Abdelnaby</td>\n      <td>PF</td>\n      <td>24</td>\n      <td>TOT</td>\n      <td>75</td>\n      <td>1311</td>\n      <td>13.2</td>\n      <td>0.551</td>\n      <td>0.002</td>\n      <td>...</td>\n      <td>0.7</td>\n      <td>1.3</td>\n      <td>2.0</td>\n      <td>0.074</td>\n      <td>-2.4</td>\n      <td>-1.5</td>\n      <td>-3.9</td>\n      <td>-0.6</td>\n      <td>Abdelnaby</td>\n      <td>Alaa</td>\n    </tr>\n    <tr>\n      <th>3</th>\n      <td>1993</td>\n      <td>Alaa Abdelnaby</td>\n      <td>PF</td>\n      <td>24</td>\n      <td>MIL</td>\n      <td>12</td>\n      <td>159</td>\n      <td>11.9</td>\n      <td>0.508</td>\n      <td>0.018</td>\n      <td>...</td>\n      <td>0.0</td>\n      <td>0.2</td>\n      <td>0.1</td>\n      <td>0.035</td>\n      <td>-3.3</td>\n      <td>-0.2</td>\n      <td>-3.5</td>\n      <td>-0.1</td>\n      <td>Abdelnaby</td>\n      <td>Alaa</td>\n    </tr>\n    <tr>\n      <th>4</th>\n      <td>1993</td>\n      <td>Alaa Abdelnaby</td>\n      <td>PF</td>\n      <td>24</td>\n      <td>BOS</td>\n      <td>63</td>\n      <td>1152</td>\n      <td>13.4</td>\n      <td>0.557</td>\n      <td>0.000</td>\n      <td>...</td>\n      <td>0.7</td>\n      <td>1.2</td>\n      <td>1.9</td>\n      <td>0.079</td>\n      <td>-2.3</td>\n      <td>-1.7</td>\n      <td>-4.0</td>\n      <td>-0.6</td>\n      <td>Abdelnaby</td>\n      <td>Alaa</td>\n    </tr>\n    <tr>\n      <th>5</th>\n      <td>1994</td>\n      <td>Alaa Abdelnaby</td>\n      <td>PF</td>\n      <td>25</td>\n      <td>BOS</td>\n      <td>13</td>\n      <td>159</td>\n      <td>9.2</td>\n      <td>0.485</td>\n      <td>0.000</td>\n      <td>...</td>\n      <td>-0.2</td>\n      <td>0.1</td>\n      <td>-0.1</td>\n      <td>-0.032</td>\n      <td>-5.3</td>\n      <td>-2.2</td>\n      <td>-7.4</td>\n      <td>-0.2</td>\n      <td>Abdelnaby</td>\n      <td>Alaa</td>\n    </tr>\n    <tr>\n      <th>6</th>\n      <td>1995</td>\n      <td>Alaa Abdelnaby</td>\n      <td>PF</td>\n      <td>26</td>\n      <td>TOT</td>\n      <td>54</td>\n      <td>506</td>\n      <td>12.6</td>\n      <td>0.519</td>\n      <td>0.009</td>\n      <td>...</td>\n      <td>-0.4</td>\n      <td>0.7</td>\n      <td>0.3</td>\n      <td>0.027</td>\n      <td>-4.4</td>\n      <td>0.1</td>\n      <td>-4.3</td>\n      <td>-0.3</td>\n      <td>Abdelnaby</td>\n      <td>Alaa</td>\n    </tr>\n    <tr>\n      <th>7</th>\n      <td>1995</td>\n      <td>Alaa Abdelnaby</td>\n      <td>PF</td>\n      <td>26</td>\n      <td>SAC</td>\n      <td>51</td>\n      <td>476</td>\n      <td>14.1</td>\n      <td>0.540</td>\n      <td>0.009</td>\n      <td>...</td>\n      <td>-0.1</td>\n      <td>0.7</td>\n      <td>0.6</td>\n      <td>0.058</td>\n      <td>-3.6</td>\n      <td>0.5</td>\n      <td>-3.1</td>\n      <td>-0.1</td>\n      <td>Abdelnaby</td>\n      <td>Alaa</td>\n    </tr>\n    <tr>\n      <th>8</th>\n      <td>1995</td>\n      <td>Alaa Abdelnaby</td>\n      <td>PF</td>\n      <td>26</td>\n      <td>PHI</td>\n      <td>3</td>\n      <td>30</td>\n      <td>-12.5</td>\n      <td>0.091</td>\n      <td>0.000</td>\n      <td>...</td>\n      <td>-0.3</td>\n      <td>0.0</td>\n      <td>-0.3</td>\n      <td>-0.466</td>\n      <td>-17.6</td>\n      <td>-7.3</td>\n      <td>-24.9</td>\n      <td>-0.2</td>\n      <td>Abdelnaby</td>\n      <td>Alaa</td>\n    </tr>\n    <tr>\n      <th>9</th>\n      <td>1980</td>\n      <td>Kareem Abdul-Jabbar</td>\n      <td>C</td>\n      <td>32</td>\n      <td>LAL</td>\n      <td>82</td>\n      <td>3143</td>\n      <td>25.3</td>\n      <td>0.639</td>\n      <td>0.001</td>\n      <td>...</td>\n      <td>9.5</td>\n      <td>5.3</td>\n      <td>14.8</td>\n      <td>0.227</td>\n      <td>4.8</td>\n      <td>2.4</td>\n      <td>7.2</td>\n      <td>7.3</td>\n      <td>Abdul-Jabbar*</td>\n      <td>Kareem</td>\n    </tr>\n    <tr>\n      <th>10</th>\n      <td>1981</td>\n      <td>Kareem Abdul-Jabbar</td>\n      <td>C</td>\n      <td>33</td>\n      <td>LAL</td>\n      <td>80</td>\n      <td>2976</td>\n      <td>25.5</td>\n      <td>0.616</td>\n      <td>0.001</td>\n      <td>...</td>\n      <td>9.6</td>\n      <td>4.6</td>\n      <td>14.3</td>\n      <td>0.230</td>\n      <td>4.7</td>\n      <td>1.4</td>\n      <td>6.1</td>\n      <td>6.1</td>\n      <td>Abdul-Jabbar*</td>\n      <td>Kareem</td>\n    </tr>\n    <tr>\n      <th>11</th>\n      <td>1982</td>\n      <td>Kareem Abdul-Jabbar</td>\n      <td>C</td>\n      <td>34</td>\n      <td>LAL</td>\n      <td>76</td>\n      <td>2677</td>\n      <td>23.4</td>\n      <td>0.608</td>\n      <td>0.002</td>\n      <td>...</td>\n      <td>6.9</td>\n      <td>3.9</td>\n      <td>10.7</td>\n      <td>0.192</td>\n      <td>3.8</td>\n      <td>1.2</td>\n      <td>5.0</td>\n      <td>4.7</td>\n      <td>Abdul-Jabbar*</td>\n      <td>Kareem</td>\n    </tr>\n    <tr>\n      <th>12</th>\n      <td>1983</td>\n      <td>Kareem Abdul-Jabbar</td>\n      <td>C</td>\n      <td>35</td>\n      <td>LAL</td>\n      <td>79</td>\n      <td>2554</td>\n      <td>23.6</td>\n      <td>0.619</td>\n      <td>0.002</td>\n      <td>...</td>\n      <td>8.0</td>\n      <td>2.9</td>\n      <td>10.9</td>\n      <td>0.205</td>\n      <td>4.0</td>\n      <td>0.5</td>\n      <td>4.5</td>\n      <td>4.2</td>\n      <td>Abdul-Jabbar*</td>\n      <td>Kareem</td>\n    </tr>\n    <tr>\n      <th>13</th>\n      <td>1984</td>\n      <td>Kareem Abdul-Jabbar</td>\n      <td>C</td>\n      <td>36</td>\n      <td>LAL</td>\n      <td>80</td>\n      <td>2622</td>\n      <td>21.3</td>\n      <td>0.608</td>\n      <td>0.001</td>\n      <td>...</td>\n      <td>5.9</td>\n      <td>3.1</td>\n      <td>8.9</td>\n      <td>0.163</td>\n      <td>2.8</td>\n      <td>0.2</td>\n      <td>3.0</td>\n      <td>3.3</td>\n      <td>Abdul-Jabbar*</td>\n      <td>Kareem</td>\n    </tr>\n    <tr>\n      <th>14</th>\n      <td>1985</td>\n      <td>Kareem Abdul-Jabbar</td>\n      <td>C</td>\n      <td>37</td>\n      <td>LAL</td>\n      <td>79</td>\n      <td>2630</td>\n      <td>22.9</td>\n      <td>0.628</td>\n      <td>0.001</td>\n      <td>...</td>\n      <td>7.6</td>\n      <td>3.6</td>\n      <td>11.2</td>\n      <td>0.204</td>\n      <td>3.9</td>\n      <td>1.2</td>\n      <td>5.1</td>\n      <td>4.8</td>\n      <td>Abdul-Jabbar*</td>\n      <td>Kareem</td>\n    </tr>\n    <tr>\n      <th>15</th>\n      <td>1986</td>\n      <td>Kareem Abdul-Jabbar</td>\n      <td>C</td>\n      <td>38</td>\n      <td>LAL</td>\n      <td>79</td>\n      <td>2629</td>\n      <td>22.7</td>\n      <td>0.603</td>\n      <td>0.001</td>\n      <td>...</td>\n      <td>7.6</td>\n      <td>3.2</td>\n      <td>10.8</td>\n      <td>0.197</td>\n      <td>4.4</td>\n      <td>1.0</td>\n      <td>5.4</td>\n      <td>4.9</td>\n      <td>Abdul-Jabbar*</td>\n      <td>Kareem</td>\n    </tr>\n    <tr>\n      <th>16</th>\n      <td>1987</td>\n      <td>Kareem Abdul-Jabbar</td>\n      <td>C</td>\n      <td>39</td>\n      <td>LAL</td>\n      <td>78</td>\n      <td>2441</td>\n      <td>17.9</td>\n      <td>0.597</td>\n      <td>0.003</td>\n      <td>...</td>\n      <td>4.5</td>\n      <td>3.0</td>\n      <td>7.5</td>\n      <td>0.148</td>\n      <td>1.4</td>\n      <td>0.1</td>\n      <td>1.6</td>\n      <td>2.2</td>\n      <td>Abdul-Jabbar*</td>\n      <td>Kareem</td>\n    </tr>\n    <tr>\n      <th>17</th>\n      <td>1988</td>\n      <td>Kareem Abdul-Jabbar</td>\n      <td>C</td>\n      <td>40</td>\n      <td>LAL</td>\n      <td>80</td>\n      <td>2308</td>\n      <td>15.8</td>\n      <td>0.570</td>\n      <td>0.001</td>\n      <td>...</td>\n      <td>2.6</td>\n      <td>2.7</td>\n      <td>5.3</td>\n      <td>0.111</td>\n      <td>-0.1</td>\n      <td>0.1</td>\n      <td>0.0</td>\n      <td>1.2</td>\n      <td>Abdul-Jabbar*</td>\n      <td>Kareem</td>\n    </tr>\n    <tr>\n      <th>18</th>\n      <td>1989</td>\n      <td>Kareem Abdul-Jabbar</td>\n      <td>C</td>\n      <td>41</td>\n      <td>LAL</td>\n      <td>74</td>\n      <td>1695</td>\n      <td>12.9</td>\n      <td>0.511</td>\n      <td>0.005</td>\n      <td>...</td>\n      <td>0.9</td>\n      <td>2.0</td>\n      <td>2.9</td>\n      <td>0.082</td>\n      <td>-1.9</td>\n      <td>-0.2</td>\n      <td>-2.1</td>\n      <td>0.0</td>\n      <td>Abdul-Jabbar*</td>\n      <td>Kareem</td>\n    </tr>\n    <tr>\n      <th>19</th>\n      <td>1991</td>\n      <td>Mahmoud Abdul-Rauf</td>\n      <td>PG</td>\n      <td>21</td>\n      <td>DEN</td>\n      <td>67</td>\n      <td>1505</td>\n      <td>12.2</td>\n      <td>0.448</td>\n      <td>0.099</td>\n      <td>...</td>\n      <td>-0.7</td>\n      <td>-0.3</td>\n      <td>-1.0</td>\n      <td>-0.031</td>\n      <td>-2.0</td>\n      <td>-3.0</td>\n      <td>-5.0</td>\n      <td>-1.1</td>\n      <td>Abdul-Rauf</td>\n      <td>Mahmoud</td>\n    </tr>\n  </tbody>\n</table>\n<p>20 rows × 29 columns</p>\n</div>"
     },
     "metadata": {},
     "execution_count": 12
    }
   ],
   "source": [
    "Advanced_df.drop(['\\xa0','\\xa0.1'], axis = 1, inplace = True)\n",
    "Advanced_df.head(20)"
   ]
  },
  {
   "cell_type": "code",
   "execution_count": 14,
   "metadata": {},
   "outputs": [],
   "source": [
    "Totals_df[\"Season\"] = Totals_df[\"Year\"].apply(lambda x: str(int(x) - 1) + \"-\" + \"\".join(list(str(x))[-2:]))\n",
    "Advanced_df[\"Season\"] = Advanced_df[\"Year\"].apply(lambda x: str(int(x) - 1) + \"-\" + \"\".join(list(str(x))[-2:]))"
   ]
  },
  {
   "cell_type": "code",
   "execution_count": 19,
   "metadata": {},
   "outputs": [
    {
     "output_type": "execute_result",
     "data": {
      "text/plain": [
       "       Year          Player Pos  Age   Tm   G    GS    MP   FG  FGA  ...  TRB  \\\n",
       "0      1991  Alaa Abdelnaby  PF   22  POR  43   0.0   290   55  116  ...   89   \n",
       "1      1992  Alaa Abdelnaby  PF   23  POR  71   1.0   934  178  361  ...  260   \n",
       "2      1993  Alaa Abdelnaby  PF   24  TOT  75  52.0  1311  245  473  ...  337   \n",
       "3      1993  Alaa Abdelnaby  PF   24  MIL  12   0.0   159   26   56  ...   37   \n",
       "4      1993  Alaa Abdelnaby  PF   24  BOS  63  52.0  1152  219  417  ...  300   \n",
       "...     ...             ...  ..  ...  ...  ..   ...   ...  ...  ...  ...  ...   \n",
       "20294  2004    Bruno Sundov   C   23  CLE   4   0.0    29    3    9  ...   10   \n",
       "20295  2004    Bruno Sundov   C   23  NYK   1   0.0     4    1    1  ...    0   \n",
       "20296  2005    Bruno Sundov   C   24  NYK  21   0.0    73   11   37  ...   13   \n",
       "20297  2018      Ante Zizic   C   21  CLE  32   2.0   214   49   67  ...   60   \n",
       "20298  2019      Ante Zizic   C   22  CLE  59  25.0  1082  183  331  ...  320   \n",
       "\n",
       "       AST  STL  BLK  TOV   PF  PTS    Surname  FirstName   Season  \n",
       "0       12    4   12   22   39  135  Abdelnaby       Alaa  1990-91  \n",
       "1       30   25   16   66  132  432  Abdelnaby       Alaa  1991-92  \n",
       "2       27   25   26   97  189  578  Abdelnaby       Alaa  1992-93  \n",
       "3       10    6    4   13   24   64  Abdelnaby       Alaa  1992-93  \n",
       "4       17   19   22   84  165  514  Abdelnaby       Alaa  1992-93  \n",
       "...    ...  ...  ...  ...  ...  ...        ...        ...      ...  \n",
       "20294    0    0    0    3    7    9     Šundov      Bruno  2003-04  \n",
       "20295    1    0    0    0    2    2     Šundov      Bruno  2003-04  \n",
       "20296    2    2    2    6   16   25     Šundov      Bruno  2004-05  \n",
       "20297    5    2   13   11   30  119      Žižić       Ante  2017-18  \n",
       "20298   53   13   22   61  113  459      Žižić       Ante  2018-19  \n",
       "\n",
       "[20299 rows x 33 columns]"
      ],
      "text/html": "<div>\n<style scoped>\n    .dataframe tbody tr th:only-of-type {\n        vertical-align: middle;\n    }\n\n    .dataframe tbody tr th {\n        vertical-align: top;\n    }\n\n    .dataframe thead th {\n        text-align: right;\n    }\n</style>\n<table border=\"1\" class=\"dataframe\">\n  <thead>\n    <tr style=\"text-align: right;\">\n      <th></th>\n      <th>Year</th>\n      <th>Player</th>\n      <th>Pos</th>\n      <th>Age</th>\n      <th>Tm</th>\n      <th>G</th>\n      <th>GS</th>\n      <th>MP</th>\n      <th>FG</th>\n      <th>FGA</th>\n      <th>...</th>\n      <th>TRB</th>\n      <th>AST</th>\n      <th>STL</th>\n      <th>BLK</th>\n      <th>TOV</th>\n      <th>PF</th>\n      <th>PTS</th>\n      <th>Surname</th>\n      <th>FirstName</th>\n      <th>Season</th>\n    </tr>\n  </thead>\n  <tbody>\n    <tr>\n      <th>0</th>\n      <td>1991</td>\n      <td>Alaa Abdelnaby</td>\n      <td>PF</td>\n      <td>22</td>\n      <td>POR</td>\n      <td>43</td>\n      <td>0.0</td>\n      <td>290</td>\n      <td>55</td>\n      <td>116</td>\n      <td>...</td>\n      <td>89</td>\n      <td>12</td>\n      <td>4</td>\n      <td>12</td>\n      <td>22</td>\n      <td>39</td>\n      <td>135</td>\n      <td>Abdelnaby</td>\n      <td>Alaa</td>\n      <td>1990-91</td>\n    </tr>\n    <tr>\n      <th>1</th>\n      <td>1992</td>\n      <td>Alaa Abdelnaby</td>\n      <td>PF</td>\n      <td>23</td>\n      <td>POR</td>\n      <td>71</td>\n      <td>1.0</td>\n      <td>934</td>\n      <td>178</td>\n      <td>361</td>\n      <td>...</td>\n      <td>260</td>\n      <td>30</td>\n      <td>25</td>\n      <td>16</td>\n      <td>66</td>\n      <td>132</td>\n      <td>432</td>\n      <td>Abdelnaby</td>\n      <td>Alaa</td>\n      <td>1991-92</td>\n    </tr>\n    <tr>\n      <th>2</th>\n      <td>1993</td>\n      <td>Alaa Abdelnaby</td>\n      <td>PF</td>\n      <td>24</td>\n      <td>TOT</td>\n      <td>75</td>\n      <td>52.0</td>\n      <td>1311</td>\n      <td>245</td>\n      <td>473</td>\n      <td>...</td>\n      <td>337</td>\n      <td>27</td>\n      <td>25</td>\n      <td>26</td>\n      <td>97</td>\n      <td>189</td>\n      <td>578</td>\n      <td>Abdelnaby</td>\n      <td>Alaa</td>\n      <td>1992-93</td>\n    </tr>\n    <tr>\n      <th>3</th>\n      <td>1993</td>\n      <td>Alaa Abdelnaby</td>\n      <td>PF</td>\n      <td>24</td>\n      <td>MIL</td>\n      <td>12</td>\n      <td>0.0</td>\n      <td>159</td>\n      <td>26</td>\n      <td>56</td>\n      <td>...</td>\n      <td>37</td>\n      <td>10</td>\n      <td>6</td>\n      <td>4</td>\n      <td>13</td>\n      <td>24</td>\n      <td>64</td>\n      <td>Abdelnaby</td>\n      <td>Alaa</td>\n      <td>1992-93</td>\n    </tr>\n    <tr>\n      <th>4</th>\n      <td>1993</td>\n      <td>Alaa Abdelnaby</td>\n      <td>PF</td>\n      <td>24</td>\n      <td>BOS</td>\n      <td>63</td>\n      <td>52.0</td>\n      <td>1152</td>\n      <td>219</td>\n      <td>417</td>\n      <td>...</td>\n      <td>300</td>\n      <td>17</td>\n      <td>19</td>\n      <td>22</td>\n      <td>84</td>\n      <td>165</td>\n      <td>514</td>\n      <td>Abdelnaby</td>\n      <td>Alaa</td>\n      <td>1992-93</td>\n    </tr>\n    <tr>\n      <th>...</th>\n      <td>...</td>\n      <td>...</td>\n      <td>...</td>\n      <td>...</td>\n      <td>...</td>\n      <td>...</td>\n      <td>...</td>\n      <td>...</td>\n      <td>...</td>\n      <td>...</td>\n      <td>...</td>\n      <td>...</td>\n      <td>...</td>\n      <td>...</td>\n      <td>...</td>\n      <td>...</td>\n      <td>...</td>\n      <td>...</td>\n      <td>...</td>\n      <td>...</td>\n      <td>...</td>\n    </tr>\n    <tr>\n      <th>20294</th>\n      <td>2004</td>\n      <td>Bruno Sundov</td>\n      <td>C</td>\n      <td>23</td>\n      <td>CLE</td>\n      <td>4</td>\n      <td>0.0</td>\n      <td>29</td>\n      <td>3</td>\n      <td>9</td>\n      <td>...</td>\n      <td>10</td>\n      <td>0</td>\n      <td>0</td>\n      <td>0</td>\n      <td>3</td>\n      <td>7</td>\n      <td>9</td>\n      <td>Šundov</td>\n      <td>Bruno</td>\n      <td>2003-04</td>\n    </tr>\n    <tr>\n      <th>20295</th>\n      <td>2004</td>\n      <td>Bruno Sundov</td>\n      <td>C</td>\n      <td>23</td>\n      <td>NYK</td>\n      <td>1</td>\n      <td>0.0</td>\n      <td>4</td>\n      <td>1</td>\n      <td>1</td>\n      <td>...</td>\n      <td>0</td>\n      <td>1</td>\n      <td>0</td>\n      <td>0</td>\n      <td>0</td>\n      <td>2</td>\n      <td>2</td>\n      <td>Šundov</td>\n      <td>Bruno</td>\n      <td>2003-04</td>\n    </tr>\n    <tr>\n      <th>20296</th>\n      <td>2005</td>\n      <td>Bruno Sundov</td>\n      <td>C</td>\n      <td>24</td>\n      <td>NYK</td>\n      <td>21</td>\n      <td>0.0</td>\n      <td>73</td>\n      <td>11</td>\n      <td>37</td>\n      <td>...</td>\n      <td>13</td>\n      <td>2</td>\n      <td>2</td>\n      <td>2</td>\n      <td>6</td>\n      <td>16</td>\n      <td>25</td>\n      <td>Šundov</td>\n      <td>Bruno</td>\n      <td>2004-05</td>\n    </tr>\n    <tr>\n      <th>20297</th>\n      <td>2018</td>\n      <td>Ante Zizic</td>\n      <td>C</td>\n      <td>21</td>\n      <td>CLE</td>\n      <td>32</td>\n      <td>2.0</td>\n      <td>214</td>\n      <td>49</td>\n      <td>67</td>\n      <td>...</td>\n      <td>60</td>\n      <td>5</td>\n      <td>2</td>\n      <td>13</td>\n      <td>11</td>\n      <td>30</td>\n      <td>119</td>\n      <td>Žižić</td>\n      <td>Ante</td>\n      <td>2017-18</td>\n    </tr>\n    <tr>\n      <th>20298</th>\n      <td>2019</td>\n      <td>Ante Zizic</td>\n      <td>C</td>\n      <td>22</td>\n      <td>CLE</td>\n      <td>59</td>\n      <td>25.0</td>\n      <td>1082</td>\n      <td>183</td>\n      <td>331</td>\n      <td>...</td>\n      <td>320</td>\n      <td>53</td>\n      <td>13</td>\n      <td>22</td>\n      <td>61</td>\n      <td>113</td>\n      <td>459</td>\n      <td>Žižić</td>\n      <td>Ante</td>\n      <td>2018-19</td>\n    </tr>\n  </tbody>\n</table>\n<p>20299 rows × 33 columns</p>\n</div>"
     },
     "metadata": {},
     "execution_count": 19
    }
   ],
   "source": [
    "#removing special characters from names\n",
    "import unidecode\n",
    "Totals_df[\"Player\"] = Totals_df[\"Player\"].apply(lambda x: unidecode.unidecode(x))\n",
    "Advanced_df[\"Player\"] = Advanced_df[\"Player\"].apply(lambda x: unidecode.unidecode(x))\n",
    "Totals_df"
   ]
  },
  {
   "cell_type": "code",
   "execution_count": 20,
   "metadata": {},
   "outputs": [],
   "source": [
    "Totals_df.drop([\"Surname\",\"FirstName\"],axis = 1, inplace = True)\n",
    "Advanced_df.drop([\"Surname\",\"FirstName\"],axis = 1, inplace = True)"
   ]
  },
  {
   "cell_type": "code",
   "execution_count": 27,
   "metadata": {},
   "outputs": [],
   "source": [
    "Totals_df[\"Player\"] = Totals_df[\"Player\"].apply(lambda x: ''.join(list(filter(lambda x: x!='.',list(x)))))\n",
    "Advanced_df[\"Player\"] = Advanced_df[\"Player\"].apply(lambda x: ''.join(list(filter(lambda x: x!='.',list(x)))))"
   ]
  },
  {
   "source": [
    "<h1> Dealing with Mid Season Trades </h1>\n",
    "\n",
    "Players get traded mid season and we will only keep total stats for that year and remove the others"
   ],
   "cell_type": "markdown",
   "metadata": {}
  },
  {
   "cell_type": "code",
   "execution_count": 41,
   "metadata": {},
   "outputs": [],
   "source": [
    "traded_tuple = tuple(zip(Totals_df.loc[Totals_df[\"Tm\"] == \"TOT\"][\"Year\"],Totals_df.loc[Totals_df[\"Tm\"] == \"TOT\"][\"Player\"],Totals_df.loc[Totals_df[\"Tm\"] == \"TOT\"][\"Age\"]))\n",
    "ind = list()\n",
    "for combination in traded_tuple:\n",
    "    ind.extend(Totals_df.loc[(Totals_df[\"Year\"] == combination[0]) & (Totals_df[\"Player\"] == combination[1]) & (Totals_df[\"Age\"] ==            combination[2]) & (Totals_df[\"Tm\"] != \"TOT\")].index.values.tolist())\n"
   ]
  },
  {
   "cell_type": "code",
   "execution_count": 46,
   "metadata": {},
   "outputs": [],
   "source": [
    "traded_tuple_advanced = tuple(zip(Advanced_df.loc[Totals_df[\"Tm\"] == \"TOT\"][\"Year\"],Advanced_df.loc[Totals_df[\"Tm\"] == \"TOT\"][\"Player\"],Advanced_df.loc[Totals_df[\"Tm\"] == \"TOT\"][\"Age\"]))\n",
    "ind_advanced = list()\n",
    "for combination in traded_tuple_advanced:\n",
    "    ind_advanced.extend(Advanced_df.loc[(Totals_df[\"Year\"] == combination[0]) & (Advanced_df[\"Player\"] == combination[1]) & (Advanced_df[\"Age\"] == combination[2]) & (Advanced_df[\"Tm\"] != \"TOT\")].index.values.tolist())"
   ]
  },
  {
   "cell_type": "code",
   "execution_count": 48,
   "metadata": {},
   "outputs": [],
   "source": [
    "Totals_df = Totals_df.drop(ind).reset_index(drop = True)\n",
    "Advanced_df = Advanced_df.drop(ind).reset_index(drop = True)"
   ]
  },
  {
   "cell_type": "code",
   "execution_count": 51,
   "metadata": {},
   "outputs": [
    {
     "output_type": "execute_result",
     "data": {
      "text/plain": [
       "       Year          Player Pos  Age   Tm   G    MP   PER    TS%   3PAr  ...  \\\n",
       "0      1991  Alaa Abdelnaby  PF   22  POR  43   290  13.1  0.499  0.000  ...   \n",
       "1      1992  Alaa Abdelnaby  PF   23  POR  71   934  13.5  0.533  0.000  ...   \n",
       "2      1993  Alaa Abdelnaby  PF   24  TOT  75  1311  13.2  0.551  0.002  ...   \n",
       "3      1994  Alaa Abdelnaby  PF   25  BOS  13   159   9.2  0.485  0.000  ...   \n",
       "4      1995  Alaa Abdelnaby  PF   26  TOT  54   506  12.6  0.519  0.009  ...   \n",
       "...     ...             ...  ..  ...  ...  ..   ...   ...    ...    ...  ...   \n",
       "16609  2003    Bruno Sundov   C   22  BOS  26   138   1.2  0.281  0.286  ...   \n",
       "16610  2004    Bruno Sundov   C   23  TOT   5    33   3.5  0.435  0.000  ...   \n",
       "16611  2005    Bruno Sundov   C   24  NYK  21    73   1.2  0.330  0.081  ...   \n",
       "16612  2018      Ante Zizic   C   21  CLE  32   214  24.2  0.746  0.000  ...   \n",
       "16613  2019      Ante Zizic   C   22  CLE  59  1082  16.2  0.590  0.000  ...   \n",
       "\n",
       "       USG%  OWS  DWS   WS  WS/48  OBPM  DBPM   BPM  VORP   Season  \n",
       "0      22.1  0.0  0.5  0.5  0.079  -3.4  -1.2  -4.6  -0.2  1990-91  \n",
       "1      20.6  0.6  1.5  2.1  0.110  -2.3  -0.4  -2.6  -0.1  1991-92  \n",
       "2      20.5  0.7  1.3  2.0  0.074  -2.4  -1.5  -3.9  -0.6  1992-93  \n",
       "3      22.6 -0.2  0.1 -0.1 -0.032  -5.3  -2.2  -7.4  -0.2  1993-94  \n",
       "4      25.6 -0.4  0.7  0.3  0.027  -4.4   0.1  -4.3  -0.3  1994-95  \n",
       "...     ...  ...  ...  ...    ...   ...   ...   ...   ...      ...  \n",
       "16609  22.2 -0.6  0.2 -0.4 -0.139  -8.7  -1.1  -9.8  -0.3  2002-03  \n",
       "16610  21.3 -0.1  0.0  0.0 -0.046  -9.1  -1.6 -10.7  -0.1  2003-04  \n",
       "16611  27.4 -0.3  0.0 -0.3 -0.174 -10.4  -3.3 -13.6  -0.2  2004-05  \n",
       "16612  18.8  0.9  0.2  1.0  0.231   1.9  -0.9   1.0   0.2  2017-18  \n",
       "16613  18.2  1.7  0.3  2.0  0.087  -1.1  -2.1  -3.2  -0.3  2018-19  \n",
       "\n",
       "[16614 rows x 28 columns]"
      ],
      "text/html": "<div>\n<style scoped>\n    .dataframe tbody tr th:only-of-type {\n        vertical-align: middle;\n    }\n\n    .dataframe tbody tr th {\n        vertical-align: top;\n    }\n\n    .dataframe thead th {\n        text-align: right;\n    }\n</style>\n<table border=\"1\" class=\"dataframe\">\n  <thead>\n    <tr style=\"text-align: right;\">\n      <th></th>\n      <th>Year</th>\n      <th>Player</th>\n      <th>Pos</th>\n      <th>Age</th>\n      <th>Tm</th>\n      <th>G</th>\n      <th>MP</th>\n      <th>PER</th>\n      <th>TS%</th>\n      <th>3PAr</th>\n      <th>...</th>\n      <th>USG%</th>\n      <th>OWS</th>\n      <th>DWS</th>\n      <th>WS</th>\n      <th>WS/48</th>\n      <th>OBPM</th>\n      <th>DBPM</th>\n      <th>BPM</th>\n      <th>VORP</th>\n      <th>Season</th>\n    </tr>\n  </thead>\n  <tbody>\n    <tr>\n      <th>0</th>\n      <td>1991</td>\n      <td>Alaa Abdelnaby</td>\n      <td>PF</td>\n      <td>22</td>\n      <td>POR</td>\n      <td>43</td>\n      <td>290</td>\n      <td>13.1</td>\n      <td>0.499</td>\n      <td>0.000</td>\n      <td>...</td>\n      <td>22.1</td>\n      <td>0.0</td>\n      <td>0.5</td>\n      <td>0.5</td>\n      <td>0.079</td>\n      <td>-3.4</td>\n      <td>-1.2</td>\n      <td>-4.6</td>\n      <td>-0.2</td>\n      <td>1990-91</td>\n    </tr>\n    <tr>\n      <th>1</th>\n      <td>1992</td>\n      <td>Alaa Abdelnaby</td>\n      <td>PF</td>\n      <td>23</td>\n      <td>POR</td>\n      <td>71</td>\n      <td>934</td>\n      <td>13.5</td>\n      <td>0.533</td>\n      <td>0.000</td>\n      <td>...</td>\n      <td>20.6</td>\n      <td>0.6</td>\n      <td>1.5</td>\n      <td>2.1</td>\n      <td>0.110</td>\n      <td>-2.3</td>\n      <td>-0.4</td>\n      <td>-2.6</td>\n      <td>-0.1</td>\n      <td>1991-92</td>\n    </tr>\n    <tr>\n      <th>2</th>\n      <td>1993</td>\n      <td>Alaa Abdelnaby</td>\n      <td>PF</td>\n      <td>24</td>\n      <td>TOT</td>\n      <td>75</td>\n      <td>1311</td>\n      <td>13.2</td>\n      <td>0.551</td>\n      <td>0.002</td>\n      <td>...</td>\n      <td>20.5</td>\n      <td>0.7</td>\n      <td>1.3</td>\n      <td>2.0</td>\n      <td>0.074</td>\n      <td>-2.4</td>\n      <td>-1.5</td>\n      <td>-3.9</td>\n      <td>-0.6</td>\n      <td>1992-93</td>\n    </tr>\n    <tr>\n      <th>3</th>\n      <td>1994</td>\n      <td>Alaa Abdelnaby</td>\n      <td>PF</td>\n      <td>25</td>\n      <td>BOS</td>\n      <td>13</td>\n      <td>159</td>\n      <td>9.2</td>\n      <td>0.485</td>\n      <td>0.000</td>\n      <td>...</td>\n      <td>22.6</td>\n      <td>-0.2</td>\n      <td>0.1</td>\n      <td>-0.1</td>\n      <td>-0.032</td>\n      <td>-5.3</td>\n      <td>-2.2</td>\n      <td>-7.4</td>\n      <td>-0.2</td>\n      <td>1993-94</td>\n    </tr>\n    <tr>\n      <th>4</th>\n      <td>1995</td>\n      <td>Alaa Abdelnaby</td>\n      <td>PF</td>\n      <td>26</td>\n      <td>TOT</td>\n      <td>54</td>\n      <td>506</td>\n      <td>12.6</td>\n      <td>0.519</td>\n      <td>0.009</td>\n      <td>...</td>\n      <td>25.6</td>\n      <td>-0.4</td>\n      <td>0.7</td>\n      <td>0.3</td>\n      <td>0.027</td>\n      <td>-4.4</td>\n      <td>0.1</td>\n      <td>-4.3</td>\n      <td>-0.3</td>\n      <td>1994-95</td>\n    </tr>\n    <tr>\n      <th>...</th>\n      <td>...</td>\n      <td>...</td>\n      <td>...</td>\n      <td>...</td>\n      <td>...</td>\n      <td>...</td>\n      <td>...</td>\n      <td>...</td>\n      <td>...</td>\n      <td>...</td>\n      <td>...</td>\n      <td>...</td>\n      <td>...</td>\n      <td>...</td>\n      <td>...</td>\n      <td>...</td>\n      <td>...</td>\n      <td>...</td>\n      <td>...</td>\n      <td>...</td>\n      <td>...</td>\n    </tr>\n    <tr>\n      <th>16609</th>\n      <td>2003</td>\n      <td>Bruno Sundov</td>\n      <td>C</td>\n      <td>22</td>\n      <td>BOS</td>\n      <td>26</td>\n      <td>138</td>\n      <td>1.2</td>\n      <td>0.281</td>\n      <td>0.286</td>\n      <td>...</td>\n      <td>22.2</td>\n      <td>-0.6</td>\n      <td>0.2</td>\n      <td>-0.4</td>\n      <td>-0.139</td>\n      <td>-8.7</td>\n      <td>-1.1</td>\n      <td>-9.8</td>\n      <td>-0.3</td>\n      <td>2002-03</td>\n    </tr>\n    <tr>\n      <th>16610</th>\n      <td>2004</td>\n      <td>Bruno Sundov</td>\n      <td>C</td>\n      <td>23</td>\n      <td>TOT</td>\n      <td>5</td>\n      <td>33</td>\n      <td>3.5</td>\n      <td>0.435</td>\n      <td>0.000</td>\n      <td>...</td>\n      <td>21.3</td>\n      <td>-0.1</td>\n      <td>0.0</td>\n      <td>0.0</td>\n      <td>-0.046</td>\n      <td>-9.1</td>\n      <td>-1.6</td>\n      <td>-10.7</td>\n      <td>-0.1</td>\n      <td>2003-04</td>\n    </tr>\n    <tr>\n      <th>16611</th>\n      <td>2005</td>\n      <td>Bruno Sundov</td>\n      <td>C</td>\n      <td>24</td>\n      <td>NYK</td>\n      <td>21</td>\n      <td>73</td>\n      <td>1.2</td>\n      <td>0.330</td>\n      <td>0.081</td>\n      <td>...</td>\n      <td>27.4</td>\n      <td>-0.3</td>\n      <td>0.0</td>\n      <td>-0.3</td>\n      <td>-0.174</td>\n      <td>-10.4</td>\n      <td>-3.3</td>\n      <td>-13.6</td>\n      <td>-0.2</td>\n      <td>2004-05</td>\n    </tr>\n    <tr>\n      <th>16612</th>\n      <td>2018</td>\n      <td>Ante Zizic</td>\n      <td>C</td>\n      <td>21</td>\n      <td>CLE</td>\n      <td>32</td>\n      <td>214</td>\n      <td>24.2</td>\n      <td>0.746</td>\n      <td>0.000</td>\n      <td>...</td>\n      <td>18.8</td>\n      <td>0.9</td>\n      <td>0.2</td>\n      <td>1.0</td>\n      <td>0.231</td>\n      <td>1.9</td>\n      <td>-0.9</td>\n      <td>1.0</td>\n      <td>0.2</td>\n      <td>2017-18</td>\n    </tr>\n    <tr>\n      <th>16613</th>\n      <td>2019</td>\n      <td>Ante Zizic</td>\n      <td>C</td>\n      <td>22</td>\n      <td>CLE</td>\n      <td>59</td>\n      <td>1082</td>\n      <td>16.2</td>\n      <td>0.590</td>\n      <td>0.000</td>\n      <td>...</td>\n      <td>18.2</td>\n      <td>1.7</td>\n      <td>0.3</td>\n      <td>2.0</td>\n      <td>0.087</td>\n      <td>-1.1</td>\n      <td>-2.1</td>\n      <td>-3.2</td>\n      <td>-0.3</td>\n      <td>2018-19</td>\n    </tr>\n  </tbody>\n</table>\n<p>16614 rows × 28 columns</p>\n</div>"
     },
     "metadata": {},
     "execution_count": 51
    }
   ],
   "source": [
    "Advanced_df"
   ]
  },
  {
   "source": [
    "Drop columns which are same,\n",
    "\n",
    "Merge Advanced to total, \n",
    "\n",
    "Group\n"
   ],
   "cell_type": "markdown",
   "metadata": {}
  },
  {
   "cell_type": "code",
   "execution_count": 53,
   "metadata": {},
   "outputs": [
    {
     "output_type": "execute_result",
     "data": {
      "text/plain": [
       "(16614, 31)"
      ]
     },
     "metadata": {},
     "execution_count": 53
    }
   ],
   "source": []
  },
  {
   "cell_type": "code",
   "execution_count": 54,
   "metadata": {},
   "outputs": [],
   "source": []
  },
  {
   "cell_type": "code",
   "execution_count": 56,
   "metadata": {},
   "outputs": [
    {
     "output_type": "execute_result",
     "data": {
      "text/plain": [
       "       Year                  Player Pos  Age   Tm   G   GS   MP  FG  FGA  ...  \\\n",
       "73     2019            Jaylen Adams  PG   22  ATL  34  1.0  428  38  110  ...   \n",
       "101    2019               Deng Adel  SF   21  CLE  19  3.0  194  11   36  ...   \n",
       "159    2013            Josh Akognon  PG   26  DAL   3  0.0    9   2    4  ...   \n",
       "160    2019  DeVaughn Akoon-Purcell  SG   25  DEN   7  0.0   22   3   10  ...   \n",
       "168    2015          Furkan Aldemir  PF   23  PHI  41  9.0  540  40   78  ...   \n",
       "...     ...                     ...  ..  ...  ...  ..  ...  ...  ..  ...  ...   \n",
       "16570  1988        Phil Zevenbergen   C   23  SAS   8  0.0   58  15   27  ...   \n",
       "16576  2006       Derrick Zimmerman  PG   24  NJN   2  0.0   32   2    3  ...   \n",
       "16577  2017       Stephen Zimmerman   C   20  ORL  19  0.0  108  10   31  ...   \n",
       "16580  1983                Jim Zoet   C   29  DET   7  0.0   30   1    5  ...   \n",
       "16587  1993          Radisav Curcic   C   27  DAL  20  0.0  166  16   41  ...   \n",
       "\n",
       "       ORB  DRB  TRB  AST  STL  BLK  TOV  PF  PTS   Season  \n",
       "73      11   49   60   65   14    5   28  45  108  2018-19  \n",
       "101      3   16   19    5    1    4    6  13   32  2018-19  \n",
       "159      0    1    1    1    0    0    0   3    5  2012-13  \n",
       "160      1    3    4    6    2    0    2   4    7  2018-19  \n",
       "168     78   98  176   28   17   16   17  96   93  2014-15  \n",
       "...    ...  ...  ...  ...  ...  ...  ...  ..  ...      ...  \n",
       "16570    4    9   13    3    3    1    4  12   30  1987-88  \n",
       "16576    1    3    4    7    0    0    4   4    4  2005-06  \n",
       "16577   11   24   35    4    2    5    3  17   23  2016-17  \n",
       "16580    3    5    8    1    1    3    4   9    2  1982-83  \n",
       "16587   17   32   49   12    7    2    8  30   58  1992-93  \n",
       "\n",
       "[720 rows x 31 columns]"
      ],
      "text/html": "<div>\n<style scoped>\n    .dataframe tbody tr th:only-of-type {\n        vertical-align: middle;\n    }\n\n    .dataframe tbody tr th {\n        vertical-align: top;\n    }\n\n    .dataframe thead th {\n        text-align: right;\n    }\n</style>\n<table border=\"1\" class=\"dataframe\">\n  <thead>\n    <tr style=\"text-align: right;\">\n      <th></th>\n      <th>Year</th>\n      <th>Player</th>\n      <th>Pos</th>\n      <th>Age</th>\n      <th>Tm</th>\n      <th>G</th>\n      <th>GS</th>\n      <th>MP</th>\n      <th>FG</th>\n      <th>FGA</th>\n      <th>...</th>\n      <th>ORB</th>\n      <th>DRB</th>\n      <th>TRB</th>\n      <th>AST</th>\n      <th>STL</th>\n      <th>BLK</th>\n      <th>TOV</th>\n      <th>PF</th>\n      <th>PTS</th>\n      <th>Season</th>\n    </tr>\n  </thead>\n  <tbody>\n    <tr>\n      <th>73</th>\n      <td>2019</td>\n      <td>Jaylen Adams</td>\n      <td>PG</td>\n      <td>22</td>\n      <td>ATL</td>\n      <td>34</td>\n      <td>1.0</td>\n      <td>428</td>\n      <td>38</td>\n      <td>110</td>\n      <td>...</td>\n      <td>11</td>\n      <td>49</td>\n      <td>60</td>\n      <td>65</td>\n      <td>14</td>\n      <td>5</td>\n      <td>28</td>\n      <td>45</td>\n      <td>108</td>\n      <td>2018-19</td>\n    </tr>\n    <tr>\n      <th>101</th>\n      <td>2019</td>\n      <td>Deng Adel</td>\n      <td>SF</td>\n      <td>21</td>\n      <td>CLE</td>\n      <td>19</td>\n      <td>3.0</td>\n      <td>194</td>\n      <td>11</td>\n      <td>36</td>\n      <td>...</td>\n      <td>3</td>\n      <td>16</td>\n      <td>19</td>\n      <td>5</td>\n      <td>1</td>\n      <td>4</td>\n      <td>6</td>\n      <td>13</td>\n      <td>32</td>\n      <td>2018-19</td>\n    </tr>\n    <tr>\n      <th>159</th>\n      <td>2013</td>\n      <td>Josh Akognon</td>\n      <td>PG</td>\n      <td>26</td>\n      <td>DAL</td>\n      <td>3</td>\n      <td>0.0</td>\n      <td>9</td>\n      <td>2</td>\n      <td>4</td>\n      <td>...</td>\n      <td>0</td>\n      <td>1</td>\n      <td>1</td>\n      <td>1</td>\n      <td>0</td>\n      <td>0</td>\n      <td>0</td>\n      <td>3</td>\n      <td>5</td>\n      <td>2012-13</td>\n    </tr>\n    <tr>\n      <th>160</th>\n      <td>2019</td>\n      <td>DeVaughn Akoon-Purcell</td>\n      <td>SG</td>\n      <td>25</td>\n      <td>DEN</td>\n      <td>7</td>\n      <td>0.0</td>\n      <td>22</td>\n      <td>3</td>\n      <td>10</td>\n      <td>...</td>\n      <td>1</td>\n      <td>3</td>\n      <td>4</td>\n      <td>6</td>\n      <td>2</td>\n      <td>0</td>\n      <td>2</td>\n      <td>4</td>\n      <td>7</td>\n      <td>2018-19</td>\n    </tr>\n    <tr>\n      <th>168</th>\n      <td>2015</td>\n      <td>Furkan Aldemir</td>\n      <td>PF</td>\n      <td>23</td>\n      <td>PHI</td>\n      <td>41</td>\n      <td>9.0</td>\n      <td>540</td>\n      <td>40</td>\n      <td>78</td>\n      <td>...</td>\n      <td>78</td>\n      <td>98</td>\n      <td>176</td>\n      <td>28</td>\n      <td>17</td>\n      <td>16</td>\n      <td>17</td>\n      <td>96</td>\n      <td>93</td>\n      <td>2014-15</td>\n    </tr>\n    <tr>\n      <th>...</th>\n      <td>...</td>\n      <td>...</td>\n      <td>...</td>\n      <td>...</td>\n      <td>...</td>\n      <td>...</td>\n      <td>...</td>\n      <td>...</td>\n      <td>...</td>\n      <td>...</td>\n      <td>...</td>\n      <td>...</td>\n      <td>...</td>\n      <td>...</td>\n      <td>...</td>\n      <td>...</td>\n      <td>...</td>\n      <td>...</td>\n      <td>...</td>\n      <td>...</td>\n      <td>...</td>\n    </tr>\n    <tr>\n      <th>16570</th>\n      <td>1988</td>\n      <td>Phil Zevenbergen</td>\n      <td>C</td>\n      <td>23</td>\n      <td>SAS</td>\n      <td>8</td>\n      <td>0.0</td>\n      <td>58</td>\n      <td>15</td>\n      <td>27</td>\n      <td>...</td>\n      <td>4</td>\n      <td>9</td>\n      <td>13</td>\n      <td>3</td>\n      <td>3</td>\n      <td>1</td>\n      <td>4</td>\n      <td>12</td>\n      <td>30</td>\n      <td>1987-88</td>\n    </tr>\n    <tr>\n      <th>16576</th>\n      <td>2006</td>\n      <td>Derrick Zimmerman</td>\n      <td>PG</td>\n      <td>24</td>\n      <td>NJN</td>\n      <td>2</td>\n      <td>0.0</td>\n      <td>32</td>\n      <td>2</td>\n      <td>3</td>\n      <td>...</td>\n      <td>1</td>\n      <td>3</td>\n      <td>4</td>\n      <td>7</td>\n      <td>0</td>\n      <td>0</td>\n      <td>4</td>\n      <td>4</td>\n      <td>4</td>\n      <td>2005-06</td>\n    </tr>\n    <tr>\n      <th>16577</th>\n      <td>2017</td>\n      <td>Stephen Zimmerman</td>\n      <td>C</td>\n      <td>20</td>\n      <td>ORL</td>\n      <td>19</td>\n      <td>0.0</td>\n      <td>108</td>\n      <td>10</td>\n      <td>31</td>\n      <td>...</td>\n      <td>11</td>\n      <td>24</td>\n      <td>35</td>\n      <td>4</td>\n      <td>2</td>\n      <td>5</td>\n      <td>3</td>\n      <td>17</td>\n      <td>23</td>\n      <td>2016-17</td>\n    </tr>\n    <tr>\n      <th>16580</th>\n      <td>1983</td>\n      <td>Jim Zoet</td>\n      <td>C</td>\n      <td>29</td>\n      <td>DET</td>\n      <td>7</td>\n      <td>0.0</td>\n      <td>30</td>\n      <td>1</td>\n      <td>5</td>\n      <td>...</td>\n      <td>3</td>\n      <td>5</td>\n      <td>8</td>\n      <td>1</td>\n      <td>1</td>\n      <td>3</td>\n      <td>4</td>\n      <td>9</td>\n      <td>2</td>\n      <td>1982-83</td>\n    </tr>\n    <tr>\n      <th>16587</th>\n      <td>1993</td>\n      <td>Radisav Curcic</td>\n      <td>C</td>\n      <td>27</td>\n      <td>DAL</td>\n      <td>20</td>\n      <td>0.0</td>\n      <td>166</td>\n      <td>16</td>\n      <td>41</td>\n      <td>...</td>\n      <td>17</td>\n      <td>32</td>\n      <td>49</td>\n      <td>12</td>\n      <td>7</td>\n      <td>2</td>\n      <td>8</td>\n      <td>30</td>\n      <td>58</td>\n      <td>1992-93</td>\n    </tr>\n  </tbody>\n</table>\n<p>720 rows × 31 columns</p>\n</div>"
     },
     "metadata": {},
     "execution_count": 56
    }
   ],
   "source": []
  },
  {
   "cell_type": "code",
   "execution_count": null,
   "metadata": {},
   "outputs": [],
   "source": []
  }
 ]
}