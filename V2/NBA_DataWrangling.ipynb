{
 "metadata": {
  "language_info": {
   "codemirror_mode": {
    "name": "ipython",
    "version": 3
   },
   "file_extension": ".py",
   "mimetype": "text/x-python",
   "name": "python",
   "nbconvert_exporter": "python",
   "pygments_lexer": "ipython3",
   "version": "3.8.8-final"
  },
  "orig_nbformat": 2,
  "kernelspec": {
   "name": "python3",
   "display_name": "Python 3.8.8 64-bit",
   "metadata": {
    "interpreter": {
     "hash": "965ba1120b0c101b3f715b6e258a73742ec1cf86f2c8b04492724c87d9f112c3"
    }
   }
  }
 },
 "nbformat": 4,
 "nbformat_minor": 2,
 "cells": [
  {
   "source": [
    "<h1>Cleaning of Data and Exploratory Data Analysis</h1>"
   ],
   "cell_type": "markdown",
   "metadata": {}
  },
  {
   "cell_type": "code",
   "execution_count": 1,
   "metadata": {},
   "outputs": [],
   "source": [
    "import pandas as pd\n",
    "import numpy as np"
   ]
  },
  {
   "cell_type": "code",
   "execution_count": 2,
   "metadata": {},
   "outputs": [],
   "source": [
    "Totals_df = pd.read_csv(r'C:\\Users\\ASUS\\Desktop\\Kaggle\\PlayerData.csv')\n",
    "Advanced_df = pd.read_csv(r'C:\\Users\\ASUS\\Desktop\\Kaggle\\PlayerDataAdvanced.csv')"
   ]
  },
  {
   "cell_type": "code",
   "execution_count": 3,
   "metadata": {},
   "outputs": [
    {
     "output_type": "execute_result",
     "data": {
      "text/plain": [
       "         Rk                Player Pos  Age   Tm   G    GS    MP   FG   FGA  \\\n",
       "0         1  Kareem Abdul-Jabbar*   C   32  LAL  82   NaN  3143  835  1383   \n",
       "1         2         Tom Abernethy  PF   25  GSW  67   NaN  1222  153   318   \n",
       "2         3           Alvan Adams   C   25  PHO  75   NaN  2168  465   875   \n",
       "3         4       Tiny Archibald*  PG   31  BOS  80  80.0  2864  383   794   \n",
       "4         5         Dennis Awtrey   C   31  CHI  26   NaN   560   27    60   \n",
       "...     ...                   ...  ..  ...  ...  ..   ...   ...  ...   ...   \n",
       "375415  528          Tyler Zeller   C   29  MEM   4   1.0    82   16    28   \n",
       "375416  529            Ante Žižić   C   22  CLE  59  25.0  1082  183   331   \n",
       "375417  530           Ivica Zubac   C   21  TOT  59  37.0  1040  212   379   \n",
       "375418  530           Ivica Zubac   C   21  LAL  33  12.0   516  112   193   \n",
       "375419  530           Ivica Zubac   C   21  LAC  26  25.0   524  100   186   \n",
       "\n",
       "        ...    FT%  ORB  DRB  TRB  AST  STL  BLK  TOV   PF   PTS  \n",
       "0       ...  0.765  190  696  886  371   81  280  297  216  2034  \n",
       "1       ...  0.683   62  129  191   87   35   12   39  118   362  \n",
       "2       ...  0.797  158  451  609  322  108   55  218  237  1118  \n",
       "3       ...  0.830   59  138  197  671  106   10  242  218  1131  \n",
       "4       ...  0.640   29   86  115   40   12   15   27   66    86  \n",
       "...     ...    ...  ...  ...  ...  ...  ...  ...  ...  ...   ...  \n",
       "375415  ...  0.778    9    9   18    3    1    3    4   16    46  \n",
       "375416  ...  0.705  108  212  320   53   13   22   61  113   459  \n",
       "375417  ...  0.802  115  247  362   63   14   51   70  137   525  \n",
       "375418  ...  0.864   54  108  162   25    4   27   33   73   281  \n",
       "375419  ...  0.733   61  139  200   38   10   24   37   64   244  \n",
       "\n",
       "[375420 rows x 30 columns]"
      ],
      "text/html": "<div>\n<style scoped>\n    .dataframe tbody tr th:only-of-type {\n        vertical-align: middle;\n    }\n\n    .dataframe tbody tr th {\n        vertical-align: top;\n    }\n\n    .dataframe thead th {\n        text-align: right;\n    }\n</style>\n<table border=\"1\" class=\"dataframe\">\n  <thead>\n    <tr style=\"text-align: right;\">\n      <th></th>\n      <th>Rk</th>\n      <th>Player</th>\n      <th>Pos</th>\n      <th>Age</th>\n      <th>Tm</th>\n      <th>G</th>\n      <th>GS</th>\n      <th>MP</th>\n      <th>FG</th>\n      <th>FGA</th>\n      <th>...</th>\n      <th>FT%</th>\n      <th>ORB</th>\n      <th>DRB</th>\n      <th>TRB</th>\n      <th>AST</th>\n      <th>STL</th>\n      <th>BLK</th>\n      <th>TOV</th>\n      <th>PF</th>\n      <th>PTS</th>\n    </tr>\n  </thead>\n  <tbody>\n    <tr>\n      <th>0</th>\n      <td>1</td>\n      <td>Kareem Abdul-Jabbar*</td>\n      <td>C</td>\n      <td>32</td>\n      <td>LAL</td>\n      <td>82</td>\n      <td>NaN</td>\n      <td>3143</td>\n      <td>835</td>\n      <td>1383</td>\n      <td>...</td>\n      <td>0.765</td>\n      <td>190</td>\n      <td>696</td>\n      <td>886</td>\n      <td>371</td>\n      <td>81</td>\n      <td>280</td>\n      <td>297</td>\n      <td>216</td>\n      <td>2034</td>\n    </tr>\n    <tr>\n      <th>1</th>\n      <td>2</td>\n      <td>Tom Abernethy</td>\n      <td>PF</td>\n      <td>25</td>\n      <td>GSW</td>\n      <td>67</td>\n      <td>NaN</td>\n      <td>1222</td>\n      <td>153</td>\n      <td>318</td>\n      <td>...</td>\n      <td>0.683</td>\n      <td>62</td>\n      <td>129</td>\n      <td>191</td>\n      <td>87</td>\n      <td>35</td>\n      <td>12</td>\n      <td>39</td>\n      <td>118</td>\n      <td>362</td>\n    </tr>\n    <tr>\n      <th>2</th>\n      <td>3</td>\n      <td>Alvan Adams</td>\n      <td>C</td>\n      <td>25</td>\n      <td>PHO</td>\n      <td>75</td>\n      <td>NaN</td>\n      <td>2168</td>\n      <td>465</td>\n      <td>875</td>\n      <td>...</td>\n      <td>0.797</td>\n      <td>158</td>\n      <td>451</td>\n      <td>609</td>\n      <td>322</td>\n      <td>108</td>\n      <td>55</td>\n      <td>218</td>\n      <td>237</td>\n      <td>1118</td>\n    </tr>\n    <tr>\n      <th>3</th>\n      <td>4</td>\n      <td>Tiny Archibald*</td>\n      <td>PG</td>\n      <td>31</td>\n      <td>BOS</td>\n      <td>80</td>\n      <td>80.0</td>\n      <td>2864</td>\n      <td>383</td>\n      <td>794</td>\n      <td>...</td>\n      <td>0.830</td>\n      <td>59</td>\n      <td>138</td>\n      <td>197</td>\n      <td>671</td>\n      <td>106</td>\n      <td>10</td>\n      <td>242</td>\n      <td>218</td>\n      <td>1131</td>\n    </tr>\n    <tr>\n      <th>4</th>\n      <td>5</td>\n      <td>Dennis Awtrey</td>\n      <td>C</td>\n      <td>31</td>\n      <td>CHI</td>\n      <td>26</td>\n      <td>NaN</td>\n      <td>560</td>\n      <td>27</td>\n      <td>60</td>\n      <td>...</td>\n      <td>0.640</td>\n      <td>29</td>\n      <td>86</td>\n      <td>115</td>\n      <td>40</td>\n      <td>12</td>\n      <td>15</td>\n      <td>27</td>\n      <td>66</td>\n      <td>86</td>\n    </tr>\n    <tr>\n      <th>...</th>\n      <td>...</td>\n      <td>...</td>\n      <td>...</td>\n      <td>...</td>\n      <td>...</td>\n      <td>...</td>\n      <td>...</td>\n      <td>...</td>\n      <td>...</td>\n      <td>...</td>\n      <td>...</td>\n      <td>...</td>\n      <td>...</td>\n      <td>...</td>\n      <td>...</td>\n      <td>...</td>\n      <td>...</td>\n      <td>...</td>\n      <td>...</td>\n      <td>...</td>\n      <td>...</td>\n    </tr>\n    <tr>\n      <th>375415</th>\n      <td>528</td>\n      <td>Tyler Zeller</td>\n      <td>C</td>\n      <td>29</td>\n      <td>MEM</td>\n      <td>4</td>\n      <td>1.0</td>\n      <td>82</td>\n      <td>16</td>\n      <td>28</td>\n      <td>...</td>\n      <td>0.778</td>\n      <td>9</td>\n      <td>9</td>\n      <td>18</td>\n      <td>3</td>\n      <td>1</td>\n      <td>3</td>\n      <td>4</td>\n      <td>16</td>\n      <td>46</td>\n    </tr>\n    <tr>\n      <th>375416</th>\n      <td>529</td>\n      <td>Ante Žižić</td>\n      <td>C</td>\n      <td>22</td>\n      <td>CLE</td>\n      <td>59</td>\n      <td>25.0</td>\n      <td>1082</td>\n      <td>183</td>\n      <td>331</td>\n      <td>...</td>\n      <td>0.705</td>\n      <td>108</td>\n      <td>212</td>\n      <td>320</td>\n      <td>53</td>\n      <td>13</td>\n      <td>22</td>\n      <td>61</td>\n      <td>113</td>\n      <td>459</td>\n    </tr>\n    <tr>\n      <th>375417</th>\n      <td>530</td>\n      <td>Ivica Zubac</td>\n      <td>C</td>\n      <td>21</td>\n      <td>TOT</td>\n      <td>59</td>\n      <td>37.0</td>\n      <td>1040</td>\n      <td>212</td>\n      <td>379</td>\n      <td>...</td>\n      <td>0.802</td>\n      <td>115</td>\n      <td>247</td>\n      <td>362</td>\n      <td>63</td>\n      <td>14</td>\n      <td>51</td>\n      <td>70</td>\n      <td>137</td>\n      <td>525</td>\n    </tr>\n    <tr>\n      <th>375418</th>\n      <td>530</td>\n      <td>Ivica Zubac</td>\n      <td>C</td>\n      <td>21</td>\n      <td>LAL</td>\n      <td>33</td>\n      <td>12.0</td>\n      <td>516</td>\n      <td>112</td>\n      <td>193</td>\n      <td>...</td>\n      <td>0.864</td>\n      <td>54</td>\n      <td>108</td>\n      <td>162</td>\n      <td>25</td>\n      <td>4</td>\n      <td>27</td>\n      <td>33</td>\n      <td>73</td>\n      <td>281</td>\n    </tr>\n    <tr>\n      <th>375419</th>\n      <td>530</td>\n      <td>Ivica Zubac</td>\n      <td>C</td>\n      <td>21</td>\n      <td>LAC</td>\n      <td>26</td>\n      <td>25.0</td>\n      <td>524</td>\n      <td>100</td>\n      <td>186</td>\n      <td>...</td>\n      <td>0.733</td>\n      <td>61</td>\n      <td>139</td>\n      <td>200</td>\n      <td>38</td>\n      <td>10</td>\n      <td>24</td>\n      <td>37</td>\n      <td>64</td>\n      <td>244</td>\n    </tr>\n  </tbody>\n</table>\n<p>375420 rows × 30 columns</p>\n</div>"
     },
     "metadata": {},
     "execution_count": 3
    }
   ],
   "source": [
    "Totals_df"
   ]
  },
  {
   "source": [
    "<h3> Sorting columns to be alphabetically in order </h3> "
   ],
   "cell_type": "markdown",
   "metadata": {}
  },
  {
   "cell_type": "code",
   "execution_count": 4,
   "metadata": {},
   "outputs": [],
   "source": [
    "#drop the Rk column\n",
    "Totals_df.drop([\"Rk\"], axis=1, inplace = True)\n",
    "Advanced_df.drop([\"Rk\"], axis=1, inplace = True)"
   ]
  },
  {
   "cell_type": "code",
   "execution_count": 9,
   "metadata": {},
   "outputs": [],
   "source": [
    "#fixing names with * on them\n",
    "def splitnames(x):\n",
    "    try:\n",
    "        return x.split()[1]\n",
    "    except:\n",
    "        return x\n",
    "        \n",
    "Totals_df[\"Surname\"] = Totals_df[\"Player\"].apply(lambda x: splitnames(x))\n",
    "Totals_df[\"FirstName\"] = Totals_df[\"Player\"].apply(lambda x: x.split()[0])\n",
    "Advanced_df[\"Surname\"] = Advanced_df[\"Player\"].apply(lambda x: splitnames(x))\n",
    "Advanced_df[\"FirstName\"] = Advanced_df[\"Player\"].apply(lambda x: x.split()[0])"
   ]
  },
  {
   "cell_type": "code",
   "execution_count": 13,
   "metadata": {},
   "outputs": [
    {
     "output_type": "execute_result",
     "data": {
      "text/plain": [
       "               Player Pos  Age   Tm   G    GS    MP   FG   FGA    FG%  ...  \\\n",
       "114     World B. Free  SG   26  SDC  68   NaN  2585  737  1556  0.474  ...   \n",
       "471     World B. Free  SG   26  SDC  68   NaN  2585  737  1556  0.474  ...   \n",
       "814     World B. Free  SG   27  GSW  65   NaN  2370  516  1157  0.446  ...   \n",
       "1191    World B. Free  SG   26  SDC  68   NaN  2585  737  1556  0.474  ...   \n",
       "1534    World B. Free  SG   27  GSW  65   NaN  2370  516  1157  0.446  ...   \n",
       "...               ...  ..  ...  ...  ..   ...   ...  ...   ...    ...  ...   \n",
       "356696  World B. Free  SG   30  CLE  75  71.0  2375  626  1407  0.445  ...   \n",
       "357046  World B. Free  SG   31  CLE  71  50.0  2249  609  1328  0.459  ...   \n",
       "357413  World B. Free  SG   32  CLE  75  75.0  2535  652  1433  0.455  ...   \n",
       "357798  World B. Free  SG   33  PHI  20   2.0   285   39   123  0.317  ...   \n",
       "358180  World B. Free  SG   34  HOU  58   0.0   682  143   350  0.409  ...   \n",
       "\n",
       "        DRB  TRB  AST  STL  BLK  TOV   PF   PTS  Surname  FirstName  \n",
       "114     109  238  283   81   32  228  195  2055       B.      World  \n",
       "471     109  238  283   81   32  228  195  2055       B.      World  \n",
       "814     111  159  361   85   11  195  183  1565       B.      World  \n",
       "1191    109  238  283   81   32  228  195  2055       B.      World  \n",
       "1534    111  159  361   85   11  195  183  1565       B.      World  \n",
       "...     ...  ...  ...  ...  ...  ...  ...   ...      ...        ...  \n",
       "356696  128  217  226   94    8  154  214  1669       B.      World  \n",
       "357046  150  211  320   75   16  139  163  1597       B.      World  \n",
       "357413  146  218  314   91   19  172  186  1754       B.      World  \n",
       "357798   14   19   30    5    4   18   26   116       B.      World  \n",
       "358180   30   44   60   20    3   49   74   374       B.      World  \n",
       "\n",
       "[398 rows x 31 columns]"
      ],
      "text/html": "<div>\n<style scoped>\n    .dataframe tbody tr th:only-of-type {\n        vertical-align: middle;\n    }\n\n    .dataframe tbody tr th {\n        vertical-align: top;\n    }\n\n    .dataframe thead th {\n        text-align: right;\n    }\n</style>\n<table border=\"1\" class=\"dataframe\">\n  <thead>\n    <tr style=\"text-align: right;\">\n      <th></th>\n      <th>Player</th>\n      <th>Pos</th>\n      <th>Age</th>\n      <th>Tm</th>\n      <th>G</th>\n      <th>GS</th>\n      <th>MP</th>\n      <th>FG</th>\n      <th>FGA</th>\n      <th>FG%</th>\n      <th>...</th>\n      <th>DRB</th>\n      <th>TRB</th>\n      <th>AST</th>\n      <th>STL</th>\n      <th>BLK</th>\n      <th>TOV</th>\n      <th>PF</th>\n      <th>PTS</th>\n      <th>Surname</th>\n      <th>FirstName</th>\n    </tr>\n  </thead>\n  <tbody>\n    <tr>\n      <th>114</th>\n      <td>World B. Free</td>\n      <td>SG</td>\n      <td>26</td>\n      <td>SDC</td>\n      <td>68</td>\n      <td>NaN</td>\n      <td>2585</td>\n      <td>737</td>\n      <td>1556</td>\n      <td>0.474</td>\n      <td>...</td>\n      <td>109</td>\n      <td>238</td>\n      <td>283</td>\n      <td>81</td>\n      <td>32</td>\n      <td>228</td>\n      <td>195</td>\n      <td>2055</td>\n      <td>B.</td>\n      <td>World</td>\n    </tr>\n    <tr>\n      <th>471</th>\n      <td>World B. Free</td>\n      <td>SG</td>\n      <td>26</td>\n      <td>SDC</td>\n      <td>68</td>\n      <td>NaN</td>\n      <td>2585</td>\n      <td>737</td>\n      <td>1556</td>\n      <td>0.474</td>\n      <td>...</td>\n      <td>109</td>\n      <td>238</td>\n      <td>283</td>\n      <td>81</td>\n      <td>32</td>\n      <td>228</td>\n      <td>195</td>\n      <td>2055</td>\n      <td>B.</td>\n      <td>World</td>\n    </tr>\n    <tr>\n      <th>814</th>\n      <td>World B. Free</td>\n      <td>SG</td>\n      <td>27</td>\n      <td>GSW</td>\n      <td>65</td>\n      <td>NaN</td>\n      <td>2370</td>\n      <td>516</td>\n      <td>1157</td>\n      <td>0.446</td>\n      <td>...</td>\n      <td>111</td>\n      <td>159</td>\n      <td>361</td>\n      <td>85</td>\n      <td>11</td>\n      <td>195</td>\n      <td>183</td>\n      <td>1565</td>\n      <td>B.</td>\n      <td>World</td>\n    </tr>\n    <tr>\n      <th>1191</th>\n      <td>World B. Free</td>\n      <td>SG</td>\n      <td>26</td>\n      <td>SDC</td>\n      <td>68</td>\n      <td>NaN</td>\n      <td>2585</td>\n      <td>737</td>\n      <td>1556</td>\n      <td>0.474</td>\n      <td>...</td>\n      <td>109</td>\n      <td>238</td>\n      <td>283</td>\n      <td>81</td>\n      <td>32</td>\n      <td>228</td>\n      <td>195</td>\n      <td>2055</td>\n      <td>B.</td>\n      <td>World</td>\n    </tr>\n    <tr>\n      <th>1534</th>\n      <td>World B. Free</td>\n      <td>SG</td>\n      <td>27</td>\n      <td>GSW</td>\n      <td>65</td>\n      <td>NaN</td>\n      <td>2370</td>\n      <td>516</td>\n      <td>1157</td>\n      <td>0.446</td>\n      <td>...</td>\n      <td>111</td>\n      <td>159</td>\n      <td>361</td>\n      <td>85</td>\n      <td>11</td>\n      <td>195</td>\n      <td>183</td>\n      <td>1565</td>\n      <td>B.</td>\n      <td>World</td>\n    </tr>\n    <tr>\n      <th>...</th>\n      <td>...</td>\n      <td>...</td>\n      <td>...</td>\n      <td>...</td>\n      <td>...</td>\n      <td>...</td>\n      <td>...</td>\n      <td>...</td>\n      <td>...</td>\n      <td>...</td>\n      <td>...</td>\n      <td>...</td>\n      <td>...</td>\n      <td>...</td>\n      <td>...</td>\n      <td>...</td>\n      <td>...</td>\n      <td>...</td>\n      <td>...</td>\n      <td>...</td>\n      <td>...</td>\n    </tr>\n    <tr>\n      <th>356696</th>\n      <td>World B. Free</td>\n      <td>SG</td>\n      <td>30</td>\n      <td>CLE</td>\n      <td>75</td>\n      <td>71.0</td>\n      <td>2375</td>\n      <td>626</td>\n      <td>1407</td>\n      <td>0.445</td>\n      <td>...</td>\n      <td>128</td>\n      <td>217</td>\n      <td>226</td>\n      <td>94</td>\n      <td>8</td>\n      <td>154</td>\n      <td>214</td>\n      <td>1669</td>\n      <td>B.</td>\n      <td>World</td>\n    </tr>\n    <tr>\n      <th>357046</th>\n      <td>World B. Free</td>\n      <td>SG</td>\n      <td>31</td>\n      <td>CLE</td>\n      <td>71</td>\n      <td>50.0</td>\n      <td>2249</td>\n      <td>609</td>\n      <td>1328</td>\n      <td>0.459</td>\n      <td>...</td>\n      <td>150</td>\n      <td>211</td>\n      <td>320</td>\n      <td>75</td>\n      <td>16</td>\n      <td>139</td>\n      <td>163</td>\n      <td>1597</td>\n      <td>B.</td>\n      <td>World</td>\n    </tr>\n    <tr>\n      <th>357413</th>\n      <td>World B. Free</td>\n      <td>SG</td>\n      <td>32</td>\n      <td>CLE</td>\n      <td>75</td>\n      <td>75.0</td>\n      <td>2535</td>\n      <td>652</td>\n      <td>1433</td>\n      <td>0.455</td>\n      <td>...</td>\n      <td>146</td>\n      <td>218</td>\n      <td>314</td>\n      <td>91</td>\n      <td>19</td>\n      <td>172</td>\n      <td>186</td>\n      <td>1754</td>\n      <td>B.</td>\n      <td>World</td>\n    </tr>\n    <tr>\n      <th>357798</th>\n      <td>World B. Free</td>\n      <td>SG</td>\n      <td>33</td>\n      <td>PHI</td>\n      <td>20</td>\n      <td>2.0</td>\n      <td>285</td>\n      <td>39</td>\n      <td>123</td>\n      <td>0.317</td>\n      <td>...</td>\n      <td>14</td>\n      <td>19</td>\n      <td>30</td>\n      <td>5</td>\n      <td>4</td>\n      <td>18</td>\n      <td>26</td>\n      <td>116</td>\n      <td>B.</td>\n      <td>World</td>\n    </tr>\n    <tr>\n      <th>358180</th>\n      <td>World B. Free</td>\n      <td>SG</td>\n      <td>34</td>\n      <td>HOU</td>\n      <td>58</td>\n      <td>0.0</td>\n      <td>682</td>\n      <td>143</td>\n      <td>350</td>\n      <td>0.409</td>\n      <td>...</td>\n      <td>30</td>\n      <td>44</td>\n      <td>60</td>\n      <td>20</td>\n      <td>3</td>\n      <td>49</td>\n      <td>74</td>\n      <td>374</td>\n      <td>B.</td>\n      <td>World</td>\n    </tr>\n  </tbody>\n</table>\n<p>398 rows × 31 columns</p>\n</div>"
     },
     "metadata": {},
     "execution_count": 13
    }
   ],
   "source": [
    "Totals_df.loc[Totals_df[\"Player\"] == \"World B. Free\"]"
   ]
  },
  {
   "cell_type": "code",
   "execution_count": 7,
   "metadata": {},
   "outputs": [
    {
     "output_type": "execute_result",
     "data": {
      "text/plain": [
       "['John', 'Brown']"
      ]
     },
     "metadata": {},
     "execution_count": 7
    }
   ],
   "source": []
  },
  {
   "cell_type": "code",
   "execution_count": null,
   "metadata": {},
   "outputs": [],
   "source": []
  }
 ]
}