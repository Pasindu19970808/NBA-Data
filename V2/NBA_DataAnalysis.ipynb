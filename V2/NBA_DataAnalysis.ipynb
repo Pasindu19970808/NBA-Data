{
 "metadata": {
  "language_info": {
   "codemirror_mode": {
    "name": "ipython",
    "version": 3
   },
   "file_extension": ".py",
   "mimetype": "text/x-python",
   "name": "python",
   "nbconvert_exporter": "python",
   "pygments_lexer": "ipython3",
   "version": "3.8.8-final"
  },
  "orig_nbformat": 2,
  "kernelspec": {
   "name": "python3",
   "display_name": "Python 3.8.8 64-bit",
   "metadata": {
    "interpreter": {
     "hash": "965ba1120b0c101b3f715b6e258a73742ec1cf86f2c8b04492724c87d9f112c3"
    }
   }
  }
 },
 "nbformat": 4,
 "nbformat_minor": 2,
 "cells": [
  {
   "source": [
    "<h1> NBA Player Improvement Predictor </h1> \n",
    "\n",
    "This project intends to build a prediction model to predict the year to year improvement of players. It will use the change in Win Share statistic as the target to be predicted. "
   ],
   "cell_type": "markdown",
   "metadata": {}
  },
  {
   "cell_type": "code",
   "execution_count": 1,
   "metadata": {},
   "outputs": [],
   "source": [
    "import pandas as pd\n",
    "import numpy as np\n",
    "import seaborn as sns\n",
    "import matplotlib as mpl\n",
    "import matplotlib.pyplot as plt"
   ]
  },
  {
   "cell_type": "code",
   "execution_count": 2,
   "metadata": {},
   "outputs": [],
   "source": [
    "Complete_df = pd.read_csv(r'C:\\Users\\ASUS\\Desktop\\Kaggle\\Cleandf.csv')"
   ]
  },
  {
   "cell_type": "code",
   "execution_count": 7,
   "metadata": {},
   "outputs": [
    {
     "output_type": "execute_result",
     "data": {
      "text/plain": [
       "   Year          Player Pos  Age   Tm   G    GS    MP   FG  FGA  ...  TOV%  \\\n",
       "0  1991  Alaa Abdelnaby  PF   22  POR  43   0.0   290   55  116  ...  14.0   \n",
       "1  1992  Alaa Abdelnaby  PF   23  POR  71   1.0   934  178  361  ...  14.0   \n",
       "2  1993  Alaa Abdelnaby  PF   24  TOT  75  52.0  1311  245  473  ...  15.6   \n",
       "3  1994  Alaa Abdelnaby  PF   25  BOS  13   0.0   159   24   55  ...  20.5   \n",
       "4  1995  Alaa Abdelnaby  PF   26  TOT  54   0.0   506  118  231  ...  15.4   \n",
       "\n",
       "   USG%  OWS  DWS  WS/48   OBPM  DBPM  BPM  VORP   WS  \n",
       "0  22.1  0.0  0.5    0.5  0.079  -3.4 -1.2  -4.6 -0.2  \n",
       "1  20.6  0.6  1.5    2.1  0.110  -2.3 -0.4  -2.6 -0.1  \n",
       "2  20.5  0.7  1.3    2.0  0.074  -2.4 -1.5  -3.9 -0.6  \n",
       "3  22.6 -0.2  0.1   -0.1 -0.032  -5.3 -2.2  -7.4 -0.2  \n",
       "4  25.6 -0.4  0.7    0.3  0.027  -4.4  0.1  -4.3 -0.3  \n",
       "\n",
       "[5 rows x 51 columns]"
      ],
      "text/html": "<div>\n<style scoped>\n    .dataframe tbody tr th:only-of-type {\n        vertical-align: middle;\n    }\n\n    .dataframe tbody tr th {\n        vertical-align: top;\n    }\n\n    .dataframe thead th {\n        text-align: right;\n    }\n</style>\n<table border=\"1\" class=\"dataframe\">\n  <thead>\n    <tr style=\"text-align: right;\">\n      <th></th>\n      <th>Year</th>\n      <th>Player</th>\n      <th>Pos</th>\n      <th>Age</th>\n      <th>Tm</th>\n      <th>G</th>\n      <th>GS</th>\n      <th>MP</th>\n      <th>FG</th>\n      <th>FGA</th>\n      <th>...</th>\n      <th>TOV%</th>\n      <th>USG%</th>\n      <th>OWS</th>\n      <th>DWS</th>\n      <th>WS/48</th>\n      <th>OBPM</th>\n      <th>DBPM</th>\n      <th>BPM</th>\n      <th>VORP</th>\n      <th>WS</th>\n    </tr>\n  </thead>\n  <tbody>\n    <tr>\n      <th>0</th>\n      <td>1991</td>\n      <td>Alaa Abdelnaby</td>\n      <td>PF</td>\n      <td>22</td>\n      <td>POR</td>\n      <td>43</td>\n      <td>0.0</td>\n      <td>290</td>\n      <td>55</td>\n      <td>116</td>\n      <td>...</td>\n      <td>14.0</td>\n      <td>22.1</td>\n      <td>0.0</td>\n      <td>0.5</td>\n      <td>0.5</td>\n      <td>0.079</td>\n      <td>-3.4</td>\n      <td>-1.2</td>\n      <td>-4.6</td>\n      <td>-0.2</td>\n    </tr>\n    <tr>\n      <th>1</th>\n      <td>1992</td>\n      <td>Alaa Abdelnaby</td>\n      <td>PF</td>\n      <td>23</td>\n      <td>POR</td>\n      <td>71</td>\n      <td>1.0</td>\n      <td>934</td>\n      <td>178</td>\n      <td>361</td>\n      <td>...</td>\n      <td>14.0</td>\n      <td>20.6</td>\n      <td>0.6</td>\n      <td>1.5</td>\n      <td>2.1</td>\n      <td>0.110</td>\n      <td>-2.3</td>\n      <td>-0.4</td>\n      <td>-2.6</td>\n      <td>-0.1</td>\n    </tr>\n    <tr>\n      <th>2</th>\n      <td>1993</td>\n      <td>Alaa Abdelnaby</td>\n      <td>PF</td>\n      <td>24</td>\n      <td>TOT</td>\n      <td>75</td>\n      <td>52.0</td>\n      <td>1311</td>\n      <td>245</td>\n      <td>473</td>\n      <td>...</td>\n      <td>15.6</td>\n      <td>20.5</td>\n      <td>0.7</td>\n      <td>1.3</td>\n      <td>2.0</td>\n      <td>0.074</td>\n      <td>-2.4</td>\n      <td>-1.5</td>\n      <td>-3.9</td>\n      <td>-0.6</td>\n    </tr>\n    <tr>\n      <th>3</th>\n      <td>1994</td>\n      <td>Alaa Abdelnaby</td>\n      <td>PF</td>\n      <td>25</td>\n      <td>BOS</td>\n      <td>13</td>\n      <td>0.0</td>\n      <td>159</td>\n      <td>24</td>\n      <td>55</td>\n      <td>...</td>\n      <td>20.5</td>\n      <td>22.6</td>\n      <td>-0.2</td>\n      <td>0.1</td>\n      <td>-0.1</td>\n      <td>-0.032</td>\n      <td>-5.3</td>\n      <td>-2.2</td>\n      <td>-7.4</td>\n      <td>-0.2</td>\n    </tr>\n    <tr>\n      <th>4</th>\n      <td>1995</td>\n      <td>Alaa Abdelnaby</td>\n      <td>PF</td>\n      <td>26</td>\n      <td>TOT</td>\n      <td>54</td>\n      <td>0.0</td>\n      <td>506</td>\n      <td>118</td>\n      <td>231</td>\n      <td>...</td>\n      <td>15.4</td>\n      <td>25.6</td>\n      <td>-0.4</td>\n      <td>0.7</td>\n      <td>0.3</td>\n      <td>0.027</td>\n      <td>-4.4</td>\n      <td>0.1</td>\n      <td>-4.3</td>\n      <td>-0.3</td>\n    </tr>\n  </tbody>\n</table>\n<p>5 rows × 51 columns</p>\n</div>"
     },
     "metadata": {},
     "execution_count": 7
    }
   ],
   "source": [
    "features = Complete_df.columns.tolist()\n",
    "features.remove('WS')\n",
    "features.extend(['WS'])\n",
    "Complete_df.columns = features\n",
    "Complete_df.head(5)"
   ]
  },
  {
   "cell_type": "code",
   "execution_count": 16,
   "metadata": {},
   "outputs": [],
   "source": [
    "#creating playerIDs\n",
    "unique_names = list(set(Complete_df[\"Player\"]))\n",
    "unique_name_grouping = Complete_df.groupby(['Player'])\n",
    "#keys of unique_name_grouping\n",
    "key_list_unique_names = list()\n",
    "for key,group in unique_name_grouping:\n",
    "    key_list_unique_names.append(key)\n"
   ]
  },
  {
   "cell_type": "code",
   "execution_count": 17,
   "metadata": {},
   "outputs": [
    {
     "output_type": "execute_result",
     "data": {
      "text/plain": [
       "0        0\n",
       "1        1\n",
       "2        2\n",
       "3        3\n",
       "4        4\n",
       "        ..\n",
       "16606    4\n",
       "16607    5\n",
       "16608    6\n",
       "16609    0\n",
       "16610    1\n",
       "Length: 16611, dtype: int64"
      ]
     },
     "metadata": {},
     "execution_count": 17
    }
   ],
   "source": [
    "unique_name_grouping.cumcount()"
   ]
  },
  {
   "cell_type": "code",
   "execution_count": 24,
   "metadata": {},
   "outputs": [
    {
     "output_type": "error",
     "ename": "IndexError",
     "evalue": "list index out of range",
     "traceback": [
      "\u001b[1;31m---------------------------------------------------------------------------\u001b[0m",
      "\u001b[1;31mIndexError\u001b[0m                                Traceback (most recent call last)",
      "\u001b[1;32m<ipython-input-24-5f72f811f623>\u001b[0m in \u001b[0;36m<module>\u001b[1;34m\u001b[0m\n\u001b[1;32m----> 1\u001b[1;33m \u001b[0munique_name_grouping\u001b[0m\u001b[1;33m.\u001b[0m\u001b[0mget_group\u001b[0m\u001b[1;33m(\u001b[0m\u001b[0mkey_list_unique_names\u001b[0m\u001b[1;33m[\u001b[0m\u001b[1;36m16608\u001b[0m\u001b[1;33m]\u001b[0m\u001b[1;33m)\u001b[0m\u001b[1;33m\u001b[0m\u001b[1;33m\u001b[0m\u001b[0m\n\u001b[0m",
      "\u001b[1;31mIndexError\u001b[0m: list index out of range"
     ]
    }
   ],
   "source": [
    "unique_name_grouping.get_group(key_list_unique_names[16608])"
   ]
  },
  {
   "cell_type": "code",
   "execution_count": 25,
   "metadata": {},
   "outputs": [
    {
     "output_type": "execute_result",
     "data": {
      "text/plain": [
       "(16611, 51)"
      ]
     },
     "metadata": {},
     "execution_count": 25
    }
   ],
   "source": [
    "Complete_df.shape"
   ]
  },
  {
   "cell_type": "code",
   "execution_count": 51,
   "metadata": {},
   "outputs": [
    {
     "output_type": "execute_result",
     "data": {
      "text/plain": [
       "'irvinky01'"
      ]
     },
     "metadata": {},
     "execution_count": 51
    }
   ],
   "source": [
    "import re\n",
    "url = 'https://www.basketball-reference.com/players/i/irvinky01.html'\n",
    "re.findall('[a-zA-Z0-9]*',re.findall(r'[a-zA-z0-9]*\\.html',url)[0])[0]\n"
   ]
  },
  {
   "cell_type": "code",
   "execution_count": 48,
   "metadata": {},
   "outputs": [
    {
     "output_type": "execute_result",
     "data": {
      "text/plain": [
       "['johnsch04', '', 'html', '']"
      ]
     },
     "metadata": {},
     "execution_count": 48
    }
   ],
   "source": [
    "re.findall('[a-zA-Z0-9]*',re.findall('[a-zA-z0-9]*\\.html',url)[0])[0]"
   ]
  },
  {
   "cell_type": "code",
   "execution_count": 35,
   "metadata": {},
   "outputs": [
    {
     "output_type": "execute_result",
     "data": {
      "text/plain": [
       "True"
      ]
     },
     "metadata": {},
     "execution_count": 35
    }
   ],
   "source": [
    "res == None"
   ]
  },
  {
   "cell_type": "code",
   "execution_count": 43,
   "metadata": {},
   "outputs": [
    {
     "output_type": "execute_result",
     "data": {
      "text/plain": [
       "['', 'johnsch04', '', 'html', '']"
      ]
     },
     "metadata": {},
     "execution_count": 43
    }
   ],
   "source": []
  },
  {
   "cell_type": "code",
   "execution_count": 41,
   "metadata": {},
   "outputs": [
    {
     "output_type": "execute_result",
     "data": {
      "text/plain": [
       "['/johnsch04.html']"
      ]
     },
     "metadata": {},
     "execution_count": 41
    }
   ],
   "source": [
    "re.findall(pattern,url)"
   ]
  },
  {
   "cell_type": "code",
   "execution_count": null,
   "metadata": {},
   "outputs": [],
   "source": []
  }
 ]
}