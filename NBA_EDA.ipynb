{
 "metadata": {
  "language_info": {
   "codemirror_mode": {
    "name": "ipython",
    "version": 3
   },
   "file_extension": ".py",
   "mimetype": "text/x-python",
   "name": "python",
   "nbconvert_exporter": "python",
   "pygments_lexer": "ipython3",
   "version": "3.7.3-final"
  },
  "orig_nbformat": 2,
  "kernelspec": {
   "name": "python3",
   "display_name": "Python 3",
   "language": "python"
  }
 },
 "nbformat": 4,
 "nbformat_minor": 2,
 "cells": [
  {
   "cell_type": "code",
   "execution_count": 1,
   "metadata": {},
   "outputs": [],
   "source": [
    "import pandas as pd\n",
    "import numpy as np\n",
    "import seaborn as sns\n",
    "import matplotlib as mpl\n",
    "import matplotlib.pyplot as plt"
   ]
  },
  {
   "cell_type": "code",
   "execution_count": 2,
   "metadata": {},
   "outputs": [
    {
     "output_type": "execute_result",
     "data": {
      "text/plain": [
       "             Name   Season  Age   Tm   Lg Pos   G    GS    MP   FG  ...  ORB  \\\n",
       "0  Alaa Abdelnaby  1990-91   22  POR  NBA  PF  43   0.0   6.7  1.3  ...  0.6   \n",
       "1  Alaa Abdelnaby  1991-92   23  POR  NBA  PF  71   1.0  13.2  2.5  ...  1.1   \n",
       "2  Alaa Abdelnaby  1992-93   24  TOT  NBA  PF  75  52.0  17.5  3.3  ...  1.7   \n",
       "3  Alaa Abdelnaby  1992-93   24  MIL  NBA  PF  12   0.0  13.3  2.2  ...  1.0   \n",
       "4  Alaa Abdelnaby  1992-93   24  BOS  NBA  PF  63  52.0  18.3  3.5  ...  1.8   \n",
       "\n",
       "   DRB  TRB  AST  STL  BLK  TOV   PF  PTS  Start Year  \n",
       "0  1.4  2.1  0.3  0.1  0.3  0.5  0.9  3.1        1990  \n",
       "1  2.5  3.7  0.4  0.4  0.2  0.9  1.9  6.1        1990  \n",
       "2  2.8  4.5  0.4  0.3  0.3  1.3  2.5  7.7        1990  \n",
       "3  2.1  3.1  0.8  0.5  0.3  1.1  2.0  5.3        1990  \n",
       "4  3.0  4.8  0.3  0.3  0.3  1.3  2.6  8.2        1990  \n",
       "\n",
       "[5 rows x 32 columns]"
      ],
      "text/html": "<div>\n<style scoped>\n    .dataframe tbody tr th:only-of-type {\n        vertical-align: middle;\n    }\n\n    .dataframe tbody tr th {\n        vertical-align: top;\n    }\n\n    .dataframe thead th {\n        text-align: right;\n    }\n</style>\n<table border=\"1\" class=\"dataframe\">\n  <thead>\n    <tr style=\"text-align: right;\">\n      <th></th>\n      <th>Name</th>\n      <th>Season</th>\n      <th>Age</th>\n      <th>Tm</th>\n      <th>Lg</th>\n      <th>Pos</th>\n      <th>G</th>\n      <th>GS</th>\n      <th>MP</th>\n      <th>FG</th>\n      <th>...</th>\n      <th>ORB</th>\n      <th>DRB</th>\n      <th>TRB</th>\n      <th>AST</th>\n      <th>STL</th>\n      <th>BLK</th>\n      <th>TOV</th>\n      <th>PF</th>\n      <th>PTS</th>\n      <th>Start Year</th>\n    </tr>\n  </thead>\n  <tbody>\n    <tr>\n      <th>0</th>\n      <td>Alaa Abdelnaby</td>\n      <td>1990-91</td>\n      <td>22</td>\n      <td>POR</td>\n      <td>NBA</td>\n      <td>PF</td>\n      <td>43</td>\n      <td>0.0</td>\n      <td>6.7</td>\n      <td>1.3</td>\n      <td>...</td>\n      <td>0.6</td>\n      <td>1.4</td>\n      <td>2.1</td>\n      <td>0.3</td>\n      <td>0.1</td>\n      <td>0.3</td>\n      <td>0.5</td>\n      <td>0.9</td>\n      <td>3.1</td>\n      <td>1990</td>\n    </tr>\n    <tr>\n      <th>1</th>\n      <td>Alaa Abdelnaby</td>\n      <td>1991-92</td>\n      <td>23</td>\n      <td>POR</td>\n      <td>NBA</td>\n      <td>PF</td>\n      <td>71</td>\n      <td>1.0</td>\n      <td>13.2</td>\n      <td>2.5</td>\n      <td>...</td>\n      <td>1.1</td>\n      <td>2.5</td>\n      <td>3.7</td>\n      <td>0.4</td>\n      <td>0.4</td>\n      <td>0.2</td>\n      <td>0.9</td>\n      <td>1.9</td>\n      <td>6.1</td>\n      <td>1990</td>\n    </tr>\n    <tr>\n      <th>2</th>\n      <td>Alaa Abdelnaby</td>\n      <td>1992-93</td>\n      <td>24</td>\n      <td>TOT</td>\n      <td>NBA</td>\n      <td>PF</td>\n      <td>75</td>\n      <td>52.0</td>\n      <td>17.5</td>\n      <td>3.3</td>\n      <td>...</td>\n      <td>1.7</td>\n      <td>2.8</td>\n      <td>4.5</td>\n      <td>0.4</td>\n      <td>0.3</td>\n      <td>0.3</td>\n      <td>1.3</td>\n      <td>2.5</td>\n      <td>7.7</td>\n      <td>1990</td>\n    </tr>\n    <tr>\n      <th>3</th>\n      <td>Alaa Abdelnaby</td>\n      <td>1992-93</td>\n      <td>24</td>\n      <td>MIL</td>\n      <td>NBA</td>\n      <td>PF</td>\n      <td>12</td>\n      <td>0.0</td>\n      <td>13.3</td>\n      <td>2.2</td>\n      <td>...</td>\n      <td>1.0</td>\n      <td>2.1</td>\n      <td>3.1</td>\n      <td>0.8</td>\n      <td>0.5</td>\n      <td>0.3</td>\n      <td>1.1</td>\n      <td>2.0</td>\n      <td>5.3</td>\n      <td>1990</td>\n    </tr>\n    <tr>\n      <th>4</th>\n      <td>Alaa Abdelnaby</td>\n      <td>1992-93</td>\n      <td>24</td>\n      <td>BOS</td>\n      <td>NBA</td>\n      <td>PF</td>\n      <td>63</td>\n      <td>52.0</td>\n      <td>18.3</td>\n      <td>3.5</td>\n      <td>...</td>\n      <td>1.8</td>\n      <td>3.0</td>\n      <td>4.8</td>\n      <td>0.3</td>\n      <td>0.3</td>\n      <td>0.3</td>\n      <td>1.3</td>\n      <td>2.6</td>\n      <td>8.2</td>\n      <td>1990</td>\n    </tr>\n  </tbody>\n</table>\n<p>5 rows × 32 columns</p>\n</div>"
     },
     "metadata": {},
     "execution_count": 2
    }
   ],
   "source": [
    "nba_data_raw = pd.read_csv(r'C:\\\\Users\\\\ASUS\\\\Desktop\\\\Kaggle\\\\NBA Data\\\\NBAData.csv')\n",
    "nba_data_raw.head()"
   ]
  },
  {
   "cell_type": "code",
   "execution_count": 16,
   "metadata": {},
   "outputs": [
    {
     "output_type": "execute_result",
     "data": {
      "text/plain": [
       "2866"
      ]
     },
     "metadata": {},
     "execution_count": 16
    }
   ],
   "source": [
    "'''\n",
    "prior_name = \"\"\n",
    "nba_data_raw[\"Start Year\"] = np.nan\n",
    "start_year = int(nba_data_raw.iloc[0,1].split('-')[0])\n",
    "nba_data_raw[\"Start Year\"].iloc[0] = start_year\n",
    "for i in range(1,nba_data_raw.shape[0]):\n",
    "    prior_name = nba_data_raw.iloc[i-1,0]\n",
    "    current_name = nba_data_raw.iloc[i,0]\n",
    "    if current_name != prior_name:\n",
    "        start_year = int(nba_data_raw.iloc[i,1].split('-')[0])\n",
    "        nba_data_raw[\"Start Year\"].iloc[i] = start_year\n",
    "    else:\n",
    "        nba_data_raw[\"Start Year\"].iloc[i] = start_year\n",
    "\n",
    "#The above code is used to find each year a player started\n",
    "'''"
   ]
  },
  {
   "cell_type": "code",
   "execution_count": 3,
   "metadata": {},
   "outputs": [
    {
     "output_type": "execute_result",
     "data": {
      "text/plain": [
       "                      Name   Season  Age   Tm   Lg Pos   G    GS    MP   FG  \\\n",
       "2           Alaa Abdelnaby  1992-93   24  TOT  NBA  PF  75  52.0  17.5  3.3   \n",
       "6           Alaa Abdelnaby  1994-95   26  TOT  NBA  PF  54   0.0   9.4  2.2   \n",
       "40       Tariq Abdul-Wahad  1999-00   25  TOT  NBA  SG  61  56.0  25.9  4.5   \n",
       "44       Tariq Abdul-Wahad  2001-02   27  TOT  NBA  SG  24  12.0  18.4  2.3   \n",
       "55     Shareef Abdur-Rahim  2003-04   27  TOT  NBA  PF  85  56.0  31.6  5.9   \n",
       "66           Tom Abernethy  1980-81   26  TOT  NBA  SF  39   NaN   7.6  0.6   \n",
       "74              Alex Acker  2008-09   26  TOT  NBA  SG  25   0.0   8.0  1.2   \n",
       "82              Mark Acres  1992-93   30  TOT  NBA   C  18   7.0  14.9  1.4   \n",
       "86              Quincy Acy  2013-14   23  TOT  NBA  SF  63   0.0  13.4  1.0   \n",
       "91              Quincy Acy  2016-17   26  TOT  NBA  PF  38   1.0  14.7  1.8   \n",
       "148            Jeff Adrien  2013-14   27  TOT  NBA  PF  53  12.0  18.1  2.7   \n",
       "159          Arron Afflalo  2014-15   29  TOT  NBA  SG  78  72.0  32.1  4.8   \n",
       "166           Maurice Ager  2007-08   23  TOT  NBA  SG  26   3.0   6.3  0.8   \n",
       "178           Mark Aguirre  1988-89   29  TOT  NBA  SF  80  76.0  32.5  7.3   \n",
       "196            Danny Ainge  1988-89   29  TOT  NBA  PG  73  54.0  32.6  6.6   \n",
       "207          Alexis Ajinça  2010-11   22  TOT  NBA   C  34   2.0  10.0  1.7   \n",
       "226           Cole Aldrich  2012-13   24  TOT  NBA   C  45   0.0   8.6  1.0   \n",
       "253         Cory Alexander  1997-98   24  TOT  NBA  PG  60  22.0  21.6  2.9   \n",
       "260     Courtney Alexander  2000-01   23  TOT  NBA  PG  65  24.0  21.3  3.7   \n",
       "265         Gary Alexander  1993-94   24  TOT  NBA  PF  11   0.0   5.0  0.7   \n",
       "280           Steve Alford  1988-89   24  TOT  NBA  PG  66   3.0  13.7  2.2   \n",
       "292          Jarrett Allen  2020-21   22  TOT  NBA   C  14   5.0  26.4  4.1   \n",
       "296           Jerome Allen  1996-97   24  TOT  NBA  SG  76   1.0  12.4  1.0   \n",
       "304            Lavoy Allen  2013-14   24  TOT  NBA  PF  65   2.0  16.5  2.1   \n",
       "313            Malik Allen  2004-05   26  TOT  NBA  PF  36   1.0  14.4  2.3   \n",
       "318            Malik Allen  2007-08   29  TOT  NBA  PF  73  16.0  15.0  2.2   \n",
       "332              Ray Allen  2002-03   27  TOT  NBA  SG  76  75.0  37.9  7.9   \n",
       "377           Rafer Alston  2008-09   32  TOT  NBA  PG  77  76.0  31.8  4.1   \n",
       "380           Rafer Alston  2009-10   33  TOT  NBA  PG  52  38.0  27.3  3.0   \n",
       "401           Lou Amundson  2006-07   24  TOT  NBA  PF  11   0.0   8.1  0.5   \n",
       "...                    ...      ...  ...  ...  ...  ..  ..   ...   ...  ...   \n",
       "21986             Joe Wolf  1995-96   31  TOT  NBA  PF  64   8.0  16.6  2.1   \n",
       "21995         Nate Wolters  2014-15   23  TOT  NBA  PG  21   0.0  11.8  1.0   \n",
       "21999              Al Wood  1981-82   23  TOT  NBA  SG  48   5.0  19.4  3.7   \n",
       "22009       Christian Wood  2018-19   23  TOT  NBA  PF  21   2.0  12.0  2.9   \n",
       "22019           David Wood  1995-96   31  TOT  NBA  PF  62   0.0  12.5  1.2   \n",
       "22026            Leon Wood  1985-86   23  TOT  NBA  PG  68   1.0  17.6  2.7   \n",
       "22030            Leon Wood  1987-88   25  TOT  NBA  PG  52   8.0  17.5  2.6   \n",
       "22051         Mike Woodson  1981-82   23  TOT  NBA  SG  83  74.0  28.1  6.5   \n",
       "22062         Mike Woodson  1990-91   32  TOT  NBA  SG  15   3.0  11.4  1.7   \n",
       "22076    Orlando Woolridge  1992-93   33  TOT  NBA  SF  58  47.0  26.8  5.0   \n",
       "22087     Haywoode Workman  1999-00   34  TOT  NBA  PG  36   2.0   9.7  0.9   \n",
       "22106       Antoine Wright  2007-08   23  TOT  NBA  SG  56  10.0  22.0  2.4   \n",
       "22118       Brandan Wright  2010-11   23  TOT  NBA  PF  37   2.0  10.2  1.6   \n",
       "22124       Brandan Wright  2014-15   27  TOT  NBA  PF  75   7.0  19.3  3.1   \n",
       "22130       Brandan Wright  2017-18   30  TOT  NBA  PF  28   1.0  13.6  2.1   \n",
       "22139         Delon Wright  2018-19   26  TOT  NBA  PG  75  13.0  22.7  3.2   \n",
       "22155        Howard Wright  1990-91   23  TOT  NBA  PF  15   0.0  10.9  1.3   \n",
       "22181      Lorenzen Wright  2007-08   32  TOT  NBA   C  18   1.0   8.9  0.3   \n",
       "22187       Sharone Wright  1995-96   23  TOT  NBA   C  57  38.0  25.2  4.4   \n",
       "22209          Danny Young  1991-92   29  TOT  NBA  PG  62   5.0  16.5  1.6   \n",
       "22229           Nick Young  2011-12   26  TOT  NBA  SG  62  35.0  27.9  5.1   \n",
       "22239          Perry Young  1986-87   23  TOT  NBA  SG   9   0.0   8.0  0.7   \n",
       "22244            Sam Young  2011-12   26  TOT  NBA  SF  35   2.0  10.7  1.3   \n",
       "22255       Thaddeus Young  2014-15   26  TOT  NBA  PF  76  68.0  32.0  5.9   \n",
       "22283         Tyler Zeller  2017-18   28  TOT  NBA   C  66  34.0  16.8  2.8   \n",
       "22286         Tyler Zeller  2018-19   29  TOT  NBA   C   6   1.0  15.5  2.7   \n",
       "22294          Wang Zhizhi  2003-04   26  TOT  NBA   C  16   0.0   7.1  1.1   \n",
       "22299         George Zídek  1996-97   23  TOT  NBA   C  52   2.0   7.2  0.9   \n",
       "22302         George Zídek  1997-98   24  TOT  NBA   C  12   0.0   5.3  0.6   \n",
       "22315          Ivica Zubac  2018-19   21  TOT  NBA   C  59  37.0  17.6  3.6   \n",
       "\n",
       "       ...  ORB  DRB   TRB  AST  STL  BLK  TOV   PF   PTS  Start Year  \n",
       "2      ...  1.7  2.8   4.5  0.4  0.3  0.3  1.3  2.5   7.7        1990  \n",
       "6      ...  0.7  1.4   2.1  0.2  0.3  0.2  0.8  1.9   4.7        1990  \n",
       "40     ...  1.7  3.1   4.8  1.6  1.0  0.5  1.7  2.4  11.4        1997  \n",
       "44     ...  1.7  1.8   3.5  1.0  0.8  0.4  1.1  2.3   5.6        1997  \n",
       "55     ...  2.2  5.3   7.5  2.0  0.8  0.4  2.2  2.6  16.3        1996  \n",
       "66     ...  0.5  0.7   1.2  0.5  0.2  0.1  0.2  0.9   1.6        1976  \n",
       "74     ...  0.3  0.6   1.0  0.5  0.2  0.2  0.3  0.4   2.9        2005  \n",
       "82     ...  1.4  2.3   3.7  0.3  0.2  0.3  0.7  1.9   3.6        1987  \n",
       "86     ...  1.1  2.3   3.4  0.4  0.4  0.4  0.5  1.9   2.7        2012  \n",
       "91     ...  0.5  2.5   3.0  0.5  0.4  0.4  0.6  1.8   5.8        2012  \n",
       "148    ...  1.9  3.8   5.8  0.7  0.5  0.7  0.7  2.0   6.8        2010  \n",
       "159    ...  0.3  2.8   3.2  1.7  0.5  0.1  1.5  2.1  13.3        2007  \n",
       "166    ...  0.2  0.3   0.5  0.3  0.0  0.0  0.2  0.7   2.0        2006  \n",
       "178    ...  1.8  3.0   4.8  3.5  0.6  0.5  2.6  2.9  18.9        1981  \n",
       "196    ...  1.0  2.5   3.5  5.5  1.3  0.1  2.0  2.5  17.5        1981  \n",
       "207    ...  0.5  1.8   2.3  0.3  0.3  0.6  0.5  2.1   4.2        2008  \n",
       "226    ...  0.7  2.0   2.7  0.2  0.1  0.5  0.5  1.3   2.2        2010  \n",
       "253    ...  0.3  2.2   2.4  3.5  1.2  0.2  1.9  1.6   8.1        1995  \n",
       "260    ...  0.6  1.6   2.2  1.0  0.7  0.1  1.2  2.1   9.5        2000  \n",
       "265    ...  0.6  0.7   1.4  0.2  0.3  0.0  0.7  0.9   1.7        1993  \n",
       "280    ...  0.2  0.9   1.1  1.4  0.7  0.0  0.7  0.9   5.5        1987  \n",
       "292    ...  3.1  7.1  10.1  1.6  0.6  1.6  1.8  1.6  11.8        2017  \n",
       "296    ...  0.3  1.0   1.3  2.0  0.4  0.1  0.9  1.1   3.0        1995  \n",
       "304    ...  1.8  3.0   4.8  1.1  0.4  0.5  0.7  1.9   4.7        2011  \n",
       "313    ...  1.1  1.6   2.8  0.5  0.3  0.6  0.5  1.5   5.4        2001  \n",
       "318    ...  0.9  1.8   2.7  0.6  0.3  0.4  0.6  2.0   4.6        2001  \n",
       "332    ...  1.2  3.8   5.0  4.4  1.4  0.2  2.6  2.9  22.5        1996  \n",
       "377    ...  0.4  2.5   2.9  5.3  1.4  0.1  1.8  1.8  11.7        1999  \n",
       "380    ...  0.3  2.2   2.5  3.4  1.0  0.2  1.8  2.0   8.2        1999  \n",
       "401    ...  1.2  1.4   2.5  0.1  0.1  0.7  0.5  1.4   1.5        2006  \n",
       "...    ...  ...  ...   ...  ...  ...  ...  ...  ...   ...         ...  \n",
       "21986  ...  0.8  2.2   2.9  1.0  0.2  0.1  0.7  2.5   4.5        1987  \n",
       "21995  ...  0.4  1.2   1.6  1.0  0.4  0.1  0.6  0.9   2.0        2013  \n",
       "21999  ...  1.1  1.7   2.8  1.2  0.6  0.2  1.5  2.3   9.5        1981  \n",
       "22009  ...  0.8  3.1   4.0  0.4  0.3  0.5  0.8  0.8   8.2        2015  \n",
       "22019  ...  0.8  1.7   2.5  0.5  0.3  0.2  0.4  2.4   3.4        1988  \n",
       "22026  ...  0.4  1.0   1.3  2.7  0.5  0.0  1.1  1.0   7.8        1984  \n",
       "22030  ...  0.3  0.8   1.1  3.3  0.5  0.0  0.8  1.0   7.7        1984  \n",
       "22051  ...  1.2  1.7   3.0  2.7  1.7  0.4  1.8  2.7  15.7        1980  \n",
       "22062  ...  0.2  0.7   0.9  1.0  0.3  0.3  0.8  1.2   4.3        1980  \n",
       "22076  ...  1.5  1.7   3.2  2.0  0.5  0.5  1.4  2.1  12.0        1981  \n",
       "22087  ...  0.0  0.7   0.7  1.7  0.6  0.0  0.5  1.0   2.4        1989  \n",
       "22106  ...  0.7  1.9   2.6  1.4  0.5  0.4  0.9  2.3   6.3        2005  \n",
       "22118  ...  0.8  1.6   2.4  0.3  0.3  0.5  0.4  0.9   3.8        2007  \n",
       "22124  ...  1.7  2.6   4.3  0.5  0.7  1.3  0.5  1.4   7.3        2007  \n",
       "22130  ...  1.2  2.2   3.4  0.5  0.5  0.9  0.3  1.1   5.0        2007  \n",
       "22139  ...  0.9  2.6   3.5  3.3  1.2  0.4  1.0  1.4   8.7        2015  \n",
       "22155  ...  0.8  2.2   3.0  0.2  0.3  0.3  0.7  1.9   3.6        1990  \n",
       "22181  ...  0.4  1.7   2.1  0.2  0.2  0.2  0.2  1.7   0.8        1996  \n",
       "22187  ...  2.6  3.6   6.2  0.7  0.5  0.9  1.9  2.9  11.6        1994  \n",
       "22209  ...  0.3  1.0   1.2  2.8  0.7  0.1  0.8  0.9   4.5        1984  \n",
       "22229  ...  0.5  1.6   2.1  0.9  0.7  0.3  1.3  2.3  14.2        2007  \n",
       "22239  ...  0.3  0.6   0.9  0.8  0.6  0.1  0.4  1.6   1.4        1986  \n",
       "22244  ...  0.6  1.2   1.8  0.4  0.5  0.2  0.5  0.7   3.3        2009  \n",
       "22255  ...  1.7  3.7   5.4  2.3  1.6  0.3  1.5  2.3  14.1        2007  \n",
       "22283  ...  1.7  3.0   4.6  0.7  0.2  0.5  0.7  1.9   6.7        2012  \n",
       "22286  ...  1.8  2.2   4.0  0.7  0.2  0.5  0.7  3.3   7.7        2012  \n",
       "22294  ...  0.3  0.9   1.1  0.1  0.2  0.3  0.4  0.8   2.9        2000  \n",
       "22299  ...  0.7  1.0   1.7  0.3  0.1  0.1  0.5  1.2   2.8        1995  \n",
       "22302  ...  0.3  1.1   1.4  0.2  0.0  0.2  0.3  0.8   2.4        1995  \n",
       "22315  ...  1.9  4.2   6.1  1.1  0.2  0.9  1.2  2.3   8.9        2016  \n",
       "\n",
       "[1908 rows x 32 columns]"
      ],
      "text/html": "<div>\n<style scoped>\n    .dataframe tbody tr th:only-of-type {\n        vertical-align: middle;\n    }\n\n    .dataframe tbody tr th {\n        vertical-align: top;\n    }\n\n    .dataframe thead th {\n        text-align: right;\n    }\n</style>\n<table border=\"1\" class=\"dataframe\">\n  <thead>\n    <tr style=\"text-align: right;\">\n      <th></th>\n      <th>Name</th>\n      <th>Season</th>\n      <th>Age</th>\n      <th>Tm</th>\n      <th>Lg</th>\n      <th>Pos</th>\n      <th>G</th>\n      <th>GS</th>\n      <th>MP</th>\n      <th>FG</th>\n      <th>...</th>\n      <th>ORB</th>\n      <th>DRB</th>\n      <th>TRB</th>\n      <th>AST</th>\n      <th>STL</th>\n      <th>BLK</th>\n      <th>TOV</th>\n      <th>PF</th>\n      <th>PTS</th>\n      <th>Start Year</th>\n    </tr>\n  </thead>\n  <tbody>\n    <tr>\n      <th>2</th>\n      <td>Alaa Abdelnaby</td>\n      <td>1992-93</td>\n      <td>24</td>\n      <td>TOT</td>\n      <td>NBA</td>\n      <td>PF</td>\n      <td>75</td>\n      <td>52.0</td>\n      <td>17.5</td>\n      <td>3.3</td>\n      <td>...</td>\n      <td>1.7</td>\n      <td>2.8</td>\n      <td>4.5</td>\n      <td>0.4</td>\n      <td>0.3</td>\n      <td>0.3</td>\n      <td>1.3</td>\n      <td>2.5</td>\n      <td>7.7</td>\n      <td>1990</td>\n    </tr>\n    <tr>\n      <th>6</th>\n      <td>Alaa Abdelnaby</td>\n      <td>1994-95</td>\n      <td>26</td>\n      <td>TOT</td>\n      <td>NBA</td>\n      <td>PF</td>\n      <td>54</td>\n      <td>0.0</td>\n      <td>9.4</td>\n      <td>2.2</td>\n      <td>...</td>\n      <td>0.7</td>\n      <td>1.4</td>\n      <td>2.1</td>\n      <td>0.2</td>\n      <td>0.3</td>\n      <td>0.2</td>\n      <td>0.8</td>\n      <td>1.9</td>\n      <td>4.7</td>\n      <td>1990</td>\n    </tr>\n    <tr>\n      <th>40</th>\n      <td>Tariq Abdul-Wahad</td>\n      <td>1999-00</td>\n      <td>25</td>\n      <td>TOT</td>\n      <td>NBA</td>\n      <td>SG</td>\n      <td>61</td>\n      <td>56.0</td>\n      <td>25.9</td>\n      <td>4.5</td>\n      <td>...</td>\n      <td>1.7</td>\n      <td>3.1</td>\n      <td>4.8</td>\n      <td>1.6</td>\n      <td>1.0</td>\n      <td>0.5</td>\n      <td>1.7</td>\n      <td>2.4</td>\n      <td>11.4</td>\n      <td>1997</td>\n    </tr>\n    <tr>\n      <th>44</th>\n      <td>Tariq Abdul-Wahad</td>\n      <td>2001-02</td>\n      <td>27</td>\n      <td>TOT</td>\n      <td>NBA</td>\n      <td>SG</td>\n      <td>24</td>\n      <td>12.0</td>\n      <td>18.4</td>\n      <td>2.3</td>\n      <td>...</td>\n      <td>1.7</td>\n      <td>1.8</td>\n      <td>3.5</td>\n      <td>1.0</td>\n      <td>0.8</td>\n      <td>0.4</td>\n      <td>1.1</td>\n      <td>2.3</td>\n      <td>5.6</td>\n      <td>1997</td>\n    </tr>\n    <tr>\n      <th>55</th>\n      <td>Shareef Abdur-Rahim</td>\n      <td>2003-04</td>\n      <td>27</td>\n      <td>TOT</td>\n      <td>NBA</td>\n      <td>PF</td>\n      <td>85</td>\n      <td>56.0</td>\n      <td>31.6</td>\n      <td>5.9</td>\n      <td>...</td>\n      <td>2.2</td>\n      <td>5.3</td>\n      <td>7.5</td>\n      <td>2.0</td>\n      <td>0.8</td>\n      <td>0.4</td>\n      <td>2.2</td>\n      <td>2.6</td>\n      <td>16.3</td>\n      <td>1996</td>\n    </tr>\n    <tr>\n      <th>66</th>\n      <td>Tom Abernethy</td>\n      <td>1980-81</td>\n      <td>26</td>\n      <td>TOT</td>\n      <td>NBA</td>\n      <td>SF</td>\n      <td>39</td>\n      <td>NaN</td>\n      <td>7.6</td>\n      <td>0.6</td>\n      <td>...</td>\n      <td>0.5</td>\n      <td>0.7</td>\n      <td>1.2</td>\n      <td>0.5</td>\n      <td>0.2</td>\n      <td>0.1</td>\n      <td>0.2</td>\n      <td>0.9</td>\n      <td>1.6</td>\n      <td>1976</td>\n    </tr>\n    <tr>\n      <th>74</th>\n      <td>Alex Acker</td>\n      <td>2008-09</td>\n      <td>26</td>\n      <td>TOT</td>\n      <td>NBA</td>\n      <td>SG</td>\n      <td>25</td>\n      <td>0.0</td>\n      <td>8.0</td>\n      <td>1.2</td>\n      <td>...</td>\n      <td>0.3</td>\n      <td>0.6</td>\n      <td>1.0</td>\n      <td>0.5</td>\n      <td>0.2</td>\n      <td>0.2</td>\n      <td>0.3</td>\n      <td>0.4</td>\n      <td>2.9</td>\n      <td>2005</td>\n    </tr>\n    <tr>\n      <th>82</th>\n      <td>Mark Acres</td>\n      <td>1992-93</td>\n      <td>30</td>\n      <td>TOT</td>\n      <td>NBA</td>\n      <td>C</td>\n      <td>18</td>\n      <td>7.0</td>\n      <td>14.9</td>\n      <td>1.4</td>\n      <td>...</td>\n      <td>1.4</td>\n      <td>2.3</td>\n      <td>3.7</td>\n      <td>0.3</td>\n      <td>0.2</td>\n      <td>0.3</td>\n      <td>0.7</td>\n      <td>1.9</td>\n      <td>3.6</td>\n      <td>1987</td>\n    </tr>\n    <tr>\n      <th>86</th>\n      <td>Quincy Acy</td>\n      <td>2013-14</td>\n      <td>23</td>\n      <td>TOT</td>\n      <td>NBA</td>\n      <td>SF</td>\n      <td>63</td>\n      <td>0.0</td>\n      <td>13.4</td>\n      <td>1.0</td>\n      <td>...</td>\n      <td>1.1</td>\n      <td>2.3</td>\n      <td>3.4</td>\n      <td>0.4</td>\n      <td>0.4</td>\n      <td>0.4</td>\n      <td>0.5</td>\n      <td>1.9</td>\n      <td>2.7</td>\n      <td>2012</td>\n    </tr>\n    <tr>\n      <th>91</th>\n      <td>Quincy Acy</td>\n      <td>2016-17</td>\n      <td>26</td>\n      <td>TOT</td>\n      <td>NBA</td>\n      <td>PF</td>\n      <td>38</td>\n      <td>1.0</td>\n      <td>14.7</td>\n      <td>1.8</td>\n      <td>...</td>\n      <td>0.5</td>\n      <td>2.5</td>\n      <td>3.0</td>\n      <td>0.5</td>\n      <td>0.4</td>\n      <td>0.4</td>\n      <td>0.6</td>\n      <td>1.8</td>\n      <td>5.8</td>\n      <td>2012</td>\n    </tr>\n    <tr>\n      <th>148</th>\n      <td>Jeff Adrien</td>\n      <td>2013-14</td>\n      <td>27</td>\n      <td>TOT</td>\n      <td>NBA</td>\n      <td>PF</td>\n      <td>53</td>\n      <td>12.0</td>\n      <td>18.1</td>\n      <td>2.7</td>\n      <td>...</td>\n      <td>1.9</td>\n      <td>3.8</td>\n      <td>5.8</td>\n      <td>0.7</td>\n      <td>0.5</td>\n      <td>0.7</td>\n      <td>0.7</td>\n      <td>2.0</td>\n      <td>6.8</td>\n      <td>2010</td>\n    </tr>\n    <tr>\n      <th>159</th>\n      <td>Arron Afflalo</td>\n      <td>2014-15</td>\n      <td>29</td>\n      <td>TOT</td>\n      <td>NBA</td>\n      <td>SG</td>\n      <td>78</td>\n      <td>72.0</td>\n      <td>32.1</td>\n      <td>4.8</td>\n      <td>...</td>\n      <td>0.3</td>\n      <td>2.8</td>\n      <td>3.2</td>\n      <td>1.7</td>\n      <td>0.5</td>\n      <td>0.1</td>\n      <td>1.5</td>\n      <td>2.1</td>\n      <td>13.3</td>\n      <td>2007</td>\n    </tr>\n    <tr>\n      <th>166</th>\n      <td>Maurice Ager</td>\n      <td>2007-08</td>\n      <td>23</td>\n      <td>TOT</td>\n      <td>NBA</td>\n      <td>SG</td>\n      <td>26</td>\n      <td>3.0</td>\n      <td>6.3</td>\n      <td>0.8</td>\n      <td>...</td>\n      <td>0.2</td>\n      <td>0.3</td>\n      <td>0.5</td>\n      <td>0.3</td>\n      <td>0.0</td>\n      <td>0.0</td>\n      <td>0.2</td>\n      <td>0.7</td>\n      <td>2.0</td>\n      <td>2006</td>\n    </tr>\n    <tr>\n      <th>178</th>\n      <td>Mark Aguirre</td>\n      <td>1988-89</td>\n      <td>29</td>\n      <td>TOT</td>\n      <td>NBA</td>\n      <td>SF</td>\n      <td>80</td>\n      <td>76.0</td>\n      <td>32.5</td>\n      <td>7.3</td>\n      <td>...</td>\n      <td>1.8</td>\n      <td>3.0</td>\n      <td>4.8</td>\n      <td>3.5</td>\n      <td>0.6</td>\n      <td>0.5</td>\n      <td>2.6</td>\n      <td>2.9</td>\n      <td>18.9</td>\n      <td>1981</td>\n    </tr>\n    <tr>\n      <th>196</th>\n      <td>Danny Ainge</td>\n      <td>1988-89</td>\n      <td>29</td>\n      <td>TOT</td>\n      <td>NBA</td>\n      <td>PG</td>\n      <td>73</td>\n      <td>54.0</td>\n      <td>32.6</td>\n      <td>6.6</td>\n      <td>...</td>\n      <td>1.0</td>\n      <td>2.5</td>\n      <td>3.5</td>\n      <td>5.5</td>\n      <td>1.3</td>\n      <td>0.1</td>\n      <td>2.0</td>\n      <td>2.5</td>\n      <td>17.5</td>\n      <td>1981</td>\n    </tr>\n    <tr>\n      <th>207</th>\n      <td>Alexis Ajinça</td>\n      <td>2010-11</td>\n      <td>22</td>\n      <td>TOT</td>\n      <td>NBA</td>\n      <td>C</td>\n      <td>34</td>\n      <td>2.0</td>\n      <td>10.0</td>\n      <td>1.7</td>\n      <td>...</td>\n      <td>0.5</td>\n      <td>1.8</td>\n      <td>2.3</td>\n      <td>0.3</td>\n      <td>0.3</td>\n      <td>0.6</td>\n      <td>0.5</td>\n      <td>2.1</td>\n      <td>4.2</td>\n      <td>2008</td>\n    </tr>\n    <tr>\n      <th>226</th>\n      <td>Cole Aldrich</td>\n      <td>2012-13</td>\n      <td>24</td>\n      <td>TOT</td>\n      <td>NBA</td>\n      <td>C</td>\n      <td>45</td>\n      <td>0.0</td>\n      <td>8.6</td>\n      <td>1.0</td>\n      <td>...</td>\n      <td>0.7</td>\n      <td>2.0</td>\n      <td>2.7</td>\n      <td>0.2</td>\n      <td>0.1</td>\n      <td>0.5</td>\n      <td>0.5</td>\n      <td>1.3</td>\n      <td>2.2</td>\n      <td>2010</td>\n    </tr>\n    <tr>\n      <th>253</th>\n      <td>Cory Alexander</td>\n      <td>1997-98</td>\n      <td>24</td>\n      <td>TOT</td>\n      <td>NBA</td>\n      <td>PG</td>\n      <td>60</td>\n      <td>22.0</td>\n      <td>21.6</td>\n      <td>2.9</td>\n      <td>...</td>\n      <td>0.3</td>\n      <td>2.2</td>\n      <td>2.4</td>\n      <td>3.5</td>\n      <td>1.2</td>\n      <td>0.2</td>\n      <td>1.9</td>\n      <td>1.6</td>\n      <td>8.1</td>\n      <td>1995</td>\n    </tr>\n    <tr>\n      <th>260</th>\n      <td>Courtney Alexander</td>\n      <td>2000-01</td>\n      <td>23</td>\n      <td>TOT</td>\n      <td>NBA</td>\n      <td>PG</td>\n      <td>65</td>\n      <td>24.0</td>\n      <td>21.3</td>\n      <td>3.7</td>\n      <td>...</td>\n      <td>0.6</td>\n      <td>1.6</td>\n      <td>2.2</td>\n      <td>1.0</td>\n      <td>0.7</td>\n      <td>0.1</td>\n      <td>1.2</td>\n      <td>2.1</td>\n      <td>9.5</td>\n      <td>2000</td>\n    </tr>\n    <tr>\n      <th>265</th>\n      <td>Gary Alexander</td>\n      <td>1993-94</td>\n      <td>24</td>\n      <td>TOT</td>\n      <td>NBA</td>\n      <td>PF</td>\n      <td>11</td>\n      <td>0.0</td>\n      <td>5.0</td>\n      <td>0.7</td>\n      <td>...</td>\n      <td>0.6</td>\n      <td>0.7</td>\n      <td>1.4</td>\n      <td>0.2</td>\n      <td>0.3</td>\n      <td>0.0</td>\n      <td>0.7</td>\n      <td>0.9</td>\n      <td>1.7</td>\n      <td>1993</td>\n    </tr>\n    <tr>\n      <th>280</th>\n      <td>Steve Alford</td>\n      <td>1988-89</td>\n      <td>24</td>\n      <td>TOT</td>\n      <td>NBA</td>\n      <td>PG</td>\n      <td>66</td>\n      <td>3.0</td>\n      <td>13.7</td>\n      <td>2.2</td>\n      <td>...</td>\n      <td>0.2</td>\n      <td>0.9</td>\n      <td>1.1</td>\n      <td>1.4</td>\n      <td>0.7</td>\n      <td>0.0</td>\n      <td>0.7</td>\n      <td>0.9</td>\n      <td>5.5</td>\n      <td>1987</td>\n    </tr>\n    <tr>\n      <th>292</th>\n      <td>Jarrett Allen</td>\n      <td>2020-21</td>\n      <td>22</td>\n      <td>TOT</td>\n      <td>NBA</td>\n      <td>C</td>\n      <td>14</td>\n      <td>5.0</td>\n      <td>26.4</td>\n      <td>4.1</td>\n      <td>...</td>\n      <td>3.1</td>\n      <td>7.1</td>\n      <td>10.1</td>\n      <td>1.6</td>\n      <td>0.6</td>\n      <td>1.6</td>\n      <td>1.8</td>\n      <td>1.6</td>\n      <td>11.8</td>\n      <td>2017</td>\n    </tr>\n    <tr>\n      <th>296</th>\n      <td>Jerome Allen</td>\n      <td>1996-97</td>\n      <td>24</td>\n      <td>TOT</td>\n      <td>NBA</td>\n      <td>SG</td>\n      <td>76</td>\n      <td>1.0</td>\n      <td>12.4</td>\n      <td>1.0</td>\n      <td>...</td>\n      <td>0.3</td>\n      <td>1.0</td>\n      <td>1.3</td>\n      <td>2.0</td>\n      <td>0.4</td>\n      <td>0.1</td>\n      <td>0.9</td>\n      <td>1.1</td>\n      <td>3.0</td>\n      <td>1995</td>\n    </tr>\n    <tr>\n      <th>304</th>\n      <td>Lavoy Allen</td>\n      <td>2013-14</td>\n      <td>24</td>\n      <td>TOT</td>\n      <td>NBA</td>\n      <td>PF</td>\n      <td>65</td>\n      <td>2.0</td>\n      <td>16.5</td>\n      <td>2.1</td>\n      <td>...</td>\n      <td>1.8</td>\n      <td>3.0</td>\n      <td>4.8</td>\n      <td>1.1</td>\n      <td>0.4</td>\n      <td>0.5</td>\n      <td>0.7</td>\n      <td>1.9</td>\n      <td>4.7</td>\n      <td>2011</td>\n    </tr>\n    <tr>\n      <th>313</th>\n      <td>Malik Allen</td>\n      <td>2004-05</td>\n      <td>26</td>\n      <td>TOT</td>\n      <td>NBA</td>\n      <td>PF</td>\n      <td>36</td>\n      <td>1.0</td>\n      <td>14.4</td>\n      <td>2.3</td>\n      <td>...</td>\n      <td>1.1</td>\n      <td>1.6</td>\n      <td>2.8</td>\n      <td>0.5</td>\n      <td>0.3</td>\n      <td>0.6</td>\n      <td>0.5</td>\n      <td>1.5</td>\n      <td>5.4</td>\n      <td>2001</td>\n    </tr>\n    <tr>\n      <th>318</th>\n      <td>Malik Allen</td>\n      <td>2007-08</td>\n      <td>29</td>\n      <td>TOT</td>\n      <td>NBA</td>\n      <td>PF</td>\n      <td>73</td>\n      <td>16.0</td>\n      <td>15.0</td>\n      <td>2.2</td>\n      <td>...</td>\n      <td>0.9</td>\n      <td>1.8</td>\n      <td>2.7</td>\n      <td>0.6</td>\n      <td>0.3</td>\n      <td>0.4</td>\n      <td>0.6</td>\n      <td>2.0</td>\n      <td>4.6</td>\n      <td>2001</td>\n    </tr>\n    <tr>\n      <th>332</th>\n      <td>Ray Allen</td>\n      <td>2002-03</td>\n      <td>27</td>\n      <td>TOT</td>\n      <td>NBA</td>\n      <td>SG</td>\n      <td>76</td>\n      <td>75.0</td>\n      <td>37.9</td>\n      <td>7.9</td>\n      <td>...</td>\n      <td>1.2</td>\n      <td>3.8</td>\n      <td>5.0</td>\n      <td>4.4</td>\n      <td>1.4</td>\n      <td>0.2</td>\n      <td>2.6</td>\n      <td>2.9</td>\n      <td>22.5</td>\n      <td>1996</td>\n    </tr>\n    <tr>\n      <th>377</th>\n      <td>Rafer Alston</td>\n      <td>2008-09</td>\n      <td>32</td>\n      <td>TOT</td>\n      <td>NBA</td>\n      <td>PG</td>\n      <td>77</td>\n      <td>76.0</td>\n      <td>31.8</td>\n      <td>4.1</td>\n      <td>...</td>\n      <td>0.4</td>\n      <td>2.5</td>\n      <td>2.9</td>\n      <td>5.3</td>\n      <td>1.4</td>\n      <td>0.1</td>\n      <td>1.8</td>\n      <td>1.8</td>\n      <td>11.7</td>\n      <td>1999</td>\n    </tr>\n    <tr>\n      <th>380</th>\n      <td>Rafer Alston</td>\n      <td>2009-10</td>\n      <td>33</td>\n      <td>TOT</td>\n      <td>NBA</td>\n      <td>PG</td>\n      <td>52</td>\n      <td>38.0</td>\n      <td>27.3</td>\n      <td>3.0</td>\n      <td>...</td>\n      <td>0.3</td>\n      <td>2.2</td>\n      <td>2.5</td>\n      <td>3.4</td>\n      <td>1.0</td>\n      <td>0.2</td>\n      <td>1.8</td>\n      <td>2.0</td>\n      <td>8.2</td>\n      <td>1999</td>\n    </tr>\n    <tr>\n      <th>401</th>\n      <td>Lou Amundson</td>\n      <td>2006-07</td>\n      <td>24</td>\n      <td>TOT</td>\n      <td>NBA</td>\n      <td>PF</td>\n      <td>11</td>\n      <td>0.0</td>\n      <td>8.1</td>\n      <td>0.5</td>\n      <td>...</td>\n      <td>1.2</td>\n      <td>1.4</td>\n      <td>2.5</td>\n      <td>0.1</td>\n      <td>0.1</td>\n      <td>0.7</td>\n      <td>0.5</td>\n      <td>1.4</td>\n      <td>1.5</td>\n      <td>2006</td>\n    </tr>\n    <tr>\n      <th>...</th>\n      <td>...</td>\n      <td>...</td>\n      <td>...</td>\n      <td>...</td>\n      <td>...</td>\n      <td>...</td>\n      <td>...</td>\n      <td>...</td>\n      <td>...</td>\n      <td>...</td>\n      <td>...</td>\n      <td>...</td>\n      <td>...</td>\n      <td>...</td>\n      <td>...</td>\n      <td>...</td>\n      <td>...</td>\n      <td>...</td>\n      <td>...</td>\n      <td>...</td>\n      <td>...</td>\n    </tr>\n    <tr>\n      <th>21986</th>\n      <td>Joe Wolf</td>\n      <td>1995-96</td>\n      <td>31</td>\n      <td>TOT</td>\n      <td>NBA</td>\n      <td>PF</td>\n      <td>64</td>\n      <td>8.0</td>\n      <td>16.6</td>\n      <td>2.1</td>\n      <td>...</td>\n      <td>0.8</td>\n      <td>2.2</td>\n      <td>2.9</td>\n      <td>1.0</td>\n      <td>0.2</td>\n      <td>0.1</td>\n      <td>0.7</td>\n      <td>2.5</td>\n      <td>4.5</td>\n      <td>1987</td>\n    </tr>\n    <tr>\n      <th>21995</th>\n      <td>Nate Wolters</td>\n      <td>2014-15</td>\n      <td>23</td>\n      <td>TOT</td>\n      <td>NBA</td>\n      <td>PG</td>\n      <td>21</td>\n      <td>0.0</td>\n      <td>11.8</td>\n      <td>1.0</td>\n      <td>...</td>\n      <td>0.4</td>\n      <td>1.2</td>\n      <td>1.6</td>\n      <td>1.0</td>\n      <td>0.4</td>\n      <td>0.1</td>\n      <td>0.6</td>\n      <td>0.9</td>\n      <td>2.0</td>\n      <td>2013</td>\n    </tr>\n    <tr>\n      <th>21999</th>\n      <td>Al Wood</td>\n      <td>1981-82</td>\n      <td>23</td>\n      <td>TOT</td>\n      <td>NBA</td>\n      <td>SG</td>\n      <td>48</td>\n      <td>5.0</td>\n      <td>19.4</td>\n      <td>3.7</td>\n      <td>...</td>\n      <td>1.1</td>\n      <td>1.7</td>\n      <td>2.8</td>\n      <td>1.2</td>\n      <td>0.6</td>\n      <td>0.2</td>\n      <td>1.5</td>\n      <td>2.3</td>\n      <td>9.5</td>\n      <td>1981</td>\n    </tr>\n    <tr>\n      <th>22009</th>\n      <td>Christian Wood</td>\n      <td>2018-19</td>\n      <td>23</td>\n      <td>TOT</td>\n      <td>NBA</td>\n      <td>PF</td>\n      <td>21</td>\n      <td>2.0</td>\n      <td>12.0</td>\n      <td>2.9</td>\n      <td>...</td>\n      <td>0.8</td>\n      <td>3.1</td>\n      <td>4.0</td>\n      <td>0.4</td>\n      <td>0.3</td>\n      <td>0.5</td>\n      <td>0.8</td>\n      <td>0.8</td>\n      <td>8.2</td>\n      <td>2015</td>\n    </tr>\n    <tr>\n      <th>22019</th>\n      <td>David Wood</td>\n      <td>1995-96</td>\n      <td>31</td>\n      <td>TOT</td>\n      <td>NBA</td>\n      <td>PF</td>\n      <td>62</td>\n      <td>0.0</td>\n      <td>12.5</td>\n      <td>1.2</td>\n      <td>...</td>\n      <td>0.8</td>\n      <td>1.7</td>\n      <td>2.5</td>\n      <td>0.5</td>\n      <td>0.3</td>\n      <td>0.2</td>\n      <td>0.4</td>\n      <td>2.4</td>\n      <td>3.4</td>\n      <td>1988</td>\n    </tr>\n    <tr>\n      <th>22026</th>\n      <td>Leon Wood</td>\n      <td>1985-86</td>\n      <td>23</td>\n      <td>TOT</td>\n      <td>NBA</td>\n      <td>PG</td>\n      <td>68</td>\n      <td>1.0</td>\n      <td>17.6</td>\n      <td>2.7</td>\n      <td>...</td>\n      <td>0.4</td>\n      <td>1.0</td>\n      <td>1.3</td>\n      <td>2.7</td>\n      <td>0.5</td>\n      <td>0.0</td>\n      <td>1.1</td>\n      <td>1.0</td>\n      <td>7.8</td>\n      <td>1984</td>\n    </tr>\n    <tr>\n      <th>22030</th>\n      <td>Leon Wood</td>\n      <td>1987-88</td>\n      <td>25</td>\n      <td>TOT</td>\n      <td>NBA</td>\n      <td>PG</td>\n      <td>52</td>\n      <td>8.0</td>\n      <td>17.5</td>\n      <td>2.6</td>\n      <td>...</td>\n      <td>0.3</td>\n      <td>0.8</td>\n      <td>1.1</td>\n      <td>3.3</td>\n      <td>0.5</td>\n      <td>0.0</td>\n      <td>0.8</td>\n      <td>1.0</td>\n      <td>7.7</td>\n      <td>1984</td>\n    </tr>\n    <tr>\n      <th>22051</th>\n      <td>Mike Woodson</td>\n      <td>1981-82</td>\n      <td>23</td>\n      <td>TOT</td>\n      <td>NBA</td>\n      <td>SG</td>\n      <td>83</td>\n      <td>74.0</td>\n      <td>28.1</td>\n      <td>6.5</td>\n      <td>...</td>\n      <td>1.2</td>\n      <td>1.7</td>\n      <td>3.0</td>\n      <td>2.7</td>\n      <td>1.7</td>\n      <td>0.4</td>\n      <td>1.8</td>\n      <td>2.7</td>\n      <td>15.7</td>\n      <td>1980</td>\n    </tr>\n    <tr>\n      <th>22062</th>\n      <td>Mike Woodson</td>\n      <td>1990-91</td>\n      <td>32</td>\n      <td>TOT</td>\n      <td>NBA</td>\n      <td>SG</td>\n      <td>15</td>\n      <td>3.0</td>\n      <td>11.4</td>\n      <td>1.7</td>\n      <td>...</td>\n      <td>0.2</td>\n      <td>0.7</td>\n      <td>0.9</td>\n      <td>1.0</td>\n      <td>0.3</td>\n      <td>0.3</td>\n      <td>0.8</td>\n      <td>1.2</td>\n      <td>4.3</td>\n      <td>1980</td>\n    </tr>\n    <tr>\n      <th>22076</th>\n      <td>Orlando Woolridge</td>\n      <td>1992-93</td>\n      <td>33</td>\n      <td>TOT</td>\n      <td>NBA</td>\n      <td>SF</td>\n      <td>58</td>\n      <td>47.0</td>\n      <td>26.8</td>\n      <td>5.0</td>\n      <td>...</td>\n      <td>1.5</td>\n      <td>1.7</td>\n      <td>3.2</td>\n      <td>2.0</td>\n      <td>0.5</td>\n      <td>0.5</td>\n      <td>1.4</td>\n      <td>2.1</td>\n      <td>12.0</td>\n      <td>1981</td>\n    </tr>\n    <tr>\n      <th>22087</th>\n      <td>Haywoode Workman</td>\n      <td>1999-00</td>\n      <td>34</td>\n      <td>TOT</td>\n      <td>NBA</td>\n      <td>PG</td>\n      <td>36</td>\n      <td>2.0</td>\n      <td>9.7</td>\n      <td>0.9</td>\n      <td>...</td>\n      <td>0.0</td>\n      <td>0.7</td>\n      <td>0.7</td>\n      <td>1.7</td>\n      <td>0.6</td>\n      <td>0.0</td>\n      <td>0.5</td>\n      <td>1.0</td>\n      <td>2.4</td>\n      <td>1989</td>\n    </tr>\n    <tr>\n      <th>22106</th>\n      <td>Antoine Wright</td>\n      <td>2007-08</td>\n      <td>23</td>\n      <td>TOT</td>\n      <td>NBA</td>\n      <td>SG</td>\n      <td>56</td>\n      <td>10.0</td>\n      <td>22.0</td>\n      <td>2.4</td>\n      <td>...</td>\n      <td>0.7</td>\n      <td>1.9</td>\n      <td>2.6</td>\n      <td>1.4</td>\n      <td>0.5</td>\n      <td>0.4</td>\n      <td>0.9</td>\n      <td>2.3</td>\n      <td>6.3</td>\n      <td>2005</td>\n    </tr>\n    <tr>\n      <th>22118</th>\n      <td>Brandan Wright</td>\n      <td>2010-11</td>\n      <td>23</td>\n      <td>TOT</td>\n      <td>NBA</td>\n      <td>PF</td>\n      <td>37</td>\n      <td>2.0</td>\n      <td>10.2</td>\n      <td>1.6</td>\n      <td>...</td>\n      <td>0.8</td>\n      <td>1.6</td>\n      <td>2.4</td>\n      <td>0.3</td>\n      <td>0.3</td>\n      <td>0.5</td>\n      <td>0.4</td>\n      <td>0.9</td>\n      <td>3.8</td>\n      <td>2007</td>\n    </tr>\n    <tr>\n      <th>22124</th>\n      <td>Brandan Wright</td>\n      <td>2014-15</td>\n      <td>27</td>\n      <td>TOT</td>\n      <td>NBA</td>\n      <td>PF</td>\n      <td>75</td>\n      <td>7.0</td>\n      <td>19.3</td>\n      <td>3.1</td>\n      <td>...</td>\n      <td>1.7</td>\n      <td>2.6</td>\n      <td>4.3</td>\n      <td>0.5</td>\n      <td>0.7</td>\n      <td>1.3</td>\n      <td>0.5</td>\n      <td>1.4</td>\n      <td>7.3</td>\n      <td>2007</td>\n    </tr>\n    <tr>\n      <th>22130</th>\n      <td>Brandan Wright</td>\n      <td>2017-18</td>\n      <td>30</td>\n      <td>TOT</td>\n      <td>NBA</td>\n      <td>PF</td>\n      <td>28</td>\n      <td>1.0</td>\n      <td>13.6</td>\n      <td>2.1</td>\n      <td>...</td>\n      <td>1.2</td>\n      <td>2.2</td>\n      <td>3.4</td>\n      <td>0.5</td>\n      <td>0.5</td>\n      <td>0.9</td>\n      <td>0.3</td>\n      <td>1.1</td>\n      <td>5.0</td>\n      <td>2007</td>\n    </tr>\n    <tr>\n      <th>22139</th>\n      <td>Delon Wright</td>\n      <td>2018-19</td>\n      <td>26</td>\n      <td>TOT</td>\n      <td>NBA</td>\n      <td>PG</td>\n      <td>75</td>\n      <td>13.0</td>\n      <td>22.7</td>\n      <td>3.2</td>\n      <td>...</td>\n      <td>0.9</td>\n      <td>2.6</td>\n      <td>3.5</td>\n      <td>3.3</td>\n      <td>1.2</td>\n      <td>0.4</td>\n      <td>1.0</td>\n      <td>1.4</td>\n      <td>8.7</td>\n      <td>2015</td>\n    </tr>\n    <tr>\n      <th>22155</th>\n      <td>Howard Wright</td>\n      <td>1990-91</td>\n      <td>23</td>\n      <td>TOT</td>\n      <td>NBA</td>\n      <td>PF</td>\n      <td>15</td>\n      <td>0.0</td>\n      <td>10.9</td>\n      <td>1.3</td>\n      <td>...</td>\n      <td>0.8</td>\n      <td>2.2</td>\n      <td>3.0</td>\n      <td>0.2</td>\n      <td>0.3</td>\n      <td>0.3</td>\n      <td>0.7</td>\n      <td>1.9</td>\n      <td>3.6</td>\n      <td>1990</td>\n    </tr>\n    <tr>\n      <th>22181</th>\n      <td>Lorenzen Wright</td>\n      <td>2007-08</td>\n      <td>32</td>\n      <td>TOT</td>\n      <td>NBA</td>\n      <td>C</td>\n      <td>18</td>\n      <td>1.0</td>\n      <td>8.9</td>\n      <td>0.3</td>\n      <td>...</td>\n      <td>0.4</td>\n      <td>1.7</td>\n      <td>2.1</td>\n      <td>0.2</td>\n      <td>0.2</td>\n      <td>0.2</td>\n      <td>0.2</td>\n      <td>1.7</td>\n      <td>0.8</td>\n      <td>1996</td>\n    </tr>\n    <tr>\n      <th>22187</th>\n      <td>Sharone Wright</td>\n      <td>1995-96</td>\n      <td>23</td>\n      <td>TOT</td>\n      <td>NBA</td>\n      <td>C</td>\n      <td>57</td>\n      <td>38.0</td>\n      <td>25.2</td>\n      <td>4.4</td>\n      <td>...</td>\n      <td>2.6</td>\n      <td>3.6</td>\n      <td>6.2</td>\n      <td>0.7</td>\n      <td>0.5</td>\n      <td>0.9</td>\n      <td>1.9</td>\n      <td>2.9</td>\n      <td>11.6</td>\n      <td>1994</td>\n    </tr>\n    <tr>\n      <th>22209</th>\n      <td>Danny Young</td>\n      <td>1991-92</td>\n      <td>29</td>\n      <td>TOT</td>\n      <td>NBA</td>\n      <td>PG</td>\n      <td>62</td>\n      <td>5.0</td>\n      <td>16.5</td>\n      <td>1.6</td>\n      <td>...</td>\n      <td>0.3</td>\n      <td>1.0</td>\n      <td>1.2</td>\n      <td>2.8</td>\n      <td>0.7</td>\n      <td>0.1</td>\n      <td>0.8</td>\n      <td>0.9</td>\n      <td>4.5</td>\n      <td>1984</td>\n    </tr>\n    <tr>\n      <th>22229</th>\n      <td>Nick Young</td>\n      <td>2011-12</td>\n      <td>26</td>\n      <td>TOT</td>\n      <td>NBA</td>\n      <td>SG</td>\n      <td>62</td>\n      <td>35.0</td>\n      <td>27.9</td>\n      <td>5.1</td>\n      <td>...</td>\n      <td>0.5</td>\n      <td>1.6</td>\n      <td>2.1</td>\n      <td>0.9</td>\n      <td>0.7</td>\n      <td>0.3</td>\n      <td>1.3</td>\n      <td>2.3</td>\n      <td>14.2</td>\n      <td>2007</td>\n    </tr>\n    <tr>\n      <th>22239</th>\n      <td>Perry Young</td>\n      <td>1986-87</td>\n      <td>23</td>\n      <td>TOT</td>\n      <td>NBA</td>\n      <td>SG</td>\n      <td>9</td>\n      <td>0.0</td>\n      <td>8.0</td>\n      <td>0.7</td>\n      <td>...</td>\n      <td>0.3</td>\n      <td>0.6</td>\n      <td>0.9</td>\n      <td>0.8</td>\n      <td>0.6</td>\n      <td>0.1</td>\n      <td>0.4</td>\n      <td>1.6</td>\n      <td>1.4</td>\n      <td>1986</td>\n    </tr>\n    <tr>\n      <th>22244</th>\n      <td>Sam Young</td>\n      <td>2011-12</td>\n      <td>26</td>\n      <td>TOT</td>\n      <td>NBA</td>\n      <td>SF</td>\n      <td>35</td>\n      <td>2.0</td>\n      <td>10.7</td>\n      <td>1.3</td>\n      <td>...</td>\n      <td>0.6</td>\n      <td>1.2</td>\n      <td>1.8</td>\n      <td>0.4</td>\n      <td>0.5</td>\n      <td>0.2</td>\n      <td>0.5</td>\n      <td>0.7</td>\n      <td>3.3</td>\n      <td>2009</td>\n    </tr>\n    <tr>\n      <th>22255</th>\n      <td>Thaddeus Young</td>\n      <td>2014-15</td>\n      <td>26</td>\n      <td>TOT</td>\n      <td>NBA</td>\n      <td>PF</td>\n      <td>76</td>\n      <td>68.0</td>\n      <td>32.0</td>\n      <td>5.9</td>\n      <td>...</td>\n      <td>1.7</td>\n      <td>3.7</td>\n      <td>5.4</td>\n      <td>2.3</td>\n      <td>1.6</td>\n      <td>0.3</td>\n      <td>1.5</td>\n      <td>2.3</td>\n      <td>14.1</td>\n      <td>2007</td>\n    </tr>\n    <tr>\n      <th>22283</th>\n      <td>Tyler Zeller</td>\n      <td>2017-18</td>\n      <td>28</td>\n      <td>TOT</td>\n      <td>NBA</td>\n      <td>C</td>\n      <td>66</td>\n      <td>34.0</td>\n      <td>16.8</td>\n      <td>2.8</td>\n      <td>...</td>\n      <td>1.7</td>\n      <td>3.0</td>\n      <td>4.6</td>\n      <td>0.7</td>\n      <td>0.2</td>\n      <td>0.5</td>\n      <td>0.7</td>\n      <td>1.9</td>\n      <td>6.7</td>\n      <td>2012</td>\n    </tr>\n    <tr>\n      <th>22286</th>\n      <td>Tyler Zeller</td>\n      <td>2018-19</td>\n      <td>29</td>\n      <td>TOT</td>\n      <td>NBA</td>\n      <td>C</td>\n      <td>6</td>\n      <td>1.0</td>\n      <td>15.5</td>\n      <td>2.7</td>\n      <td>...</td>\n      <td>1.8</td>\n      <td>2.2</td>\n      <td>4.0</td>\n      <td>0.7</td>\n      <td>0.2</td>\n      <td>0.5</td>\n      <td>0.7</td>\n      <td>3.3</td>\n      <td>7.7</td>\n      <td>2012</td>\n    </tr>\n    <tr>\n      <th>22294</th>\n      <td>Wang Zhizhi</td>\n      <td>2003-04</td>\n      <td>26</td>\n      <td>TOT</td>\n      <td>NBA</td>\n      <td>C</td>\n      <td>16</td>\n      <td>0.0</td>\n      <td>7.1</td>\n      <td>1.1</td>\n      <td>...</td>\n      <td>0.3</td>\n      <td>0.9</td>\n      <td>1.1</td>\n      <td>0.1</td>\n      <td>0.2</td>\n      <td>0.3</td>\n      <td>0.4</td>\n      <td>0.8</td>\n      <td>2.9</td>\n      <td>2000</td>\n    </tr>\n    <tr>\n      <th>22299</th>\n      <td>George Zídek</td>\n      <td>1996-97</td>\n      <td>23</td>\n      <td>TOT</td>\n      <td>NBA</td>\n      <td>C</td>\n      <td>52</td>\n      <td>2.0</td>\n      <td>7.2</td>\n      <td>0.9</td>\n      <td>...</td>\n      <td>0.7</td>\n      <td>1.0</td>\n      <td>1.7</td>\n      <td>0.3</td>\n      <td>0.1</td>\n      <td>0.1</td>\n      <td>0.5</td>\n      <td>1.2</td>\n      <td>2.8</td>\n      <td>1995</td>\n    </tr>\n    <tr>\n      <th>22302</th>\n      <td>George Zídek</td>\n      <td>1997-98</td>\n      <td>24</td>\n      <td>TOT</td>\n      <td>NBA</td>\n      <td>C</td>\n      <td>12</td>\n      <td>0.0</td>\n      <td>5.3</td>\n      <td>0.6</td>\n      <td>...</td>\n      <td>0.3</td>\n      <td>1.1</td>\n      <td>1.4</td>\n      <td>0.2</td>\n      <td>0.0</td>\n      <td>0.2</td>\n      <td>0.3</td>\n      <td>0.8</td>\n      <td>2.4</td>\n      <td>1995</td>\n    </tr>\n    <tr>\n      <th>22315</th>\n      <td>Ivica Zubac</td>\n      <td>2018-19</td>\n      <td>21</td>\n      <td>TOT</td>\n      <td>NBA</td>\n      <td>C</td>\n      <td>59</td>\n      <td>37.0</td>\n      <td>17.6</td>\n      <td>3.6</td>\n      <td>...</td>\n      <td>1.9</td>\n      <td>4.2</td>\n      <td>6.1</td>\n      <td>1.1</td>\n      <td>0.2</td>\n      <td>0.9</td>\n      <td>1.2</td>\n      <td>2.3</td>\n      <td>8.9</td>\n      <td>2016</td>\n    </tr>\n  </tbody>\n</table>\n<p>1908 rows × 32 columns</p>\n</div>"
     },
     "metadata": {},
     "execution_count": 3
    }
   ],
   "source": [
    "#1) Obtain only TOT and remove other instances of same season\n",
    "#2) Remove seasons where one plays less than 20 games less than 100 minutes per season\n",
    "#There are a lot of situations where the same player plays for multiple teams in the same season as they are traded during the season. Such players have a TOT entry as for Team (\"Tm\")\n",
    "\n",
    "nba_data_raw.loc[nba_data_raw[\"Tm\"] == \"TOT\"]"
   ]
  },
  {
   "cell_type": "code",
   "execution_count": 5,
   "metadata": {},
   "outputs": [],
   "source": [
    "idx_drop = list()\n",
    "key_list = list()\n",
    "player_grp = nba_data_raw.groupby(['Name','Start Year'])\n",
    "\n",
    "for key,group in player_grp:\n",
    "    key_list.append(key)"
   ]
  },
  {
   "cell_type": "code",
   "execution_count": 9,
   "metadata": {},
   "outputs": [
    {
     "output_type": "execute_result",
     "data": {
      "text/plain": [
       "('A.C. Green', 1985)"
      ]
     },
     "metadata": {},
     "execution_count": 9
    }
   ],
   "source": [
    "for key in key_list:\n",
    "    player_grp.get_group(key)\n",
    "    "
   ]
  },
  {
   "cell_type": "code",
   "execution_count": 34,
   "metadata": {},
   "outputs": [
    {
     "output_type": "execute_result",
     "data": {
      "text/plain": [
       "             Name   Season  Age   Tm   Lg Pos   G    GS    MP   FG  ...  ORB  \\\n",
       "0  Alaa Abdelnaby  1990-91   22  POR  NBA  PF  43   0.0   6.7  1.3  ...  0.6   \n",
       "1  Alaa Abdelnaby  1991-92   23  POR  NBA  PF  71   1.0  13.2  2.5  ...  1.1   \n",
       "2  Alaa Abdelnaby  1992-93   24  TOT  NBA  PF  75  52.0  17.5  3.3  ...  1.7   \n",
       "3  Alaa Abdelnaby  1992-93   24  MIL  NBA  PF  12   0.0  13.3  2.2  ...  1.0   \n",
       "4  Alaa Abdelnaby  1992-93   24  BOS  NBA  PF  63  52.0  18.3  3.5  ...  1.8   \n",
       "5  Alaa Abdelnaby  1993-94   25  BOS  NBA  PF  13   0.0  12.2  1.8  ...  0.9   \n",
       "6  Alaa Abdelnaby  1994-95   26  TOT  NBA  PF  54   0.0   9.4  2.2  ...  0.7   \n",
       "7  Alaa Abdelnaby  1994-95   26  SAC  NBA  PF  51   0.0   9.3  2.3  ...  0.7   \n",
       "8  Alaa Abdelnaby  1994-95   26  PHI  NBA  PF   3   0.0  10.0  0.3  ...  1.0   \n",
       "\n",
       "   DRB  TRB  AST  STL  BLK  TOV   PF  PTS  Start Year  \n",
       "0  1.4  2.1  0.3  0.1  0.3  0.5  0.9  3.1        1990  \n",
       "1  2.5  3.7  0.4  0.4  0.2  0.9  1.9  6.1        1990  \n",
       "2  2.8  4.5  0.4  0.3  0.3  1.3  2.5  7.7        1990  \n",
       "3  2.1  3.1  0.8  0.5  0.3  1.1  2.0  5.3        1990  \n",
       "4  3.0  4.8  0.3  0.3  0.3  1.3  2.6  8.2        1990  \n",
       "5  2.6  3.5  0.2  0.2  0.2  1.3  1.5  4.9        1990  \n",
       "6  1.4  2.1  0.2  0.3  0.2  0.8  1.9  4.7        1990  \n",
       "7  1.4  2.1  0.3  0.3  0.2  0.8  2.0  5.0        1990  \n",
       "8  1.7  2.7  0.0  0.0  0.0  1.7  0.7  0.7        1990  \n",
       "\n",
       "[9 rows x 32 columns]"
      ],
      "text/html": "<div>\n<style scoped>\n    .dataframe tbody tr th:only-of-type {\n        vertical-align: middle;\n    }\n\n    .dataframe tbody tr th {\n        vertical-align: top;\n    }\n\n    .dataframe thead th {\n        text-align: right;\n    }\n</style>\n<table border=\"1\" class=\"dataframe\">\n  <thead>\n    <tr style=\"text-align: right;\">\n      <th></th>\n      <th>Name</th>\n      <th>Season</th>\n      <th>Age</th>\n      <th>Tm</th>\n      <th>Lg</th>\n      <th>Pos</th>\n      <th>G</th>\n      <th>GS</th>\n      <th>MP</th>\n      <th>FG</th>\n      <th>...</th>\n      <th>ORB</th>\n      <th>DRB</th>\n      <th>TRB</th>\n      <th>AST</th>\n      <th>STL</th>\n      <th>BLK</th>\n      <th>TOV</th>\n      <th>PF</th>\n      <th>PTS</th>\n      <th>Start Year</th>\n    </tr>\n  </thead>\n  <tbody>\n    <tr>\n      <th>0</th>\n      <td>Alaa Abdelnaby</td>\n      <td>1990-91</td>\n      <td>22</td>\n      <td>POR</td>\n      <td>NBA</td>\n      <td>PF</td>\n      <td>43</td>\n      <td>0.0</td>\n      <td>6.7</td>\n      <td>1.3</td>\n      <td>...</td>\n      <td>0.6</td>\n      <td>1.4</td>\n      <td>2.1</td>\n      <td>0.3</td>\n      <td>0.1</td>\n      <td>0.3</td>\n      <td>0.5</td>\n      <td>0.9</td>\n      <td>3.1</td>\n      <td>1990</td>\n    </tr>\n    <tr>\n      <th>1</th>\n      <td>Alaa Abdelnaby</td>\n      <td>1991-92</td>\n      <td>23</td>\n      <td>POR</td>\n      <td>NBA</td>\n      <td>PF</td>\n      <td>71</td>\n      <td>1.0</td>\n      <td>13.2</td>\n      <td>2.5</td>\n      <td>...</td>\n      <td>1.1</td>\n      <td>2.5</td>\n      <td>3.7</td>\n      <td>0.4</td>\n      <td>0.4</td>\n      <td>0.2</td>\n      <td>0.9</td>\n      <td>1.9</td>\n      <td>6.1</td>\n      <td>1990</td>\n    </tr>\n    <tr>\n      <th>2</th>\n      <td>Alaa Abdelnaby</td>\n      <td>1992-93</td>\n      <td>24</td>\n      <td>TOT</td>\n      <td>NBA</td>\n      <td>PF</td>\n      <td>75</td>\n      <td>52.0</td>\n      <td>17.5</td>\n      <td>3.3</td>\n      <td>...</td>\n      <td>1.7</td>\n      <td>2.8</td>\n      <td>4.5</td>\n      <td>0.4</td>\n      <td>0.3</td>\n      <td>0.3</td>\n      <td>1.3</td>\n      <td>2.5</td>\n      <td>7.7</td>\n      <td>1990</td>\n    </tr>\n    <tr>\n      <th>3</th>\n      <td>Alaa Abdelnaby</td>\n      <td>1992-93</td>\n      <td>24</td>\n      <td>MIL</td>\n      <td>NBA</td>\n      <td>PF</td>\n      <td>12</td>\n      <td>0.0</td>\n      <td>13.3</td>\n      <td>2.2</td>\n      <td>...</td>\n      <td>1.0</td>\n      <td>2.1</td>\n      <td>3.1</td>\n      <td>0.8</td>\n      <td>0.5</td>\n      <td>0.3</td>\n      <td>1.1</td>\n      <td>2.0</td>\n      <td>5.3</td>\n      <td>1990</td>\n    </tr>\n    <tr>\n      <th>4</th>\n      <td>Alaa Abdelnaby</td>\n      <td>1992-93</td>\n      <td>24</td>\n      <td>BOS</td>\n      <td>NBA</td>\n      <td>PF</td>\n      <td>63</td>\n      <td>52.0</td>\n      <td>18.3</td>\n      <td>3.5</td>\n      <td>...</td>\n      <td>1.8</td>\n      <td>3.0</td>\n      <td>4.8</td>\n      <td>0.3</td>\n      <td>0.3</td>\n      <td>0.3</td>\n      <td>1.3</td>\n      <td>2.6</td>\n      <td>8.2</td>\n      <td>1990</td>\n    </tr>\n    <tr>\n      <th>5</th>\n      <td>Alaa Abdelnaby</td>\n      <td>1993-94</td>\n      <td>25</td>\n      <td>BOS</td>\n      <td>NBA</td>\n      <td>PF</td>\n      <td>13</td>\n      <td>0.0</td>\n      <td>12.2</td>\n      <td>1.8</td>\n      <td>...</td>\n      <td>0.9</td>\n      <td>2.6</td>\n      <td>3.5</td>\n      <td>0.2</td>\n      <td>0.2</td>\n      <td>0.2</td>\n      <td>1.3</td>\n      <td>1.5</td>\n      <td>4.9</td>\n      <td>1990</td>\n    </tr>\n    <tr>\n      <th>6</th>\n      <td>Alaa Abdelnaby</td>\n      <td>1994-95</td>\n      <td>26</td>\n      <td>TOT</td>\n      <td>NBA</td>\n      <td>PF</td>\n      <td>54</td>\n      <td>0.0</td>\n      <td>9.4</td>\n      <td>2.2</td>\n      <td>...</td>\n      <td>0.7</td>\n      <td>1.4</td>\n      <td>2.1</td>\n      <td>0.2</td>\n      <td>0.3</td>\n      <td>0.2</td>\n      <td>0.8</td>\n      <td>1.9</td>\n      <td>4.7</td>\n      <td>1990</td>\n    </tr>\n    <tr>\n      <th>7</th>\n      <td>Alaa Abdelnaby</td>\n      <td>1994-95</td>\n      <td>26</td>\n      <td>SAC</td>\n      <td>NBA</td>\n      <td>PF</td>\n      <td>51</td>\n      <td>0.0</td>\n      <td>9.3</td>\n      <td>2.3</td>\n      <td>...</td>\n      <td>0.7</td>\n      <td>1.4</td>\n      <td>2.1</td>\n      <td>0.3</td>\n      <td>0.3</td>\n      <td>0.2</td>\n      <td>0.8</td>\n      <td>2.0</td>\n      <td>5.0</td>\n      <td>1990</td>\n    </tr>\n    <tr>\n      <th>8</th>\n      <td>Alaa Abdelnaby</td>\n      <td>1994-95</td>\n      <td>26</td>\n      <td>PHI</td>\n      <td>NBA</td>\n      <td>PF</td>\n      <td>3</td>\n      <td>0.0</td>\n      <td>10.0</td>\n      <td>0.3</td>\n      <td>...</td>\n      <td>1.0</td>\n      <td>1.7</td>\n      <td>2.7</td>\n      <td>0.0</td>\n      <td>0.0</td>\n      <td>0.0</td>\n      <td>1.7</td>\n      <td>0.7</td>\n      <td>0.7</td>\n      <td>1990</td>\n    </tr>\n  </tbody>\n</table>\n<p>9 rows × 32 columns</p>\n</div>"
     },
     "metadata": {},
     "execution_count": 34
    }
   ],
   "source": [
    "years = player_grp.get_group(key_list[41]).loc[player_grp.get_group(key_list[41])['Tm'] == 'TOT']['Season'].tolist()\n",
    "temp = player_grp.get_group(key_list[41]).loc[player_grp.get_group(key_list[41])['Season'].apply(lambda x : x in years) & player_grp.get_group(key_list[41])['Tm'] != \"TOT\"]\n",
    "temp"
   ]
  },
  {
   "cell_type": "code",
   "execution_count": 35,
   "metadata": {},
   "outputs": [
    {
     "output_type": "execute_result",
     "data": {
      "text/plain": [
       "['1992-93', '1994-95']"
      ]
     },
     "metadata": {},
     "execution_count": 35
    }
   ],
   "source": [
    "years"
   ]
  },
  {
   "cell_type": "code",
   "execution_count": 27,
   "metadata": {},
   "outputs": [],
   "source": [
    "import time\n",
    "start = time.process_time()\n",
    "player_grp.get_group(key_list[41])['Season'].apply(lambda x: x in years)\n",
    "end = time.process_time()\n",
    "dif1 = end-start\n"
   ]
  },
  {
   "cell_type": "code",
   "execution_count": 28,
   "metadata": {},
   "outputs": [],
   "source": [
    "import time\n",
    "start = time.process_time()\n",
    "player_grp.get_group(key_list[41])['Season'].isin(years)\n",
    "end = time.process_time()\n",
    "dif2 = end-start\n"
   ]
  },
  {
   "cell_type": "code",
   "execution_count": 29,
   "metadata": {},
   "outputs": [
    {
     "output_type": "execute_result",
     "data": {
      "text/plain": [
       "False"
      ]
     },
     "metadata": {},
     "execution_count": 29
    }
   ],
   "source": []
  },
  {
   "cell_type": "code",
   "execution_count": 31,
   "metadata": {},
   "outputs": [
    {
     "output_type": "execute_result",
     "data": {
      "text/plain": [
       "True"
      ]
     },
     "metadata": {},
     "execution_count": 31
    }
   ],
   "source": []
  },
  {
   "cell_type": "code",
   "execution_count": null,
   "metadata": {},
   "outputs": [],
   "source": []
  }
 ]
}