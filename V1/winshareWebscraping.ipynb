{
 "metadata": {
  "language_info": {
   "codemirror_mode": {
    "name": "ipython",
    "version": 3
   },
   "file_extension": ".py",
   "mimetype": "text/x-python",
   "name": "python",
   "nbconvert_exporter": "python",
   "pygments_lexer": "ipython3",
   "version": "3.7.3-final"
  },
  "orig_nbformat": 2,
  "kernelspec": {
   "name": "python3",
   "display_name": "Python 3",
   "language": "python"
  }
 },
 "nbformat": 4,
 "nbformat_minor": 2,
 "cells": [
  {
   "cell_type": "code",
   "execution_count": 1,
   "metadata": {},
   "outputs": [],
   "source": [
    "import bs4 as BeautifulSoup\n",
    "import urllib.request\n",
    "import pandas as pd\n",
    "import numpy as np\n",
    "import re\n",
    "from selenium import webdriver\n",
    "from selenium.webdriver.chrome.options import Options\n",
    "chrome_options = Options()\n",
    "chrome_options.add_argument(\"--headless\")\n",
    "main_url = 'https://www.basketball-reference.com/players/'\n",
    "#It was not seen prior that there are no players whos surnames start with x, hence an exception was thrown at letter x. \n",
    "#To save time, the available array was copied to another array and the remaining letters were processed \n",
    "letters = 'abcdefghijklmnopqrstuvwyz'\n",
    "letters_list = list(letters)"
   ]
  },
  {
   "cell_type": "code",
   "execution_count": 2,
   "metadata": {},
   "outputs": [],
   "source": [
    "pattern = r'^advanced\\.(201[7-9]|202\\d{1,})'"
   ]
  },
  {
   "cell_type": "code",
   "execution_count": 3,
   "metadata": {},
   "outputs": [
    {
     "output_type": "stream",
     "name": "stdout",
     "text": [
      "a\n",
      "(128, 5)\n",
      "b\n",
      "(460, 5)\n",
      "c\n",
      "(696, 5)\n",
      "d\n",
      "(824, 5)\n",
      "e\n",
      "(891, 5)\n",
      "f\n",
      "(971, 5)\n",
      "g\n",
      "(1124, 5)\n",
      "h\n",
      "(1367, 5)\n",
      "i\n",
      "(1412, 5)\n",
      "j\n",
      "(1569, 5)\n",
      "k\n",
      "(1650, 5)\n",
      "l\n",
      "(1792, 5)\n",
      "m\n",
      "(2089, 5)\n",
      "n\n",
      "(2172, 5)\n",
      "o\n",
      "(2237, 5)\n",
      "p\n",
      "(2386, 5)\n",
      "q\n",
      "(2391, 5)\n",
      "r\n",
      "(2512, 5)\n",
      "s\n",
      "Exception ignored in: <function Service.__del__ at 0x000001B4B6757C80>\n",
      "Traceback (most recent call last):\n",
      "  File \"C:\\Users\\ASUS\\Anaconda3\\lib\\site-packages\\selenium\\webdriver\\common\\service.py\", line 176, in __del__\n",
      "    self.stop()\n",
      "  File \"C:\\Users\\ASUS\\Anaconda3\\lib\\site-packages\\selenium\\webdriver\\common\\service.py\", line 151, in stop\n",
      "    self.send_remote_shutdown_command()\n",
      "  File \"C:\\Users\\ASUS\\Anaconda3\\lib\\site-packages\\selenium\\webdriver\\common\\service.py\", line 132, in send_remote_shutdown_command\n",
      "    if not self.is_connectable():\n",
      "  File \"C:\\Users\\ASUS\\Anaconda3\\lib\\site-packages\\selenium\\webdriver\\common\\service.py\", line 115, in is_connectable\n",
      "    return utils.is_connectable(self.port)\n",
      "  File \"C:\\Users\\ASUS\\Anaconda3\\lib\\site-packages\\selenium\\webdriver\\common\\utils.py\", line 106, in is_connectable\n",
      "    socket_ = socket.create_connection((host, port), 1)\n",
      "  File \"C:\\Users\\ASUS\\Anaconda3\\lib\\socket.py\", line 716, in create_connection\n",
      "    sock.connect(sa)\n",
      "KeyboardInterrupt: \n"
     ]
    }
   ],
   "source": [
    "main_array = None\n",
    "player_id = 0\n",
    "for letter in letters_list:\n",
    "    print(letter)\n",
    "    try:\n",
    "        htmldata = urllib.request.urlopen('https://www.basketball-reference.com/players/' + letter +'/')\n",
    "    except:\n",
    "        continue\n",
    "    bsoup = BeautifulSoup.BeautifulSoup(htmldata,'html.parser')\n",
    "    #a placeholder matrix\n",
    "    complete_array = np.zeros(shape=(1,1))\n",
    "    Data_list = [\"Name\",\"Season\",\"Team\",\"WS\"]\n",
    "    for i in range(1,len(bsoup.find_all('tr'))):\n",
    "        #we collect only players who played after 1980\n",
    "        if int(bsoup.find_all('tr')[i].find('td',{'data-stat':'year_max'}).get_text())>=2017:\n",
    "            href = bsoup.find_all('tr')[i].find_all('a')[0].attrs['href']\n",
    "            try:\n",
    "                driver = webdriver.Chrome(r'C:\\Users\\ASUS\\AppData\\Roaming\\Microsoft\\Windows\\Start Menu\\Programs\\Anaconda3 (64-bit)\\chromedriver.exe',options=chrome_options)\n",
    "                driver.get(main_url + letter + \"/\" + href.split('/')[-1])\n",
    "                data = driver.page_source\n",
    "                driver.quit()\n",
    "            except:\n",
    "                #due to errors in the html page, some href do not work hence we skip these\n",
    "                continue\n",
    "            \n",
    "            playerws_bsoup = BeautifulSoup.BeautifulSoup(data,'html.parser')\n",
    "            ws_dataarray = np.empty(shape = (len(playerws_bsoup.find_all('tr',{'id':re.compile(pattern)})),len(Data_list)), dtype = np.object)\n",
    "            try:\n",
    "                player_name = playerws_bsoup.find_all('h1',{'itemprop':'name'})[0].get_text().strip()\n",
    "            except:\n",
    "                continue\n",
    "            try:\n",
    "                for j in range(0,len(playerws_bsoup.find_all('tr',{'id':re.compile(pattern)}))):\n",
    "                    data_row = [player_name]\n",
    "                    row = playerws_bsoup.find_all('tr',{'id':re.compile(pattern)})[j]\n",
    "                    try:\n",
    "                        season = row.find_all('th',{\"data-stat\":\"season\"})[0].get_text()\n",
    "                        team = row.find_all('td',{\"data-stat\":\"team_id\"})[0].get_text()\n",
    "                        ws = row.find_all('td',{\"data-stat\":\"ws\"})[0].get_text()\n",
    "                        data_row.extend([season,team,ws])\n",
    "                        ws_dataarray[j,:] = np.array(data_row)\n",
    "                    except:\n",
    "                        data_row.extend([np.nan,np.nan,np.nan])\n",
    "                        ws_dataarray[j,:] = np.array(data_row)\n",
    "                        continue\n",
    "            except:\n",
    "                continue\n",
    "        else:\n",
    "            continue\n",
    "        if i == 1:\n",
    "            player_id = player_id + 1\n",
    "            id_array = np.array([player_id]*ws_dataarray.shape[0]).reshape(-1,1)\n",
    "            complete_array = np.c_[id_array,ws_dataarray]\n",
    "        else:\n",
    "            player_id = player_id + 1\n",
    "            id_array = np.array([player_id]*ws_dataarray.shape[0]).reshape(-1,1)\n",
    "            if complete_array.shape != (1,1):\n",
    "                complete_array = np.vstack((complete_array,np.c_[id_array,ws_dataarray]))\n",
    "            else:\n",
    "                complete_array = np.c_[id_array,ws_dataarray]\n",
    "    if letter == letters_list[0]:\n",
    "        main_array = complete_array\n",
    "        print(main_array.shape)\n",
    "    else:\n",
    "        main_array = np.vstack((main_array,complete_array))\n",
    "        print(main_array.shape)"
   ]
  },
  {
   "cell_type": "code",
   "execution_count": 12,
   "metadata": {},
   "outputs": [],
   "source": [
    "final_df = pd.DataFrame(data = main_array, columns = [\"ID\",\"Name\",\"Season\",\"Tm\",\"WS\"])\n",
    "name = letter + '.csv'\n",
    "final_df.to_csv(name,index = False)"
   ]
  },
  {
   "cell_type": "code",
   "execution_count": null,
   "metadata": {},
   "outputs": [],
   "source": [
    "main_array"
   ]
  },
  {
   "cell_type": "code",
   "execution_count": 107,
   "metadata": {},
   "outputs": [
    {
     "output_type": "execute_result",
     "data": {
      "text/plain": [
       "[<a href=\"/draft/NBA_2016.html\">2016 NBA Draft</a>]"
      ]
     },
     "metadata": {},
     "execution_count": 107
    }
   ],
   "source": [
    "test_soup = BeautifulSoup.BeautifulSoup(test,'html.parser')\n",
    "pattern = r'[0-9]\\sNBA Draft'\n",
    "draft_year_list = test_soup.find_all('a',text = re.compile(pattern))\n",
    "draft_year_list"
   ]
  },
  {
   "source": [
    "\n",
    "x = re.match(pattern,'advanced.2016')\n",
    "if x:\n",
    "    print(True)\n",
    "else:\n",
    "    print(False)"
   ],
   "cell_type": "code",
   "metadata": {},
   "execution_count": 18,
   "outputs": [
    {
     "output_type": "stream",
     "name": "stdout",
     "text": [
      "False\n"
     ]
    }
   ]
  },
  {
   "cell_type": "code",
   "execution_count": 7,
   "metadata": {},
   "outputs": [
    {
     "output_type": "execute_result",
     "data": {
      "text/plain": [
       "[<tr class=\"full_table\" data-row=\"0\" id=\"advanced.1991\"><th class=\"left\" data-stat=\"season\" scope=\"row\"><a href=\"/players/a/abdelal01/gamelog/1991/\">1990-91</a></th><td class=\"center\" data-stat=\"age\">22</td><td class=\"left\" data-stat=\"team_id\"><a href=\"/teams/POR/1991.html\">POR</a></td><td class=\"left\" data-stat=\"lg_id\"><a href=\"/leagues/NBA_1991.html\">NBA</a></td><td class=\"center\" data-stat=\"pos\">PF</td><td class=\"right\" data-stat=\"g\">43</td><td class=\"right\" data-stat=\"mp\">290</td><td class=\"right\" data-stat=\"per\">13.1</td><td class=\"right\" data-stat=\"ts_pct\">.499</td><td class=\"right iz\" data-stat=\"fg3a_per_fga_pct\">.000</td><td class=\"right\" data-stat=\"fta_per_fga_pct\">.379</td><td class=\"right\" data-stat=\"orb_pct\">10.4</td><td class=\"right\" data-stat=\"drb_pct\">23.4</td><td class=\"right\" data-stat=\"trb_pct\">17.0</td><td class=\"right\" data-stat=\"ast_pct\">5.8</td><td class=\"right\" data-stat=\"stl_pct\">0.7</td><td class=\"right\" data-stat=\"blk_pct\">2.5</td><td class=\"right\" data-stat=\"tov_pct\">14.0</td><td class=\"right\" data-stat=\"usg_pct\">22.1</td><td class=\"right iz\" data-stat=\"ws-dum\"></td><td class=\"right iz\" data-stat=\"ows\">0.0</td><td class=\"right\" data-stat=\"dws\">0.5</td><td class=\"right\" data-stat=\"ws\">0.5</td><td class=\"right\" data-stat=\"ws_per_48\">.079</td><td class=\"right iz\" data-stat=\"bpm-dum\"></td><td class=\"right\" data-stat=\"obpm\">-3.4</td><td class=\"right\" data-stat=\"dbpm\">-1.2</td><td class=\"right\" data-stat=\"bpm\">-4.6</td><td class=\"right\" data-stat=\"vorp\">-0.2</td></tr>,\n",
       " <tr class=\"full_table\" data-row=\"1\" id=\"advanced.1992\"><th class=\"left\" data-stat=\"season\" scope=\"row\"><a href=\"/players/a/abdelal01/gamelog/1992/\">1991-92</a></th><td class=\"center\" data-stat=\"age\">23</td><td class=\"left\" data-stat=\"team_id\"><a href=\"/teams/POR/1992.html\">POR</a></td><td class=\"left\" data-stat=\"lg_id\"><a href=\"/leagues/NBA_1992.html\">NBA</a></td><td class=\"center\" data-stat=\"pos\">PF</td><td class=\"right\" data-stat=\"g\">71</td><td class=\"right\" data-stat=\"mp\">934</td><td class=\"right\" data-stat=\"per\">13.5</td><td class=\"right\" data-stat=\"ts_pct\">.533</td><td class=\"right iz\" data-stat=\"fg3a_per_fga_pct\">.000</td><td class=\"right\" data-stat=\"fta_per_fga_pct\">.280</td><td class=\"right\" data-stat=\"orb_pct\">9.5</td><td class=\"right\" data-stat=\"drb_pct\">20.9</td><td class=\"right\" data-stat=\"trb_pct\">15.2</td><td class=\"right\" data-stat=\"ast_pct\">4.7</td><td class=\"right\" data-stat=\"stl_pct\">1.3</td><td class=\"right\" data-stat=\"blk_pct\">1.1</td><td class=\"right\" data-stat=\"tov_pct\">14.0</td><td class=\"right\" data-stat=\"usg_pct\">20.6</td><td class=\"right iz\" data-stat=\"ws-dum\"></td><td class=\"right\" data-stat=\"ows\">0.6</td><td class=\"right\" data-stat=\"dws\">1.5</td><td class=\"right\" data-stat=\"ws\">2.1</td><td class=\"right\" data-stat=\"ws_per_48\">.110</td><td class=\"right iz\" data-stat=\"bpm-dum\"></td><td class=\"right\" data-stat=\"obpm\">-2.3</td><td class=\"right\" data-stat=\"dbpm\">-0.4</td><td class=\"right\" data-stat=\"bpm\">-2.6</td><td class=\"right\" data-stat=\"vorp\">-0.1</td></tr>,\n",
       " <tr class=\"full_table\" data-row=\"2\" id=\"advanced.1993\"><th class=\"left\" data-stat=\"season\" scope=\"row\"><a href=\"/players/a/abdelal01/gamelog/1993/\">1992-93</a></th><td class=\"center\" data-stat=\"age\">24</td><td class=\"left\" data-stat=\"team_id\">TOT</td><td class=\"left\" data-stat=\"lg_id\"><a href=\"/leagues/NBA_1993.html\">NBA</a></td><td class=\"center\" data-stat=\"pos\">PF</td><td class=\"right\" data-stat=\"g\">75</td><td class=\"right\" data-stat=\"mp\">1311</td><td class=\"right\" data-stat=\"per\">13.2</td><td class=\"right\" data-stat=\"ts_pct\">.551</td><td class=\"right\" data-stat=\"fg3a_per_fga_pct\">.002</td><td class=\"right\" data-stat=\"fta_per_fga_pct\">.245</td><td class=\"right\" data-stat=\"orb_pct\">11.0</td><td class=\"right\" data-stat=\"drb_pct\">18.1</td><td class=\"right\" data-stat=\"trb_pct\">14.6</td><td class=\"right\" data-stat=\"ast_pct\">3.0</td><td class=\"right\" data-stat=\"stl_pct\">1.0</td><td class=\"right\" data-stat=\"blk_pct\">1.2</td><td class=\"right\" data-stat=\"tov_pct\">15.6</td><td class=\"right\" data-stat=\"usg_pct\">20.5</td><td class=\"right iz\" data-stat=\"ws-dum\"></td><td class=\"right\" data-stat=\"ows\">0.7</td><td class=\"right\" data-stat=\"dws\">1.3</td><td class=\"right\" data-stat=\"ws\">2.0</td><td class=\"right\" data-stat=\"ws_per_48\">.074</td><td class=\"right iz\" data-stat=\"bpm-dum\"></td><td class=\"right\" data-stat=\"obpm\">-2.4</td><td class=\"right\" data-stat=\"dbpm\">-1.5</td><td class=\"right\" data-stat=\"bpm\">-3.9</td><td class=\"right\" data-stat=\"vorp\">-0.6</td></tr>,\n",
       " <tr class=\"light_text partial_table\" data-row=\"3\" id=\"advanced.1993\"><th class=\"left\" data-stat=\"season\" scope=\"row\"><a href=\"/players/a/abdelal01/gamelog/1993/\">1992-93</a></th><td class=\"center\" data-stat=\"age\">24</td><td class=\"left\" data-stat=\"team_id\"><a href=\"/teams/MIL/1993.html\">MIL</a></td><td class=\"left\" data-stat=\"lg_id\"><a href=\"/leagues/NBA_1993.html\">NBA</a></td><td class=\"center\" data-stat=\"pos\">PF</td><td class=\"right\" data-stat=\"g\">12</td><td class=\"right\" data-stat=\"mp\">159</td><td class=\"right\" data-stat=\"per\">11.9</td><td class=\"right\" data-stat=\"ts_pct\">.508</td><td class=\"right\" data-stat=\"fg3a_per_fga_pct\">.018</td><td class=\"right\" data-stat=\"fta_per_fga_pct\">.286</td><td class=\"right\" data-stat=\"orb_pct\">8.6</td><td class=\"right\" data-stat=\"drb_pct\">18.3</td><td class=\"right\" data-stat=\"trb_pct\">13.4</td><td class=\"right\" data-stat=\"ast_pct\">9.5</td><td class=\"right\" data-stat=\"stl_pct\">1.9</td><td class=\"right\" data-stat=\"blk_pct\">1.6</td><td class=\"right\" data-stat=\"tov_pct\">17.1</td><td class=\"right\" data-stat=\"usg_pct\">20.5</td><td class=\"right iz\" data-stat=\"ws-dum\"></td><td class=\"right iz\" data-stat=\"ows\">0.0</td><td class=\"right\" data-stat=\"dws\">0.2</td><td class=\"right\" data-stat=\"ws\">0.1</td><td class=\"right\" data-stat=\"ws_per_48\">.035</td><td class=\"right iz\" data-stat=\"bpm-dum\"></td><td class=\"right\" data-stat=\"obpm\">-3.3</td><td class=\"right\" data-stat=\"dbpm\">-0.2</td><td class=\"right\" data-stat=\"bpm\">-3.5</td><td class=\"right\" data-stat=\"vorp\">-0.1</td></tr>,\n",
       " <tr class=\"light_text partial_table\" data-row=\"4\" id=\"advanced.1993\"><th class=\"left\" data-stat=\"season\" scope=\"row\"><a href=\"/players/a/abdelal01/gamelog/1993/\">1992-93</a></th><td class=\"center\" data-stat=\"age\">24</td><td class=\"left\" data-stat=\"team_id\"><a href=\"/teams/BOS/1993.html\">BOS</a></td><td class=\"left\" data-stat=\"lg_id\"><a href=\"/leagues/NBA_1993.html\">NBA</a></td><td class=\"center\" data-stat=\"pos\">PF</td><td class=\"right\" data-stat=\"g\">63</td><td class=\"right\" data-stat=\"mp\">1152</td><td class=\"right\" data-stat=\"per\">13.4</td><td class=\"right\" data-stat=\"ts_pct\">.557</td><td class=\"right iz\" data-stat=\"fg3a_per_fga_pct\">.000</td><td class=\"right\" data-stat=\"fta_per_fga_pct\">.240</td><td class=\"right\" data-stat=\"orb_pct\">11.3</td><td class=\"right\" data-stat=\"drb_pct\">18.1</td><td class=\"right\" data-stat=\"trb_pct\">14.8</td><td class=\"right\" data-stat=\"ast_pct\">2.2</td><td class=\"right\" data-stat=\"stl_pct\">0.8</td><td class=\"right\" data-stat=\"blk_pct\">1.2</td><td class=\"right\" data-stat=\"tov_pct\">15.4</td><td class=\"right\" data-stat=\"usg_pct\">20.5</td><td class=\"right iz\" data-stat=\"ws-dum\"></td><td class=\"right\" data-stat=\"ows\">0.7</td><td class=\"right\" data-stat=\"dws\">1.2</td><td class=\"right\" data-stat=\"ws\">1.9</td><td class=\"right\" data-stat=\"ws_per_48\">.079</td><td class=\"right iz\" data-stat=\"bpm-dum\"></td><td class=\"right\" data-stat=\"obpm\">-2.3</td><td class=\"right\" data-stat=\"dbpm\">-1.7</td><td class=\"right\" data-stat=\"bpm\">-4.0</td><td class=\"right\" data-stat=\"vorp\">-0.6</td></tr>,\n",
       " <tr class=\"full_table\" data-row=\"5\" id=\"advanced.1994\"><th class=\"left\" data-stat=\"season\" scope=\"row\"><a href=\"/players/a/abdelal01/gamelog/1994/\">1993-94</a></th><td class=\"center\" data-stat=\"age\">25</td><td class=\"left\" data-stat=\"team_id\"><a href=\"/teams/BOS/1994.html\">BOS</a></td><td class=\"left\" data-stat=\"lg_id\"><a href=\"/leagues/NBA_1994.html\">NBA</a></td><td class=\"center\" data-stat=\"pos\">PF</td><td class=\"right\" data-stat=\"g\">13</td><td class=\"right\" data-stat=\"mp\">159</td><td class=\"right\" data-stat=\"per\">9.2</td><td class=\"right\" data-stat=\"ts_pct\">.485</td><td class=\"right iz\" data-stat=\"fg3a_per_fga_pct\">.000</td><td class=\"right\" data-stat=\"fta_per_fga_pct\">.455</td><td class=\"right\" data-stat=\"orb_pct\">8.5</td><td class=\"right\" data-stat=\"drb_pct\">24.2</td><td class=\"right\" data-stat=\"trb_pct\">16.3</td><td class=\"right\" data-stat=\"ast_pct\">2.7</td><td class=\"right\" data-stat=\"stl_pct\">0.6</td><td class=\"right\" data-stat=\"blk_pct\">1.2</td><td class=\"right\" data-stat=\"tov_pct\">20.5</td><td class=\"right\" data-stat=\"usg_pct\">22.6</td><td class=\"right iz\" data-stat=\"ws-dum\"></td><td class=\"right\" data-stat=\"ows\">-0.2</td><td class=\"right\" data-stat=\"dws\">0.1</td><td class=\"right\" data-stat=\"ws\">-0.1</td><td class=\"right\" data-stat=\"ws_per_48\">-0.032</td><td class=\"right iz\" data-stat=\"bpm-dum\"></td><td class=\"right\" data-stat=\"obpm\">-5.3</td><td class=\"right\" data-stat=\"dbpm\">-2.2</td><td class=\"right\" data-stat=\"bpm\">-7.4</td><td class=\"right\" data-stat=\"vorp\">-0.2</td></tr>,\n",
       " <tr class=\"full_table\" data-row=\"6\" id=\"advanced.1995\"><th class=\"left\" data-stat=\"season\" scope=\"row\"><a href=\"/players/a/abdelal01/gamelog/1995/\">1994-95</a></th><td class=\"center\" data-stat=\"age\">26</td><td class=\"left\" data-stat=\"team_id\">TOT</td><td class=\"left\" data-stat=\"lg_id\"><a href=\"/leagues/NBA_1995.html\">NBA</a></td><td class=\"center\" data-stat=\"pos\">PF</td><td class=\"right\" data-stat=\"g\">54</td><td class=\"right\" data-stat=\"mp\">506</td><td class=\"right\" data-stat=\"per\">12.6</td><td class=\"right\" data-stat=\"ts_pct\">.519</td><td class=\"right\" data-stat=\"fg3a_per_fga_pct\">.009</td><td class=\"right\" data-stat=\"fta_per_fga_pct\">.152</td><td class=\"right\" data-stat=\"orb_pct\">8.7</td><td class=\"right\" data-stat=\"drb_pct\">17.4</td><td class=\"right\" data-stat=\"trb_pct\">13.1</td><td class=\"right\" data-stat=\"ast_pct\">5.0</td><td class=\"right\" data-stat=\"stl_pct\">1.5</td><td class=\"right\" data-stat=\"blk_pct\">1.8</td><td class=\"right\" data-stat=\"tov_pct\">15.4</td><td class=\"right\" data-stat=\"usg_pct\">25.6</td><td class=\"right iz\" data-stat=\"ws-dum\"></td><td class=\"right\" data-stat=\"ows\">-0.4</td><td class=\"right\" data-stat=\"dws\">0.7</td><td class=\"right\" data-stat=\"ws\">0.3</td><td class=\"right\" data-stat=\"ws_per_48\">.027</td><td class=\"right iz\" data-stat=\"bpm-dum\"></td><td class=\"right\" data-stat=\"obpm\">-4.4</td><td class=\"right\" data-stat=\"dbpm\">0.1</td><td class=\"right\" data-stat=\"bpm\">-4.3</td><td class=\"right\" data-stat=\"vorp\">-0.3</td></tr>,\n",
       " <tr class=\"light_text partial_table\" data-row=\"7\" id=\"advanced.1995\"><th class=\"left\" data-stat=\"season\" scope=\"row\"><a href=\"/players/a/abdelal01/gamelog/1995/\">1994-95</a></th><td class=\"center\" data-stat=\"age\">26</td><td class=\"left\" data-stat=\"team_id\"><a href=\"/teams/SAC/1995.html\">SAC</a></td><td class=\"left\" data-stat=\"lg_id\"><a href=\"/leagues/NBA_1995.html\">NBA</a></td><td class=\"center\" data-stat=\"pos\">PF</td><td class=\"right\" data-stat=\"g\">51</td><td class=\"right\" data-stat=\"mp\">476</td><td class=\"right\" data-stat=\"per\">14.1</td><td class=\"right\" data-stat=\"ts_pct\">.540</td><td class=\"right\" data-stat=\"fg3a_per_fga_pct\">.009</td><td class=\"right\" data-stat=\"fta_per_fga_pct\">.159</td><td class=\"right\" data-stat=\"orb_pct\">8.5</td><td class=\"right\" data-stat=\"drb_pct\">17.3</td><td class=\"right\" data-stat=\"trb_pct\">13.0</td><td class=\"right\" data-stat=\"ast_pct\">5.3</td><td class=\"right\" data-stat=\"stl_pct\">1.6</td><td class=\"right\" data-stat=\"blk_pct\">1.9</td><td class=\"right\" data-stat=\"tov_pct\">14.5</td><td class=\"right\" data-stat=\"usg_pct\">25.7</td><td class=\"right iz\" data-stat=\"ws-dum\"></td><td class=\"right\" data-stat=\"ows\">-0.1</td><td class=\"right\" data-stat=\"dws\">0.7</td><td class=\"right\" data-stat=\"ws\">0.6</td><td class=\"right\" data-stat=\"ws_per_48\">.058</td><td class=\"right iz\" data-stat=\"bpm-dum\"></td><td class=\"right\" data-stat=\"obpm\">-3.6</td><td class=\"right\" data-stat=\"dbpm\">0.5</td><td class=\"right\" data-stat=\"bpm\">-3.1</td><td class=\"right\" data-stat=\"vorp\">-0.1</td></tr>,\n",
       " <tr class=\"light_text partial_table\" data-row=\"8\" id=\"advanced.1995\"><th class=\"left\" data-stat=\"season\" scope=\"row\"><a href=\"/players/a/abdelal01/gamelog/1995/\">1994-95</a></th><td class=\"center\" data-stat=\"age\">26</td><td class=\"left\" data-stat=\"team_id\"><a href=\"/teams/PHI/1995.html\">PHI</a></td><td class=\"left\" data-stat=\"lg_id\"><a href=\"/leagues/NBA_1995.html\">NBA</a></td><td class=\"center\" data-stat=\"pos\">PF</td><td class=\"right\" data-stat=\"g\">3</td><td class=\"right\" data-stat=\"mp\">30</td><td class=\"right\" data-stat=\"per\">-12.5</td><td class=\"right\" data-stat=\"ts_pct\">.091</td><td class=\"right iz\" data-stat=\"fg3a_per_fga_pct\">.000</td><td class=\"right iz\" data-stat=\"fta_per_fga_pct\">.000</td><td class=\"right\" data-stat=\"orb_pct\">11.6</td><td class=\"right\" data-stat=\"drb_pct\">19.6</td><td class=\"right\" data-stat=\"trb_pct\">15.5</td><td class=\"right iz\" data-stat=\"ast_pct\">0.0</td><td class=\"right iz\" data-stat=\"stl_pct\">0.0</td><td class=\"right iz\" data-stat=\"blk_pct\">0.0</td><td class=\"right\" data-stat=\"tov_pct\">31.3</td><td class=\"right\" data-stat=\"usg_pct\">23.8</td><td class=\"right iz\" data-stat=\"ws-dum\"></td><td class=\"right\" data-stat=\"ows\">-0.3</td><td class=\"right iz\" data-stat=\"dws\">0.0</td><td class=\"right\" data-stat=\"ws\">-0.3</td><td class=\"right\" data-stat=\"ws_per_48\">-0.466</td><td class=\"right iz\" data-stat=\"bpm-dum\"></td><td class=\"right\" data-stat=\"obpm\">-17.6</td><td class=\"right\" data-stat=\"dbpm\">-7.3</td><td class=\"right\" data-stat=\"bpm\">-24.9</td><td class=\"right\" data-stat=\"vorp\">-0.2</td></tr>]"
      ]
     },
     "metadata": {},
     "execution_count": 7
    }
   ],
   "source": [
    "from selenium import webdriver\n",
    "from selenium.webdriver.chrome.options import Options\n",
    "chrome_options = Options()\n",
    "chrome_options.add_argument(\"--headless\")\n",
    "driver = webdriver.Chrome(r'C:\\Users\\ASUS\\AppData\\Roaming\\Microsoft\\Windows\\Start Menu\\Programs\\Anaconda3 (64-bit)\\chromedriver.exe',options=chrome_options)\n",
    "driver.get(r'https://www.basketball-reference.com/players/a/abdelal01.html')\n",
    "data = driver.page_source\n",
    "driver.quit()\n",
    "test_soup = BeautifulSoup.BeautifulSoup(data,'html.parser')\n",
    "test2 = test_soup.find_all('tr',{'id':re.compile(pattern)})\n",
    "test2"
   ]
  },
  {
   "cell_type": "code",
   "execution_count": 8,
   "metadata": {},
   "outputs": [
    {
     "output_type": "execute_result",
     "data": {
      "text/plain": [
       "'Alaa Abdelnaby'"
      ]
     },
     "metadata": {},
     "execution_count": 8
    }
   ],
   "source": [
    "test_soup.find_all('h1',{'itemprop':'name'})[0].get_text().strip()"
   ]
  },
  {
   "cell_type": "code",
   "execution_count": 30,
   "metadata": {},
   "outputs": [
    {
     "output_type": "execute_result",
     "data": {
      "text/plain": [
       "'POR'"
      ]
     },
     "metadata": {},
     "execution_count": 30
    }
   ],
   "source": [
    "test2[0].find_all('td',{\"data-stat\":\"team_id\"})[0].get_text()"
   ]
  },
  {
   "cell_type": "code",
   "execution_count": 34,
   "metadata": {},
   "outputs": [
    {
     "output_type": "execute_result",
     "data": {
      "text/plain": [
       "'0.5'"
      ]
     },
     "metadata": {},
     "execution_count": 34
    }
   ],
   "source": [
    "test2[0].find_all('td',{\"data-stat\":\"ws\"})[0].get_text()"
   ]
  },
  {
   "cell_type": "code",
   "execution_count": 1,
   "metadata": {},
   "outputs": [],
   "source": [
    "A = [1]\n",
    "A.extend([2,3,4])"
   ]
  },
  {
   "cell_type": "code",
   "execution_count": 2,
   "metadata": {},
   "outputs": [
    {
     "output_type": "execute_result",
     "data": {
      "text/plain": [
       "[1, 2, 3, 4]"
      ]
     },
     "metadata": {},
     "execution_count": 2
    }
   ],
   "source": [
    "A"
   ]
  },
  {
   "cell_type": "code",
   "execution_count": null,
   "metadata": {},
   "outputs": [],
   "source": []
  }
 ]
}