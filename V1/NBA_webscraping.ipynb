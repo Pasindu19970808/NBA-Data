{
 "metadata": {
  "language_info": {
   "codemirror_mode": {
    "name": "ipython",
    "version": 3
   },
   "file_extension": ".py",
   "mimetype": "text/x-python",
   "name": "python",
   "nbconvert_exporter": "python",
   "pygments_lexer": "ipython3",
   "version": "3.7.3-final"
  },
  "orig_nbformat": 2,
  "kernelspec": {
   "name": "python3",
   "display_name": "Python 3",
   "language": "python"
  }
 },
 "nbformat": 4,
 "nbformat_minor": 2,
 "cells": [
  {
   "cell_type": "code",
   "execution_count": 2,
   "metadata": {},
   "outputs": [],
   "source": [
    "import bs4 as BeautifulSoup\n",
    "import urllib.request\n",
    "import pandas as pd\n",
    "import numpy as np\n",
    "import re\n",
    "main_url = 'https://www.basketball-reference.com/players/'\n",
    "#It was not seen prior that there are no players whos surnames start with x, hence an exception was thrown at letter x. \n",
    "#To save time, the available array was copied to another array and the remaining letters were processed \n",
    "letters = 'abcdefghijklmnopqrstuvwyz'\n",
    "letters_list = list(letters)"
   ]
  },
  {
   "cell_type": "code",
   "execution_count": 3,
   "metadata": {},
   "outputs": [
    {
     "output_type": "stream",
     "name": "stdout",
     "text": [
      "a\n",
      "(1036, 33)\n",
      "b\n",
      "(3330, 33)\n",
      "c\n",
      "(4927, 33)\n",
      "d\n",
      "(6140, 33)\n",
      "e\n",
      "(6684, 33)\n",
      "f\n",
      "(7239, 33)\n",
      "g\n",
      "(8467, 33)\n",
      "h\n",
      "(10092, 33)\n",
      "i\n",
      "(10259, 33)\n",
      "j\n",
      "(11565, 33)\n",
      "k\n",
      "(12207, 33)\n",
      "l\n",
      "(13108, 33)\n",
      "m\n",
      "(15370, 33)\n",
      "n\n",
      "(15890, 33)\n",
      "o\n",
      "(16344, 33)\n",
      "p\n",
      "(17443, 33)\n",
      "q\n",
      "(17460, 33)\n",
      "r\n",
      "(18683, 33)\n",
      "s\n",
      "(20412, 33)\n",
      "t\n",
      "(21359, 33)\n",
      "u\n",
      "(21433, 33)\n",
      "v\n",
      "(21738, 33)\n",
      "w\n",
      "(23668, 33)\n",
      "y\n",
      "(23751, 33)\n",
      "z\n",
      "(23802, 33)\n"
     ]
    }
   ],
   "source": [
    "\"\"\" htmldata = urllib.request.urlopen('https://www.basketball-reference.com/players/a/')\n",
    "bsoup = BeautifulSoup.BeautifulSoup(htmldata,'html.parser')\n",
    "complete_array = None\n",
    "Data_list = None \"\"\"\n",
    "main_array = None\n",
    "player_id = 640\n",
    "for letter in letters_list:\n",
    "    print(letter)\n",
    "    try:\n",
    "        htmldata = urllib.request.urlopen('https://www.basketball-reference.com/players/' + letter +'/')\n",
    "    except:\n",
    "        continue\n",
    "    bsoup = BeautifulSoup.BeautifulSoup(htmldata,'html.parser')\n",
    "    #a placeholder matrix\n",
    "    complete_array = np.zeros(shape=(1,1))\n",
    "    Data_list = None\n",
    "    for i in range(1,len(bsoup.find_all('tr'))):\n",
    "        #we collect only players who played after 1980\n",
    "        if int(bsoup.find_all('tr')[i].find('td',{'data-stat':'year_max'}).get_text())>1980:\n",
    "            href = bsoup.find_all('tr')[i].find_all('a')[0].attrs['href']\n",
    "            try:\n",
    "                player_html = urllib.request.urlopen(main_url + letter + \"/\" + href.split('/')[-1])\n",
    "            except:\n",
    "                #due to errors in the html page, some href do not work hence we skip these\n",
    "                continue\n",
    "            player_bsoup = BeautifulSoup.BeautifulSoup(player_html,'html.parser')\n",
    "            #get draft year\n",
    "            pattern = r'[0-9]\\sNBA Draft'\n",
    "            draft_year_list = player_bsoup.find_all('a',text = re.compile(pattern))\n",
    "            if (len(draft_year_list)>0):\n",
    "                draft_year = draft_year_list[0].get_text().split()[0]\n",
    "            else:\n",
    "                draft_year = \"Undrafted\"\n",
    "            if Data_list == None:\n",
    "                Data_list = [item.get_text() for item in player_bsoup.find_all('th') if 'aria-label' in item.attrs.keys()]\n",
    "                Data_list.insert(0,'Name')\n",
    "\n",
    "            player_dataarray = np.empty(shape = (len(player_bsoup.find_all('tbody')[0].find_all('tr')),len(Data_list)), dtype = np.object)\n",
    "            for j in range(0,len(player_bsoup.find_all('tbody')[0].find_all('tr'))):\n",
    "                data_row = [player_bsoup.find_all('h1',{'itemprop':'name'})[0].get_text().strip()]\n",
    "                #getting season\n",
    "                try:\n",
    "                    #some players wont play some years, at those instances, this code will throw exception\n",
    "                    #hence we continue to the next year\n",
    "                    data_row.extend([player_bsoup.find_all('tbody')[0].find_all('tr')[j].find_all('th')[0].get_text()])\n",
    "                    #adding rest of data    \n",
    "                    [data_row.append(data) for data in [td.get_text() if td.get_text() != \"\" else np.nan for td in (player_bsoup.find_all                     ('tbody')[0].find_all('tr')[j].find_all('td'))]]    \n",
    "                except:\n",
    "                    continue\n",
    "                try:     \n",
    "                    player_dataarray[j,:]  = np.array(data_row)\n",
    "                except:\n",
    "                    #any player who doesnt have ['Name','Season','Age','Tm','Lg','Pos','G','GS','MP','FG','FGA','FG%','3P','3PA','3P%', '2P''2PA','2P%','eFG%','FT','FTA','FT%','ORB','DRB','TRB','AST','STL','BLK','TOV','PF','PTS'] as there stats are not considered. Majority of players after 1980 will have these stats as these were collected and recorded in this era of basketball\n",
    "                    break\n",
    "        else:\n",
    "            continue\n",
    "        if i == 1:\n",
    "            player_id = player_id + 1\n",
    "            id_array = np.array([player_id]*player_dataarray.shape[0]).reshape(-1,1)\n",
    "            draft_array = np.array([draft_year]*player_dataarray.shape[0]).reshape(-1,1)\n",
    "            complete_array = np.c_[id_array,player_dataarray,draft_array]\n",
    "        else:\n",
    "            player_id = player_id + 1\n",
    "            id_array = np.array([player_id]*player_dataarray.shape[0]).reshape(-1,1)\n",
    "            draft_array = np.array([draft_year]*player_dataarray.shape[0]).reshape(-1,1)\n",
    "            if complete_array.shape != (1,1):\n",
    "                complete_array = np.vstack((complete_array,np.c_[id_array,player_dataarray,draft_array]))\n",
    "            else:\n",
    "                complete_array = np.c_[id_array,player_dataarray,draft_array]\n",
    "    if letter == letters_list[0]:\n",
    "        main_array = complete_array\n",
    "        print(main_array.shape)\n",
    "    else:\n",
    "        main_array = np.vstack((main_array,complete_array))\n",
    "        print(main_array.shape)\n",
    "        "
   ]
  },
  {
   "cell_type": "code",
   "execution_count": 4,
   "metadata": {},
   "outputs": [
    {
     "output_type": "execute_result",
     "data": {
      "text/plain": [
       "True"
      ]
     },
     "metadata": {},
     "execution_count": 4
    }
   ],
   "source": [
    "temp = np.zeros(shape = (1,1))\n",
    "temp.shape == (1,1)\n"
   ]
  },
  {
   "cell_type": "code",
   "execution_count": 5,
   "metadata": {},
   "outputs": [],
   "source": [
    "atoc_array = main_array"
   ]
  },
  {
   "cell_type": "code",
   "execution_count": 6,
   "metadata": {},
   "outputs": [
    {
     "output_type": "execute_result",
     "data": {
      "text/plain": [
       "array([[641, 'Alaa Abdelnaby', '1990-91', ..., '0.9', '3.1', '1990'],\n",
       "       [641, 'Alaa Abdelnaby', '1991-92', ..., '1.9', '6.1', '1990'],\n",
       "       [641, 'Alaa Abdelnaby', '1992-93', ..., '2.5', '7.7', '1990'],\n",
       "       ...,\n",
       "       [3856, 'Ivica Zubac', '2018-19', ..., '2.5', '9.4', '2016'],\n",
       "       [3856, 'Ivica Zubac', '2019-20', ..., '2.3', '8.3', '2016'],\n",
       "       [3856, 'Ivica Zubac', '2020-21', ..., '2.4', '7.8', '2016']],\n",
       "      dtype=object)"
      ]
     },
     "metadata": {},
     "execution_count": 6
    }
   ],
   "source": [
    "atoc_array"
   ]
  },
  {
   "cell_type": "code",
   "execution_count": 7,
   "metadata": {},
   "outputs": [
    {
     "output_type": "execute_result",
     "data": {
      "text/plain": [
       "array([[641, 'Alaa Abdelnaby', '1990-91', ..., '0.9', '3.1', '1990'],\n",
       "       [641, 'Alaa Abdelnaby', '1991-92', ..., '1.9', '6.1', '1990'],\n",
       "       [641, 'Alaa Abdelnaby', '1992-93', ..., '2.5', '7.7', '1990'],\n",
       "       ...,\n",
       "       [3856, 'Ivica Zubac', '2018-19', ..., '2.5', '9.4', '2016'],\n",
       "       [3856, 'Ivica Zubac', '2019-20', ..., '2.3', '8.3', '2016'],\n",
       "       [3856, 'Ivica Zubac', '2020-21', ..., '2.4', '7.8', '2016']],\n",
       "      dtype=object)"
      ]
     },
     "metadata": {},
     "execution_count": 7
    }
   ],
   "source": [
    "final_array = np.vstack((atoc_array, main_array))\n",
    "final_array"
   ]
  },
  {
   "cell_type": "code",
   "execution_count": 17,
   "metadata": {},
   "outputs": [
    {
     "output_type": "execute_result",
     "data": {
      "text/plain": [
       "['PlayerID',\n",
       " 'Name',\n",
       " 'Season',\n",
       " 'Age',\n",
       " 'Tm',\n",
       " 'Lg',\n",
       " 'Pos',\n",
       " 'G',\n",
       " 'GS',\n",
       " 'MP',\n",
       " 'FG',\n",
       " 'FGA',\n",
       " 'FG%',\n",
       " '3P',\n",
       " '3PA',\n",
       " '3P%',\n",
       " '2P',\n",
       " '2PA',\n",
       " '2P%',\n",
       " 'eFG%',\n",
       " 'FT',\n",
       " 'FTA',\n",
       " 'FT%',\n",
       " 'ORB',\n",
       " 'DRB',\n",
       " 'TRB',\n",
       " 'AST',\n",
       " 'STL',\n",
       " 'BLK',\n",
       " 'TOV',\n",
       " 'PF',\n",
       " 'PTS',\n",
       " 'Draft Year']"
      ]
     },
     "metadata": {},
     "execution_count": 17
    }
   ],
   "source": [
    "Data_list"
   ]
  },
  {
   "cell_type": "code",
   "execution_count": 18,
   "metadata": {},
   "outputs": [
    {
     "output_type": "execute_result",
     "data": {
      "text/plain": [
       "      PlayerID                 Name   Season Age   Tm   Lg Pos   G   GS    MP  \\\n",
       "0          641       Alaa Abdelnaby  1990-91  22  POR  NBA  PF  43    0   6.7   \n",
       "1          641       Alaa Abdelnaby  1991-92  23  POR  NBA  PF  71    1  13.2   \n",
       "2          641       Alaa Abdelnaby  1992-93  24  TOT  NBA  PF  75   52  17.5   \n",
       "3          641       Alaa Abdelnaby  1992-93  24  MIL  NBA  PF  12    0  13.3   \n",
       "4          641       Alaa Abdelnaby  1992-93  24  BOS  NBA  PF  63   52  18.3   \n",
       "5          641       Alaa Abdelnaby  1993-94  25  BOS  NBA  PF  13    0  12.2   \n",
       "6          641       Alaa Abdelnaby  1994-95  26  TOT  NBA  PF  54    0   9.4   \n",
       "7          641       Alaa Abdelnaby  1994-95  26  SAC  NBA  PF  51    0   9.3   \n",
       "8          641       Alaa Abdelnaby  1994-95  26  PHI  NBA  PF   3    0  10.0   \n",
       "9          642  Kareem Abdul-Jabbar  1969-70  22  MIL  NBA   C  82  nan  43.1   \n",
       "10         642  Kareem Abdul-Jabbar  1970-71  23  MIL  NBA   C  82  nan  40.1   \n",
       "11         642  Kareem Abdul-Jabbar  1971-72  24  MIL  NBA   C  81  nan  44.2   \n",
       "12         642  Kareem Abdul-Jabbar  1972-73  25  MIL  NBA   C  76  nan  42.8   \n",
       "13         642  Kareem Abdul-Jabbar  1973-74  26  MIL  NBA   C  81  nan  43.8   \n",
       "14         642  Kareem Abdul-Jabbar  1974-75  27  MIL  NBA   C  65  nan  42.3   \n",
       "15         642  Kareem Abdul-Jabbar  1975-76  28  LAL  NBA   C  82  nan  41.2   \n",
       "16         642  Kareem Abdul-Jabbar  1976-77  29  LAL  NBA   C  82  nan  36.8   \n",
       "17         642  Kareem Abdul-Jabbar  1977-78  30  LAL  NBA   C  62  nan  36.5   \n",
       "18         642  Kareem Abdul-Jabbar  1978-79  31  LAL  NBA   C  80  nan  39.5   \n",
       "19         642  Kareem Abdul-Jabbar  1979-80  32  LAL  NBA   C  82  nan  38.3   \n",
       "20         642  Kareem Abdul-Jabbar  1980-81  33  LAL  NBA   C  80  nan  37.2   \n",
       "21         642  Kareem Abdul-Jabbar  1981-82  34  LAL  NBA   C  76   76  35.2   \n",
       "22         642  Kareem Abdul-Jabbar  1982-83  35  LAL  NBA   C  79   79  32.3   \n",
       "23         642  Kareem Abdul-Jabbar  1983-84  36  LAL  NBA   C  80   80  32.8   \n",
       "24         642  Kareem Abdul-Jabbar  1984-85  37  LAL  NBA   C  79   79  33.3   \n",
       "25         642  Kareem Abdul-Jabbar  1985-86  38  LAL  NBA   C  79   79  33.3   \n",
       "26         642  Kareem Abdul-Jabbar  1986-87  39  LAL  NBA   C  78   78  31.3   \n",
       "27         642  Kareem Abdul-Jabbar  1987-88  40  LAL  NBA   C  80   80  28.9   \n",
       "28         642  Kareem Abdul-Jabbar  1988-89  41  LAL  NBA   C  74   74  22.9   \n",
       "29         643   Mahmoud Abdul-Rauf  1990-91  21  DEN  NBA  PG  67   19  22.5   \n",
       "...        ...                  ...      ...  ..  ...  ...  ..  ..  ...   ...   \n",
       "23772     3848     Phil Zevenbergen  1987-88  23  SAS  NBA   C   8    0   7.3   \n",
       "23773     3849          Wang Zhizhi  2000-01  23  DAL  NBA   C   5    0   7.6   \n",
       "23774     3849          Wang Zhizhi  2001-02  24  DAL  NBA   C  55    0  10.9   \n",
       "23775     3849          Wang Zhizhi  2002-03  25  LAC  NBA   C  41    1  10.0   \n",
       "23776     3849          Wang Zhizhi  2003-04  26  TOT  NBA   C  16    0   7.1   \n",
       "23777     3849          Wang Zhizhi  2003-04  26  LAC  NBA   C   2    0   4.5   \n",
       "23778     3849          Wang Zhizhi  2003-04  26  MIA  NBA   C  14    0   7.5   \n",
       "23779     3849          Wang Zhizhi  2004-05  27  MIA  NBA   C  20    0   4.6   \n",
       "23780     3850         George Zídek  1995-96  22  CHH  NBA   C  71   21  12.5   \n",
       "23781     3850         George Zídek  1996-97  23  TOT  NBA   C  52    2   7.2   \n",
       "23782     3850         George Zídek  1996-97  23  CHH  NBA   C  36    2   8.0   \n",
       "23783     3850         George Zídek  1996-97  23  DEN  NBA   C  16    0   5.5   \n",
       "23784     3850         George Zídek  1997-98  24  TOT  NBA   C  12    0   5.3   \n",
       "23785     3850         George Zídek  1997-98  24  DEN  NBA   C   6    0   7.0   \n",
       "23786     3850         George Zídek  1997-98  24  SEA  NBA   C   6    0   3.7   \n",
       "23787     3851    Derrick Zimmerman  2005-06  24  NJN  NBA  PG   2    0  16.0   \n",
       "23788     3852    Stephen Zimmerman  2016-17  20  ORL  NBA   C  19    0   5.7   \n",
       "23789     3853          Paul Zipser  2016-17  22  CHI  NBA  SF  44   18  19.2   \n",
       "23790     3853          Paul Zipser  2017-18  23  CHI  NBA  SF  54   12  15.3   \n",
       "23791     3854           Ante Žižić  2017-18  21  CLE  NBA   C  32    2   6.7   \n",
       "23792     3854           Ante Žižić  2018-19  22  CLE  NBA   C  59   25  18.3   \n",
       "23793     3854           Ante Žižić  2019-20  23  CLE  NBA   C  22    0  10.0   \n",
       "23794     3855             Jim Zoet  1982-83  29  DET  NBA   C   7    0   4.3   \n",
       "23795     3856          Ivica Zubac  2016-17  19  LAL  NBA   C  38   11  16.0   \n",
       "23796     3856          Ivica Zubac  2017-18  20  LAL  NBA   C  43    0   9.5   \n",
       "23797     3856          Ivica Zubac  2018-19  21  TOT  NBA   C  59   37  17.6   \n",
       "23798     3856          Ivica Zubac  2018-19  21  LAL  NBA   C  33   12  15.6   \n",
       "23799     3856          Ivica Zubac  2018-19  21  LAC  NBA   C  26   25  20.2   \n",
       "23800     3856          Ivica Zubac  2019-20  22  LAC  NBA   C  72   70  18.4   \n",
       "23801     3856          Ivica Zubac  2020-21  23  LAC  NBA   C  26    1  19.5   \n",
       "\n",
       "       ...  ORB   DRB   TRB  AST  STL  BLK  TOV   PF   PTS Draft Year  \n",
       "0      ...  0.6   1.4   2.1  0.3  0.1  0.3  0.5  0.9   3.1       1990  \n",
       "1      ...  1.1   2.5   3.7  0.4  0.4  0.2  0.9  1.9   6.1       1990  \n",
       "2      ...  1.7   2.8   4.5  0.4  0.3  0.3  1.3  2.5   7.7       1990  \n",
       "3      ...  1.0   2.1   3.1  0.8  0.5  0.3  1.1  2.0   5.3       1990  \n",
       "4      ...  1.8   3.0   4.8  0.3  0.3  0.3  1.3  2.6   8.2       1990  \n",
       "5      ...  0.9   2.6   3.5  0.2  0.2  0.2  1.3  1.5   4.9       1990  \n",
       "6      ...  0.7   1.4   2.1  0.2  0.3  0.2  0.8  1.9   4.7       1990  \n",
       "7      ...  0.7   1.4   2.1  0.3  0.3  0.2  0.8  2.0   5.0       1990  \n",
       "8      ...  1.0   1.7   2.7  0.0  0.0  0.0  1.7  0.7   0.7       1990  \n",
       "9      ...  nan   nan  14.5  4.1  nan  nan  nan  3.5  28.8       1969  \n",
       "10     ...  nan   nan  16.0  3.3  nan  nan  nan  3.2  31.7       1969  \n",
       "11     ...  nan   nan  16.6  4.6  nan  nan  nan  2.9  34.8       1969  \n",
       "12     ...  nan   nan  16.1  5.0  nan  nan  nan  2.7  30.2       1969  \n",
       "13     ...  3.5  11.0  14.5  4.8  1.4  3.5  nan  2.9  27.0       1969  \n",
       "14     ...  3.0  11.0  14.0  4.1  1.0  3.3  nan  3.2  30.0       1969  \n",
       "15     ...  3.3  13.5  16.9  5.0  1.5  4.1  nan  3.6  27.7       1969  \n",
       "16     ...  3.2  10.0  13.3  3.9  1.2  3.2  nan  3.2  26.2       1969  \n",
       "17     ...  3.0   9.9  12.9  4.3  1.7  3.0  3.4  2.9  25.8       1969  \n",
       "18     ...  2.6  10.2  12.8  5.4  1.0  4.0  3.5  2.9  23.8       1969  \n",
       "19     ...  2.3   8.5  10.8  4.5  1.0  3.4  3.6  2.6  24.8       1969  \n",
       "20     ...  2.5   7.8  10.3  3.4  0.7  2.9  3.1  3.1  26.2       1969  \n",
       "21     ...  2.3   6.4   8.7  3.0  0.8  2.7  3.0  2.9  23.9       1969  \n",
       "22     ...  2.1   5.4   7.5  2.5  0.8  2.2  2.5  2.8  21.8       1969  \n",
       "23     ...  2.1   5.2   7.3  2.6  0.7  1.8  2.8  2.6  21.5       1969  \n",
       "24     ...  2.1   5.8   7.9  3.2  0.8  2.1  2.5  3.0  22.0       1969  \n",
       "25     ...  1.7   4.4   6.1  3.5  0.8  1.6  2.6  3.1  23.4       1969  \n",
       "26     ...  1.9   4.8   6.7  2.6  0.6  1.2  2.4  3.1  17.5       1969  \n",
       "27     ...  1.5   4.5   6.0  1.7  0.6  1.2  2.0  2.7  14.6       1969  \n",
       "28     ...  1.4   3.1   4.5  1.0  0.5  1.1  1.3  2.6  10.1       1969  \n",
       "29     ...  0.5   1.3   1.8  3.1  0.8  0.1  1.6  2.2  14.1       1990  \n",
       "...    ...  ...   ...   ...  ...  ...  ...  ...  ...   ...        ...  \n",
       "23772  ...  0.5   1.1   1.6  0.4  0.4  0.1  0.5  1.5   3.8       1987  \n",
       "23773  ...  0.2   1.2   1.4  0.0  0.0  0.0  0.2  1.6   4.8       1999  \n",
       "23774  ...  0.3   1.7   2.0  0.4  0.2  0.3  0.5  1.5   5.6       1999  \n",
       "23775  ...  0.6   1.2   1.9  0.2  0.2  0.2  0.8  1.0   4.4       1999  \n",
       "23776  ...  0.3   0.9   1.1  0.1  0.2  0.3  0.4  0.8   2.9       1999  \n",
       "23777  ...  0.0   2.0   2.0  0.0  0.0  0.5  0.0  0.0   2.0       1999  \n",
       "23778  ...  0.3   0.7   1.0  0.1  0.2  0.3  0.4  0.9   3.1       1999  \n",
       "23779  ...  0.3   0.6   0.9  0.3  0.2  0.1  0.3  0.5   2.2       1999  \n",
       "23780  ...  1.0   1.6   2.6  0.2  0.1  0.1  0.5  2.4   4.0       1995  \n",
       "23781  ...  0.7   1.0   1.7  0.3  0.1  0.1  0.5  1.2   2.8       1995  \n",
       "23782  ...  0.7   1.1   1.8  0.3  0.1  0.1  0.6  1.2   2.5       1995  \n",
       "23783  ...  0.6   0.8   1.4  0.3  0.1  0.0  0.3  1.1   3.3       1995  \n",
       "23784  ...  0.3   1.1   1.4  0.2  0.0  0.2  0.3  0.8   2.4       1995  \n",
       "23785  ...  0.7   1.5   2.2  0.2  0.0  0.3  0.5  0.8   3.0       1995  \n",
       "23786  ...  0.0   0.7   0.7  0.2  0.0  0.0  0.2  0.8   1.8       1995  \n",
       "23787  ...  0.5   1.5   2.0  3.5  0.0  0.0  2.0  2.0   2.0       2003  \n",
       "23788  ...  0.6   1.3   1.8  0.2  0.1  0.3  0.2  0.9   1.2       2016  \n",
       "23789  ...  0.3   2.5   2.8  0.8  0.3  0.4  0.9  1.8   5.5       2016  \n",
       "23790  ...  0.2   2.2   2.4  0.9  0.4  0.3  0.8  1.6   4.0       2016  \n",
       "23791  ...  0.8   1.1   1.9  0.2  0.1  0.4  0.3  0.9   3.7       2016  \n",
       "23792  ...  1.8   3.6   5.4  0.9  0.2  0.4  1.0  1.9   7.8       2016  \n",
       "23793  ...  0.8   2.2   3.0  0.3  0.3  0.2  0.5  1.2   4.4       2016  \n",
       "23794  ...  0.4   0.7   1.1  0.1  0.1  0.4  0.6  1.3   0.3  Undrafted  \n",
       "23795  ...  1.1   3.1   4.2  0.8  0.4  0.9  0.8  1.7   7.5       2016  \n",
       "23796  ...  1.0   1.8   2.9  0.6  0.2  0.3  0.6  1.1   3.7       2016  \n",
       "23797  ...  1.9   4.2   6.1  1.1  0.2  0.9  1.2  2.3   8.9       2016  \n",
       "23798  ...  1.6   3.3   4.9  0.8  0.1  0.8  1.0  2.2   8.5       2016  \n",
       "23799  ...  2.3   5.3   7.7  1.5  0.4  0.9  1.4  2.5   9.4       2016  \n",
       "23800  ...  2.7   4.8   7.5  1.1  0.2  0.9  0.8  2.3   8.3       2016  \n",
       "23801  ...  2.3   4.3   6.6  1.0  0.4  0.9  1.0  2.4   7.8       2016  \n",
       "\n",
       "[23802 rows x 33 columns]"
      ],
      "text/html": "<div>\n<style scoped>\n    .dataframe tbody tr th:only-of-type {\n        vertical-align: middle;\n    }\n\n    .dataframe tbody tr th {\n        vertical-align: top;\n    }\n\n    .dataframe thead th {\n        text-align: right;\n    }\n</style>\n<table border=\"1\" class=\"dataframe\">\n  <thead>\n    <tr style=\"text-align: right;\">\n      <th></th>\n      <th>PlayerID</th>\n      <th>Name</th>\n      <th>Season</th>\n      <th>Age</th>\n      <th>Tm</th>\n      <th>Lg</th>\n      <th>Pos</th>\n      <th>G</th>\n      <th>GS</th>\n      <th>MP</th>\n      <th>...</th>\n      <th>ORB</th>\n      <th>DRB</th>\n      <th>TRB</th>\n      <th>AST</th>\n      <th>STL</th>\n      <th>BLK</th>\n      <th>TOV</th>\n      <th>PF</th>\n      <th>PTS</th>\n      <th>Draft Year</th>\n    </tr>\n  </thead>\n  <tbody>\n    <tr>\n      <th>0</th>\n      <td>641</td>\n      <td>Alaa Abdelnaby</td>\n      <td>1990-91</td>\n      <td>22</td>\n      <td>POR</td>\n      <td>NBA</td>\n      <td>PF</td>\n      <td>43</td>\n      <td>0</td>\n      <td>6.7</td>\n      <td>...</td>\n      <td>0.6</td>\n      <td>1.4</td>\n      <td>2.1</td>\n      <td>0.3</td>\n      <td>0.1</td>\n      <td>0.3</td>\n      <td>0.5</td>\n      <td>0.9</td>\n      <td>3.1</td>\n      <td>1990</td>\n    </tr>\n    <tr>\n      <th>1</th>\n      <td>641</td>\n      <td>Alaa Abdelnaby</td>\n      <td>1991-92</td>\n      <td>23</td>\n      <td>POR</td>\n      <td>NBA</td>\n      <td>PF</td>\n      <td>71</td>\n      <td>1</td>\n      <td>13.2</td>\n      <td>...</td>\n      <td>1.1</td>\n      <td>2.5</td>\n      <td>3.7</td>\n      <td>0.4</td>\n      <td>0.4</td>\n      <td>0.2</td>\n      <td>0.9</td>\n      <td>1.9</td>\n      <td>6.1</td>\n      <td>1990</td>\n    </tr>\n    <tr>\n      <th>2</th>\n      <td>641</td>\n      <td>Alaa Abdelnaby</td>\n      <td>1992-93</td>\n      <td>24</td>\n      <td>TOT</td>\n      <td>NBA</td>\n      <td>PF</td>\n      <td>75</td>\n      <td>52</td>\n      <td>17.5</td>\n      <td>...</td>\n      <td>1.7</td>\n      <td>2.8</td>\n      <td>4.5</td>\n      <td>0.4</td>\n      <td>0.3</td>\n      <td>0.3</td>\n      <td>1.3</td>\n      <td>2.5</td>\n      <td>7.7</td>\n      <td>1990</td>\n    </tr>\n    <tr>\n      <th>3</th>\n      <td>641</td>\n      <td>Alaa Abdelnaby</td>\n      <td>1992-93</td>\n      <td>24</td>\n      <td>MIL</td>\n      <td>NBA</td>\n      <td>PF</td>\n      <td>12</td>\n      <td>0</td>\n      <td>13.3</td>\n      <td>...</td>\n      <td>1.0</td>\n      <td>2.1</td>\n      <td>3.1</td>\n      <td>0.8</td>\n      <td>0.5</td>\n      <td>0.3</td>\n      <td>1.1</td>\n      <td>2.0</td>\n      <td>5.3</td>\n      <td>1990</td>\n    </tr>\n    <tr>\n      <th>4</th>\n      <td>641</td>\n      <td>Alaa Abdelnaby</td>\n      <td>1992-93</td>\n      <td>24</td>\n      <td>BOS</td>\n      <td>NBA</td>\n      <td>PF</td>\n      <td>63</td>\n      <td>52</td>\n      <td>18.3</td>\n      <td>...</td>\n      <td>1.8</td>\n      <td>3.0</td>\n      <td>4.8</td>\n      <td>0.3</td>\n      <td>0.3</td>\n      <td>0.3</td>\n      <td>1.3</td>\n      <td>2.6</td>\n      <td>8.2</td>\n      <td>1990</td>\n    </tr>\n    <tr>\n      <th>5</th>\n      <td>641</td>\n      <td>Alaa Abdelnaby</td>\n      <td>1993-94</td>\n      <td>25</td>\n      <td>BOS</td>\n      <td>NBA</td>\n      <td>PF</td>\n      <td>13</td>\n      <td>0</td>\n      <td>12.2</td>\n      <td>...</td>\n      <td>0.9</td>\n      <td>2.6</td>\n      <td>3.5</td>\n      <td>0.2</td>\n      <td>0.2</td>\n      <td>0.2</td>\n      <td>1.3</td>\n      <td>1.5</td>\n      <td>4.9</td>\n      <td>1990</td>\n    </tr>\n    <tr>\n      <th>6</th>\n      <td>641</td>\n      <td>Alaa Abdelnaby</td>\n      <td>1994-95</td>\n      <td>26</td>\n      <td>TOT</td>\n      <td>NBA</td>\n      <td>PF</td>\n      <td>54</td>\n      <td>0</td>\n      <td>9.4</td>\n      <td>...</td>\n      <td>0.7</td>\n      <td>1.4</td>\n      <td>2.1</td>\n      <td>0.2</td>\n      <td>0.3</td>\n      <td>0.2</td>\n      <td>0.8</td>\n      <td>1.9</td>\n      <td>4.7</td>\n      <td>1990</td>\n    </tr>\n    <tr>\n      <th>7</th>\n      <td>641</td>\n      <td>Alaa Abdelnaby</td>\n      <td>1994-95</td>\n      <td>26</td>\n      <td>SAC</td>\n      <td>NBA</td>\n      <td>PF</td>\n      <td>51</td>\n      <td>0</td>\n      <td>9.3</td>\n      <td>...</td>\n      <td>0.7</td>\n      <td>1.4</td>\n      <td>2.1</td>\n      <td>0.3</td>\n      <td>0.3</td>\n      <td>0.2</td>\n      <td>0.8</td>\n      <td>2.0</td>\n      <td>5.0</td>\n      <td>1990</td>\n    </tr>\n    <tr>\n      <th>8</th>\n      <td>641</td>\n      <td>Alaa Abdelnaby</td>\n      <td>1994-95</td>\n      <td>26</td>\n      <td>PHI</td>\n      <td>NBA</td>\n      <td>PF</td>\n      <td>3</td>\n      <td>0</td>\n      <td>10.0</td>\n      <td>...</td>\n      <td>1.0</td>\n      <td>1.7</td>\n      <td>2.7</td>\n      <td>0.0</td>\n      <td>0.0</td>\n      <td>0.0</td>\n      <td>1.7</td>\n      <td>0.7</td>\n      <td>0.7</td>\n      <td>1990</td>\n    </tr>\n    <tr>\n      <th>9</th>\n      <td>642</td>\n      <td>Kareem Abdul-Jabbar</td>\n      <td>1969-70</td>\n      <td>22</td>\n      <td>MIL</td>\n      <td>NBA</td>\n      <td>C</td>\n      <td>82</td>\n      <td>nan</td>\n      <td>43.1</td>\n      <td>...</td>\n      <td>nan</td>\n      <td>nan</td>\n      <td>14.5</td>\n      <td>4.1</td>\n      <td>nan</td>\n      <td>nan</td>\n      <td>nan</td>\n      <td>3.5</td>\n      <td>28.8</td>\n      <td>1969</td>\n    </tr>\n    <tr>\n      <th>10</th>\n      <td>642</td>\n      <td>Kareem Abdul-Jabbar</td>\n      <td>1970-71</td>\n      <td>23</td>\n      <td>MIL</td>\n      <td>NBA</td>\n      <td>C</td>\n      <td>82</td>\n      <td>nan</td>\n      <td>40.1</td>\n      <td>...</td>\n      <td>nan</td>\n      <td>nan</td>\n      <td>16.0</td>\n      <td>3.3</td>\n      <td>nan</td>\n      <td>nan</td>\n      <td>nan</td>\n      <td>3.2</td>\n      <td>31.7</td>\n      <td>1969</td>\n    </tr>\n    <tr>\n      <th>11</th>\n      <td>642</td>\n      <td>Kareem Abdul-Jabbar</td>\n      <td>1971-72</td>\n      <td>24</td>\n      <td>MIL</td>\n      <td>NBA</td>\n      <td>C</td>\n      <td>81</td>\n      <td>nan</td>\n      <td>44.2</td>\n      <td>...</td>\n      <td>nan</td>\n      <td>nan</td>\n      <td>16.6</td>\n      <td>4.6</td>\n      <td>nan</td>\n      <td>nan</td>\n      <td>nan</td>\n      <td>2.9</td>\n      <td>34.8</td>\n      <td>1969</td>\n    </tr>\n    <tr>\n      <th>12</th>\n      <td>642</td>\n      <td>Kareem Abdul-Jabbar</td>\n      <td>1972-73</td>\n      <td>25</td>\n      <td>MIL</td>\n      <td>NBA</td>\n      <td>C</td>\n      <td>76</td>\n      <td>nan</td>\n      <td>42.8</td>\n      <td>...</td>\n      <td>nan</td>\n      <td>nan</td>\n      <td>16.1</td>\n      <td>5.0</td>\n      <td>nan</td>\n      <td>nan</td>\n      <td>nan</td>\n      <td>2.7</td>\n      <td>30.2</td>\n      <td>1969</td>\n    </tr>\n    <tr>\n      <th>13</th>\n      <td>642</td>\n      <td>Kareem Abdul-Jabbar</td>\n      <td>1973-74</td>\n      <td>26</td>\n      <td>MIL</td>\n      <td>NBA</td>\n      <td>C</td>\n      <td>81</td>\n      <td>nan</td>\n      <td>43.8</td>\n      <td>...</td>\n      <td>3.5</td>\n      <td>11.0</td>\n      <td>14.5</td>\n      <td>4.8</td>\n      <td>1.4</td>\n      <td>3.5</td>\n      <td>nan</td>\n      <td>2.9</td>\n      <td>27.0</td>\n      <td>1969</td>\n    </tr>\n    <tr>\n      <th>14</th>\n      <td>642</td>\n      <td>Kareem Abdul-Jabbar</td>\n      <td>1974-75</td>\n      <td>27</td>\n      <td>MIL</td>\n      <td>NBA</td>\n      <td>C</td>\n      <td>65</td>\n      <td>nan</td>\n      <td>42.3</td>\n      <td>...</td>\n      <td>3.0</td>\n      <td>11.0</td>\n      <td>14.0</td>\n      <td>4.1</td>\n      <td>1.0</td>\n      <td>3.3</td>\n      <td>nan</td>\n      <td>3.2</td>\n      <td>30.0</td>\n      <td>1969</td>\n    </tr>\n    <tr>\n      <th>15</th>\n      <td>642</td>\n      <td>Kareem Abdul-Jabbar</td>\n      <td>1975-76</td>\n      <td>28</td>\n      <td>LAL</td>\n      <td>NBA</td>\n      <td>C</td>\n      <td>82</td>\n      <td>nan</td>\n      <td>41.2</td>\n      <td>...</td>\n      <td>3.3</td>\n      <td>13.5</td>\n      <td>16.9</td>\n      <td>5.0</td>\n      <td>1.5</td>\n      <td>4.1</td>\n      <td>nan</td>\n      <td>3.6</td>\n      <td>27.7</td>\n      <td>1969</td>\n    </tr>\n    <tr>\n      <th>16</th>\n      <td>642</td>\n      <td>Kareem Abdul-Jabbar</td>\n      <td>1976-77</td>\n      <td>29</td>\n      <td>LAL</td>\n      <td>NBA</td>\n      <td>C</td>\n      <td>82</td>\n      <td>nan</td>\n      <td>36.8</td>\n      <td>...</td>\n      <td>3.2</td>\n      <td>10.0</td>\n      <td>13.3</td>\n      <td>3.9</td>\n      <td>1.2</td>\n      <td>3.2</td>\n      <td>nan</td>\n      <td>3.2</td>\n      <td>26.2</td>\n      <td>1969</td>\n    </tr>\n    <tr>\n      <th>17</th>\n      <td>642</td>\n      <td>Kareem Abdul-Jabbar</td>\n      <td>1977-78</td>\n      <td>30</td>\n      <td>LAL</td>\n      <td>NBA</td>\n      <td>C</td>\n      <td>62</td>\n      <td>nan</td>\n      <td>36.5</td>\n      <td>...</td>\n      <td>3.0</td>\n      <td>9.9</td>\n      <td>12.9</td>\n      <td>4.3</td>\n      <td>1.7</td>\n      <td>3.0</td>\n      <td>3.4</td>\n      <td>2.9</td>\n      <td>25.8</td>\n      <td>1969</td>\n    </tr>\n    <tr>\n      <th>18</th>\n      <td>642</td>\n      <td>Kareem Abdul-Jabbar</td>\n      <td>1978-79</td>\n      <td>31</td>\n      <td>LAL</td>\n      <td>NBA</td>\n      <td>C</td>\n      <td>80</td>\n      <td>nan</td>\n      <td>39.5</td>\n      <td>...</td>\n      <td>2.6</td>\n      <td>10.2</td>\n      <td>12.8</td>\n      <td>5.4</td>\n      <td>1.0</td>\n      <td>4.0</td>\n      <td>3.5</td>\n      <td>2.9</td>\n      <td>23.8</td>\n      <td>1969</td>\n    </tr>\n    <tr>\n      <th>19</th>\n      <td>642</td>\n      <td>Kareem Abdul-Jabbar</td>\n      <td>1979-80</td>\n      <td>32</td>\n      <td>LAL</td>\n      <td>NBA</td>\n      <td>C</td>\n      <td>82</td>\n      <td>nan</td>\n      <td>38.3</td>\n      <td>...</td>\n      <td>2.3</td>\n      <td>8.5</td>\n      <td>10.8</td>\n      <td>4.5</td>\n      <td>1.0</td>\n      <td>3.4</td>\n      <td>3.6</td>\n      <td>2.6</td>\n      <td>24.8</td>\n      <td>1969</td>\n    </tr>\n    <tr>\n      <th>20</th>\n      <td>642</td>\n      <td>Kareem Abdul-Jabbar</td>\n      <td>1980-81</td>\n      <td>33</td>\n      <td>LAL</td>\n      <td>NBA</td>\n      <td>C</td>\n      <td>80</td>\n      <td>nan</td>\n      <td>37.2</td>\n      <td>...</td>\n      <td>2.5</td>\n      <td>7.8</td>\n      <td>10.3</td>\n      <td>3.4</td>\n      <td>0.7</td>\n      <td>2.9</td>\n      <td>3.1</td>\n      <td>3.1</td>\n      <td>26.2</td>\n      <td>1969</td>\n    </tr>\n    <tr>\n      <th>21</th>\n      <td>642</td>\n      <td>Kareem Abdul-Jabbar</td>\n      <td>1981-82</td>\n      <td>34</td>\n      <td>LAL</td>\n      <td>NBA</td>\n      <td>C</td>\n      <td>76</td>\n      <td>76</td>\n      <td>35.2</td>\n      <td>...</td>\n      <td>2.3</td>\n      <td>6.4</td>\n      <td>8.7</td>\n      <td>3.0</td>\n      <td>0.8</td>\n      <td>2.7</td>\n      <td>3.0</td>\n      <td>2.9</td>\n      <td>23.9</td>\n      <td>1969</td>\n    </tr>\n    <tr>\n      <th>22</th>\n      <td>642</td>\n      <td>Kareem Abdul-Jabbar</td>\n      <td>1982-83</td>\n      <td>35</td>\n      <td>LAL</td>\n      <td>NBA</td>\n      <td>C</td>\n      <td>79</td>\n      <td>79</td>\n      <td>32.3</td>\n      <td>...</td>\n      <td>2.1</td>\n      <td>5.4</td>\n      <td>7.5</td>\n      <td>2.5</td>\n      <td>0.8</td>\n      <td>2.2</td>\n      <td>2.5</td>\n      <td>2.8</td>\n      <td>21.8</td>\n      <td>1969</td>\n    </tr>\n    <tr>\n      <th>23</th>\n      <td>642</td>\n      <td>Kareem Abdul-Jabbar</td>\n      <td>1983-84</td>\n      <td>36</td>\n      <td>LAL</td>\n      <td>NBA</td>\n      <td>C</td>\n      <td>80</td>\n      <td>80</td>\n      <td>32.8</td>\n      <td>...</td>\n      <td>2.1</td>\n      <td>5.2</td>\n      <td>7.3</td>\n      <td>2.6</td>\n      <td>0.7</td>\n      <td>1.8</td>\n      <td>2.8</td>\n      <td>2.6</td>\n      <td>21.5</td>\n      <td>1969</td>\n    </tr>\n    <tr>\n      <th>24</th>\n      <td>642</td>\n      <td>Kareem Abdul-Jabbar</td>\n      <td>1984-85</td>\n      <td>37</td>\n      <td>LAL</td>\n      <td>NBA</td>\n      <td>C</td>\n      <td>79</td>\n      <td>79</td>\n      <td>33.3</td>\n      <td>...</td>\n      <td>2.1</td>\n      <td>5.8</td>\n      <td>7.9</td>\n      <td>3.2</td>\n      <td>0.8</td>\n      <td>2.1</td>\n      <td>2.5</td>\n      <td>3.0</td>\n      <td>22.0</td>\n      <td>1969</td>\n    </tr>\n    <tr>\n      <th>25</th>\n      <td>642</td>\n      <td>Kareem Abdul-Jabbar</td>\n      <td>1985-86</td>\n      <td>38</td>\n      <td>LAL</td>\n      <td>NBA</td>\n      <td>C</td>\n      <td>79</td>\n      <td>79</td>\n      <td>33.3</td>\n      <td>...</td>\n      <td>1.7</td>\n      <td>4.4</td>\n      <td>6.1</td>\n      <td>3.5</td>\n      <td>0.8</td>\n      <td>1.6</td>\n      <td>2.6</td>\n      <td>3.1</td>\n      <td>23.4</td>\n      <td>1969</td>\n    </tr>\n    <tr>\n      <th>26</th>\n      <td>642</td>\n      <td>Kareem Abdul-Jabbar</td>\n      <td>1986-87</td>\n      <td>39</td>\n      <td>LAL</td>\n      <td>NBA</td>\n      <td>C</td>\n      <td>78</td>\n      <td>78</td>\n      <td>31.3</td>\n      <td>...</td>\n      <td>1.9</td>\n      <td>4.8</td>\n      <td>6.7</td>\n      <td>2.6</td>\n      <td>0.6</td>\n      <td>1.2</td>\n      <td>2.4</td>\n      <td>3.1</td>\n      <td>17.5</td>\n      <td>1969</td>\n    </tr>\n    <tr>\n      <th>27</th>\n      <td>642</td>\n      <td>Kareem Abdul-Jabbar</td>\n      <td>1987-88</td>\n      <td>40</td>\n      <td>LAL</td>\n      <td>NBA</td>\n      <td>C</td>\n      <td>80</td>\n      <td>80</td>\n      <td>28.9</td>\n      <td>...</td>\n      <td>1.5</td>\n      <td>4.5</td>\n      <td>6.0</td>\n      <td>1.7</td>\n      <td>0.6</td>\n      <td>1.2</td>\n      <td>2.0</td>\n      <td>2.7</td>\n      <td>14.6</td>\n      <td>1969</td>\n    </tr>\n    <tr>\n      <th>28</th>\n      <td>642</td>\n      <td>Kareem Abdul-Jabbar</td>\n      <td>1988-89</td>\n      <td>41</td>\n      <td>LAL</td>\n      <td>NBA</td>\n      <td>C</td>\n      <td>74</td>\n      <td>74</td>\n      <td>22.9</td>\n      <td>...</td>\n      <td>1.4</td>\n      <td>3.1</td>\n      <td>4.5</td>\n      <td>1.0</td>\n      <td>0.5</td>\n      <td>1.1</td>\n      <td>1.3</td>\n      <td>2.6</td>\n      <td>10.1</td>\n      <td>1969</td>\n    </tr>\n    <tr>\n      <th>29</th>\n      <td>643</td>\n      <td>Mahmoud Abdul-Rauf</td>\n      <td>1990-91</td>\n      <td>21</td>\n      <td>DEN</td>\n      <td>NBA</td>\n      <td>PG</td>\n      <td>67</td>\n      <td>19</td>\n      <td>22.5</td>\n      <td>...</td>\n      <td>0.5</td>\n      <td>1.3</td>\n      <td>1.8</td>\n      <td>3.1</td>\n      <td>0.8</td>\n      <td>0.1</td>\n      <td>1.6</td>\n      <td>2.2</td>\n      <td>14.1</td>\n      <td>1990</td>\n    </tr>\n    <tr>\n      <th>...</th>\n      <td>...</td>\n      <td>...</td>\n      <td>...</td>\n      <td>...</td>\n      <td>...</td>\n      <td>...</td>\n      <td>...</td>\n      <td>...</td>\n      <td>...</td>\n      <td>...</td>\n      <td>...</td>\n      <td>...</td>\n      <td>...</td>\n      <td>...</td>\n      <td>...</td>\n      <td>...</td>\n      <td>...</td>\n      <td>...</td>\n      <td>...</td>\n      <td>...</td>\n      <td>...</td>\n    </tr>\n    <tr>\n      <th>23772</th>\n      <td>3848</td>\n      <td>Phil Zevenbergen</td>\n      <td>1987-88</td>\n      <td>23</td>\n      <td>SAS</td>\n      <td>NBA</td>\n      <td>C</td>\n      <td>8</td>\n      <td>0</td>\n      <td>7.3</td>\n      <td>...</td>\n      <td>0.5</td>\n      <td>1.1</td>\n      <td>1.6</td>\n      <td>0.4</td>\n      <td>0.4</td>\n      <td>0.1</td>\n      <td>0.5</td>\n      <td>1.5</td>\n      <td>3.8</td>\n      <td>1987</td>\n    </tr>\n    <tr>\n      <th>23773</th>\n      <td>3849</td>\n      <td>Wang Zhizhi</td>\n      <td>2000-01</td>\n      <td>23</td>\n      <td>DAL</td>\n      <td>NBA</td>\n      <td>C</td>\n      <td>5</td>\n      <td>0</td>\n      <td>7.6</td>\n      <td>...</td>\n      <td>0.2</td>\n      <td>1.2</td>\n      <td>1.4</td>\n      <td>0.0</td>\n      <td>0.0</td>\n      <td>0.0</td>\n      <td>0.2</td>\n      <td>1.6</td>\n      <td>4.8</td>\n      <td>1999</td>\n    </tr>\n    <tr>\n      <th>23774</th>\n      <td>3849</td>\n      <td>Wang Zhizhi</td>\n      <td>2001-02</td>\n      <td>24</td>\n      <td>DAL</td>\n      <td>NBA</td>\n      <td>C</td>\n      <td>55</td>\n      <td>0</td>\n      <td>10.9</td>\n      <td>...</td>\n      <td>0.3</td>\n      <td>1.7</td>\n      <td>2.0</td>\n      <td>0.4</td>\n      <td>0.2</td>\n      <td>0.3</td>\n      <td>0.5</td>\n      <td>1.5</td>\n      <td>5.6</td>\n      <td>1999</td>\n    </tr>\n    <tr>\n      <th>23775</th>\n      <td>3849</td>\n      <td>Wang Zhizhi</td>\n      <td>2002-03</td>\n      <td>25</td>\n      <td>LAC</td>\n      <td>NBA</td>\n      <td>C</td>\n      <td>41</td>\n      <td>1</td>\n      <td>10.0</td>\n      <td>...</td>\n      <td>0.6</td>\n      <td>1.2</td>\n      <td>1.9</td>\n      <td>0.2</td>\n      <td>0.2</td>\n      <td>0.2</td>\n      <td>0.8</td>\n      <td>1.0</td>\n      <td>4.4</td>\n      <td>1999</td>\n    </tr>\n    <tr>\n      <th>23776</th>\n      <td>3849</td>\n      <td>Wang Zhizhi</td>\n      <td>2003-04</td>\n      <td>26</td>\n      <td>TOT</td>\n      <td>NBA</td>\n      <td>C</td>\n      <td>16</td>\n      <td>0</td>\n      <td>7.1</td>\n      <td>...</td>\n      <td>0.3</td>\n      <td>0.9</td>\n      <td>1.1</td>\n      <td>0.1</td>\n      <td>0.2</td>\n      <td>0.3</td>\n      <td>0.4</td>\n      <td>0.8</td>\n      <td>2.9</td>\n      <td>1999</td>\n    </tr>\n    <tr>\n      <th>23777</th>\n      <td>3849</td>\n      <td>Wang Zhizhi</td>\n      <td>2003-04</td>\n      <td>26</td>\n      <td>LAC</td>\n      <td>NBA</td>\n      <td>C</td>\n      <td>2</td>\n      <td>0</td>\n      <td>4.5</td>\n      <td>...</td>\n      <td>0.0</td>\n      <td>2.0</td>\n      <td>2.0</td>\n      <td>0.0</td>\n      <td>0.0</td>\n      <td>0.5</td>\n      <td>0.0</td>\n      <td>0.0</td>\n      <td>2.0</td>\n      <td>1999</td>\n    </tr>\n    <tr>\n      <th>23778</th>\n      <td>3849</td>\n      <td>Wang Zhizhi</td>\n      <td>2003-04</td>\n      <td>26</td>\n      <td>MIA</td>\n      <td>NBA</td>\n      <td>C</td>\n      <td>14</td>\n      <td>0</td>\n      <td>7.5</td>\n      <td>...</td>\n      <td>0.3</td>\n      <td>0.7</td>\n      <td>1.0</td>\n      <td>0.1</td>\n      <td>0.2</td>\n      <td>0.3</td>\n      <td>0.4</td>\n      <td>0.9</td>\n      <td>3.1</td>\n      <td>1999</td>\n    </tr>\n    <tr>\n      <th>23779</th>\n      <td>3849</td>\n      <td>Wang Zhizhi</td>\n      <td>2004-05</td>\n      <td>27</td>\n      <td>MIA</td>\n      <td>NBA</td>\n      <td>C</td>\n      <td>20</td>\n      <td>0</td>\n      <td>4.6</td>\n      <td>...</td>\n      <td>0.3</td>\n      <td>0.6</td>\n      <td>0.9</td>\n      <td>0.3</td>\n      <td>0.2</td>\n      <td>0.1</td>\n      <td>0.3</td>\n      <td>0.5</td>\n      <td>2.2</td>\n      <td>1999</td>\n    </tr>\n    <tr>\n      <th>23780</th>\n      <td>3850</td>\n      <td>George Zídek</td>\n      <td>1995-96</td>\n      <td>22</td>\n      <td>CHH</td>\n      <td>NBA</td>\n      <td>C</td>\n      <td>71</td>\n      <td>21</td>\n      <td>12.5</td>\n      <td>...</td>\n      <td>1.0</td>\n      <td>1.6</td>\n      <td>2.6</td>\n      <td>0.2</td>\n      <td>0.1</td>\n      <td>0.1</td>\n      <td>0.5</td>\n      <td>2.4</td>\n      <td>4.0</td>\n      <td>1995</td>\n    </tr>\n    <tr>\n      <th>23781</th>\n      <td>3850</td>\n      <td>George Zídek</td>\n      <td>1996-97</td>\n      <td>23</td>\n      <td>TOT</td>\n      <td>NBA</td>\n      <td>C</td>\n      <td>52</td>\n      <td>2</td>\n      <td>7.2</td>\n      <td>...</td>\n      <td>0.7</td>\n      <td>1.0</td>\n      <td>1.7</td>\n      <td>0.3</td>\n      <td>0.1</td>\n      <td>0.1</td>\n      <td>0.5</td>\n      <td>1.2</td>\n      <td>2.8</td>\n      <td>1995</td>\n    </tr>\n    <tr>\n      <th>23782</th>\n      <td>3850</td>\n      <td>George Zídek</td>\n      <td>1996-97</td>\n      <td>23</td>\n      <td>CHH</td>\n      <td>NBA</td>\n      <td>C</td>\n      <td>36</td>\n      <td>2</td>\n      <td>8.0</td>\n      <td>...</td>\n      <td>0.7</td>\n      <td>1.1</td>\n      <td>1.8</td>\n      <td>0.3</td>\n      <td>0.1</td>\n      <td>0.1</td>\n      <td>0.6</td>\n      <td>1.2</td>\n      <td>2.5</td>\n      <td>1995</td>\n    </tr>\n    <tr>\n      <th>23783</th>\n      <td>3850</td>\n      <td>George Zídek</td>\n      <td>1996-97</td>\n      <td>23</td>\n      <td>DEN</td>\n      <td>NBA</td>\n      <td>C</td>\n      <td>16</td>\n      <td>0</td>\n      <td>5.5</td>\n      <td>...</td>\n      <td>0.6</td>\n      <td>0.8</td>\n      <td>1.4</td>\n      <td>0.3</td>\n      <td>0.1</td>\n      <td>0.0</td>\n      <td>0.3</td>\n      <td>1.1</td>\n      <td>3.3</td>\n      <td>1995</td>\n    </tr>\n    <tr>\n      <th>23784</th>\n      <td>3850</td>\n      <td>George Zídek</td>\n      <td>1997-98</td>\n      <td>24</td>\n      <td>TOT</td>\n      <td>NBA</td>\n      <td>C</td>\n      <td>12</td>\n      <td>0</td>\n      <td>5.3</td>\n      <td>...</td>\n      <td>0.3</td>\n      <td>1.1</td>\n      <td>1.4</td>\n      <td>0.2</td>\n      <td>0.0</td>\n      <td>0.2</td>\n      <td>0.3</td>\n      <td>0.8</td>\n      <td>2.4</td>\n      <td>1995</td>\n    </tr>\n    <tr>\n      <th>23785</th>\n      <td>3850</td>\n      <td>George Zídek</td>\n      <td>1997-98</td>\n      <td>24</td>\n      <td>DEN</td>\n      <td>NBA</td>\n      <td>C</td>\n      <td>6</td>\n      <td>0</td>\n      <td>7.0</td>\n      <td>...</td>\n      <td>0.7</td>\n      <td>1.5</td>\n      <td>2.2</td>\n      <td>0.2</td>\n      <td>0.0</td>\n      <td>0.3</td>\n      <td>0.5</td>\n      <td>0.8</td>\n      <td>3.0</td>\n      <td>1995</td>\n    </tr>\n    <tr>\n      <th>23786</th>\n      <td>3850</td>\n      <td>George Zídek</td>\n      <td>1997-98</td>\n      <td>24</td>\n      <td>SEA</td>\n      <td>NBA</td>\n      <td>C</td>\n      <td>6</td>\n      <td>0</td>\n      <td>3.7</td>\n      <td>...</td>\n      <td>0.0</td>\n      <td>0.7</td>\n      <td>0.7</td>\n      <td>0.2</td>\n      <td>0.0</td>\n      <td>0.0</td>\n      <td>0.2</td>\n      <td>0.8</td>\n      <td>1.8</td>\n      <td>1995</td>\n    </tr>\n    <tr>\n      <th>23787</th>\n      <td>3851</td>\n      <td>Derrick Zimmerman</td>\n      <td>2005-06</td>\n      <td>24</td>\n      <td>NJN</td>\n      <td>NBA</td>\n      <td>PG</td>\n      <td>2</td>\n      <td>0</td>\n      <td>16.0</td>\n      <td>...</td>\n      <td>0.5</td>\n      <td>1.5</td>\n      <td>2.0</td>\n      <td>3.5</td>\n      <td>0.0</td>\n      <td>0.0</td>\n      <td>2.0</td>\n      <td>2.0</td>\n      <td>2.0</td>\n      <td>2003</td>\n    </tr>\n    <tr>\n      <th>23788</th>\n      <td>3852</td>\n      <td>Stephen Zimmerman</td>\n      <td>2016-17</td>\n      <td>20</td>\n      <td>ORL</td>\n      <td>NBA</td>\n      <td>C</td>\n      <td>19</td>\n      <td>0</td>\n      <td>5.7</td>\n      <td>...</td>\n      <td>0.6</td>\n      <td>1.3</td>\n      <td>1.8</td>\n      <td>0.2</td>\n      <td>0.1</td>\n      <td>0.3</td>\n      <td>0.2</td>\n      <td>0.9</td>\n      <td>1.2</td>\n      <td>2016</td>\n    </tr>\n    <tr>\n      <th>23789</th>\n      <td>3853</td>\n      <td>Paul Zipser</td>\n      <td>2016-17</td>\n      <td>22</td>\n      <td>CHI</td>\n      <td>NBA</td>\n      <td>SF</td>\n      <td>44</td>\n      <td>18</td>\n      <td>19.2</td>\n      <td>...</td>\n      <td>0.3</td>\n      <td>2.5</td>\n      <td>2.8</td>\n      <td>0.8</td>\n      <td>0.3</td>\n      <td>0.4</td>\n      <td>0.9</td>\n      <td>1.8</td>\n      <td>5.5</td>\n      <td>2016</td>\n    </tr>\n    <tr>\n      <th>23790</th>\n      <td>3853</td>\n      <td>Paul Zipser</td>\n      <td>2017-18</td>\n      <td>23</td>\n      <td>CHI</td>\n      <td>NBA</td>\n      <td>SF</td>\n      <td>54</td>\n      <td>12</td>\n      <td>15.3</td>\n      <td>...</td>\n      <td>0.2</td>\n      <td>2.2</td>\n      <td>2.4</td>\n      <td>0.9</td>\n      <td>0.4</td>\n      <td>0.3</td>\n      <td>0.8</td>\n      <td>1.6</td>\n      <td>4.0</td>\n      <td>2016</td>\n    </tr>\n    <tr>\n      <th>23791</th>\n      <td>3854</td>\n      <td>Ante Žižić</td>\n      <td>2017-18</td>\n      <td>21</td>\n      <td>CLE</td>\n      <td>NBA</td>\n      <td>C</td>\n      <td>32</td>\n      <td>2</td>\n      <td>6.7</td>\n      <td>...</td>\n      <td>0.8</td>\n      <td>1.1</td>\n      <td>1.9</td>\n      <td>0.2</td>\n      <td>0.1</td>\n      <td>0.4</td>\n      <td>0.3</td>\n      <td>0.9</td>\n      <td>3.7</td>\n      <td>2016</td>\n    </tr>\n    <tr>\n      <th>23792</th>\n      <td>3854</td>\n      <td>Ante Žižić</td>\n      <td>2018-19</td>\n      <td>22</td>\n      <td>CLE</td>\n      <td>NBA</td>\n      <td>C</td>\n      <td>59</td>\n      <td>25</td>\n      <td>18.3</td>\n      <td>...</td>\n      <td>1.8</td>\n      <td>3.6</td>\n      <td>5.4</td>\n      <td>0.9</td>\n      <td>0.2</td>\n      <td>0.4</td>\n      <td>1.0</td>\n      <td>1.9</td>\n      <td>7.8</td>\n      <td>2016</td>\n    </tr>\n    <tr>\n      <th>23793</th>\n      <td>3854</td>\n      <td>Ante Žižić</td>\n      <td>2019-20</td>\n      <td>23</td>\n      <td>CLE</td>\n      <td>NBA</td>\n      <td>C</td>\n      <td>22</td>\n      <td>0</td>\n      <td>10.0</td>\n      <td>...</td>\n      <td>0.8</td>\n      <td>2.2</td>\n      <td>3.0</td>\n      <td>0.3</td>\n      <td>0.3</td>\n      <td>0.2</td>\n      <td>0.5</td>\n      <td>1.2</td>\n      <td>4.4</td>\n      <td>2016</td>\n    </tr>\n    <tr>\n      <th>23794</th>\n      <td>3855</td>\n      <td>Jim Zoet</td>\n      <td>1982-83</td>\n      <td>29</td>\n      <td>DET</td>\n      <td>NBA</td>\n      <td>C</td>\n      <td>7</td>\n      <td>0</td>\n      <td>4.3</td>\n      <td>...</td>\n      <td>0.4</td>\n      <td>0.7</td>\n      <td>1.1</td>\n      <td>0.1</td>\n      <td>0.1</td>\n      <td>0.4</td>\n      <td>0.6</td>\n      <td>1.3</td>\n      <td>0.3</td>\n      <td>Undrafted</td>\n    </tr>\n    <tr>\n      <th>23795</th>\n      <td>3856</td>\n      <td>Ivica Zubac</td>\n      <td>2016-17</td>\n      <td>19</td>\n      <td>LAL</td>\n      <td>NBA</td>\n      <td>C</td>\n      <td>38</td>\n      <td>11</td>\n      <td>16.0</td>\n      <td>...</td>\n      <td>1.1</td>\n      <td>3.1</td>\n      <td>4.2</td>\n      <td>0.8</td>\n      <td>0.4</td>\n      <td>0.9</td>\n      <td>0.8</td>\n      <td>1.7</td>\n      <td>7.5</td>\n      <td>2016</td>\n    </tr>\n    <tr>\n      <th>23796</th>\n      <td>3856</td>\n      <td>Ivica Zubac</td>\n      <td>2017-18</td>\n      <td>20</td>\n      <td>LAL</td>\n      <td>NBA</td>\n      <td>C</td>\n      <td>43</td>\n      <td>0</td>\n      <td>9.5</td>\n      <td>...</td>\n      <td>1.0</td>\n      <td>1.8</td>\n      <td>2.9</td>\n      <td>0.6</td>\n      <td>0.2</td>\n      <td>0.3</td>\n      <td>0.6</td>\n      <td>1.1</td>\n      <td>3.7</td>\n      <td>2016</td>\n    </tr>\n    <tr>\n      <th>23797</th>\n      <td>3856</td>\n      <td>Ivica Zubac</td>\n      <td>2018-19</td>\n      <td>21</td>\n      <td>TOT</td>\n      <td>NBA</td>\n      <td>C</td>\n      <td>59</td>\n      <td>37</td>\n      <td>17.6</td>\n      <td>...</td>\n      <td>1.9</td>\n      <td>4.2</td>\n      <td>6.1</td>\n      <td>1.1</td>\n      <td>0.2</td>\n      <td>0.9</td>\n      <td>1.2</td>\n      <td>2.3</td>\n      <td>8.9</td>\n      <td>2016</td>\n    </tr>\n    <tr>\n      <th>23798</th>\n      <td>3856</td>\n      <td>Ivica Zubac</td>\n      <td>2018-19</td>\n      <td>21</td>\n      <td>LAL</td>\n      <td>NBA</td>\n      <td>C</td>\n      <td>33</td>\n      <td>12</td>\n      <td>15.6</td>\n      <td>...</td>\n      <td>1.6</td>\n      <td>3.3</td>\n      <td>4.9</td>\n      <td>0.8</td>\n      <td>0.1</td>\n      <td>0.8</td>\n      <td>1.0</td>\n      <td>2.2</td>\n      <td>8.5</td>\n      <td>2016</td>\n    </tr>\n    <tr>\n      <th>23799</th>\n      <td>3856</td>\n      <td>Ivica Zubac</td>\n      <td>2018-19</td>\n      <td>21</td>\n      <td>LAC</td>\n      <td>NBA</td>\n      <td>C</td>\n      <td>26</td>\n      <td>25</td>\n      <td>20.2</td>\n      <td>...</td>\n      <td>2.3</td>\n      <td>5.3</td>\n      <td>7.7</td>\n      <td>1.5</td>\n      <td>0.4</td>\n      <td>0.9</td>\n      <td>1.4</td>\n      <td>2.5</td>\n      <td>9.4</td>\n      <td>2016</td>\n    </tr>\n    <tr>\n      <th>23800</th>\n      <td>3856</td>\n      <td>Ivica Zubac</td>\n      <td>2019-20</td>\n      <td>22</td>\n      <td>LAC</td>\n      <td>NBA</td>\n      <td>C</td>\n      <td>72</td>\n      <td>70</td>\n      <td>18.4</td>\n      <td>...</td>\n      <td>2.7</td>\n      <td>4.8</td>\n      <td>7.5</td>\n      <td>1.1</td>\n      <td>0.2</td>\n      <td>0.9</td>\n      <td>0.8</td>\n      <td>2.3</td>\n      <td>8.3</td>\n      <td>2016</td>\n    </tr>\n    <tr>\n      <th>23801</th>\n      <td>3856</td>\n      <td>Ivica Zubac</td>\n      <td>2020-21</td>\n      <td>23</td>\n      <td>LAC</td>\n      <td>NBA</td>\n      <td>C</td>\n      <td>26</td>\n      <td>1</td>\n      <td>19.5</td>\n      <td>...</td>\n      <td>2.3</td>\n      <td>4.3</td>\n      <td>6.6</td>\n      <td>1.0</td>\n      <td>0.4</td>\n      <td>0.9</td>\n      <td>1.0</td>\n      <td>2.4</td>\n      <td>7.8</td>\n      <td>2016</td>\n    </tr>\n  </tbody>\n</table>\n<p>23802 rows × 33 columns</p>\n</div>"
     },
     "metadata": {},
     "execution_count": 18
    }
   ],
   "source": [
    "\n",
    "\n",
    "final_df = pd.DataFrame(data = main_array, columns = Data_list)\n",
    "final_df"
   ]
  },
  {
   "cell_type": "code",
   "execution_count": 19,
   "metadata": {},
   "outputs": [],
   "source": [
    "final_df.to_csv('NBAData.csv',index = False)"
   ]
  },
  {
   "cell_type": "code",
   "execution_count": 13,
   "metadata": {},
   "outputs": [
    {
     "output_type": "execute_result",
     "data": {
      "text/plain": [
       "array([[641, 'Alaa Abdelnaby', '1990-91', ..., '0.9', '3.1', '1990'],\n",
       "       [641, 'Alaa Abdelnaby', '1991-92', ..., '1.9', '6.1', '1990'],\n",
       "       [641, 'Alaa Abdelnaby', '1992-93', ..., '2.5', '7.7', '1990'],\n",
       "       ...,\n",
       "       [3856, 'Ivica Zubac', '2018-19', ..., '2.5', '9.4', '2016'],\n",
       "       [3856, 'Ivica Zubac', '2019-20', ..., '2.3', '8.3', '2016'],\n",
       "       [3856, 'Ivica Zubac', '2020-21', ..., '2.4', '7.8', '2016']],\n",
       "      dtype=object)"
      ]
     },
     "metadata": {},
     "execution_count": 13
    }
   ],
   "source": [
    "main_array"
   ]
  },
  {
   "cell_type": "code",
   "execution_count": 16,
   "metadata": {},
   "outputs": [
    {
     "output_type": "execute_result",
     "data": {
      "text/plain": [
       "['PlayerID',\n",
       " 'Name',\n",
       " 'Season',\n",
       " 'Age',\n",
       " 'Tm',\n",
       " 'Lg',\n",
       " 'Pos',\n",
       " 'G',\n",
       " 'GS',\n",
       " 'MP',\n",
       " 'FG',\n",
       " 'FGA',\n",
       " 'FG%',\n",
       " '3P',\n",
       " '3PA',\n",
       " '3P%',\n",
       " '2P',\n",
       " '2PA',\n",
       " '2P%',\n",
       " 'eFG%',\n",
       " 'FT',\n",
       " 'FTA',\n",
       " 'FT%',\n",
       " 'ORB',\n",
       " 'DRB',\n",
       " 'TRB',\n",
       " 'AST',\n",
       " 'STL',\n",
       " 'BLK',\n",
       " 'TOV',\n",
       " 'PF',\n",
       " 'PTS',\n",
       " 'Draft Year']"
      ]
     },
     "metadata": {},
     "execution_count": 16
    }
   ],
   "source": []
  },
  {
   "cell_type": "code",
   "execution_count": null,
   "metadata": {},
   "outputs": [],
   "source": []
  }
 ]
}