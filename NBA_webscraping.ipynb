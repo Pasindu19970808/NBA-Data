{
 "metadata": {
  "language_info": {
   "codemirror_mode": {
    "name": "ipython",
    "version": 3
   },
   "file_extension": ".py",
   "mimetype": "text/x-python",
   "name": "python",
   "nbconvert_exporter": "python",
   "pygments_lexer": "ipython3",
   "version": "3.7.3-final"
  },
  "orig_nbformat": 2,
  "kernelspec": {
   "name": "python3",
   "display_name": "Python 3",
   "language": "python"
  }
 },
 "nbformat": 4,
 "nbformat_minor": 2,
 "cells": [
  {
   "cell_type": "code",
   "execution_count": 1,
   "metadata": {},
   "outputs": [],
   "source": [
    "import bs4 as BeautifulSoup\n",
    "import urllib.request\n",
    "import pandas as pd\n",
    "\n",
    "main_url = 'https://www.basketball-reference.com/players/'\n",
    "letters = 'abcdefghijklmnopqrstuvwxyz'\n",
    "letters_list = list(letters)"
   ]
  },
  {
   "cell_type": "code",
   "execution_count": 9,
   "metadata": {},
   "outputs": [
    {
     "output_type": "execute_result",
     "data": {
      "text/plain": [
       "v class=\"division\">\n",
       "<strong>Southeast</strong>:\n",
       "      <a href=\"/teams/MIA/2021.html\">Miami</a>,\n",
       "      <a href=\"/teams/ATL/2021.html\">Atlanta</a>,\n",
       "      <a href=\"/teams/CHO/2021.html\">Charlotte</a>,\n",
       "      <a href=\"/teams/WAS/2021.html\">Washington</a>,\n",
       "      <a href=\"/teams/ORL/2021.html\">Orlando</a>\n",
       "</div>\n",
       "<div class=\"division\">\n",
       "<strong>Northwest</strong>:\n",
       "      <a href=\"/teams/OKC/2021.html\">Oklahoma City</a>,\n",
       "      <a href=\"/teams/POR/2021.html\">Portland</a>,\n",
       "      <a href=\"/teams/UTA/2021.html\">Utah</a>,\n",
       "      <a href=\"/teams/DEN/2021.html\">Denver</a>,\n",
       "      <a href=\"/teams/MIN/2021.html\">Minnesota</a>\n",
       "</div>\n",
       "<div class=\"division\">\n",
       "<strong>Pacific</strong>:\n",
       "      <a href=\"/teams/GSW/2021.html\">Golden State</a>,\n",
       "      <a href=\"/teams/LAC/2021.html\">Los Angeles Clippers</a>,\n",
       "      <a href=\"/teams/SAC/2021.html\">Sacramento</a>,\n",
       "      <a href=\"/teams/PHO/2021.html\">Phoenix</a>,\n",
       "      <a href=\"/teams/LAL/2021.html\">Los Angeles Lakers</a>\n",
       "</div>\n",
       "<div class=\"division\">\n",
       "<strong>Southwest</strong>:\n",
       "      <a href=\"/teams/SAS/2021.html\">San Antonio</a>,\n",
       "      <a href=\"/teams/DAL/2021.html\">Dallas</a>,\n",
       "      <a href=\"/teams/MEM/2021.html\">Memphis</a>,\n",
       "      <a href=\"/teams/HOU/2021.html\">Houston</a>,      \n",
       "      <a href=\"/teams/NOP/2021.html\">New Orleans</a>\n",
       "</div>\n",
       "<!-- End:Teams -->\n",
       "</li>\n",
       "<li>\n",
       "<a href=\"/leagues/\">Seasons</a>\n",
       "<div>\n",
       "<!-- Begin:Seasons -->\n",
       "<a href=\"/leagues/NBA_2021.html\">2020-21</a>,\n",
       "<a href=\"/leagues/NBA_2020.html\">2019-20</a>,\n",
       "<a href=\"/leagues/NBA_2019.html\">2018-19</a>,\n",
       "<a href=\"/leagues/NBA_2018.html\">2017-18</a>,\n",
       "<a href=\"/leagues/NBA_2017.html\">2016-17</a>,\n",
       "<a href=\"/leagues/NBA_2016.html\">2015-16</a>\n",
       "<!-- End:Seasons -->\n",
       "</div>\n",
       "</li>\n",
       "<li>\n",
       "<a href=\"/leaders/\">Leaders</a>\n",
       "<div>\n",
       "<a href=\"/leaders/pts_season.html\">Season Points</a>, \n",
       "      <a href=\"/leaders/trb_career.html\">Career Rebounds</a>, \n",
       "      <a href=\"/leaders/ast_active.html\">Active Assists</a>, \n",
       "      <a href=\"/leaders/stl_yearly.html\">Yearly Steals</a>, \n",
       "      <a href=\"/leaders/blk_progress.html\">Progressive Blocks</a>\n",
       "      ...\n",
       "    </div>\n",
       "<div>\n",
       "      Or, view <a href=\"/trailers/\">\"Trailers\"</a> for <a href=\"/trailers/fg_pct_season.html\">Season Field Goal Pct</a>, or <a href=\"/trailers/blk_per_g_career.html\">Career Blocks Per Game</a>\n",
       "</div>\n",
       "</li>\n",
       "<li>\n",
       "<a href=\"/boxscores/\">NBA Scores</a>\n",
       "<div>\n",
       "<a href=\"/boxscores/\">Yesterday's Games</a> and <a href=\"/boxscores/\">Scores from any date in BAA/NBA or ABA history</a>\n",
       "</div>\n",
       "</li>\n",
       "<li>\n",
       "<!-- Begin:Schedules -->\n",
       "<a href=\"/leagues/NBA_2021_games.html\">NBA Schedules</a>\n",
       "<div>\n",
       "<a href=\"/teams/MIL/2021_games.html\">Team Schedules</a> and <a href=\"/leagues/NBA_2021_games.html\">League Schedules</a>\n",
       "</div>\n",
       "<!-- End:Schedules -->\n",
       "</li>\n",
       "<li>\n",
       "<!-- Begin:Standings -->\n",
       "<a href=\"/leagues/NBA_2021_standings.html\">NBA Standings</a>\n",
       "<div>\n",
       "<a href=\"/leagues/NBA_2021_standings.html\">Today's Standings</a> and <a href=\"/friv/standings.fcgi\">Standings for any date in history</a>\n",
       "</div>\n",
       "<!-- End:Standings -->\n",
       "</li>\n",
       "<li>\n",
       "<a href=\"https://stathead.com/basketball/\" rel=\"noopener\" target=\"_blank\">Stathead</a>\n",
       "<div><strong>Player Finders</strong>: \n",
       "      <a href=\"https://stathead.com/basketball/psl_finder.cgi\" rel=\"noopener\" target=\"_blank\">Season Finder</a>, \n",
       "      <a href=\"https://stathead.com/basketball/pgl_finder.cgi\" rel=\"noopener\" target=\"_blank\">Game Finder</a>, \n",
       "      <a href=\"https://stathead.com/basketball/pstreak.cgi\" rel=\"noopener\" target=\"_blank\">Streak Finder</a>\n",
       "</div>\n",
       "<div><strong>Team Finders</strong>: \n",
       "      <a href=\"https://stathead.com/basketball/tsl_finder.cgi\" rel=\"noopener\" target=\"_blank\">Season Finder</a>, \n",
       "      <a href=\"https://stathead.com/basketball/tgl_finder.cgi\" rel=\"noopener\" target=\"_blank\">Game Finder</a>, \n",
       "      <a href=\"https://stathead.com/basketball/tstreak.cgi\" rel=\"noopener\" target=\"_blank\">Team Streak Finder</a>,\n",
       "      <a href=\"https://stathead.com/basketball/tscore.cgi\" rel=\"noopener\" target=\"_blank\">Team Score Finder</a>,\n",
       "      <a href=\"https://stathead.com/basketball/rivals.cgi\" rel=\"noopener\" target=\"_blank\">Team Rivalry Finder</a>\n",
       "</div>\n",
       "<div><strong>Other Finders</strong>: \n",
       "      <a href=\"https://stathead.com/basketball/draft_finder.cgi\" rel=\"noopener\" target=\"_blank\">Draft Finder</a>,\n",
       "      <a href=\"https://stathead.com/basketball/h2h_finder.cgi\" rel=\"noopener\" target=\"_blank\">Head2Head Finder</a>,\n",
       "      <a href=\"https://stathead.com/basketball/pcm_finder.cgi\" rel=\"noopener\" target=\"_blank\">Player Comparison Finder</a>\n",
       "</div>\n",
       "</li>\n",
       "<li>\n",
       "<a href=\"/coaches/\">Coaches</a>\n",
       "<div>\n",
       "<a href=\"/coaches/gueriri01c.html\">Richie Guerin</a>, \n",
       "      <a href=\"/coaches/tomjaru01c.html\">Rudy Tomjanovich</a>,\n",
       "      <a href=\"/coaches/obrieji99c.html\">Jim O'Brien</a>, \n",
       "      <a href=\"/coaches/fratemi99c.html\">Mike Fratello</a>, \n",
       "      <a href=\"/coaches/gentral99c.html\">Alvin Gentry</a>\n",
       "</div>\n",
       "</li>\n",
       "<li>\n",
       "<a href=\"/awards/\">Awards</a>\n",
       "<div>\n",
       "<a href=\"/awards/mvp.html\">NBA MVP</a>, \n",
       "      <a href=\"/awards/all_league.html\">All-NBA</a>, \n",
       "      <a href=\"/awards/dpoy.html\">Defensive Player of the Year</a>, \n",
       "      <a href=\"/awards/roy.html\">Rookie of the Year</a>, \n",
       "      <a href=\"/awards/all_rookie.html\">All-Rookie</a>, \n",
       "      <a href=\"/awards/hof.html\">Hall of Fame</a>\n",
       "      ...\n",
       "    </div>\n",
       "</li>\n",
       "<li>\n",
       "<a href=\"/contracts/\">NBA Contracts</a>\n",
       "<div>\n",
       "<a href=\"/contracts/\">Main Index</a>,\n",
       "      <a href=\"/contracts/ATL.html\">Team Payrolls</a>,\n",
       "      <a href=\"/contracts/players.html\">Player Contracts</a>,\n",
       "      <a href=\"/contracts/glossary.html\">Glossary</a>,\n",
       "      ...\n",
       "    </div>\n",
       "</li>\n",
       "<li>\n",
       "<a href=\"/playoffs/\">Playoffs</a>\n",
       "<div>\n",
       "<a href=\"/playoffs/NBA_2020.html\">2020 NBA Playoffs</a>, \n",
       "      <a href=\"/playoffs/NBA_2019.html\">2019 NBA Playoffs</a>, \n",
       "      <a href=\"/playoffs/NBA_2018.html\">2018 NBA Playoffs</a>, \n",
       "      <a href=\"/playoffs/NBA_2017.html\">2017 NBA Playoffs</a>, \n",
       "      <a href=\"/playoffs/\">Playoffs Series History</a>\n",
       "      ...\n",
       "    </div>\n",
       "</li>\n",
       "<li>\n",
       "<a href=\"/allstar/\">All-Star Games</a>\n",
       "<div>\n",
       "<a href=\"/allstar/NBA_2020.html\">2020 All-Star Game</a>, \n",
       "      <a href=\"/allstar/NBA_2019.html\">2019 All-Star Game</a>, \n",
       "      <a href=\"/allstar/NBA_2018.html\">2018 All-Star Game</a>, \n",
       "      <a href=\"/allstar/NBA_2017.html\">2017 All-Star Game</a>, \n",
       "      ...\n",
       "    </div>\n",
       "</li>\n",
       "<li>\n",
       "<a href=\"/draft/\">NBA Draft</a>\n",
       "<div>\n",
       "<a href=\"/draft/NBA_2020.html\">2020 Draft</a>, \n",
       "      <a href=\"/draft/NBA_2019.html\">2019 Draft</a>, \n",
       "      <a href=\"/draft/NBA_2018.html\">2018 Draft</a>, \n",
       "      <a href=\"/draft/NBA_2017.html\">2017 Draft</a>, \n",
       "      <a href=\"/draft/NBA_2016.html\">2016 Draft</a>, \n",
       "      ...\n",
       "    </div>\n",
       "</li>\n",
       "<li>\n",
       "<a href=\"/friv/\">Frivolities</a>\n",
       "<div>\n",
       "<a href=\"/friv/birthdays.fcgi\">Birthdays</a>,\n",
       "      <a href=\"/friv/colleges.fcgi\">Colleges</a>,\n",
       "      <a href=\"/friv/high_schools.fcgi\">High Schools</a>,\n",
       "      <a href=\"/friv/milestones.fcgi\">Milestone Watch</a>\n",
       "      ...\n",
       "    </div>\n",
       "</li>\n",
       "<li>\n",
       "<a href=\"/executives/\">Executives</a>\n",
       "<div>\n",
       "<a href=\"/executives/buforrc99x.html\">R.C. Buford</a>,\n",
       "      <a href=\"/executives/embrywa01x.html\">Wayne Embry</a>,\n",
       "      <a href=\"/executives/kastest99x.html\">Stan Kasten</a>,\n",
       "      <a href=\"/executives/aingeda01x.html\">Danny Ainge</a>,\n",
       "      <a href=\"/executives/nelsodo01x.html\">Don Nelson</a>\n",
       "      ...\n",
       "    </div>\n",
       "</li>\n",
       "<li>\n",
       "<a href=\"/referees/\">Referees</a>\n",
       "<div>\n",
       "<a href=\"/referees/fortejo99r.html\">Joe Forte</a>,\n",
       "      <a href=\"/referees/brothto99r.html\">Tony Brothers</a>,\n",
       "      <a href=\"/referees/crawfda99r.html\">Dan Crawford</a>,\n",
       "      <a href=\"/referees/olesiro99r.html\">Ron Olesiak</a>,\n",
       "      <a href=\"/referees/jonesda99r.html\">David Jones</a>\n",
       "      ...\n",
       "    </div>\n",
       "</li>\n",
       "<li>\n",
       "<a href=\"/gleague/\">G League Stats</a>\n",
       "<div>\n",
       "<a href=\"/gleague/players/\">Players</a>,\n",
       "      <a href=\"/gleague/teams/\">Teams</a>,\n",
       "      <a href=\"/gleague/years/\">Seasons</a>,\n",
       "      <a href=\"/gleague/leaders/\">Leaders</a>,\n",
       "      <a href=\"/gleague/awards/\">Awards</a>\n",
       "      ...\n",
       "    </div>\n",
       "</li>\n",
       "<li>\n",
       "<a href=\"/international/\">International Basketball Stats</a>\n",
       "<div>\n",
       "<a href=\"/international/players/\">Players</a>,\n",
       "      <a href=\"/international/teams/\">Teams</a>,\n",
       "      <a href=\"/international/years/\">Seasons</a>,\n",
       "      <a href=\"/international/leaders/\">Leaders</a>,\n",
       "      <a href=\"/international/awards/\">Awards</a>\n",
       "      ...\n",
       "    </div>\n",
       "</li>\n",
       "<li>\n",
       "<a href=\"/wnba/\">WNBA</a>\n",
       "<div>\n",
       "<a href=\"/wnba/players/\">Players</a>,\n",
       "      <a href=\"/wnba/teams/\">Teams</a>,\n",
       "      <a href=\"/wnba/years/\">Seasons</a>,\n",
       "      <a href=\"/wnba/leaders/\">Leaders</a>,\n",
       "      <a href=\"/wnba/awards/\">Awards</a>\n",
       "      ...\n",
       "    </div>\n",
       "</li>\n",
       "<li>\n",
       "<a href=\"/nbl/\">NBL</a>\n",
       "<div>\n",
       "<a href=\"/nbl/players/\">Players</a>,\n",
       "      <a href=\"/nbl/teams/\">Teams</a>,\n",
       "      <a href=\"/nbl/years/\">Seasons</a>,\n",
       "      <a href=\"/nbl/leaders/\">Leaders</a>,\n",
       "      <a href=\"/nbl/awards/\">Awards</a>\n",
       "      ...\n",
       "    </div>\n",
       "</li>\n",
       "<li>\n",
       "<a href=\"/about/\">About</a>\n",
       "<div>\n",
       "<a href=\"/about/glossary.html\">Glossary</a>,\n",
       "      <a href=\"/about/contact.html\">Contact and Media Information</a>,\n",
       "      ...\n",
       "    </div>\n",
       "</li>\n",
       "</ul>\n",
       "</div><!-- div#site_menu -->\n",
       "<div>\n",
       "<div class=\"icon_group noload\" id=\"social\">\n",
       "<div class=\"section_heading\">\n",
       "<span class=\"section_anchor\" data-label=\"We're Social...for Statheads\" data-no-inpage=\"1\" id=\"_link\"></span><h2>We're Social...for Statheads</h2>\n",
       "</div>\n",
       "<a class=\"poptip\" data-label=\"Telephone\" data-tip=\"Call us on Telephone\" href=\"tel://888-512-8907\"><svg class=\"icon phone\"><use xlink:href=\"#ic-phone\"></use></svg></a>\n",
       "<a class=\"poptip\" data-label=\"Our Blog\" data-tip=\"The Sports Reference Blog\" href=\"//www.sports-reference.com/blog/\"><svg class=\"icon wordpress\"><use xlink:href=\"#ic-wordpress\"></use></svg></a>\n",
       "<a class=\"poptip\" data-label=\"RSS Feed\" data-tip=\"Our Blog's RSS Feed\" href=\"https://www.sports-reference.com/blog/feed/\"><svg class=\"icon rss\"><use xlink:href=\"#ic-rss\"></use></svg></a>\n",
       "<a class=\"poptip\" data-label=\"Facebook\" data-tip=\"Basketball-Reference.com at Facebook\" href=\"https://www.facebook.com/Basketball.Reference\"><svg class=\"icon facebook\"><use xlink:href=\"#ic-facebook\"></use></svg></a>\n",
       "<a class=\"poptip\" data-label=\"Twitter\" data-tip=\"Basketball-Reference.com at Twitter\" href=\"https://twitter.com/bball_ref\"><svg class=\"icon twitter\"><use xlink:href=\"#ic-twitter\"></use></svg></a>\n",
       "<a class=\"poptip\" data-label=\"Instagram\" data-tip=\"Basketball-Reference.com at Instagram\" href=\"https://instagram.com/basketball.reference\"><svg class=\"icon instagram\"><use xlink:href=\"#ic-instagram\"></use></svg></a>\n",
       "<a class=\"poptip\" data-label=\"Reddit/r/SR\" data-tip=\"Reddit/r/SportsReference\" href=\"https://reddit.com/r/SportsReference\"><svg class=\"icon reddit\"><use xlink:href=\"#ic-reddit\"></use></svg></a>\n",
       "<a class=\"poptip\" data-label=\"YouTube\" data-tip=\"YouTube/SportsReference\" href=\"https://www.youtube.com/user/sportsreference\"><svg class=\"icon youtube\"><use xlink:href=\"#ic-youtube\"></use></svg></a>\n",
       "<a class=\"poptip\" data-label=\"LinkedIn\" data-tip=\"Follow SR on LinkedIn\" href=\"https://www.linkedin.com/company/sports-reference-llc\"><svg class=\"icon linkedin\"><use xlink:href=\"#ic-linkedin\"></use></svg></a>\n",
       "<a class=\"poptip\" data-label=\"PayPal\" data-tip=\"Send us money via PayPal\" href=\"https://www.paypal.me/sportsref\"><svg class=\"icon paypal\"><use xlink:href=\"#ic-paypal\"></use></svg></a>\n",
       "<p>Every <a href=\"https://www.sports-reference.com/blog/sports-reference-social-media/\">Sports Reference Social Media Account</a></p>\n",
       "<p><strong>Site Last Updated:</strong> Friday, January 22,  4:16AM\n",
       "</p>\n",
       "<p><a class=\"button alt\" href=\"https://www.sports-reference.com/feedback/\">Question, Comment, Feedback, or Correction?</a></p>\n",
       "<p><a class=\"button alt\" href=\"https://stathead.com/?&amp;utm_medium=sr&amp;utm_source=bbr&amp;utm_campaign=site-footer\" style=\"background-color:#8e4496; color: #fff;\">Are you a Stathead, too? Subscribe to our Free Newsletter</a></p>\n",
       "<p><a class=\"button alt\" href=\"https://www.sports-reference.com/this-month.html?&amp;utm_medium=sr&amp;utm_source=bbr&amp;utm_campaign=site-footer-twisr\" style=\"background-color:#155ca9; color: #fff;\">This Month in Sports Reference<br/><em>Find out when we add a feature or make a change</em></a></p>\n",
       "<p><a href=\"https://www.sports-reference.com/blog/ways-sports-reference-can-help-your-website/?utm_medium=sr&amp;utm_source=bbr&amp;utm_campaign=site-footer-ways-help\">Do you have a sports website? Or write about sports? We have tools and resources that can help you use sports data.  Find out more.</a></p>\n",
       "</div><!-- div#social -->\n",
       "<div id=\"tips_tricks\">\n",
       "<div class=\"section_heading\">\n",
       "<span class=\"section_anchor\" data-label=\"FAQs, Tip &amp; Tricks\" data-no-inpage=\"1\" id=\"tips_link\"></span><h2>FAQs, Tip &amp; Tricks</h2>\n",
       "</div>\n",
       "<ul>\n",
       "<!-- no Local/FooterTipsTricks.tt2 -->\n",
       "<li><a href=\"//www.sports-reference.com/blog/category/tips-and-tricks/\">Tips and Tricks from our Blog.</a></li>\n",
       "<li><a href=\"/linker/\">Do you have a blog? Join our linker program.</a></li>\n",
       "<li><a href=\"https://www.sports-reference.com/blog/category/stathead-tutorial-series/\">Watch our How-To Videos to Become a Stathead</a></li>\n",
       "<li><a href=\"//stathead.com/\">Subscribe to Stathead and get access to more data than you can imagine</a></li>\n",
       "</ul>\n",
       "</div><!-- div#tips_tricks -->\n",
       "<div id=\"credits\">\n",
       "<p>All logos are the trademark &amp; property of their owners and not Sports Reference LLC.  We present them here for purely educational purposes.\n",
       "\t\t\t\t<a href=\"https://www.sports-reference.com/blog/2016/06/redesign-team-and-league-logos-courtesy-sportslogos-net/\">Our reasoning for presenting offensive logos.</a></p>\n",
       "<p>\n",
       "\t\t\t\t\t\n",
       "\t\t\t\t\tLogos were compiled by the amazing <a href=\"http://sportslogos.net/\">SportsLogos.net.</a>\n",
       "</p>\n",
       "<div class=\"notice\">\n",
       "<p>Data Provided By\n",
       "\t<a href=\"https://www.sportradar.com/\" rel=\"nofollow\"><img alt=\"SportRadar\" border=\"0\" src=\"https://d2p3bygnnzw9w3.cloudfront.net/req/202101111/images/klecko/sportradar.png\" style=\"background-color:#666; padding:.5em; border-radius:.25em\" width=\"275\"/></a>\n",
       "\tthe official stats partner of the NBA.</p>\n",
       "</div>\n",
       "<p>Copyright © 2000-2021 <a href=\"//www.sports-reference.com/\">Sports Reference LLC</a>. All rights reserved.</p>\n",
       "</div><!-- div#credits -->\n",
       "</div>\n",
       "</div>\n",
       "<ul class=\"notranslate bullets-inline\" id=\"site_dirs\">\n",
       "<li><a href=\"https://www.sports-reference.com/\"><svg height=\"15px\" width=\"20px\"><use xlink:href=\"#ic-sr-pennant\"></use></svg> Sports Reference</a></li>\n",
       "<li><a href=\"https://www.baseball-reference.com/\">Baseball</a></li>\n",
       "<li><a href=\"https://www.pro-football-reference.com/\">Football</a> <a href=\"https://www.sports-reference.com/cfb/\">(college)</a></li>\n",
       "<li class=\"current\"><a href=\"https://www.basketball-reference.com/\">Basketball</a> <a href=\"https://www.sports-reference.com/cbb/\">(college)</a></li>\n",
       "<li><a href=\"https://www.hockey-reference.com/\">Hockey</a></li>\n",
       "<li><a href=\"https://fbref.com/en/\">Soccer</a></li>\n",
       "<li><a href=\"https://www.sports-reference.com/blog/\">Blog</a></li>\n",
       "<li><a href=\"https://stathead.com/?utm_source=web&amp;utm_medium=bbr&amp;utm_campaign=sr-nav-bar-top-link\">Stathead</a></li>\n",
       "<li><a href=\"https://widgets.sports-reference.com/\">Widgets</a></li>\n",
       "</ul>\n",
       "<div id=\"about\"><a href=\"//www.sports-reference.com/about.html\">About</a> • <a href=\"//www.sports-reference.com/privacy.html\">Privacy Statement</a> • <a href=\"//www.sports-reference.com/termsofuse.html\">Conditions &amp; Terms of Service</a> • <a href=\"//www.sports-reference.com/advertise.html\">Advertise With Us</a> • <a href=\"//www.sports-reference.com/data_use.html\">Use of Data</a></div><!-- div#about -->\n",
       "</div><!-- div#footer -->\n",
       "</div><!-- div#wrap -->\n",
       "<!-- yes sticky url:  https://www.basketball-reference.com/players/a/ -->\n",
       "<div id=\"fs-select-footer\"></div>\n",
       "<!-- rails -->\n",
       "<div class=\"adblock rails left\"><!-- div#fs_fs_rails_left  -->\n",
       "<div align=\"center\" id=\"div-gpt-ad-160x600-1\">\n",
       "<script data-cfasync=\"false\" type=\"text/javascript\">\n",
       "    if (sr_detect_ie || sr_detect_edge || Modernizr.adfree) {\n",
       "    }\n",
       "    else {\n",
       "        console.log('push ad:div-gpt-ad-160x600-1');\n",
       "        freestar.queue.push(function() { googletag.display('div-gpt-ad-160x600-1'); });\n",
       "    }\n",
       "    </script>\n",
       "</div>\n",
       "<!-- /div.#fs_fs_rails_left -->\n",
       "</div>\n",
       "<div class=\"adblock rails right\"><!-- div#fs_fs_rails_right  -->\n",
       "<div align=\"center\" id=\"div-gpt-ad-160x600-2\">\n",
       "<script data-cfasync=\"false\" type=\"text/javascript\">\n",
       "    if (sr_detect_ie || sr_detect_edge || Modernizr.adfree) {\n",
       "    }\n",
       "    else {\n",
       "        console.log('push ad:div-gpt-ad-160x600-2');\n",
       "        freestar.queue.push(function() { googletag.display('div-gpt-ad-160x600-2'); });\n",
       "    }\n",
       "    </script>\n",
       "</div>\n",
       "<!-- /div.#fs_fs_rails_right -->\n",
       "</div>\n",
       "<!-- Google Analytics --><script> var sr_cookie = vjs_readCookie('stathead_user') || ''; var sr_cookie_split = sr_cookie.split(\"::\"); var sr_session_key = (sr_cookie_split.length > 1)?sr_cookie_split[2]:''; var sr_ad_free_key = \"4\"; var sr_site_id = \"bbr\"; var sr_is_subscriber = (sr_ad_free_key && sr_session_key.vjs_isMatch(new RegExp(sr_ad_free_key + \"$\"))) || sr_session_key.vjs_isMatch(/1$/) || (sr_site_id === 'stathead' && sr_session_key.vjs_isMatch(/[0-7]$/)); var sr_is_user = sr_cookie !== null && sr_cookie !== ''; var sr_seen_modal = vjs_readCookie('modal_ad') !== null; var sr_device = 'unk'; if (Modernizr.phone) { sr_device = 'phone'; } else if (Modernizr.tablet) { sr_device = 'tablet'; } else if (Modernizr.laptop) { sr_device = 'laptop'; } else if (Modernizr.desktop) { sr_device = 'desktop'; } var sr_stathead_site = vjs_readCookie('stathead_site') || ''; var sr_stathead_type = vjs_readCookie('stathead_type') || ''; (function(i,s,o,g,r,a,m){ i['GoogleAnalyticsObject']=r; i[r]=i[r]||function(){(i[r].q=i[r].q||[]).push(arguments)},i[r].l=1*new Date(); a=s.createElement(o),m=s.getElementsByTagName(o)[0]; a.async=1; a.src=g; m.parentNode.insertBefore(a,m) })(window,document,'script','https://www.google-analytics.com/analytics.js','ga'); ga('create', 'UA-1890630-2', 'auto'); ga('require', 'linkid', 'linkid.js'); ga('require', 'ecommerce', 'ecommerce.js'); ga('require', 'displayfeatures'); ga('set', 'dimension1', sr_is_subscriber); ga('set', 'dimension2', sr_is_user); /* no longer collecting is_modern */ ga('set', 'dimension3', 'null'); ga('set', 'dimension4', sr_stathead_type); ga('set', 'dimension5', sr_stathead_site); ga('set', 'metric1', Modernizr.viewport_width); ga('send', 'pageview'); /* all sr-sites together */ ga('create', 'UA-1890630-9', 'auto', {'name': 'sr_tracker', 'allowLinker': true }); ga('sr_tracker.require', 'displayfeatures'); ga('sr_tracker.set', 'dimension1',sr_site_id); ga('sr_tracker.set', 'dimension2',sr_is_subscriber); ga('sr_tracker.set', 'dimension3',sr_is_user); ga('sr_tracker.set', 'dimension4',sr_seen_modal); ga('sr_tracker.set', 'dimension5',sr_device); /* no longer collecting is_modern */ ga('sr_tracker.set', 'dimension6','null'); ga('sr_tracker.set', 'metric1',Modernizr.viewport_width); /* note that this requires the Assets/AdBlockTest.tt2 to be included above. ga('sr_tracker.set', 'dimension8',(typeof sr_test == 'undefined')?'no-test':( sr_test ? 'non-blocking':'blocking')); */ ga('sr_tracker.send', 'pageview'); /* cribbed from: http://www.axllent.org/docs/view/track-outbound-links-with-analytics-js/ */ function _gaLt(event) { if (!ga.hasOwnProperty(\"loaded\") || ga.loaded != true) { return; } var el = event.srcElement || event.target; /* if a link has been clicked */ if (el && el.href) { var link = el.href; /* Only if it is an external link */ if (link.indexOf(location.host) == -1 && !link.match(/^javascript\\:/i)) { /* Is target set and not _(self|parent|top)? */ var target = (el.target && !el.target.match(/^_(self|parent|top)/i)) ? el.target : false; /* If target opens a new window then just track */ if (el.target && !el.target.match(/^_(self|parent|top)/i)) { ga(\"send\", \"event\", \"Outgoing Links\", link, document.location.pathname + document.location.search); } }; } } window.addEventListener ? window.addEventListener(\"load\", function() { document.body.addEventListener(\"click\", _gaLt, !1)}, !1) : window.attachEvent && window.attachEvent(\"onload\", function() { document.body.attachEvent(\"onclick\", _gaLt) }); </script><!-- End Google Analytics -->\n",
       "</body><!-- SR -->\n",
       "</html>"
      ]
     },
     "metadata": {},
     "execution_count": 9
    }
   ],
   "source": [
    "htmldata = urllib.request.urlopen('https://www.basketball-reference.com/players/a/')\n",
    "bsoup = BeautifulSoup.BeautifulSoup(htmldata,'html.parser')\n",
    "bsoup"
   ]
  },
  {
   "cell_type": "code",
   "execution_count": 17,
   "metadata": {},
   "outputs": [
    {
     "output_type": "execute_result",
     "data": {
      "text/plain": [
       "[]"
      ]
     },
     "metadata": {},
     "execution_count": 17
    }
   ],
   "source": [
    "bsoup.find_all('tr',{'data-stat':\"player\"})"
   ]
  },
  {
   "cell_type": "code",
   "execution_count": 28,
   "metadata": {},
   "outputs": [
    {
     "output_type": "execute_result",
     "data": {
      "text/plain": [
       "'abdelal01.html'"
      ]
     },
     "metadata": {},
     "execution_count": 28
    }
   ],
   "source": [
    "href = bsoup.find_all('tr')[1].find_all('a')[0].attrs['href']\n",
    "href.split('/')[-1]"
   ]
  },
  {
   "cell_type": "code",
   "execution_count": 45,
   "metadata": {},
   "outputs": [
    {
     "output_type": "execute_result",
     "data": {
      "text/plain": [
       "<http.client.HTTPResponse at 0x17c10b08828>"
      ]
     },
     "metadata": {},
     "execution_count": 45
    }
   ],
   "source": [
    "player_html = urllib.request.urlopen(main_url + \"a/\" + href.split('/')[-1])\n",
    "player_html"
   ]
  },
  {
   "cell_type": "code",
   "execution_count": 30,
   "metadata": {},
   "outputs": [
    {
     "output_type": "execute_result",
     "data": {
      "text/plain": [
       "'https://www.basketball-reference.com/players/abdelal01.html'"
      ]
     },
     "metadata": {},
     "execution_count": 30
    }
   ],
   "source": [
    "main_url + href.split('/')[-1]"
   ]
  },
  {
   "cell_type": "code",
   "execution_count": 46,
   "metadata": {},
   "outputs": [
    {
     "output_type": "execute_result",
     "data": {
      "text/plain": [
       "=\"right\" data-stat=\"ast_per_g\">0.4</td><td class=\"right\" data-stat=\"stl_per_g\">0.3</td><td class=\"right\" data-stat=\"blk_per_g\">0.3</td><td class=\"right\" data-stat=\"tov_per_g\">1.3</td><td class=\"right\" data-stat=\"pf_per_g\">2.5</td><td class=\"right\" data-stat=\"pts_per_g\">7.7</td></tr>,\n",
       " <tr class=\"light_text partial_table\" id=\"per_game.1993\"><th class=\"left\" data-stat=\"season\" scope=\"row\"><a href=\"/players/a/abdelal01/gamelog/1993/\">1992-93</a></th><td class=\"center\" data-stat=\"age\">24</td><td class=\"left\" data-stat=\"team_id\"><a href=\"/teams/MIL/1993.html\">MIL</a></td><td class=\"left\" data-stat=\"lg_id\"><a href=\"/leagues/NBA_1993.html\">NBA</a></td><td class=\"center\" data-stat=\"pos\">PF</td><td class=\"right\" data-stat=\"g\">12</td><td class=\"right iz\" data-stat=\"gs\">0</td><td class=\"right\" data-stat=\"mp_per_g\">13.3</td><td class=\"right\" data-stat=\"fg_per_g\">2.2</td><td class=\"right\" data-stat=\"fga_per_g\">4.7</td><td class=\"right\" data-stat=\"fg_pct\">.464</td><td class=\"right iz\" data-stat=\"fg3_per_g\">0.0</td><td class=\"right\" data-stat=\"fg3a_per_g\">0.1</td><td class=\"right iz\" data-stat=\"fg3_pct\">.000</td><td class=\"right\" data-stat=\"fg2_per_g\">2.2</td><td class=\"right\" data-stat=\"fg2a_per_g\">4.6</td><td class=\"right\" data-stat=\"fg2_pct\">.473</td><td class=\"right\" data-stat=\"efg_pct\">.464</td><td class=\"right\" data-stat=\"ft_per_g\">1.0</td><td class=\"right\" data-stat=\"fta_per_g\">1.3</td><td class=\"right\" data-stat=\"ft_pct\">.750</td><td class=\"right\" data-stat=\"orb_per_g\">1.0</td><td class=\"right\" data-stat=\"drb_per_g\">2.1</td><td class=\"right\" data-stat=\"trb_per_g\">3.1</td><td class=\"right\" data-stat=\"ast_per_g\">0.8</td><td class=\"right\" data-stat=\"stl_per_g\">0.5</td><td class=\"right\" data-stat=\"blk_per_g\">0.3</td><td class=\"right\" data-stat=\"tov_per_g\">1.1</td><td class=\"right\" data-stat=\"pf_per_g\">2.0</td><td class=\"right\" data-stat=\"pts_per_g\">5.3</td></tr>,\n",
       " <tr class=\"light_text partial_table\" id=\"per_game.1993\"><th class=\"left\" data-stat=\"season\" scope=\"row\"><a href=\"/players/a/abdelal01/gamelog/1993/\">1992-93</a></th><td class=\"center\" data-stat=\"age\">24</td><td class=\"left\" data-stat=\"team_id\"><a href=\"/teams/BOS/1993.html\">BOS</a></td><td class=\"left\" data-stat=\"lg_id\"><a href=\"/leagues/NBA_1993.html\">NBA</a></td><td class=\"center\" data-stat=\"pos\">PF</td><td class=\"right\" data-stat=\"g\">63</td><td class=\"right\" data-stat=\"gs\">52</td><td class=\"right\" data-stat=\"mp_per_g\">18.3</td><td class=\"right\" data-stat=\"fg_per_g\">3.5</td><td class=\"right\" data-stat=\"fga_per_g\">6.6</td><td class=\"right\" data-stat=\"fg_pct\">.525</td><td class=\"right iz\" data-stat=\"fg3_per_g\">0.0</td><td class=\"right iz\" data-stat=\"fg3a_per_g\">0.0</td><td class=\"right iz\" data-stat=\"fg3_pct\"></td><td class=\"right\" data-stat=\"fg2_per_g\">3.5</td><td class=\"right\" data-stat=\"fg2a_per_g\">6.6</td><td class=\"right\" data-stat=\"fg2_pct\">.525</td><td class=\"right\" data-stat=\"efg_pct\">.525</td><td class=\"right\" data-stat=\"ft_per_g\">1.2</td><td class=\"right\" data-stat=\"fta_per_g\">1.6</td><td class=\"right\" data-stat=\"ft_pct\">.760</td><td class=\"right\" data-stat=\"orb_per_g\">1.8</td><td class=\"right\" data-stat=\"drb_per_g\">3.0</td><td class=\"right\" data-stat=\"trb_per_g\">4.8</td><td class=\"right\" data-stat=\"ast_per_g\">0.3</td><td class=\"right\" data-stat=\"stl_per_g\">0.3</td><td class=\"right\" data-stat=\"blk_per_g\">0.3</td><td class=\"right\" data-stat=\"tov_per_g\">1.3</td><td class=\"right\" data-stat=\"pf_per_g\">2.6</td><td class=\"right\" data-stat=\"pts_per_g\">8.2</td></tr>,\n",
       " <tr class=\"full_table\" id=\"per_game.1994\"><th class=\"left\" data-stat=\"season\" scope=\"row\"><a href=\"/players/a/abdelal01/gamelog/1994/\">1993-94</a></th><td class=\"center\" data-stat=\"age\">25</td><td class=\"left\" data-stat=\"team_id\"><a href=\"/teams/BOS/1994.html\">BOS</a></td><td class=\"left\" data-stat=\"lg_id\"><a href=\"/leagues/NBA_1994.html\">NBA</a></td><td class=\"center\" data-stat=\"pos\">PF</td><td class=\"right\" data-stat=\"g\">13</td><td class=\"right iz\" data-stat=\"gs\">0</td><td class=\"right\" data-stat=\"mp_per_g\">12.2</td><td class=\"right\" data-stat=\"fg_per_g\">1.8</td><td class=\"right\" data-stat=\"fga_per_g\">4.2</td><td class=\"right\" data-stat=\"fg_pct\">.436</td><td class=\"right iz\" data-stat=\"fg3_per_g\">0.0</td><td class=\"right iz\" data-stat=\"fg3a_per_g\">0.0</td><td class=\"right iz\" data-stat=\"fg3_pct\"></td><td class=\"right\" data-stat=\"fg2_per_g\">1.8</td><td class=\"right\" data-stat=\"fg2a_per_g\">4.2</td><td class=\"right\" data-stat=\"fg2_pct\">.436</td><td class=\"right\" data-stat=\"efg_pct\">.436</td><td class=\"right\" data-stat=\"ft_per_g\">1.2</td><td class=\"right\" data-stat=\"fta_per_g\">1.9</td><td class=\"right\" data-stat=\"ft_pct\">.640</td><td class=\"right\" data-stat=\"orb_per_g\">0.9</td><td class=\"right\" data-stat=\"drb_per_g\">2.6</td><td class=\"right\" data-stat=\"trb_per_g\">3.5</td><td class=\"right\" data-stat=\"ast_per_g\">0.2</td><td class=\"right\" data-stat=\"stl_per_g\">0.2</td><td class=\"right\" data-stat=\"blk_per_g\">0.2</td><td class=\"right\" data-stat=\"tov_per_g\">1.3</td><td class=\"right\" data-stat=\"pf_per_g\">1.5</td><td class=\"right\" data-stat=\"pts_per_g\">4.9</td></tr>,\n",
       " <tr class=\"full_table\" id=\"per_game.1995\"><th class=\"left\" data-stat=\"season\" scope=\"row\"><a href=\"/players/a/abdelal01/gamelog/1995/\">1994-95</a></th><td class=\"center\" data-stat=\"age\">26</td><td class=\"left\" data-stat=\"team_id\">TOT</td><td class=\"left\" data-stat=\"lg_id\"><a href=\"/leagues/NBA_1995.html\">NBA</a></td><td class=\"center\" data-stat=\"pos\">PF</td><td class=\"right\" data-stat=\"g\">54</td><td class=\"right iz\" data-stat=\"gs\">0</td><td class=\"right\" data-stat=\"mp_per_g\">9.4</td><td class=\"right\" data-stat=\"fg_per_g\">2.2</td><td class=\"right\" data-stat=\"fga_per_g\">4.3</td><td class=\"right\" data-stat=\"fg_pct\">.511</td><td class=\"right iz\" data-stat=\"fg3_per_g\">0.0</td><td class=\"right iz\" data-stat=\"fg3a_per_g\">0.0</td><td class=\"right iz\" data-stat=\"fg3_pct\">.000</td><td class=\"right\" data-stat=\"fg2_per_g\">2.2</td><td class=\"right\" data-stat=\"fg2a_per_g\">4.2</td><td class=\"right\" data-stat=\"fg2_pct\">.515</td><td class=\"right\" data-stat=\"efg_pct\">.511</td><td class=\"right\" data-stat=\"ft_per_g\">0.4</td><td class=\"right\" data-stat=\"fta_per_g\">0.6</td><td class=\"right\" data-stat=\"ft_pct\">.571</td><td class=\"right\" data-stat=\"orb_per_g\">0.7</td><td class=\"right\" data-stat=\"drb_per_g\">1.4</td><td class=\"right\" data-stat=\"trb_per_g\">2.1</td><td class=\"right\" data-stat=\"ast_per_g\">0.2</td><td class=\"right\" data-stat=\"stl_per_g\">0.3</td><td class=\"right\" data-stat=\"blk_per_g\">0.2</td><td class=\"right\" data-stat=\"tov_per_g\">0.8</td><td class=\"right\" data-stat=\"pf_per_g\">1.9</td><td class=\"right\" data-stat=\"pts_per_g\">4.7</td></tr>,\n",
       " <tr class=\"light_text partial_table\" id=\"per_game.1995\"><th class=\"left\" data-stat=\"season\" scope=\"row\"><a href=\"/players/a/abdelal01/gamelog/1995/\">1994-95</a></th><td class=\"center\" data-stat=\"age\">26</td><td class=\"left\" data-stat=\"team_id\"><a href=\"/teams/SAC/1995.html\">SAC</a></td><td class=\"left\" data-stat=\"lg_id\"><a href=\"/leagues/NBA_1995.html\">NBA</a></td><td class=\"center\" data-stat=\"pos\">PF</td><td class=\"right\" data-stat=\"g\">51</td><td class=\"right iz\" data-stat=\"gs\">0</td><td class=\"right\" data-stat=\"mp_per_g\">9.3</td><td class=\"right\" data-stat=\"fg_per_g\">2.3</td><td class=\"right\" data-stat=\"fga_per_g\">4.3</td><td class=\"right\" data-stat=\"fg_pct\">.532</td><td class=\"right iz\" data-stat=\"fg3_per_g\">0.0</td><td class=\"right iz\" data-stat=\"fg3a_per_g\">0.0</td><td class=\"right iz\" data-stat=\"fg3_pct\">.000</td><td class=\"right\" data-stat=\"fg2_per_g\">2.3</td><td class=\"right\" data-stat=\"fg2a_per_g\">4.3</td><td class=\"right\" data-stat=\"fg2_pct\">.537</td><td class=\"right\" data-stat=\"efg_pct\">.532</td><td class=\"right\" data-stat=\"ft_per_g\">0.4</td><td class=\"right\" data-stat=\"fta_per_g\">0.7</td><td class=\"right\" data-stat=\"ft_pct\">.571</td><td class=\"right\" data-stat=\"orb_per_g\">0.7</td><td class=\"right\" data-stat=\"drb_per_g\">1.4</td><td class=\"right\" data-stat=\"trb_per_g\">2.1</td><td class=\"right\" data-stat=\"ast_per_g\">0.3</td><td class=\"right\" data-stat=\"stl_per_g\">0.3</td><td class=\"right\" data-stat=\"blk_per_g\">0.2</td><td class=\"right\" data-stat=\"tov_per_g\">0.8</td><td class=\"right\" data-stat=\"pf_per_g\">2.0</td><td class=\"right\" data-stat=\"pts_per_g\">5.0</td></tr>,\n",
       " <tr class=\"light_text partial_table\" id=\"per_game.1995\"><th class=\"left\" data-stat=\"season\" scope=\"row\"><a href=\"/players/a/abdelal01/gamelog/1995/\">1994-95</a></th><td class=\"center\" data-stat=\"age\">26</td><td class=\"left\" data-stat=\"team_id\"><a href=\"/teams/PHI/1995.html\">PHI</a></td><td class=\"left\" data-stat=\"lg_id\"><a href=\"/leagues/NBA_1995.html\">NBA</a></td><td class=\"center\" data-stat=\"pos\">PF</td><td class=\"right\" data-stat=\"g\">3</td><td class=\"right iz\" data-stat=\"gs\">0</td><td class=\"right\" data-stat=\"mp_per_g\">10.0</td><td class=\"right\" data-stat=\"fg_per_g\">0.3</td><td class=\"right\" data-stat=\"fga_per_g\">3.7</td><td class=\"right\" data-stat=\"fg_pct\">.091</td><td class=\"right iz\" data-stat=\"fg3_per_g\">0.0</td><td class=\"right iz\" data-stat=\"fg3a_per_g\">0.0</td><td class=\"right iz\" data-stat=\"fg3_pct\"></td><td class=\"right\" data-stat=\"fg2_per_g\">0.3</td><td class=\"right\" data-stat=\"fg2a_per_g\">3.7</td><td class=\"right\" data-stat=\"fg2_pct\">.091</td><td class=\"right\" data-stat=\"efg_pct\">.091</td><td class=\"right iz\" data-stat=\"ft_per_g\">0.0</td><td class=\"right iz\" data-stat=\"fta_per_g\">0.0</td><td class=\"right iz\" data-stat=\"ft_pct\"></td><td class=\"right\" data-stat=\"orb_per_g\">1.0</td><td class=\"right\" data-stat=\"drb_per_g\">1.7</td><td class=\"right\" data-stat=\"trb_per_g\">2.7</td><td class=\"right iz\" data-stat=\"ast_per_g\">0.0</td><td class=\"right iz\" data-stat=\"stl_per_g\">0.0</td><td class=\"right iz\" data-stat=\"blk_per_g\">0.0</td><td class=\"right\" data-stat=\"tov_per_g\">1.7</td><td class=\"right\" data-stat=\"pf_per_g\">0.7</td><td class=\"right\" data-stat=\"pts_per_g\">0.7</td></tr>,\n",
       " <tr><th class=\"left\" data-stat=\"season\" scope=\"row\">Career</th><td class=\"center iz\" data-stat=\"age\"></td><td class=\"left iz\" data-stat=\"team_id\"></td><td class=\"left\" data-stat=\"lg_id\">NBA</td><td class=\"center iz\" data-stat=\"pos\"></td><td class=\"right\" data-stat=\"g\">256</td><td class=\"right\" data-stat=\"gs\">53</td><td class=\"right\" data-stat=\"mp_per_g\">12.5</td><td class=\"right\" data-stat=\"fg_per_g\">2.4</td><td class=\"right\" data-stat=\"fga_per_g\">4.8</td><td class=\"right\" data-stat=\"fg_pct\">.502</td><td class=\"right iz\" data-stat=\"fg3_per_g\">0.0</td><td class=\"right iz\" data-stat=\"fg3a_per_g\">0.0</td><td class=\"right iz\" data-stat=\"fg3_pct\">.000</td><td class=\"right\" data-stat=\"fg2_per_g\">2.4</td><td class=\"right\" data-stat=\"fg2a_per_g\">4.8</td><td class=\"right\" data-stat=\"fg2_pct\">.503</td><td class=\"right\" data-stat=\"efg_pct\">.502</td><td class=\"right\" data-stat=\"ft_per_g\">0.9</td><td class=\"right\" data-stat=\"fta_per_g\">1.3</td><td class=\"right\" data-stat=\"ft_pct\">.701</td><td class=\"right\" data-stat=\"orb_per_g\">1.1</td><td class=\"right\" data-stat=\"drb_per_g\">2.2</td><td class=\"right\" data-stat=\"trb_per_g\">3.3</td><td class=\"right\" data-stat=\"ast_per_g\">0.3</td><td class=\"right\" data-stat=\"stl_per_g\">0.3</td><td class=\"right\" data-stat=\"blk_per_g\">0.3</td><td class=\"right\" data-stat=\"tov_per_g\">1.0</td><td class=\"right\" data-stat=\"pf_per_g\">1.9</td><td class=\"right\" data-stat=\"pts_per_g\">5.7</td></tr>,\n",
       " <tr class=\"blank_table partial_table\"><th class=\"left iz\" data-stat=\"season\" scope=\"row\"></th><td class=\"center iz\" data-stat=\"age\"></td><td class=\"left iz\" data-stat=\"team_id\"></td><td class=\"left iz\" data-stat=\"lg_id\"></td><td class=\"center iz\" data-stat=\"pos\"></td><td class=\"right iz\" data-stat=\"g\"></td><td class=\"right iz\" data-stat=\"gs\"></td><td class=\"right iz\" data-stat=\"mp_per_g\"></td><td class=\"right iz\" data-stat=\"fg_per_g\"></td><td class=\"right iz\" data-stat=\"fga_per_g\"></td><td class=\"right iz\" data-stat=\"fg_pct\"></td><td class=\"right iz\" data-stat=\"fg3_per_g\"></td><td class=\"right iz\" data-stat=\"fg3a_per_g\"></td><td class=\"right iz\" data-stat=\"fg3_pct\"></td><td class=\"right iz\" data-stat=\"fg2_per_g\"></td><td class=\"right iz\" data-stat=\"fg2a_per_g\"></td><td class=\"right iz\" data-stat=\"fg2_pct\"></td><td class=\"right iz\" data-stat=\"efg_pct\"></td><td class=\"right iz\" data-stat=\"ft_per_g\"></td><td class=\"right iz\" data-stat=\"fta_per_g\"></td><td class=\"right iz\" data-stat=\"ft_pct\"></td><td class=\"right iz\" data-stat=\"orb_per_g\"></td><td class=\"right iz\" data-stat=\"drb_per_g\"></td><td class=\"right iz\" data-stat=\"trb_per_g\"></td><td class=\"right iz\" data-stat=\"ast_per_g\"></td><td class=\"right iz\" data-stat=\"stl_per_g\"></td><td class=\"right iz\" data-stat=\"blk_per_g\"></td><td class=\"right iz\" data-stat=\"tov_per_g\"></td><td class=\"right iz\" data-stat=\"pf_per_g\"></td><td class=\"right iz\" data-stat=\"pts_per_g\"></td></tr>,\n",
       " <tr><th class=\"left\" data-stat=\"season\" scope=\"row\">2 seasons</th><td class=\"center iz\" data-stat=\"age\"></td><td class=\"left\" data-stat=\"team_id\"><a href=\"/teams/POR/\">POR</a></td><td class=\"left\" data-stat=\"lg_id\">NBA</td><td class=\"center iz\" data-stat=\"pos\"></td><td class=\"right\" data-stat=\"g\">114</td><td class=\"right\" data-stat=\"gs\">1</td><td class=\"right\" data-stat=\"mp_per_g\">10.7</td><td class=\"right\" data-stat=\"fg_per_g\">2.0</td><td class=\"right\" data-stat=\"fga_per_g\">4.2</td><td class=\"right\" data-stat=\"fg_pct\">.488</td><td class=\"right iz\" data-stat=\"fg3_per_g\">0.0</td><td class=\"right iz\" data-stat=\"fg3a_per_g\">0.0</td><td class=\"right iz\" data-stat=\"fg3_pct\"></td><td class=\"right\" data-stat=\"fg2_per_g\">2.0</td><td class=\"right\" data-stat=\"fg2a_per_g\">4.2</td><td class=\"right\" data-stat=\"fg2_pct\">.488</td><td class=\"right\" data-stat=\"efg_pct\">.488</td><td class=\"right\" data-stat=\"ft_per_g\">0.9</td><td class=\"right\" data-stat=\"fta_per_g\">1.3</td><td class=\"right\" data-stat=\"ft_pct\">.697</td><td class=\"right\" data-stat=\"orb_per_g\">0.9</td><td class=\"right\" data-stat=\"drb_per_g\">2.1</td><td class=\"right\" data-stat=\"trb_per_g\">3.1</td><td class=\"right\" data-stat=\"ast_per_g\">0.4</td><td class=\"right\" data-stat=\"stl_per_g\">0.3</td><td class=\"right\" data-stat=\"blk_per_g\">0.2</td><td class=\"right\" data-stat=\"tov_per_g\">0.8</td><td class=\"right\" data-stat=\"pf_per_g\">1.5</td><td class=\"right\" data-stat=\"pts_per_g\">5.0</td></tr>,\n",
       " <tr><th class=\"left\" data-stat=\"season\" scope=\"row\">2 seasons</th><td class=\"center iz\" data-stat=\"age\"></td><td class=\"left\" data-stat=\"team_id\"><a href=\"/teams/BOS/\">BOS</a></td><td class=\"left\" data-stat=\"lg_id\">NBA</td><td class=\"center iz\" data-stat=\"pos\"></td><td class=\"right\" data-stat=\"g\">76</td><td class=\"right\" data-stat=\"gs\">52</td><td class=\"right\" data-stat=\"mp_per_g\">17.3</td><td class=\"right\" data-stat=\"fg_per_g\">3.2</td><td class=\"right\" data-stat=\"fga_per_g\">6.2</td><td class=\"right\" data-stat=\"fg_pct\">.515</td><td class=\"right iz\" data-stat=\"fg3_per_g\">0.0</td><td class=\"right iz\" data-stat=\"fg3a_per_g\">0.0</td><td class=\"right iz\" data-stat=\"fg3_pct\"></td><td class=\"right\" data-stat=\"fg2_per_g\">3.2</td><td class=\"right\" data-stat=\"fg2a_per_g\">6.2</td><td class=\"right\" data-stat=\"fg2_pct\">.515</td><td class=\"right\" data-stat=\"efg_pct\">.515</td><td class=\"right\" data-stat=\"ft_per_g\">1.2</td><td class=\"right\" data-stat=\"fta_per_g\">1.6</td><td class=\"right\" data-stat=\"ft_pct\">.736</td><td class=\"right\" data-stat=\"orb_per_g\">1.7</td><td class=\"right\" data-stat=\"drb_per_g\">2.9</td><td class=\"right\" data-stat=\"trb_per_g\">4.6</td><td class=\"right\" data-stat=\"ast_per_g\">0.3</td><td class=\"right\" data-stat=\"stl_per_g\">0.3</td><td class=\"right\" data-stat=\"blk_per_g\">0.3</td><td class=\"right\" data-stat=\"tov_per_g\">1.3</td><td class=\"right\" data-stat=\"pf_per_g\">2.4</td><td class=\"right\" data-stat=\"pts_per_g\">7.6</td></tr>,\n",
       " <tr><th class=\"left\" data-stat=\"season\" scope=\"row\">1 season</th><td class=\"center iz\" data-stat=\"age\"></td><td class=\"left\" data-stat=\"team_id\"><a href=\"/teams/SAC/\">SAC</a></td><td class=\"left\" data-stat=\"lg_id\">NBA</td><td class=\"center iz\" data-stat=\"pos\"></td><td class=\"right\" data-stat=\"g\">51</td><td class=\"right iz\" data-stat=\"gs\">0</td><td class=\"right\" data-stat=\"mp_per_g\">9.3</td><td class=\"right\" data-stat=\"fg_per_g\">2.3</td><td class=\"right\" data-stat=\"fga_per_g\">4.3</td><td class=\"right\" data-stat=\"fg_pct\">.532</td><td class=\"right iz\" data-stat=\"fg3_per_g\">0.0</td><td class=\"right iz\" data-stat=\"fg3a_per_g\">0.0</td><td class=\"right iz\" data-stat=\"fg3_pct\">.000</td><td class=\"right\" data-stat=\"fg2_per_g\">2.3</td><td class=\"right\" data-stat=\"fg2a_per_g\">4.3</td><td class=\"right\" data-stat=\"fg2_pct\">.537</td><td class=\"right\" data-stat=\"efg_pct\">.532</td><td class=\"right\" data-stat=\"ft_per_g\">0.4</td><td class=\"right\" data-stat=\"fta_per_g\">0.7</td><td class=\"right\" data-stat=\"ft_pct\">.571</td><td class=\"right\" data-stat=\"orb_per_g\">0.7</td><td class=\"right\" data-stat=\"drb_per_g\">1.4</td><td class=\"right\" data-stat=\"trb_per_g\">2.1</td><td class=\"right\" data-stat=\"ast_per_g\">0.3</td><td class=\"right\" data-stat=\"stl_per_g\">0.3</td><td class=\"right\" data-stat=\"blk_per_g\">0.2</td><td class=\"right\" data-stat=\"tov_per_g\">0.8</td><td class=\"right\" data-stat=\"pf_per_g\">2.0</td><td class=\"right\" data-stat=\"pts_per_g\">5.0</td></tr>,\n",
       " <tr><th class=\"left\" data-stat=\"season\" scope=\"row\">1 season</th><td class=\"center iz\" data-stat=\"age\"></td><td class=\"left\" data-stat=\"team_id\"><a href=\"/teams/MIL/\">MIL</a></td><td class=\"left\" data-stat=\"lg_id\">NBA</td><td class=\"center iz\" data-stat=\"pos\"></td><td class=\"right\" data-stat=\"g\">12</td><td class=\"right iz\" data-stat=\"gs\">0</td><td class=\"right\" data-stat=\"mp_per_g\">13.3</td><td class=\"right\" data-stat=\"fg_per_g\">2.2</td><td class=\"right\" data-stat=\"fga_per_g\">4.7</td><td class=\"right\" data-stat=\"fg_pct\">.464</td><td class=\"right iz\" data-stat=\"fg3_per_g\">0.0</td><td class=\"right\" data-stat=\"fg3a_per_g\">0.1</td><td class=\"right iz\" data-stat=\"fg3_pct\">.000</td><td class=\"right\" data-stat=\"fg2_per_g\">2.2</td><td class=\"right\" data-stat=\"fg2a_per_g\">4.6</td><td class=\"right\" data-stat=\"fg2_pct\">.473</td><td class=\"right\" data-stat=\"efg_pct\">.464</td><td class=\"right\" data-stat=\"ft_per_g\">1.0</td><td class=\"right\" data-stat=\"fta_per_g\">1.3</td><td class=\"right\" data-stat=\"ft_pct\">.750</td><td class=\"right\" data-stat=\"orb_per_g\">1.0</td><td class=\"right\" data-stat=\"drb_per_g\">2.1</td><td class=\"right\" data-stat=\"trb_per_g\">3.1</td><td class=\"right\" data-stat=\"ast_per_g\">0.8</td><td class=\"right\" data-stat=\"stl_per_g\">0.5</td><td class=\"right\" data-stat=\"blk_per_g\">0.3</td><td class=\"right\" data-stat=\"tov_per_g\">1.1</td><td class=\"right\" data-stat=\"pf_per_g\">2.0</td><td class=\"right\" data-stat=\"pts_per_g\">5.3</td></tr>,\n",
       " <tr><th class=\"left\" data-stat=\"season\" scope=\"row\">1 season</th><td class=\"center iz\" data-stat=\"age\"></td><td class=\"left\" data-stat=\"team_id\"><a href=\"/teams/PHI/\">PHI</a></td><td class=\"left\" data-stat=\"lg_id\">NBA</td><td class=\"center iz\" data-stat=\"pos\"></td><td class=\"right\" data-stat=\"g\">3</td><td class=\"right iz\" data-stat=\"gs\">0</td><td class=\"right\" data-stat=\"mp_per_g\">10.0</td><td class=\"right\" data-stat=\"fg_per_g\">0.3</td><td class=\"right\" data-stat=\"fga_per_g\">3.7</td><td class=\"right\" data-stat=\"fg_pct\">.091</td><td class=\"right iz\" data-stat=\"fg3_per_g\">0.0</td><td class=\"right iz\" data-stat=\"fg3a_per_g\">0.0</td><td class=\"right iz\" data-stat=\"fg3_pct\"></td><td class=\"right\" data-stat=\"fg2_per_g\">0.3</td><td class=\"right\" data-stat=\"fg2a_per_g\">3.7</td><td class=\"right\" data-stat=\"fg2_pct\">.091</td><td class=\"right\" data-stat=\"efg_pct\">.091</td><td class=\"right iz\" data-stat=\"ft_per_g\">0.0</td><td class=\"right iz\" data-stat=\"fta_per_g\">0.0</td><td class=\"right iz\" data-stat=\"ft_pct\"></td><td class=\"right\" data-stat=\"orb_per_g\">1.0</td><td class=\"right\" data-stat=\"drb_per_g\">1.7</td><td class=\"right\" data-stat=\"trb_per_g\">2.7</td><td class=\"right iz\" data-stat=\"ast_per_g\">0.0</td><td class=\"right iz\" data-stat=\"stl_per_g\">0.0</td><td class=\"right iz\" data-stat=\"blk_per_g\">0.0</td><td class=\"right\" data-stat=\"tov_per_g\">1.7</td><td class=\"right\" data-stat=\"pf_per_g\">0.7</td><td class=\"right\" data-stat=\"pts_per_g\">0.7</td></tr>]"
      ]
     },
     "metadata": {},
     "execution_count": 46
    }
   ],
   "source": [
    "player_bsoup = BeautifulSoup.BeautifulSoup(player_html,'html.parser')\n",
    "player_bsoup.find_all('tr')"
   ]
  },
  {
   "cell_type": "code",
   "execution_count": 52,
   "metadata": {},
   "outputs": [
    {
     "output_type": "execute_result",
     "data": {
      "text/plain": [
       "<tr class=\"full_table\" id=\"per_game.1991\"><th class=\"left\" data-stat=\"season\" scope=\"row\"><a href=\"/players/a/abdelal01/gamelog/1991/\">1990-91</a></th><td class=\"center\" data-stat=\"age\">22</td><td class=\"left\" data-stat=\"team_id\"><a href=\"/teams/POR/1991.html\">POR</a></td><td class=\"left\" data-stat=\"lg_id\"><a href=\"/leagues/NBA_1991.html\">NBA</a></td><td class=\"center\" data-stat=\"pos\">PF</td><td class=\"right\" data-stat=\"g\">43</td><td class=\"right iz\" data-stat=\"gs\">0</td><td class=\"right\" data-stat=\"mp_per_g\">6.7</td><td class=\"right\" data-stat=\"fg_per_g\">1.3</td><td class=\"right\" data-stat=\"fga_per_g\">2.7</td><td class=\"right\" data-stat=\"fg_pct\">.474</td><td class=\"right iz\" data-stat=\"fg3_per_g\">0.0</td><td class=\"right iz\" data-stat=\"fg3a_per_g\">0.0</td><td class=\"right iz\" data-stat=\"fg3_pct\"></td><td class=\"right\" data-stat=\"fg2_per_g\">1.3</td><td class=\"right\" data-stat=\"fg2a_per_g\">2.7</td><td class=\"right\" data-stat=\"fg2_pct\">.474</td><td class=\"right\" data-stat=\"efg_pct\">.474</td><td class=\"right\" data-stat=\"ft_per_g\">0.6</td><td class=\"right\" data-stat=\"fta_per_g\">1.0</td><td class=\"right\" data-stat=\"ft_pct\">.568</td><td class=\"right\" data-stat=\"orb_per_g\">0.6</td><td class=\"right\" data-stat=\"drb_per_g\">1.4</td><td class=\"right\" data-stat=\"trb_per_g\">2.1</td><td class=\"right\" data-stat=\"ast_per_g\">0.3</td><td class=\"right\" data-stat=\"stl_per_g\">0.1</td><td class=\"right\" data-stat=\"blk_per_g\">0.3</td><td class=\"right\" data-stat=\"tov_per_g\">0.5</td><td class=\"right\" data-stat=\"pf_per_g\">0.9</td><td class=\"right\" data-stat=\"pts_per_g\">3.1</td></tr>"
      ]
     },
     "metadata": {},
     "execution_count": 52
    }
   ],
   "source": [
    "list(player_bsoup.find_all('tr'))[1]"
   ]
  },
  {
   "cell_type": "code",
   "execution_count": 35,
   "metadata": {},
   "outputs": [
    {
     "output_type": "execute_result",
     "data": {
      "text/plain": [
       "'https://www.basketball-reference.com/players/a/abdelal01.html'"
      ]
     },
     "metadata": {},
     "execution_count": 35
    }
   ],
   "source": [
    "main_url + \"a/\" + href.split('/')[-1]"
   ]
  },
  {
   "cell_type": "code",
   "execution_count": 39,
   "metadata": {},
   "outputs": [
    {
     "output_type": "execute_result",
     "data": {
      "text/plain": [
       "bs4.BeautifulSoup"
      ]
     },
     "metadata": {},
     "execution_count": 39
    }
   ],
   "source": [
    "type(player_bsoup)"
   ]
  },
  {
   "cell_type": "code",
   "execution_count": null,
   "metadata": {},
   "outputs": [],
   "source": []
  }
 ]
}