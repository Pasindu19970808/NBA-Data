{
 "metadata": {
  "language_info": {
   "codemirror_mode": {
    "name": "ipython",
    "version": 3
   },
   "file_extension": ".py",
   "mimetype": "text/x-python",
   "name": "python",
   "nbconvert_exporter": "python",
   "pygments_lexer": "ipython3",
   "version": "3.7.3-final"
  },
  "orig_nbformat": 2,
  "kernelspec": {
   "name": "python3",
   "display_name": "Python 3",
   "language": "python"
  }
 },
 "nbformat": 4,
 "nbformat_minor": 2,
 "cells": [
  {
   "cell_type": "code",
   "execution_count": 1,
   "metadata": {},
   "outputs": [],
   "source": [
    "import bs4 as BeautifulSoup\n",
    "import urllib.request\n",
    "import pandas as pd\n",
    "import numpy as np\n",
    "main_url = 'https://www.basketball-reference.com/players/'\n",
    "letters = 'abcdefghijklmnopqrstuvwxyz'\n",
    "letters_list = list(letters)"
   ]
  },
  {
   "cell_type": "code",
   "execution_count": 2,
   "metadata": {},
   "outputs": [],
   "source": [
    "\"\"\" htmldata = urllib.request.urlopen('https://www.basketball-reference.com/players/a/')\n",
    "bsoup = BeautifulSoup.BeautifulSoup(htmldata,'html.parser')\n",
    "complete_array = None\n",
    "Data_list = None \"\"\"\n",
    "\n",
    "for letter in letters_list:\n",
    "    print(letter)\n",
    "    try:\n",
    "        htmldata = urllib.request.urlopen('https://www.basketball-reference.com/players/' + letter +'/')\n",
    "    except:\n",
    "        continue\n",
    "    bsoup = BeautifulSoup.BeautifulSoup(htmldata,'html.parser')\n",
    "    main_array = None\n",
    "    complete_array = None\n",
    "    Data_list = None\n",
    "    for i in range(1,len(bsoup.find_all('tr'))):\n",
    "        #we collect only players who played after 1980\n",
    "        if int(bsoup.find_all('tr')[i].find('td',{'data-stat':'year_max'}).get_text())>1980:\n",
    "            href = bsoup.find_all('tr')[i].find_all('a')[0].attrs['href']\n",
    "            try:\n",
    "                player_html = urllib.request.urlopen(main_url + letter + \"/\" + href.split('/')[-1])\n",
    "            except:\n",
    "                #due to errors in the html page, some href do not work hence we skip these\n",
    "                continue\n",
    "            player_bsoup = BeautifulSoup.BeautifulSoup(player_html,'html.parser')\n",
    "            if Data_list == None:\n",
    "                Data_list = [item.get_text() for item in player_bsoup.find_all('th') if 'aria-label' in item.attrs.keys()]\n",
    "                Data_list.insert(0,'Name')\n",
    "            player_dataarray = np.empty(shape = (len(player_bsoup.find_all('tbody')[0].find_all('tr')),len(Data_list)), dtype = np.object)\n",
    "            for j in range(0,len(player_bsoup.find_all('tbody')[0].find_all('tr'))):\n",
    "                data_row = [player_bsoup.find_all('h1',{'itemprop':'name'})[0].get_text().strip()]\n",
    "                #getting season\n",
    "                try:\n",
    "                    #some players wont play some years, at those instances, this code will throw exception\n",
    "                    #hence we continue to the next year\n",
    "                    data_row.extend([player_bsoup.find_all('tbody')[0].find_all('tr')[j].find_all('th')[0].get_text()])\n",
    "                    #adding rest of data    \n",
    "                    [data_row.append(data) for data in [td.get_text() if td.get_text() != \"\" else np.nan for td in (player_bsoup.find_all                     ('tbody')[0].find_all('tr')[j].find_all('td'))]]    \n",
    "                except:\n",
    "                    continue\n",
    "                try:     \n",
    "                    player_dataarray[j,:]  = np.array(data_row)\n",
    "                except:\n",
    "                    #any player who doesnt have ['Name','Season','Age','Tm','Lg','Pos','G','GS','MP','FG','FGA','FG%','3P','3PA','3P%', '2P''2PA','2P%','eFG%','FT','FTA','FT%','ORB','DRB','TRB','AST','STL','BLK','TOV','PF','PTS'] as there stats are not considered. Majority of players after 1980 will have these stats as these were collected and recorded in this era of basketball\n",
    "                    break\n",
    "        if i == 1:\n",
    "            complete_array = player_dataarray\n",
    "        else:\n",
    "            complete_array = np.vstack((complete_array,player_dataarray))\n",
    "    if letter == a:\n",
    "        main_array = complete_array\n",
    "        print(main_array.shape)\n",
    "    else:\n",
    "        main_array = np.vstack((main_array,complete_array))\n",
    "        print(main_array.shape)\n",
    "        \n",
    "    \n"
   ]
  },
  {
   "cell_type": "code",
   "execution_count": 6,
   "metadata": {},
   "outputs": [
    {
     "output_type": "execute_result",
     "data": {
      "text/plain": [
       "(97, 31)"
      ]
     },
     "metadata": {},
     "execution_count": 6
    }
   ],
   "source": [
    "complete_array.shape"
   ]
  },
  {
   "cell_type": "code",
   "execution_count": 223,
   "metadata": {},
   "outputs": [
    {
     "output_type": "execute_result",
     "data": {
      "text/plain": [
       "array([False, False, False, ..., False, False, False])"
      ]
     },
     "metadata": {},
     "execution_count": 223
    }
   ],
   "source": []
  },
  {
   "cell_type": "code",
   "execution_count": 55,
   "metadata": {},
   "outputs": [
    {
     "output_type": "execute_result",
     "data": {
      "text/plain": [
       "<tr class=\"full_table\" id=\"per_game.1991\"><th class=\"left\" data-stat=\"season\" scope=\"row\"><a href=\"/players/a/abdelal01/gamelog/1991/\">1990-91</a></th><td class=\"center\" data-stat=\"age\">22</td><td class=\"left\" data-stat=\"team_id\"><a href=\"/teams/POR/1991.html\">POR</a></td><td class=\"left\" data-stat=\"lg_id\"><a href=\"/leagues/NBA_1991.html\">NBA</a></td><td class=\"center\" data-stat=\"pos\">PF</td><td class=\"right\" data-stat=\"g\">43</td><td class=\"right iz\" data-stat=\"gs\">0</td><td class=\"right\" data-stat=\"mp_per_g\">6.7</td><td class=\"right\" data-stat=\"fg_per_g\">1.3</td><td class=\"right\" data-stat=\"fga_per_g\">2.7</td><td class=\"right\" data-stat=\"fg_pct\">.474</td><td class=\"right iz\" data-stat=\"fg3_per_g\">0.0</td><td class=\"right iz\" data-stat=\"fg3a_per_g\">0.0</td><td class=\"right iz\" data-stat=\"fg3_pct\"></td><td class=\"right\" data-stat=\"fg2_per_g\">1.3</td><td class=\"right\" data-stat=\"fg2a_per_g\">2.7</td><td class=\"right\" data-stat=\"fg2_pct\">.474</td><td class=\"right\" data-stat=\"efg_pct\">.474</td><td class=\"right\" data-stat=\"ft_per_g\">0.6</td><td class=\"right\" data-stat=\"fta_per_g\">1.0</td><td class=\"right\" data-stat=\"ft_pct\">.568</td><td class=\"right\" data-stat=\"orb_per_g\">0.6</td><td class=\"right\" data-stat=\"drb_per_g\">1.4</td><td class=\"right\" data-stat=\"trb_per_g\">2.1</td><td class=\"right\" data-stat=\"ast_per_g\">0.3</td><td class=\"right\" data-stat=\"stl_per_g\">0.1</td><td class=\"right\" data-stat=\"blk_per_g\">0.3</td><td class=\"right\" data-stat=\"tov_per_g\">0.5</td><td class=\"right\" data-stat=\"pf_per_g\">0.9</td><td class=\"right\" data-stat=\"pts_per_g\">3.1</td></tr>"
      ]
     },
     "metadata": {},
     "execution_count": 55
    }
   ],
   "source": [
    "list(player_bsoup.find_all('tr'))[1]"
   ]
  },
  {
   "cell_type": "code",
   "execution_count": 57,
   "metadata": {},
   "outputs": [
    {
     "output_type": "execute_result",
     "data": {
      "text/plain": [
       "<tr class=\"full_table\" id=\"per_game.1992\"><th class=\"left\" data-stat=\"season\" scope=\"row\"><a href=\"/players/a/abdelal01/gamelog/1992/\">1991-92</a></th><td class=\"center\" data-stat=\"age\">23</td><td class=\"left\" data-stat=\"team_id\"><a href=\"/teams/POR/1992.html\">POR</a></td><td class=\"left\" data-stat=\"lg_id\"><a href=\"/leagues/NBA_1992.html\">NBA</a></td><td class=\"center\" data-stat=\"pos\">PF</td><td class=\"right\" data-stat=\"g\">71</td><td class=\"right\" data-stat=\"gs\">1</td><td class=\"right\" data-stat=\"mp_per_g\">13.2</td><td class=\"right\" data-stat=\"fg_per_g\">2.5</td><td class=\"right\" data-stat=\"fga_per_g\">5.1</td><td class=\"right\" data-stat=\"fg_pct\">.493</td><td class=\"right iz\" data-stat=\"fg3_per_g\">0.0</td><td class=\"right iz\" data-stat=\"fg3a_per_g\">0.0</td><td class=\"right iz\" data-stat=\"fg3_pct\"></td><td class=\"right\" data-stat=\"fg2_per_g\">2.5</td><td class=\"right\" data-stat=\"fg2a_per_g\">5.1</td><td class=\"right\" data-stat=\"fg2_pct\">.493</td><td class=\"right\" data-stat=\"efg_pct\">.493</td><td class=\"right\" data-stat=\"ft_per_g\">1.1</td><td class=\"right\" data-stat=\"fta_per_g\">1.4</td><td class=\"right\" data-stat=\"ft_pct\">.752</td><td class=\"right\" data-stat=\"orb_per_g\">1.1</td><td class=\"right\" data-stat=\"drb_per_g\">2.5</td><td class=\"right\" data-stat=\"trb_per_g\">3.7</td><td class=\"right\" data-stat=\"ast_per_g\">0.4</td><td class=\"right\" data-stat=\"stl_per_g\">0.4</td><td class=\"right\" data-stat=\"blk_per_g\">0.2</td><td class=\"right\" data-stat=\"tov_per_g\">0.9</td><td class=\"right\" data-stat=\"pf_per_g\">1.9</td><td class=\"right\" data-stat=\"pts_per_g\">6.1</td></tr>"
      ]
     },
     "metadata": {},
     "execution_count": 57
    }
   ],
   "source": [
    "list(player_bsoup.find_all('tr'))[2]"
   ]
  },
  {
   "cell_type": "code",
   "execution_count": 56,
   "metadata": {},
   "outputs": [
    {
     "output_type": "execute_result",
     "data": {
      "text/plain": [
       "<tr><th class=\"left\" data-stat=\"season\" scope=\"row\">1 season</th><td class=\"center iz\" data-stat=\"age\"></td><td class=\"left\" data-stat=\"team_id\"><a href=\"/teams/PHI/\">PHI</a></td><td class=\"left\" data-stat=\"lg_id\">NBA</td><td class=\"center iz\" data-stat=\"pos\"></td><td class=\"right\" data-stat=\"g\">3</td><td class=\"right iz\" data-stat=\"gs\">0</td><td class=\"right\" data-stat=\"mp_per_g\">10.0</td><td class=\"right\" data-stat=\"fg_per_g\">0.3</td><td class=\"right\" data-stat=\"fga_per_g\">3.7</td><td class=\"right\" data-stat=\"fg_pct\">.091</td><td class=\"right iz\" data-stat=\"fg3_per_g\">0.0</td><td class=\"right iz\" data-stat=\"fg3a_per_g\">0.0</td><td class=\"right iz\" data-stat=\"fg3_pct\"></td><td class=\"right\" data-stat=\"fg2_per_g\">0.3</td><td class=\"right\" data-stat=\"fg2a_per_g\">3.7</td><td class=\"right\" data-stat=\"fg2_pct\">.091</td><td class=\"right\" data-stat=\"efg_pct\">.091</td><td class=\"right iz\" data-stat=\"ft_per_g\">0.0</td><td class=\"right iz\" data-stat=\"fta_per_g\">0.0</td><td class=\"right iz\" data-stat=\"ft_pct\"></td><td class=\"right\" data-stat=\"orb_per_g\">1.0</td><td class=\"right\" data-stat=\"drb_per_g\">1.7</td><td class=\"right\" data-stat=\"trb_per_g\">2.7</td><td class=\"right iz\" data-stat=\"ast_per_g\">0.0</td><td class=\"right iz\" data-stat=\"stl_per_g\">0.0</td><td class=\"right iz\" data-stat=\"blk_per_g\">0.0</td><td class=\"right\" data-stat=\"tov_per_g\">1.7</td><td class=\"right\" data-stat=\"pf_per_g\">0.7</td><td class=\"right\" data-stat=\"pts_per_g\">0.7</td></tr>"
      ]
     },
     "metadata": {},
     "execution_count": 56
    }
   ],
   "source": [
    "list(player_bsoup.find_all('tr'))[-1]"
   ]
  },
  {
   "cell_type": "code",
   "execution_count": 60,
   "metadata": {},
   "outputs": [
    {
     "output_type": "execute_result",
     "data": {
      "text/plain": [
       "<tr class=\"full_table\" id=\"per_game.1995\"><th class=\"left\" data-stat=\"season\" scope=\"row\"><a href=\"/players/a/abdelal01/gamelog/1995/\">1994-95</a></th><td class=\"center\" data-stat=\"age\">26</td><td class=\"left\" data-stat=\"team_id\">TOT</td><td class=\"left\" data-stat=\"lg_id\"><a href=\"/leagues/NBA_1995.html\">NBA</a></td><td class=\"center\" data-stat=\"pos\">PF</td><td class=\"right\" data-stat=\"g\">54</td><td class=\"right iz\" data-stat=\"gs\">0</td><td class=\"right\" data-stat=\"mp_per_g\">9.4</td><td class=\"right\" data-stat=\"fg_per_g\">2.2</td><td class=\"right\" data-stat=\"fga_per_g\">4.3</td><td class=\"right\" data-stat=\"fg_pct\">.511</td><td class=\"right iz\" data-stat=\"fg3_per_g\">0.0</td><td class=\"right iz\" data-stat=\"fg3a_per_g\">0.0</td><td class=\"right iz\" data-stat=\"fg3_pct\">.000</td><td class=\"right\" data-stat=\"fg2_per_g\">2.2</td><td class=\"right\" data-stat=\"fg2a_per_g\">4.2</td><td class=\"right\" data-stat=\"fg2_pct\">.515</td><td class=\"right\" data-stat=\"efg_pct\">.511</td><td class=\"right\" data-stat=\"ft_per_g\">0.4</td><td class=\"right\" data-stat=\"fta_per_g\">0.6</td><td class=\"right\" data-stat=\"ft_pct\">.571</td><td class=\"right\" data-stat=\"orb_per_g\">0.7</td><td class=\"right\" data-stat=\"drb_per_g\">1.4</td><td class=\"right\" data-stat=\"trb_per_g\">2.1</td><td class=\"right\" data-stat=\"ast_per_g\">0.2</td><td class=\"right\" data-stat=\"stl_per_g\">0.3</td><td class=\"right\" data-stat=\"blk_per_g\">0.2</td><td class=\"right\" data-stat=\"tov_per_g\">0.8</td><td class=\"right\" data-stat=\"pf_per_g\">1.9</td><td class=\"right\" data-stat=\"pts_per_g\">4.7</td></tr>"
      ]
     },
     "metadata": {},
     "execution_count": 60
    }
   ],
   "source": [
    "player_bsoup.find_all('tr')[-1]"
   ]
  },
  {
   "cell_type": "code",
   "execution_count": 65,
   "metadata": {},
   "outputs": [
    {
     "output_type": "execute_result",
     "data": {
      "text/plain": [
       "[<tr class=\"full_table\" id=\"per_game.1991\"><th class=\"left\" data-stat=\"season\" scope=\"row\"><a href=\"/players/a/abdelal01/gamelog/1991/\">1990-91</a></th><td class=\"center\" data-stat=\"age\">22</td><td class=\"left\" data-stat=\"team_id\"><a href=\"/teams/POR/1991.html\">POR</a></td><td class=\"left\" data-stat=\"lg_id\"><a href=\"/leagues/NBA_1991.html\">NBA</a></td><td class=\"center\" data-stat=\"pos\">PF</td><td class=\"right\" data-stat=\"g\">43</td><td class=\"right iz\" data-stat=\"gs\">0</td><td class=\"right\" data-stat=\"mp_per_g\">6.7</td><td class=\"right\" data-stat=\"fg_per_g\">1.3</td><td class=\"right\" data-stat=\"fga_per_g\">2.7</td><td class=\"right\" data-stat=\"fg_pct\">.474</td><td class=\"right iz\" data-stat=\"fg3_per_g\">0.0</td><td class=\"right iz\" data-stat=\"fg3a_per_g\">0.0</td><td class=\"right iz\" data-stat=\"fg3_pct\"></td><td class=\"right\" data-stat=\"fg2_per_g\">1.3</td><td class=\"right\" data-stat=\"fg2a_per_g\">2.7</td><td class=\"right\" data-stat=\"fg2_pct\">.474</td><td class=\"right\" data-stat=\"efg_pct\">.474</td><td class=\"right\" data-stat=\"ft_per_g\">0.6</td><td class=\"right\" data-stat=\"fta_per_g\">1.0</td><td class=\"right\" data-stat=\"ft_pct\">.568</td><td class=\"right\" data-stat=\"orb_per_g\">0.6</td><td class=\"right\" data-stat=\"drb_per_g\">1.4</td><td class=\"right\" data-stat=\"trb_per_g\">2.1</td><td class=\"right\" data-stat=\"ast_per_g\">0.3</td><td class=\"right\" data-stat=\"stl_per_g\">0.1</td><td class=\"right\" data-stat=\"blk_per_g\">0.3</td><td class=\"right\" data-stat=\"tov_per_g\">0.5</td><td class=\"right\" data-stat=\"pf_per_g\">0.9</td><td class=\"right\" data-stat=\"pts_per_g\">3.1</td></tr>,\n",
       " <tr class=\"full_table\" id=\"per_game.1992\"><th class=\"left\" data-stat=\"season\" scope=\"row\"><a href=\"/players/a/abdelal01/gamelog/1992/\">1991-92</a></th><td class=\"center\" data-stat=\"age\">23</td><td class=\"left\" data-stat=\"team_id\"><a href=\"/teams/POR/1992.html\">POR</a></td><td class=\"left\" data-stat=\"lg_id\"><a href=\"/leagues/NBA_1992.html\">NBA</a></td><td class=\"center\" data-stat=\"pos\">PF</td><td class=\"right\" data-stat=\"g\">71</td><td class=\"right\" data-stat=\"gs\">1</td><td class=\"right\" data-stat=\"mp_per_g\">13.2</td><td class=\"right\" data-stat=\"fg_per_g\">2.5</td><td class=\"right\" data-stat=\"fga_per_g\">5.1</td><td class=\"right\" data-stat=\"fg_pct\">.493</td><td class=\"right iz\" data-stat=\"fg3_per_g\">0.0</td><td class=\"right iz\" data-stat=\"fg3a_per_g\">0.0</td><td class=\"right iz\" data-stat=\"fg3_pct\"></td><td class=\"right\" data-stat=\"fg2_per_g\">2.5</td><td class=\"right\" data-stat=\"fg2a_per_g\">5.1</td><td class=\"right\" data-stat=\"fg2_pct\">.493</td><td class=\"right\" data-stat=\"efg_pct\">.493</td><td class=\"right\" data-stat=\"ft_per_g\">1.1</td><td class=\"right\" data-stat=\"fta_per_g\">1.4</td><td class=\"right\" data-stat=\"ft_pct\">.752</td><td class=\"right\" data-stat=\"orb_per_g\">1.1</td><td class=\"right\" data-stat=\"drb_per_g\">2.5</td><td class=\"right\" data-stat=\"trb_per_g\">3.7</td><td class=\"right\" data-stat=\"ast_per_g\">0.4</td><td class=\"right\" data-stat=\"stl_per_g\">0.4</td><td class=\"right\" data-stat=\"blk_per_g\">0.2</td><td class=\"right\" data-stat=\"tov_per_g\">0.9</td><td class=\"right\" data-stat=\"pf_per_g\">1.9</td><td class=\"right\" data-stat=\"pts_per_g\">6.1</td></tr>,\n",
       " <tr class=\"full_table\" id=\"per_game.1993\"><th class=\"left\" data-stat=\"season\" scope=\"row\"><a href=\"/players/a/abdelal01/gamelog/1993/\">1992-93</a></th><td class=\"center\" data-stat=\"age\">24</td><td class=\"left\" data-stat=\"team_id\">TOT</td><td class=\"left\" data-stat=\"lg_id\"><a href=\"/leagues/NBA_1993.html\">NBA</a></td><td class=\"center\" data-stat=\"pos\">PF</td><td class=\"right\" data-stat=\"g\">75</td><td class=\"right\" data-stat=\"gs\">52</td><td class=\"right\" data-stat=\"mp_per_g\">17.5</td><td class=\"right\" data-stat=\"fg_per_g\">3.3</td><td class=\"right\" data-stat=\"fga_per_g\">6.3</td><td class=\"right\" data-stat=\"fg_pct\">.518</td><td class=\"right iz\" data-stat=\"fg3_per_g\">0.0</td><td class=\"right iz\" data-stat=\"fg3a_per_g\">0.0</td><td class=\"right iz\" data-stat=\"fg3_pct\">.000</td><td class=\"right\" data-stat=\"fg2_per_g\">3.3</td><td class=\"right\" data-stat=\"fg2a_per_g\">6.3</td><td class=\"right\" data-stat=\"fg2_pct\">.519</td><td class=\"right\" data-stat=\"efg_pct\">.518</td><td class=\"right\" data-stat=\"ft_per_g\">1.2</td><td class=\"right\" data-stat=\"fta_per_g\">1.5</td><td class=\"right\" data-stat=\"ft_pct\">.759</td><td class=\"right\" data-stat=\"orb_per_g\">1.7</td><td class=\"right\" data-stat=\"drb_per_g\">2.8</td><td class=\"right\" data-stat=\"trb_per_g\">4.5</td><td class=\"right\" data-stat=\"ast_per_g\">0.4</td><td class=\"right\" data-stat=\"stl_per_g\">0.3</td><td class=\"right\" data-stat=\"blk_per_g\">0.3</td><td class=\"right\" data-stat=\"tov_per_g\">1.3</td><td class=\"right\" data-stat=\"pf_per_g\">2.5</td><td class=\"right\" data-stat=\"pts_per_g\">7.7</td></tr>,\n",
       " <tr class=\"light_text partial_table\" id=\"per_game.1993\"><th class=\"left\" data-stat=\"season\" scope=\"row\"><a href=\"/players/a/abdelal01/gamelog/1993/\">1992-93</a></th><td class=\"center\" data-stat=\"age\">24</td><td class=\"left\" data-stat=\"team_id\"><a href=\"/teams/MIL/1993.html\">MIL</a></td><td class=\"left\" data-stat=\"lg_id\"><a href=\"/leagues/NBA_1993.html\">NBA</a></td><td class=\"center\" data-stat=\"pos\">PF</td><td class=\"right\" data-stat=\"g\">12</td><td class=\"right iz\" data-stat=\"gs\">0</td><td class=\"right\" data-stat=\"mp_per_g\">13.3</td><td class=\"right\" data-stat=\"fg_per_g\">2.2</td><td class=\"right\" data-stat=\"fga_per_g\">4.7</td><td class=\"right\" data-stat=\"fg_pct\">.464</td><td class=\"right iz\" data-stat=\"fg3_per_g\">0.0</td><td class=\"right\" data-stat=\"fg3a_per_g\">0.1</td><td class=\"right iz\" data-stat=\"fg3_pct\">.000</td><td class=\"right\" data-stat=\"fg2_per_g\">2.2</td><td class=\"right\" data-stat=\"fg2a_per_g\">4.6</td><td class=\"right\" data-stat=\"fg2_pct\">.473</td><td class=\"right\" data-stat=\"efg_pct\">.464</td><td class=\"right\" data-stat=\"ft_per_g\">1.0</td><td class=\"right\" data-stat=\"fta_per_g\">1.3</td><td class=\"right\" data-stat=\"ft_pct\">.750</td><td class=\"right\" data-stat=\"orb_per_g\">1.0</td><td class=\"right\" data-stat=\"drb_per_g\">2.1</td><td class=\"right\" data-stat=\"trb_per_g\">3.1</td><td class=\"right\" data-stat=\"ast_per_g\">0.8</td><td class=\"right\" data-stat=\"stl_per_g\">0.5</td><td class=\"right\" data-stat=\"blk_per_g\">0.3</td><td class=\"right\" data-stat=\"tov_per_g\">1.1</td><td class=\"right\" data-stat=\"pf_per_g\">2.0</td><td class=\"right\" data-stat=\"pts_per_g\">5.3</td></tr>,\n",
       " <tr class=\"light_text partial_table\" id=\"per_game.1993\"><th class=\"left\" data-stat=\"season\" scope=\"row\"><a href=\"/players/a/abdelal01/gamelog/1993/\">1992-93</a></th><td class=\"center\" data-stat=\"age\">24</td><td class=\"left\" data-stat=\"team_id\"><a href=\"/teams/BOS/1993.html\">BOS</a></td><td class=\"left\" data-stat=\"lg_id\"><a href=\"/leagues/NBA_1993.html\">NBA</a></td><td class=\"center\" data-stat=\"pos\">PF</td><td class=\"right\" data-stat=\"g\">63</td><td class=\"right\" data-stat=\"gs\">52</td><td class=\"right\" data-stat=\"mp_per_g\">18.3</td><td class=\"right\" data-stat=\"fg_per_g\">3.5</td><td class=\"right\" data-stat=\"fga_per_g\">6.6</td><td class=\"right\" data-stat=\"fg_pct\">.525</td><td class=\"right iz\" data-stat=\"fg3_per_g\">0.0</td><td class=\"right iz\" data-stat=\"fg3a_per_g\">0.0</td><td class=\"right iz\" data-stat=\"fg3_pct\"></td><td class=\"right\" data-stat=\"fg2_per_g\">3.5</td><td class=\"right\" data-stat=\"fg2a_per_g\">6.6</td><td class=\"right\" data-stat=\"fg2_pct\">.525</td><td class=\"right\" data-stat=\"efg_pct\">.525</td><td class=\"right\" data-stat=\"ft_per_g\">1.2</td><td class=\"right\" data-stat=\"fta_per_g\">1.6</td><td class=\"right\" data-stat=\"ft_pct\">.760</td><td class=\"right\" data-stat=\"orb_per_g\">1.8</td><td class=\"right\" data-stat=\"drb_per_g\">3.0</td><td class=\"right\" data-stat=\"trb_per_g\">4.8</td><td class=\"right\" data-stat=\"ast_per_g\">0.3</td><td class=\"right\" data-stat=\"stl_per_g\">0.3</td><td class=\"right\" data-stat=\"blk_per_g\">0.3</td><td class=\"right\" data-stat=\"tov_per_g\">1.3</td><td class=\"right\" data-stat=\"pf_per_g\">2.6</td><td class=\"right\" data-stat=\"pts_per_g\">8.2</td></tr>,\n",
       " <tr class=\"full_table\" id=\"per_game.1994\"><th class=\"left\" data-stat=\"season\" scope=\"row\"><a href=\"/players/a/abdelal01/gamelog/1994/\">1993-94</a></th><td class=\"center\" data-stat=\"age\">25</td><td class=\"left\" data-stat=\"team_id\"><a href=\"/teams/BOS/1994.html\">BOS</a></td><td class=\"left\" data-stat=\"lg_id\"><a href=\"/leagues/NBA_1994.html\">NBA</a></td><td class=\"center\" data-stat=\"pos\">PF</td><td class=\"right\" data-stat=\"g\">13</td><td class=\"right iz\" data-stat=\"gs\">0</td><td class=\"right\" data-stat=\"mp_per_g\">12.2</td><td class=\"right\" data-stat=\"fg_per_g\">1.8</td><td class=\"right\" data-stat=\"fga_per_g\">4.2</td><td class=\"right\" data-stat=\"fg_pct\">.436</td><td class=\"right iz\" data-stat=\"fg3_per_g\">0.0</td><td class=\"right iz\" data-stat=\"fg3a_per_g\">0.0</td><td class=\"right iz\" data-stat=\"fg3_pct\"></td><td class=\"right\" data-stat=\"fg2_per_g\">1.8</td><td class=\"right\" data-stat=\"fg2a_per_g\">4.2</td><td class=\"right\" data-stat=\"fg2_pct\">.436</td><td class=\"right\" data-stat=\"efg_pct\">.436</td><td class=\"right\" data-stat=\"ft_per_g\">1.2</td><td class=\"right\" data-stat=\"fta_per_g\">1.9</td><td class=\"right\" data-stat=\"ft_pct\">.640</td><td class=\"right\" data-stat=\"orb_per_g\">0.9</td><td class=\"right\" data-stat=\"drb_per_g\">2.6</td><td class=\"right\" data-stat=\"trb_per_g\">3.5</td><td class=\"right\" data-stat=\"ast_per_g\">0.2</td><td class=\"right\" data-stat=\"stl_per_g\">0.2</td><td class=\"right\" data-stat=\"blk_per_g\">0.2</td><td class=\"right\" data-stat=\"tov_per_g\">1.3</td><td class=\"right\" data-stat=\"pf_per_g\">1.5</td><td class=\"right\" data-stat=\"pts_per_g\">4.9</td></tr>,\n",
       " <tr class=\"full_table\" id=\"per_game.1995\"><th class=\"left\" data-stat=\"season\" scope=\"row\"><a href=\"/players/a/abdelal01/gamelog/1995/\">1994-95</a></th><td class=\"center\" data-stat=\"age\">26</td><td class=\"left\" data-stat=\"team_id\">TOT</td><td class=\"left\" data-stat=\"lg_id\"><a href=\"/leagues/NBA_1995.html\">NBA</a></td><td class=\"center\" data-stat=\"pos\">PF</td><td class=\"right\" data-stat=\"g\">54</td><td class=\"right iz\" data-stat=\"gs\">0</td><td class=\"right\" data-stat=\"mp_per_g\">9.4</td><td class=\"right\" data-stat=\"fg_per_g\">2.2</td><td class=\"right\" data-stat=\"fga_per_g\">4.3</td><td class=\"right\" data-stat=\"fg_pct\">.511</td><td class=\"right iz\" data-stat=\"fg3_per_g\">0.0</td><td class=\"right iz\" data-stat=\"fg3a_per_g\">0.0</td><td class=\"right iz\" data-stat=\"fg3_pct\">.000</td><td class=\"right\" data-stat=\"fg2_per_g\">2.2</td><td class=\"right\" data-stat=\"fg2a_per_g\">4.2</td><td class=\"right\" data-stat=\"fg2_pct\">.515</td><td class=\"right\" data-stat=\"efg_pct\">.511</td><td class=\"right\" data-stat=\"ft_per_g\">0.4</td><td class=\"right\" data-stat=\"fta_per_g\">0.6</td><td class=\"right\" data-stat=\"ft_pct\">.571</td><td class=\"right\" data-stat=\"orb_per_g\">0.7</td><td class=\"right\" data-stat=\"drb_per_g\">1.4</td><td class=\"right\" data-stat=\"trb_per_g\">2.1</td><td class=\"right\" data-stat=\"ast_per_g\">0.2</td><td class=\"right\" data-stat=\"stl_per_g\">0.3</td><td class=\"right\" data-stat=\"blk_per_g\">0.2</td><td class=\"right\" data-stat=\"tov_per_g\">0.8</td><td class=\"right\" data-stat=\"pf_per_g\">1.9</td><td class=\"right\" data-stat=\"pts_per_g\">4.7</td></tr>,\n",
       " <tr class=\"light_text partial_table\" id=\"per_game.1995\"><th class=\"left\" data-stat=\"season\" scope=\"row\"><a href=\"/players/a/abdelal01/gamelog/1995/\">1994-95</a></th><td class=\"center\" data-stat=\"age\">26</td><td class=\"left\" data-stat=\"team_id\"><a href=\"/teams/SAC/1995.html\">SAC</a></td><td class=\"left\" data-stat=\"lg_id\"><a href=\"/leagues/NBA_1995.html\">NBA</a></td><td class=\"center\" data-stat=\"pos\">PF</td><td class=\"right\" data-stat=\"g\">51</td><td class=\"right iz\" data-stat=\"gs\">0</td><td class=\"right\" data-stat=\"mp_per_g\">9.3</td><td class=\"right\" data-stat=\"fg_per_g\">2.3</td><td class=\"right\" data-stat=\"fga_per_g\">4.3</td><td class=\"right\" data-stat=\"fg_pct\">.532</td><td class=\"right iz\" data-stat=\"fg3_per_g\">0.0</td><td class=\"right iz\" data-stat=\"fg3a_per_g\">0.0</td><td class=\"right iz\" data-stat=\"fg3_pct\">.000</td><td class=\"right\" data-stat=\"fg2_per_g\">2.3</td><td class=\"right\" data-stat=\"fg2a_per_g\">4.3</td><td class=\"right\" data-stat=\"fg2_pct\">.537</td><td class=\"right\" data-stat=\"efg_pct\">.532</td><td class=\"right\" data-stat=\"ft_per_g\">0.4</td><td class=\"right\" data-stat=\"fta_per_g\">0.7</td><td class=\"right\" data-stat=\"ft_pct\">.571</td><td class=\"right\" data-stat=\"orb_per_g\">0.7</td><td class=\"right\" data-stat=\"drb_per_g\">1.4</td><td class=\"right\" data-stat=\"trb_per_g\">2.1</td><td class=\"right\" data-stat=\"ast_per_g\">0.3</td><td class=\"right\" data-stat=\"stl_per_g\">0.3</td><td class=\"right\" data-stat=\"blk_per_g\">0.2</td><td class=\"right\" data-stat=\"tov_per_g\">0.8</td><td class=\"right\" data-stat=\"pf_per_g\">2.0</td><td class=\"right\" data-stat=\"pts_per_g\">5.0</td></tr>,\n",
       " <tr class=\"light_text partial_table\" id=\"per_game.1995\"><th class=\"left\" data-stat=\"season\" scope=\"row\"><a href=\"/players/a/abdelal01/gamelog/1995/\">1994-95</a></th><td class=\"center\" data-stat=\"age\">26</td><td class=\"left\" data-stat=\"team_id\"><a href=\"/teams/PHI/1995.html\">PHI</a></td><td class=\"left\" data-stat=\"lg_id\"><a href=\"/leagues/NBA_1995.html\">NBA</a></td><td class=\"center\" data-stat=\"pos\">PF</td><td class=\"right\" data-stat=\"g\">3</td><td class=\"right iz\" data-stat=\"gs\">0</td><td class=\"right\" data-stat=\"mp_per_g\">10.0</td><td class=\"right\" data-stat=\"fg_per_g\">0.3</td><td class=\"right\" data-stat=\"fga_per_g\">3.7</td><td class=\"right\" data-stat=\"fg_pct\">.091</td><td class=\"right iz\" data-stat=\"fg3_per_g\">0.0</td><td class=\"right iz\" data-stat=\"fg3a_per_g\">0.0</td><td class=\"right iz\" data-stat=\"fg3_pct\"></td><td class=\"right\" data-stat=\"fg2_per_g\">0.3</td><td class=\"right\" data-stat=\"fg2a_per_g\">3.7</td><td class=\"right\" data-stat=\"fg2_pct\">.091</td><td class=\"right\" data-stat=\"efg_pct\">.091</td><td class=\"right iz\" data-stat=\"ft_per_g\">0.0</td><td class=\"right iz\" data-stat=\"fta_per_g\">0.0</td><td class=\"right iz\" data-stat=\"ft_pct\"></td><td class=\"right\" data-stat=\"orb_per_g\">1.0</td><td class=\"right\" data-stat=\"drb_per_g\">1.7</td><td class=\"right\" data-stat=\"trb_per_g\">2.7</td><td class=\"right iz\" data-stat=\"ast_per_g\">0.0</td><td class=\"right iz\" data-stat=\"stl_per_g\">0.0</td><td class=\"right iz\" data-stat=\"blk_per_g\">0.0</td><td class=\"right\" data-stat=\"tov_per_g\">1.7</td><td class=\"right\" data-stat=\"pf_per_g\">0.7</td><td class=\"right\" data-stat=\"pts_per_g\">0.7</td></tr>]"
      ]
     },
     "metadata": {},
     "execution_count": 65
    }
   ],
   "source": [
    "player_bsoup.find_all('tbody')[0].find_all('tr')"
   ]
  },
  {
   "cell_type": "code",
   "execution_count": 92,
   "metadata": {},
   "outputs": [
    {
     "output_type": "execute_result",
     "data": {
      "text/plain": [
       "[<td class=\"center\" data-stat=\"age\">22</td>,\n",
       " <td class=\"left\" data-stat=\"team_id\"><a href=\"/teams/POR/1991.html\">POR</a></td>,\n",
       " <td class=\"left\" data-stat=\"lg_id\"><a href=\"/leagues/NBA_1991.html\">NBA</a></td>,\n",
       " <td class=\"center\" data-stat=\"pos\">PF</td>,\n",
       " <td class=\"right\" data-stat=\"g\">43</td>,\n",
       " <td class=\"right iz\" data-stat=\"gs\">0</td>,\n",
       " <td class=\"right\" data-stat=\"mp_per_g\">6.7</td>,\n",
       " <td class=\"right\" data-stat=\"fg_per_g\">1.3</td>,\n",
       " <td class=\"right\" data-stat=\"fga_per_g\">2.7</td>,\n",
       " <td class=\"right\" data-stat=\"fg_pct\">.474</td>,\n",
       " <td class=\"right iz\" data-stat=\"fg3_per_g\">0.0</td>,\n",
       " <td class=\"right iz\" data-stat=\"fg3a_per_g\">0.0</td>,\n",
       " <td class=\"right iz\" data-stat=\"fg3_pct\"></td>,\n",
       " <td class=\"right\" data-stat=\"fg2_per_g\">1.3</td>,\n",
       " <td class=\"right\" data-stat=\"fg2a_per_g\">2.7</td>,\n",
       " <td class=\"right\" data-stat=\"fg2_pct\">.474</td>,\n",
       " <td class=\"right\" data-stat=\"efg_pct\">.474</td>,\n",
       " <td class=\"right\" data-stat=\"ft_per_g\">0.6</td>,\n",
       " <td class=\"right\" data-stat=\"fta_per_g\">1.0</td>,\n",
       " <td class=\"right\" data-stat=\"ft_pct\">.568</td>,\n",
       " <td class=\"right\" data-stat=\"orb_per_g\">0.6</td>,\n",
       " <td class=\"right\" data-stat=\"drb_per_g\">1.4</td>,\n",
       " <td class=\"right\" data-stat=\"trb_per_g\">2.1</td>,\n",
       " <td class=\"right\" data-stat=\"ast_per_g\">0.3</td>,\n",
       " <td class=\"right\" data-stat=\"stl_per_g\">0.1</td>,\n",
       " <td class=\"right\" data-stat=\"blk_per_g\">0.3</td>,\n",
       " <td class=\"right\" data-stat=\"tov_per_g\">0.5</td>,\n",
       " <td class=\"right\" data-stat=\"pf_per_g\">0.9</td>,\n",
       " <td class=\"right\" data-stat=\"pts_per_g\">3.1</td>]"
      ]
     },
     "metadata": {},
     "execution_count": 92
    }
   ],
   "source": [
    "player_bsoup.find_all('tbody')[0].find_all('tr')[0].find_all('td')"
   ]
  },
  {
   "cell_type": "code",
   "execution_count": 82,
   "metadata": {},
   "outputs": [
    {
     "output_type": "execute_result",
     "data": {
      "text/plain": [
       "True"
      ]
     },
     "metadata": {},
     "execution_count": 82
    }
   ],
   "source": [
    "'aria-label' in list(player_bsoup.find_all('th')[0].attrs.keys())"
   ]
  },
  {
   "cell_type": "code",
   "execution_count": 88,
   "metadata": {},
   "outputs": [],
   "source": [
    "Data_list = [item.get_text() for item in player_bsoup.find_all('th') if 'aria-label' in item.attrs.keys()]"
   ]
  },
  {
   "cell_type": "code",
   "execution_count": 89,
   "metadata": {},
   "outputs": [
    {
     "output_type": "execute_result",
     "data": {
      "text/plain": [
       "['Name',\n",
       " 'Season',\n",
       " 'Age',\n",
       " 'Tm',\n",
       " 'Lg',\n",
       " 'Pos',\n",
       " 'G',\n",
       " 'GS',\n",
       " 'MP',\n",
       " 'FG',\n",
       " 'FGA',\n",
       " 'FG%',\n",
       " '3P',\n",
       " '3PA',\n",
       " '3P%',\n",
       " '2P',\n",
       " '2PA',\n",
       " '2P%',\n",
       " 'eFG%',\n",
       " 'FT',\n",
       " 'FTA',\n",
       " 'FT%',\n",
       " 'ORB',\n",
       " 'DRB',\n",
       " 'TRB',\n",
       " 'AST',\n",
       " 'STL',\n",
       " 'BLK',\n",
       " 'TOV',\n",
       " 'PF',\n",
       " 'PTS']"
      ]
     },
     "metadata": {},
     "execution_count": 89
    }
   ],
   "source": [
    "Data_list.insert(0,'Name')\n",
    "Data_list"
   ]
  },
  {
   "cell_type": "code",
   "execution_count": 153,
   "metadata": {},
   "outputs": [],
   "source": [
    "import numpy as np\n",
    "#getting player name\n",
    "Data_list = [item.get_text() for item in player_bsoup.find_all('th') if 'aria-label' in item.attrs.keys()]\n",
    "Data_list.insert(0,'Name')\n",
    "player_dataarray = np.empty(shape = (len(player_bsoup.find_all('tbody')[0].find_all('tr')),len(Data_list)), dtype = np.object)\n",
    "for i in range(0,len(player_bsoup.find_all('tbody')[0].find_all('tr'))):\n",
    "    data_row = [player_bsoup.find_all('h1',{'itemprop':'name'})[0].get_text().strip()]\n",
    "    #getting season\n",
    "    data_row.extend([player_bsoup.find_all('tbody')[0].find_all('tr')[i].find_all('th')[0].get_text()])\n",
    "    #adding rest of data\n",
    "    [data_row.append(data) for data in [td.get_text() if td.get_text() != \"\" else np.nan for td in (player_bsoup.find_all('tbody')[0].find_all('tr')[i].find_all('td'))]]         \n",
    "    player_dataarray[i,:]  = np.array(data_row)\n",
    "\n",
    "\n"
   ]
  },
  {
   "source": [
    "player_dataarray"
   ],
   "cell_type": "code",
   "metadata": {},
   "execution_count": 154,
   "outputs": [
    {
     "output_type": "execute_result",
     "data": {
      "text/plain": [
       "array([['Alaa Abdelnaby', '1990-91', '22', 'POR', 'NBA', 'PF', '43', '0',\n",
       "        '6.7', '1.3', '2.7', '.474', '0.0', '0.0', 'nan', '1.3', '2.7',\n",
       "        '.474', '.474', '0.6', '1.0', '.568', '0.6', '1.4', '2.1', '0.3',\n",
       "        '0.1', '0.3', '0.5', '0.9', '3.1'],\n",
       "       ['Alaa Abdelnaby', '1991-92', '23', 'POR', 'NBA', 'PF', '71', '1',\n",
       "        '13.2', '2.5', '5.1', '.493', '0.0', '0.0', 'nan', '2.5', '5.1',\n",
       "        '.493', '.493', '1.1', '1.4', '.752', '1.1', '2.5', '3.7', '0.4',\n",
       "        '0.4', '0.2', '0.9', '1.9', '6.1'],\n",
       "       ['Alaa Abdelnaby', '1992-93', '24', 'TOT', 'NBA', 'PF', '75',\n",
       "        '52', '17.5', '3.3', '6.3', '.518', '0.0', '0.0', '.000', '3.3',\n",
       "        '6.3', '.519', '.518', '1.2', '1.5', '.759', '1.7', '2.8', '4.5',\n",
       "        '0.4', '0.3', '0.3', '1.3', '2.5', '7.7'],\n",
       "       ['Alaa Abdelnaby', '1992-93', '24', 'MIL', 'NBA', 'PF', '12', '0',\n",
       "        '13.3', '2.2', '4.7', '.464', '0.0', '0.1', '.000', '2.2', '4.6',\n",
       "        '.473', '.464', '1.0', '1.3', '.750', '1.0', '2.1', '3.1', '0.8',\n",
       "        '0.5', '0.3', '1.1', '2.0', '5.3'],\n",
       "       ['Alaa Abdelnaby', '1992-93', '24', 'BOS', 'NBA', 'PF', '63',\n",
       "        '52', '18.3', '3.5', '6.6', '.525', '0.0', '0.0', 'nan', '3.5',\n",
       "        '6.6', '.525', '.525', '1.2', '1.6', '.760', '1.8', '3.0', '4.8',\n",
       "        '0.3', '0.3', '0.3', '1.3', '2.6', '8.2'],\n",
       "       ['Alaa Abdelnaby', '1993-94', '25', 'BOS', 'NBA', 'PF', '13', '0',\n",
       "        '12.2', '1.8', '4.2', '.436', '0.0', '0.0', 'nan', '1.8', '4.2',\n",
       "        '.436', '.436', '1.2', '1.9', '.640', '0.9', '2.6', '3.5', '0.2',\n",
       "        '0.2', '0.2', '1.3', '1.5', '4.9'],\n",
       "       ['Alaa Abdelnaby', '1994-95', '26', 'TOT', 'NBA', 'PF', '54', '0',\n",
       "        '9.4', '2.2', '4.3', '.511', '0.0', '0.0', '.000', '2.2', '4.2',\n",
       "        '.515', '.511', '0.4', '0.6', '.571', '0.7', '1.4', '2.1', '0.2',\n",
       "        '0.3', '0.2', '0.8', '1.9', '4.7'],\n",
       "       ['Alaa Abdelnaby', '1994-95', '26', 'SAC', 'NBA', 'PF', '51', '0',\n",
       "        '9.3', '2.3', '4.3', '.532', '0.0', '0.0', '.000', '2.3', '4.3',\n",
       "        '.537', '.532', '0.4', '0.7', '.571', '0.7', '1.4', '2.1', '0.3',\n",
       "        '0.3', '0.2', '0.8', '2.0', '5.0'],\n",
       "       ['Alaa Abdelnaby', '1994-95', '26', 'PHI', 'NBA', 'PF', '3', '0',\n",
       "        '10.0', '0.3', '3.7', '.091', '0.0', '0.0', 'nan', '0.3', '3.7',\n",
       "        '.091', '.091', '0.0', '0.0', 'nan', '1.0', '1.7', '2.7', '0.0',\n",
       "        '0.0', '0.0', '1.7', '0.7', '0.7']], dtype=object)"
      ]
     },
     "metadata": {},
     "execution_count": 154
    }
   ]
  },
  {
   "cell_type": "code",
   "execution_count": 150,
   "metadata": {},
   "outputs": [],
   "source": [
    "import numpy as np"
   ]
  },
  {
   "cell_type": "code",
   "execution_count": 168,
   "metadata": {},
   "outputs": [],
   "source": [
    "x = np.array([[1],[2],[3]])\n",
    "y = np.array([4,5,6])"
   ]
  },
  {
   "cell_type": "code",
   "execution_count": 175,
   "metadata": {},
   "outputs": [
    {
     "output_type": "execute_result",
     "data": {
      "text/plain": [
       "array([[1, 4],\n",
       "       [2, 5],\n",
       "       [3, 6]])"
      ]
     },
     "metadata": {},
     "execution_count": 175
    }
   ],
   "source": [
    "np.c_[x,y.reshape(3,1)]"
   ]
  },
  {
   "cell_type": "code",
   "execution_count": null,
   "metadata": {},
   "outputs": [],
   "source": []
  }
 ]
}