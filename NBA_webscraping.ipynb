{
 "metadata": {
  "language_info": {
   "codemirror_mode": {
    "name": "ipython",
    "version": 3
   },
   "file_extension": ".py",
   "mimetype": "text/x-python",
   "name": "python",
   "nbconvert_exporter": "python",
   "pygments_lexer": "ipython3",
   "version": "3.7.3-final"
  },
  "orig_nbformat": 2,
  "kernelspec": {
   "name": "python3",
   "display_name": "Python 3",
   "language": "python"
  }
 },
 "nbformat": 4,
 "nbformat_minor": 2,
 "cells": [
  {
   "cell_type": "code",
   "execution_count": 30,
   "metadata": {},
   "outputs": [],
   "source": [
    "import bs4 as BeautifulSoup\n",
    "import urllib.request\n",
    "import pandas as pd\n",
    "import numpy as np\n",
    "main_url = 'https://www.basketball-reference.com/players/'\n",
    "#It was not seen prior that there are no players whos surnames start with x, hence an exception was thrown at letter x. \n",
    "#To save time, the available array was copied to another array and the remaining letters were processed \n",
    "#letters = 'abcdefghijklmnopqrstuvw'\n",
    "letters = 'yz'\n",
    "letters_list = list(letters)"
   ]
  },
  {
   "cell_type": "code",
   "execution_count": 15,
   "metadata": {},
   "outputs": [
    {
     "output_type": "stream",
     "name": "stdout",
     "text": [
      "y\n",
      "(87, 31)\n",
      "z\n",
      "(184, 31)\n"
     ]
    }
   ],
   "source": [
    "\"\"\" htmldata = urllib.request.urlopen('https://www.basketball-reference.com/players/a/')\n",
    "bsoup = BeautifulSoup.BeautifulSoup(htmldata,'html.parser')\n",
    "complete_array = None\n",
    "Data_list = None \"\"\"\n",
    "main_array = None\n",
    "for letter in letters_list:\n",
    "    print(letter)\n",
    "    try:\n",
    "        htmldata = urllib.request.urlopen('https://www.basketball-reference.com/players/' + letter +'/')\n",
    "    except:\n",
    "        continue\n",
    "    bsoup = BeautifulSoup.BeautifulSoup(htmldata,'html.parser')\n",
    "    complete_array = None\n",
    "    Data_list = None\n",
    "    for i in range(1,len(bsoup.find_all('tr'))):\n",
    "        #we collect only players who played after 1980\n",
    "        if int(bsoup.find_all('tr')[i].find('td',{'data-stat':'year_max'}).get_text())>1980:\n",
    "            href = bsoup.find_all('tr')[i].find_all('a')[0].attrs['href']\n",
    "            try:\n",
    "                player_html = urllib.request.urlopen(main_url + letter + \"/\" + href.split('/')[-1])\n",
    "            except:\n",
    "                #due to errors in the html page, some href do not work hence we skip these\n",
    "                continue\n",
    "            player_bsoup = BeautifulSoup.BeautifulSoup(player_html,'html.parser')\n",
    "            if Data_list == None:\n",
    "                Data_list = [item.get_text() for item in player_bsoup.find_all('th') if 'aria-label' in item.attrs.keys()]\n",
    "                Data_list.insert(0,'Name')\n",
    "            player_dataarray = np.empty(shape = (len(player_bsoup.find_all('tbody')[0].find_all('tr')),len(Data_list)), dtype = np.object)\n",
    "            for j in range(0,len(player_bsoup.find_all('tbody')[0].find_all('tr'))):\n",
    "                data_row = [player_bsoup.find_all('h1',{'itemprop':'name'})[0].get_text().strip()]\n",
    "                #getting season\n",
    "                try:\n",
    "                    #some players wont play some years, at those instances, this code will throw exception\n",
    "                    #hence we continue to the next year\n",
    "                    data_row.extend([player_bsoup.find_all('tbody')[0].find_all('tr')[j].find_all('th')[0].get_text()])\n",
    "                    #adding rest of data    \n",
    "                    [data_row.append(data) for data in [td.get_text() if td.get_text() != \"\" else np.nan for td in (player_bsoup.find_all                     ('tbody')[0].find_all('tr')[j].find_all('td'))]]    \n",
    "                except:\n",
    "                    continue\n",
    "                try:     \n",
    "                    player_dataarray[j,:]  = np.array(data_row)\n",
    "                except:\n",
    "                    #any player who doesnt have ['Name','Season','Age','Tm','Lg','Pos','G','GS','MP','FG','FGA','FG%','3P','3PA','3P%', '2P''2PA','2P%','eFG%','FT','FTA','FT%','ORB','DRB','TRB','AST','STL','BLK','TOV','PF','PTS'] as there stats are not considered. Majority of players after 1980 will have these stats as these were collected and recorded in this era of basketball\n",
    "                    break\n",
    "        if i == 1:\n",
    "            complete_array = player_dataarray\n",
    "        else:\n",
    "            complete_array = np.vstack((complete_array,player_dataarray))\n",
    "    if letter == letters_list[0]:\n",
    "        main_array = complete_array\n",
    "        print(main_array.shape)\n",
    "    else:\n",
    "        main_array = np.vstack((main_array,complete_array))\n",
    "        print(main_array.shape)\n",
    "        \n",
    "    \n"
   ]
  },
  {
   "cell_type": "code",
   "execution_count": 16,
   "metadata": {},
   "outputs": [],
   "source": [
    "y_to_z_dataarray = main_array.copy()"
   ]
  },
  {
   "cell_type": "code",
   "execution_count": 13,
   "metadata": {},
   "outputs": [],
   "source": [
    "a_to_w_dataarray = main_array.copy()"
   ]
  },
  {
   "cell_type": "code",
   "execution_count": 14,
   "metadata": {},
   "outputs": [
    {
     "output_type": "execute_result",
     "data": {
      "text/plain": [
       "array([['Alaa Abdelnaby', '1990-91', '22', ..., '0.5', '0.9', '3.1'],\n",
       "       ['Alaa Abdelnaby', '1991-92', '23', ..., '0.9', '1.9', '6.1'],\n",
       "       ['Alaa Abdelnaby', '1992-93', '24', ..., '1.3', '2.5', '7.7'],\n",
       "       ...,\n",
       "       ['Tony Wroten', '2014-15', '21', ..., '3.8', '2.4', '16.9'],\n",
       "       ['Tony Wroten', '2015-16', '22', ..., '3.6', '1.4', '8.4'],\n",
       "       ['A.J. Wynder', '1990-91', '26', ..., '0.7', '0.2', '2.0']],\n",
       "      dtype=object)"
      ]
     },
     "metadata": {},
     "execution_count": 14
    }
   ],
   "source": [
    "a_to_w_dataarray"
   ]
  },
  {
   "cell_type": "code",
   "execution_count": 17,
   "metadata": {},
   "outputs": [
    {
     "output_type": "execute_result",
     "data": {
      "text/plain": [
       "array([['Alaa Abdelnaby', '1990-91', '22', ..., '0.5', '0.9', '3.1'],\n",
       "       ['Alaa Abdelnaby', '1991-92', '23', ..., '0.9', '1.9', '6.1'],\n",
       "       ['Alaa Abdelnaby', '1992-93', '24', ..., '1.3', '2.5', '7.7'],\n",
       "       ...,\n",
       "       ['Ivica Zubac', '2018-19', '21', ..., '1.4', '2.5', '9.4'],\n",
       "       ['Ivica Zubac', '2019-20', '22', ..., '0.8', '2.3', '8.3'],\n",
       "       ['Ivica Zubac', '2020-21', '23', ..., '0.9', '2.4', '7.6']],\n",
       "      dtype=object)"
      ]
     },
     "metadata": {},
     "execution_count": 17
    }
   ],
   "source": [
    "final_array = np.vstack((a_to_w_dataarray, y_to_z_dataarray))\n",
    "final_array"
   ]
  },
  {
   "cell_type": "code",
   "execution_count": 26,
   "metadata": {},
   "outputs": [
    {
     "output_type": "execute_result",
     "data": {
      "text/plain": [
       "                      Name   Season Age   Tm   Lg Pos   G   GS    MP    FG  \\\n",
       "0           Alaa Abdelnaby  1990-91  22  POR  NBA  PF  43    0   6.7   1.3   \n",
       "1           Alaa Abdelnaby  1991-92  23  POR  NBA  PF  71    1  13.2   2.5   \n",
       "2           Alaa Abdelnaby  1992-93  24  TOT  NBA  PF  75   52  17.5   3.3   \n",
       "3           Alaa Abdelnaby  1992-93  24  MIL  NBA  PF  12    0  13.3   2.2   \n",
       "4           Alaa Abdelnaby  1992-93  24  BOS  NBA  PF  63   52  18.3   3.5   \n",
       "5           Alaa Abdelnaby  1993-94  25  BOS  NBA  PF  13    0  12.2   1.8   \n",
       "6           Alaa Abdelnaby  1994-95  26  TOT  NBA  PF  54    0   9.4   2.2   \n",
       "7           Alaa Abdelnaby  1994-95  26  SAC  NBA  PF  51    0   9.3   2.3   \n",
       "8           Alaa Abdelnaby  1994-95  26  PHI  NBA  PF   3    0  10.0   0.3   \n",
       "9           Alaa Abdelnaby  1990-91  22  POR  NBA  PF  43    0   6.7   1.3   \n",
       "10          Alaa Abdelnaby  1991-92  23  POR  NBA  PF  71    1  13.2   2.5   \n",
       "11          Alaa Abdelnaby  1992-93  24  TOT  NBA  PF  75   52  17.5   3.3   \n",
       "12          Alaa Abdelnaby  1992-93  24  MIL  NBA  PF  12    0  13.3   2.2   \n",
       "13          Alaa Abdelnaby  1992-93  24  BOS  NBA  PF  63   52  18.3   3.5   \n",
       "14          Alaa Abdelnaby  1993-94  25  BOS  NBA  PF  13    0  12.2   1.8   \n",
       "15          Alaa Abdelnaby  1994-95  26  TOT  NBA  PF  54    0   9.4   2.2   \n",
       "16          Alaa Abdelnaby  1994-95  26  SAC  NBA  PF  51    0   9.3   2.3   \n",
       "17          Alaa Abdelnaby  1994-95  26  PHI  NBA  PF   3    0  10.0   0.3   \n",
       "18     Kareem Abdul-Jabbar  1969-70  22  MIL  NBA   C  82  nan  43.1  11.4   \n",
       "19     Kareem Abdul-Jabbar  1970-71  23  MIL  NBA   C  82  nan  40.1  13.0   \n",
       "20     Kareem Abdul-Jabbar  1971-72  24  MIL  NBA   C  81  nan  44.2  14.3   \n",
       "21     Kareem Abdul-Jabbar  1972-73  25  MIL  NBA   C  76  nan  42.8  12.9   \n",
       "22     Kareem Abdul-Jabbar  1973-74  26  MIL  NBA   C  81  nan  43.8  11.7   \n",
       "23     Kareem Abdul-Jabbar  1974-75  27  MIL  NBA   C  65  nan  42.3  12.5   \n",
       "24     Kareem Abdul-Jabbar  1975-76  28  LAL  NBA   C  82  nan  41.2  11.1   \n",
       "25     Kareem Abdul-Jabbar  1976-77  29  LAL  NBA   C  82  nan  36.8  10.8   \n",
       "26     Kareem Abdul-Jabbar  1977-78  30  LAL  NBA   C  62  nan  36.5  10.7   \n",
       "27     Kareem Abdul-Jabbar  1978-79  31  LAL  NBA   C  80  nan  39.5   9.7   \n",
       "28     Kareem Abdul-Jabbar  1979-80  32  LAL  NBA   C  82  nan  38.3  10.2   \n",
       "29     Kareem Abdul-Jabbar  1980-81  33  LAL  NBA   C  80  nan  37.2  10.5   \n",
       "...                    ...      ...  ..  ...  ...  ..  ..  ...   ...   ...   \n",
       "35626         George Zídek  1995-96  22  CHH  NBA   C  71   21  12.5   1.5   \n",
       "35627         George Zídek  1996-97  23  TOT  NBA   C  52    2   7.2   0.9   \n",
       "35628         George Zídek  1996-97  23  CHH  NBA   C  36    2   8.0   0.9   \n",
       "35629         George Zídek  1996-97  23  DEN  NBA   C  16    0   5.5   1.0   \n",
       "35630         George Zídek  1997-98  24  TOT  NBA   C  12    0   5.3   0.6   \n",
       "35631         George Zídek  1997-98  24  DEN  NBA   C   6    0   7.0   0.7   \n",
       "35632         George Zídek  1997-98  24  SEA  NBA   C   6    0   3.7   0.5   \n",
       "35633    Derrick Zimmerman  2005-06  24  NJN  NBA  PG   2    0  16.0   1.0   \n",
       "35634    Stephen Zimmerman  2016-17  20  ORL  NBA   C  19    0   5.7   0.5   \n",
       "35635          Paul Zipser  2016-17  22  CHI  NBA  SF  44   18  19.2   2.0   \n",
       "35636          Paul Zipser  2017-18  23  CHI  NBA  SF  54   12  15.3   1.5   \n",
       "35637           Ante Žižić  2017-18  21  CLE  NBA   C  32    2   6.7   1.5   \n",
       "35638           Ante Žižić  2018-19  22  CLE  NBA   C  59   25  18.3   3.1   \n",
       "35639           Ante Žižić  2019-20  23  CLE  NBA   C  22    0  10.0   1.9   \n",
       "35640             Jim Zoet  1982-83  29  DET  NBA   C   7    0   4.3   0.1   \n",
       "35641             Jim Zoet  1982-83  29  DET  NBA   C   7    0   4.3   0.1   \n",
       "35642          Ivica Zubac  2016-17  19  LAL  NBA   C  38   11  16.0   3.3   \n",
       "35643          Ivica Zubac  2017-18  20  LAL  NBA   C  43    0   9.5   1.4   \n",
       "35644          Ivica Zubac  2018-19  21  TOT  NBA   C  59   37  17.6   3.6   \n",
       "35645          Ivica Zubac  2018-19  21  LAL  NBA   C  33   12  15.6   3.4   \n",
       "35646          Ivica Zubac  2018-19  21  LAC  NBA   C  26   25  20.2   3.8   \n",
       "35647          Ivica Zubac  2019-20  22  LAC  NBA   C  72   70  18.4   3.3   \n",
       "35648          Ivica Zubac  2020-21  23  LAC  NBA   C  16    1  18.2   2.8   \n",
       "35649          Ivica Zubac  2016-17  19  LAL  NBA   C  38   11  16.0   3.3   \n",
       "35650          Ivica Zubac  2017-18  20  LAL  NBA   C  43    0   9.5   1.4   \n",
       "35651          Ivica Zubac  2018-19  21  TOT  NBA   C  59   37  17.6   3.6   \n",
       "35652          Ivica Zubac  2018-19  21  LAL  NBA   C  33   12  15.6   3.4   \n",
       "35653          Ivica Zubac  2018-19  21  LAC  NBA   C  26   25  20.2   3.8   \n",
       "35654          Ivica Zubac  2019-20  22  LAC  NBA   C  72   70  18.4   3.3   \n",
       "35655          Ivica Zubac  2020-21  23  LAC  NBA   C  16    1  18.2   2.8   \n",
       "\n",
       "       ...    FT%  ORB   DRB   TRB  AST  STL  BLK  TOV   PF   PTS  \n",
       "0      ...   .568  0.6   1.4   2.1  0.3  0.1  0.3  0.5  0.9   3.1  \n",
       "1      ...   .752  1.1   2.5   3.7  0.4  0.4  0.2  0.9  1.9   6.1  \n",
       "2      ...   .759  1.7   2.8   4.5  0.4  0.3  0.3  1.3  2.5   7.7  \n",
       "3      ...   .750  1.0   2.1   3.1  0.8  0.5  0.3  1.1  2.0   5.3  \n",
       "4      ...   .760  1.8   3.0   4.8  0.3  0.3  0.3  1.3  2.6   8.2  \n",
       "5      ...   .640  0.9   2.6   3.5  0.2  0.2  0.2  1.3  1.5   4.9  \n",
       "6      ...   .571  0.7   1.4   2.1  0.2  0.3  0.2  0.8  1.9   4.7  \n",
       "7      ...   .571  0.7   1.4   2.1  0.3  0.3  0.2  0.8  2.0   5.0  \n",
       "8      ...    nan  1.0   1.7   2.7  0.0  0.0  0.0  1.7  0.7   0.7  \n",
       "9      ...   .568  0.6   1.4   2.1  0.3  0.1  0.3  0.5  0.9   3.1  \n",
       "10     ...   .752  1.1   2.5   3.7  0.4  0.4  0.2  0.9  1.9   6.1  \n",
       "11     ...   .759  1.7   2.8   4.5  0.4  0.3  0.3  1.3  2.5   7.7  \n",
       "12     ...   .750  1.0   2.1   3.1  0.8  0.5  0.3  1.1  2.0   5.3  \n",
       "13     ...   .760  1.8   3.0   4.8  0.3  0.3  0.3  1.3  2.6   8.2  \n",
       "14     ...   .640  0.9   2.6   3.5  0.2  0.2  0.2  1.3  1.5   4.9  \n",
       "15     ...   .571  0.7   1.4   2.1  0.2  0.3  0.2  0.8  1.9   4.7  \n",
       "16     ...   .571  0.7   1.4   2.1  0.3  0.3  0.2  0.8  2.0   5.0  \n",
       "17     ...    nan  1.0   1.7   2.7  0.0  0.0  0.0  1.7  0.7   0.7  \n",
       "18     ...   .653  nan   nan  14.5  4.1  nan  nan  nan  3.5  28.8  \n",
       "19     ...   .690  nan   nan  16.0  3.3  nan  nan  nan  3.2  31.7  \n",
       "20     ...   .689  nan   nan  16.6  4.6  nan  nan  nan  2.9  34.8  \n",
       "21     ...   .713  nan   nan  16.1  5.0  nan  nan  nan  2.7  30.2  \n",
       "22     ...   .702  3.5  11.0  14.5  4.8  1.4  3.5  nan  2.9  27.0  \n",
       "23     ...   .763  3.0  11.0  14.0  4.1  1.0  3.3  nan  3.2  30.0  \n",
       "24     ...   .703  3.3  13.5  16.9  5.0  1.5  4.1  nan  3.6  27.7  \n",
       "25     ...   .701  3.2  10.0  13.3  3.9  1.2  3.2  nan  3.2  26.2  \n",
       "26     ...   .783  3.0   9.9  12.9  4.3  1.7  3.0  3.4  2.9  25.8  \n",
       "27     ...   .736  2.6  10.2  12.8  5.4  1.0  4.0  3.5  2.9  23.8  \n",
       "28     ...   .765  2.3   8.5  10.8  4.5  1.0  3.4  3.6  2.6  24.8  \n",
       "29     ...   .766  2.5   7.8  10.3  3.4  0.7  2.9  3.1  3.1  26.2  \n",
       "...    ...    ...  ...   ...   ...  ...  ...  ...  ...  ...   ...  \n",
       "35626  ...   .763  1.0   1.6   2.6  0.2  0.1  0.1  0.5  2.4   4.0  \n",
       "35627  ...   .789  0.7   1.0   1.7  0.3  0.1  0.1  0.5  1.2   2.8  \n",
       "35628  ...   .781  0.7   1.1   1.8  0.3  0.1  0.1  0.6  1.2   2.5  \n",
       "35629  ...   .800  0.6   0.8   1.4  0.3  0.1  0.0  0.3  1.1   3.3  \n",
       "35630  ...   .875  0.3   1.1   1.4  0.2  0.0  0.2  0.3  0.8   2.4  \n",
       "35631  ...   .833  0.7   1.5   2.2  0.2  0.0  0.3  0.5  0.8   3.0  \n",
       "35632  ...  1.000  0.0   0.7   0.7  0.2  0.0  0.0  0.2  0.8   1.8  \n",
       "35633  ...    nan  0.5   1.5   2.0  3.5  0.0  0.0  2.0  2.0   2.0  \n",
       "35634  ...   .600  0.6   1.3   1.8  0.2  0.1  0.3  0.2  0.9   1.2  \n",
       "35635  ...   .775  0.3   2.5   2.8  0.8  0.3  0.4  0.9  1.8   5.5  \n",
       "35636  ...   .760  0.2   2.2   2.4  0.9  0.4  0.3  0.8  1.6   4.0  \n",
       "35637  ...   .724  0.8   1.1   1.9  0.2  0.1  0.4  0.3  0.9   3.7  \n",
       "35638  ...   .705  1.8   3.6   5.4  0.9  0.2  0.4  1.0  1.9   7.8  \n",
       "35639  ...   .737  0.8   2.2   3.0  0.3  0.3  0.2  0.5  1.2   4.4  \n",
       "35640  ...    nan  0.4   0.7   1.1  0.1  0.1  0.4  0.6  1.3   0.3  \n",
       "35641  ...    nan  0.4   0.7   1.1  0.1  0.1  0.4  0.6  1.3   0.3  \n",
       "35642  ...   .653  1.1   3.1   4.2  0.8  0.4  0.9  0.8  1.7   7.5  \n",
       "35643  ...   .765  1.0   1.8   2.9  0.6  0.2  0.3  0.6  1.1   3.7  \n",
       "35644  ...   .802  1.9   4.2   6.1  1.1  0.2  0.9  1.2  2.3   8.9  \n",
       "35645  ...   .864  1.6   3.3   4.9  0.8  0.1  0.8  1.0  2.2   8.5  \n",
       "35646  ...   .733  2.3   5.3   7.7  1.5  0.4  0.9  1.4  2.5   9.4  \n",
       "35647  ...   .747  2.7   4.8   7.5  1.1  0.2  0.9  0.8  2.3   8.3  \n",
       "35648  ...   .816  1.7   3.5   5.2  0.9  0.4  0.9  0.9  2.4   7.6  \n",
       "35649  ...   .653  1.1   3.1   4.2  0.8  0.4  0.9  0.8  1.7   7.5  \n",
       "35650  ...   .765  1.0   1.8   2.9  0.6  0.2  0.3  0.6  1.1   3.7  \n",
       "35651  ...   .802  1.9   4.2   6.1  1.1  0.2  0.9  1.2  2.3   8.9  \n",
       "35652  ...   .864  1.6   3.3   4.9  0.8  0.1  0.8  1.0  2.2   8.5  \n",
       "35653  ...   .733  2.3   5.3   7.7  1.5  0.4  0.9  1.4  2.5   9.4  \n",
       "35654  ...   .747  2.7   4.8   7.5  1.1  0.2  0.9  0.8  2.3   8.3  \n",
       "35655  ...   .816  1.7   3.5   5.2  0.9  0.4  0.9  0.9  2.4   7.6  \n",
       "\n",
       "[35656 rows x 31 columns]"
      ],
      "text/html": "<div>\n<style scoped>\n    .dataframe tbody tr th:only-of-type {\n        vertical-align: middle;\n    }\n\n    .dataframe tbody tr th {\n        vertical-align: top;\n    }\n\n    .dataframe thead th {\n        text-align: right;\n    }\n</style>\n<table border=\"1\" class=\"dataframe\">\n  <thead>\n    <tr style=\"text-align: right;\">\n      <th></th>\n      <th>Name</th>\n      <th>Season</th>\n      <th>Age</th>\n      <th>Tm</th>\n      <th>Lg</th>\n      <th>Pos</th>\n      <th>G</th>\n      <th>GS</th>\n      <th>MP</th>\n      <th>FG</th>\n      <th>...</th>\n      <th>FT%</th>\n      <th>ORB</th>\n      <th>DRB</th>\n      <th>TRB</th>\n      <th>AST</th>\n      <th>STL</th>\n      <th>BLK</th>\n      <th>TOV</th>\n      <th>PF</th>\n      <th>PTS</th>\n    </tr>\n  </thead>\n  <tbody>\n    <tr>\n      <th>0</th>\n      <td>Alaa Abdelnaby</td>\n      <td>1990-91</td>\n      <td>22</td>\n      <td>POR</td>\n      <td>NBA</td>\n      <td>PF</td>\n      <td>43</td>\n      <td>0</td>\n      <td>6.7</td>\n      <td>1.3</td>\n      <td>...</td>\n      <td>.568</td>\n      <td>0.6</td>\n      <td>1.4</td>\n      <td>2.1</td>\n      <td>0.3</td>\n      <td>0.1</td>\n      <td>0.3</td>\n      <td>0.5</td>\n      <td>0.9</td>\n      <td>3.1</td>\n    </tr>\n    <tr>\n      <th>1</th>\n      <td>Alaa Abdelnaby</td>\n      <td>1991-92</td>\n      <td>23</td>\n      <td>POR</td>\n      <td>NBA</td>\n      <td>PF</td>\n      <td>71</td>\n      <td>1</td>\n      <td>13.2</td>\n      <td>2.5</td>\n      <td>...</td>\n      <td>.752</td>\n      <td>1.1</td>\n      <td>2.5</td>\n      <td>3.7</td>\n      <td>0.4</td>\n      <td>0.4</td>\n      <td>0.2</td>\n      <td>0.9</td>\n      <td>1.9</td>\n      <td>6.1</td>\n    </tr>\n    <tr>\n      <th>2</th>\n      <td>Alaa Abdelnaby</td>\n      <td>1992-93</td>\n      <td>24</td>\n      <td>TOT</td>\n      <td>NBA</td>\n      <td>PF</td>\n      <td>75</td>\n      <td>52</td>\n      <td>17.5</td>\n      <td>3.3</td>\n      <td>...</td>\n      <td>.759</td>\n      <td>1.7</td>\n      <td>2.8</td>\n      <td>4.5</td>\n      <td>0.4</td>\n      <td>0.3</td>\n      <td>0.3</td>\n      <td>1.3</td>\n      <td>2.5</td>\n      <td>7.7</td>\n    </tr>\n    <tr>\n      <th>3</th>\n      <td>Alaa Abdelnaby</td>\n      <td>1992-93</td>\n      <td>24</td>\n      <td>MIL</td>\n      <td>NBA</td>\n      <td>PF</td>\n      <td>12</td>\n      <td>0</td>\n      <td>13.3</td>\n      <td>2.2</td>\n      <td>...</td>\n      <td>.750</td>\n      <td>1.0</td>\n      <td>2.1</td>\n      <td>3.1</td>\n      <td>0.8</td>\n      <td>0.5</td>\n      <td>0.3</td>\n      <td>1.1</td>\n      <td>2.0</td>\n      <td>5.3</td>\n    </tr>\n    <tr>\n      <th>4</th>\n      <td>Alaa Abdelnaby</td>\n      <td>1992-93</td>\n      <td>24</td>\n      <td>BOS</td>\n      <td>NBA</td>\n      <td>PF</td>\n      <td>63</td>\n      <td>52</td>\n      <td>18.3</td>\n      <td>3.5</td>\n      <td>...</td>\n      <td>.760</td>\n      <td>1.8</td>\n      <td>3.0</td>\n      <td>4.8</td>\n      <td>0.3</td>\n      <td>0.3</td>\n      <td>0.3</td>\n      <td>1.3</td>\n      <td>2.6</td>\n      <td>8.2</td>\n    </tr>\n    <tr>\n      <th>5</th>\n      <td>Alaa Abdelnaby</td>\n      <td>1993-94</td>\n      <td>25</td>\n      <td>BOS</td>\n      <td>NBA</td>\n      <td>PF</td>\n      <td>13</td>\n      <td>0</td>\n      <td>12.2</td>\n      <td>1.8</td>\n      <td>...</td>\n      <td>.640</td>\n      <td>0.9</td>\n      <td>2.6</td>\n      <td>3.5</td>\n      <td>0.2</td>\n      <td>0.2</td>\n      <td>0.2</td>\n      <td>1.3</td>\n      <td>1.5</td>\n      <td>4.9</td>\n    </tr>\n    <tr>\n      <th>6</th>\n      <td>Alaa Abdelnaby</td>\n      <td>1994-95</td>\n      <td>26</td>\n      <td>TOT</td>\n      <td>NBA</td>\n      <td>PF</td>\n      <td>54</td>\n      <td>0</td>\n      <td>9.4</td>\n      <td>2.2</td>\n      <td>...</td>\n      <td>.571</td>\n      <td>0.7</td>\n      <td>1.4</td>\n      <td>2.1</td>\n      <td>0.2</td>\n      <td>0.3</td>\n      <td>0.2</td>\n      <td>0.8</td>\n      <td>1.9</td>\n      <td>4.7</td>\n    </tr>\n    <tr>\n      <th>7</th>\n      <td>Alaa Abdelnaby</td>\n      <td>1994-95</td>\n      <td>26</td>\n      <td>SAC</td>\n      <td>NBA</td>\n      <td>PF</td>\n      <td>51</td>\n      <td>0</td>\n      <td>9.3</td>\n      <td>2.3</td>\n      <td>...</td>\n      <td>.571</td>\n      <td>0.7</td>\n      <td>1.4</td>\n      <td>2.1</td>\n      <td>0.3</td>\n      <td>0.3</td>\n      <td>0.2</td>\n      <td>0.8</td>\n      <td>2.0</td>\n      <td>5.0</td>\n    </tr>\n    <tr>\n      <th>8</th>\n      <td>Alaa Abdelnaby</td>\n      <td>1994-95</td>\n      <td>26</td>\n      <td>PHI</td>\n      <td>NBA</td>\n      <td>PF</td>\n      <td>3</td>\n      <td>0</td>\n      <td>10.0</td>\n      <td>0.3</td>\n      <td>...</td>\n      <td>nan</td>\n      <td>1.0</td>\n      <td>1.7</td>\n      <td>2.7</td>\n      <td>0.0</td>\n      <td>0.0</td>\n      <td>0.0</td>\n      <td>1.7</td>\n      <td>0.7</td>\n      <td>0.7</td>\n    </tr>\n    <tr>\n      <th>9</th>\n      <td>Alaa Abdelnaby</td>\n      <td>1990-91</td>\n      <td>22</td>\n      <td>POR</td>\n      <td>NBA</td>\n      <td>PF</td>\n      <td>43</td>\n      <td>0</td>\n      <td>6.7</td>\n      <td>1.3</td>\n      <td>...</td>\n      <td>.568</td>\n      <td>0.6</td>\n      <td>1.4</td>\n      <td>2.1</td>\n      <td>0.3</td>\n      <td>0.1</td>\n      <td>0.3</td>\n      <td>0.5</td>\n      <td>0.9</td>\n      <td>3.1</td>\n    </tr>\n    <tr>\n      <th>10</th>\n      <td>Alaa Abdelnaby</td>\n      <td>1991-92</td>\n      <td>23</td>\n      <td>POR</td>\n      <td>NBA</td>\n      <td>PF</td>\n      <td>71</td>\n      <td>1</td>\n      <td>13.2</td>\n      <td>2.5</td>\n      <td>...</td>\n      <td>.752</td>\n      <td>1.1</td>\n      <td>2.5</td>\n      <td>3.7</td>\n      <td>0.4</td>\n      <td>0.4</td>\n      <td>0.2</td>\n      <td>0.9</td>\n      <td>1.9</td>\n      <td>6.1</td>\n    </tr>\n    <tr>\n      <th>11</th>\n      <td>Alaa Abdelnaby</td>\n      <td>1992-93</td>\n      <td>24</td>\n      <td>TOT</td>\n      <td>NBA</td>\n      <td>PF</td>\n      <td>75</td>\n      <td>52</td>\n      <td>17.5</td>\n      <td>3.3</td>\n      <td>...</td>\n      <td>.759</td>\n      <td>1.7</td>\n      <td>2.8</td>\n      <td>4.5</td>\n      <td>0.4</td>\n      <td>0.3</td>\n      <td>0.3</td>\n      <td>1.3</td>\n      <td>2.5</td>\n      <td>7.7</td>\n    </tr>\n    <tr>\n      <th>12</th>\n      <td>Alaa Abdelnaby</td>\n      <td>1992-93</td>\n      <td>24</td>\n      <td>MIL</td>\n      <td>NBA</td>\n      <td>PF</td>\n      <td>12</td>\n      <td>0</td>\n      <td>13.3</td>\n      <td>2.2</td>\n      <td>...</td>\n      <td>.750</td>\n      <td>1.0</td>\n      <td>2.1</td>\n      <td>3.1</td>\n      <td>0.8</td>\n      <td>0.5</td>\n      <td>0.3</td>\n      <td>1.1</td>\n      <td>2.0</td>\n      <td>5.3</td>\n    </tr>\n    <tr>\n      <th>13</th>\n      <td>Alaa Abdelnaby</td>\n      <td>1992-93</td>\n      <td>24</td>\n      <td>BOS</td>\n      <td>NBA</td>\n      <td>PF</td>\n      <td>63</td>\n      <td>52</td>\n      <td>18.3</td>\n      <td>3.5</td>\n      <td>...</td>\n      <td>.760</td>\n      <td>1.8</td>\n      <td>3.0</td>\n      <td>4.8</td>\n      <td>0.3</td>\n      <td>0.3</td>\n      <td>0.3</td>\n      <td>1.3</td>\n      <td>2.6</td>\n      <td>8.2</td>\n    </tr>\n    <tr>\n      <th>14</th>\n      <td>Alaa Abdelnaby</td>\n      <td>1993-94</td>\n      <td>25</td>\n      <td>BOS</td>\n      <td>NBA</td>\n      <td>PF</td>\n      <td>13</td>\n      <td>0</td>\n      <td>12.2</td>\n      <td>1.8</td>\n      <td>...</td>\n      <td>.640</td>\n      <td>0.9</td>\n      <td>2.6</td>\n      <td>3.5</td>\n      <td>0.2</td>\n      <td>0.2</td>\n      <td>0.2</td>\n      <td>1.3</td>\n      <td>1.5</td>\n      <td>4.9</td>\n    </tr>\n    <tr>\n      <th>15</th>\n      <td>Alaa Abdelnaby</td>\n      <td>1994-95</td>\n      <td>26</td>\n      <td>TOT</td>\n      <td>NBA</td>\n      <td>PF</td>\n      <td>54</td>\n      <td>0</td>\n      <td>9.4</td>\n      <td>2.2</td>\n      <td>...</td>\n      <td>.571</td>\n      <td>0.7</td>\n      <td>1.4</td>\n      <td>2.1</td>\n      <td>0.2</td>\n      <td>0.3</td>\n      <td>0.2</td>\n      <td>0.8</td>\n      <td>1.9</td>\n      <td>4.7</td>\n    </tr>\n    <tr>\n      <th>16</th>\n      <td>Alaa Abdelnaby</td>\n      <td>1994-95</td>\n      <td>26</td>\n      <td>SAC</td>\n      <td>NBA</td>\n      <td>PF</td>\n      <td>51</td>\n      <td>0</td>\n      <td>9.3</td>\n      <td>2.3</td>\n      <td>...</td>\n      <td>.571</td>\n      <td>0.7</td>\n      <td>1.4</td>\n      <td>2.1</td>\n      <td>0.3</td>\n      <td>0.3</td>\n      <td>0.2</td>\n      <td>0.8</td>\n      <td>2.0</td>\n      <td>5.0</td>\n    </tr>\n    <tr>\n      <th>17</th>\n      <td>Alaa Abdelnaby</td>\n      <td>1994-95</td>\n      <td>26</td>\n      <td>PHI</td>\n      <td>NBA</td>\n      <td>PF</td>\n      <td>3</td>\n      <td>0</td>\n      <td>10.0</td>\n      <td>0.3</td>\n      <td>...</td>\n      <td>nan</td>\n      <td>1.0</td>\n      <td>1.7</td>\n      <td>2.7</td>\n      <td>0.0</td>\n      <td>0.0</td>\n      <td>0.0</td>\n      <td>1.7</td>\n      <td>0.7</td>\n      <td>0.7</td>\n    </tr>\n    <tr>\n      <th>18</th>\n      <td>Kareem Abdul-Jabbar</td>\n      <td>1969-70</td>\n      <td>22</td>\n      <td>MIL</td>\n      <td>NBA</td>\n      <td>C</td>\n      <td>82</td>\n      <td>nan</td>\n      <td>43.1</td>\n      <td>11.4</td>\n      <td>...</td>\n      <td>.653</td>\n      <td>nan</td>\n      <td>nan</td>\n      <td>14.5</td>\n      <td>4.1</td>\n      <td>nan</td>\n      <td>nan</td>\n      <td>nan</td>\n      <td>3.5</td>\n      <td>28.8</td>\n    </tr>\n    <tr>\n      <th>19</th>\n      <td>Kareem Abdul-Jabbar</td>\n      <td>1970-71</td>\n      <td>23</td>\n      <td>MIL</td>\n      <td>NBA</td>\n      <td>C</td>\n      <td>82</td>\n      <td>nan</td>\n      <td>40.1</td>\n      <td>13.0</td>\n      <td>...</td>\n      <td>.690</td>\n      <td>nan</td>\n      <td>nan</td>\n      <td>16.0</td>\n      <td>3.3</td>\n      <td>nan</td>\n      <td>nan</td>\n      <td>nan</td>\n      <td>3.2</td>\n      <td>31.7</td>\n    </tr>\n    <tr>\n      <th>20</th>\n      <td>Kareem Abdul-Jabbar</td>\n      <td>1971-72</td>\n      <td>24</td>\n      <td>MIL</td>\n      <td>NBA</td>\n      <td>C</td>\n      <td>81</td>\n      <td>nan</td>\n      <td>44.2</td>\n      <td>14.3</td>\n      <td>...</td>\n      <td>.689</td>\n      <td>nan</td>\n      <td>nan</td>\n      <td>16.6</td>\n      <td>4.6</td>\n      <td>nan</td>\n      <td>nan</td>\n      <td>nan</td>\n      <td>2.9</td>\n      <td>34.8</td>\n    </tr>\n    <tr>\n      <th>21</th>\n      <td>Kareem Abdul-Jabbar</td>\n      <td>1972-73</td>\n      <td>25</td>\n      <td>MIL</td>\n      <td>NBA</td>\n      <td>C</td>\n      <td>76</td>\n      <td>nan</td>\n      <td>42.8</td>\n      <td>12.9</td>\n      <td>...</td>\n      <td>.713</td>\n      <td>nan</td>\n      <td>nan</td>\n      <td>16.1</td>\n      <td>5.0</td>\n      <td>nan</td>\n      <td>nan</td>\n      <td>nan</td>\n      <td>2.7</td>\n      <td>30.2</td>\n    </tr>\n    <tr>\n      <th>22</th>\n      <td>Kareem Abdul-Jabbar</td>\n      <td>1973-74</td>\n      <td>26</td>\n      <td>MIL</td>\n      <td>NBA</td>\n      <td>C</td>\n      <td>81</td>\n      <td>nan</td>\n      <td>43.8</td>\n      <td>11.7</td>\n      <td>...</td>\n      <td>.702</td>\n      <td>3.5</td>\n      <td>11.0</td>\n      <td>14.5</td>\n      <td>4.8</td>\n      <td>1.4</td>\n      <td>3.5</td>\n      <td>nan</td>\n      <td>2.9</td>\n      <td>27.0</td>\n    </tr>\n    <tr>\n      <th>23</th>\n      <td>Kareem Abdul-Jabbar</td>\n      <td>1974-75</td>\n      <td>27</td>\n      <td>MIL</td>\n      <td>NBA</td>\n      <td>C</td>\n      <td>65</td>\n      <td>nan</td>\n      <td>42.3</td>\n      <td>12.5</td>\n      <td>...</td>\n      <td>.763</td>\n      <td>3.0</td>\n      <td>11.0</td>\n      <td>14.0</td>\n      <td>4.1</td>\n      <td>1.0</td>\n      <td>3.3</td>\n      <td>nan</td>\n      <td>3.2</td>\n      <td>30.0</td>\n    </tr>\n    <tr>\n      <th>24</th>\n      <td>Kareem Abdul-Jabbar</td>\n      <td>1975-76</td>\n      <td>28</td>\n      <td>LAL</td>\n      <td>NBA</td>\n      <td>C</td>\n      <td>82</td>\n      <td>nan</td>\n      <td>41.2</td>\n      <td>11.1</td>\n      <td>...</td>\n      <td>.703</td>\n      <td>3.3</td>\n      <td>13.5</td>\n      <td>16.9</td>\n      <td>5.0</td>\n      <td>1.5</td>\n      <td>4.1</td>\n      <td>nan</td>\n      <td>3.6</td>\n      <td>27.7</td>\n    </tr>\n    <tr>\n      <th>25</th>\n      <td>Kareem Abdul-Jabbar</td>\n      <td>1976-77</td>\n      <td>29</td>\n      <td>LAL</td>\n      <td>NBA</td>\n      <td>C</td>\n      <td>82</td>\n      <td>nan</td>\n      <td>36.8</td>\n      <td>10.8</td>\n      <td>...</td>\n      <td>.701</td>\n      <td>3.2</td>\n      <td>10.0</td>\n      <td>13.3</td>\n      <td>3.9</td>\n      <td>1.2</td>\n      <td>3.2</td>\n      <td>nan</td>\n      <td>3.2</td>\n      <td>26.2</td>\n    </tr>\n    <tr>\n      <th>26</th>\n      <td>Kareem Abdul-Jabbar</td>\n      <td>1977-78</td>\n      <td>30</td>\n      <td>LAL</td>\n      <td>NBA</td>\n      <td>C</td>\n      <td>62</td>\n      <td>nan</td>\n      <td>36.5</td>\n      <td>10.7</td>\n      <td>...</td>\n      <td>.783</td>\n      <td>3.0</td>\n      <td>9.9</td>\n      <td>12.9</td>\n      <td>4.3</td>\n      <td>1.7</td>\n      <td>3.0</td>\n      <td>3.4</td>\n      <td>2.9</td>\n      <td>25.8</td>\n    </tr>\n    <tr>\n      <th>27</th>\n      <td>Kareem Abdul-Jabbar</td>\n      <td>1978-79</td>\n      <td>31</td>\n      <td>LAL</td>\n      <td>NBA</td>\n      <td>C</td>\n      <td>80</td>\n      <td>nan</td>\n      <td>39.5</td>\n      <td>9.7</td>\n      <td>...</td>\n      <td>.736</td>\n      <td>2.6</td>\n      <td>10.2</td>\n      <td>12.8</td>\n      <td>5.4</td>\n      <td>1.0</td>\n      <td>4.0</td>\n      <td>3.5</td>\n      <td>2.9</td>\n      <td>23.8</td>\n    </tr>\n    <tr>\n      <th>28</th>\n      <td>Kareem Abdul-Jabbar</td>\n      <td>1979-80</td>\n      <td>32</td>\n      <td>LAL</td>\n      <td>NBA</td>\n      <td>C</td>\n      <td>82</td>\n      <td>nan</td>\n      <td>38.3</td>\n      <td>10.2</td>\n      <td>...</td>\n      <td>.765</td>\n      <td>2.3</td>\n      <td>8.5</td>\n      <td>10.8</td>\n      <td>4.5</td>\n      <td>1.0</td>\n      <td>3.4</td>\n      <td>3.6</td>\n      <td>2.6</td>\n      <td>24.8</td>\n    </tr>\n    <tr>\n      <th>29</th>\n      <td>Kareem Abdul-Jabbar</td>\n      <td>1980-81</td>\n      <td>33</td>\n      <td>LAL</td>\n      <td>NBA</td>\n      <td>C</td>\n      <td>80</td>\n      <td>nan</td>\n      <td>37.2</td>\n      <td>10.5</td>\n      <td>...</td>\n      <td>.766</td>\n      <td>2.5</td>\n      <td>7.8</td>\n      <td>10.3</td>\n      <td>3.4</td>\n      <td>0.7</td>\n      <td>2.9</td>\n      <td>3.1</td>\n      <td>3.1</td>\n      <td>26.2</td>\n    </tr>\n    <tr>\n      <th>...</th>\n      <td>...</td>\n      <td>...</td>\n      <td>...</td>\n      <td>...</td>\n      <td>...</td>\n      <td>...</td>\n      <td>...</td>\n      <td>...</td>\n      <td>...</td>\n      <td>...</td>\n      <td>...</td>\n      <td>...</td>\n      <td>...</td>\n      <td>...</td>\n      <td>...</td>\n      <td>...</td>\n      <td>...</td>\n      <td>...</td>\n      <td>...</td>\n      <td>...</td>\n      <td>...</td>\n    </tr>\n    <tr>\n      <th>35626</th>\n      <td>George Zídek</td>\n      <td>1995-96</td>\n      <td>22</td>\n      <td>CHH</td>\n      <td>NBA</td>\n      <td>C</td>\n      <td>71</td>\n      <td>21</td>\n      <td>12.5</td>\n      <td>1.5</td>\n      <td>...</td>\n      <td>.763</td>\n      <td>1.0</td>\n      <td>1.6</td>\n      <td>2.6</td>\n      <td>0.2</td>\n      <td>0.1</td>\n      <td>0.1</td>\n      <td>0.5</td>\n      <td>2.4</td>\n      <td>4.0</td>\n    </tr>\n    <tr>\n      <th>35627</th>\n      <td>George Zídek</td>\n      <td>1996-97</td>\n      <td>23</td>\n      <td>TOT</td>\n      <td>NBA</td>\n      <td>C</td>\n      <td>52</td>\n      <td>2</td>\n      <td>7.2</td>\n      <td>0.9</td>\n      <td>...</td>\n      <td>.789</td>\n      <td>0.7</td>\n      <td>1.0</td>\n      <td>1.7</td>\n      <td>0.3</td>\n      <td>0.1</td>\n      <td>0.1</td>\n      <td>0.5</td>\n      <td>1.2</td>\n      <td>2.8</td>\n    </tr>\n    <tr>\n      <th>35628</th>\n      <td>George Zídek</td>\n      <td>1996-97</td>\n      <td>23</td>\n      <td>CHH</td>\n      <td>NBA</td>\n      <td>C</td>\n      <td>36</td>\n      <td>2</td>\n      <td>8.0</td>\n      <td>0.9</td>\n      <td>...</td>\n      <td>.781</td>\n      <td>0.7</td>\n      <td>1.1</td>\n      <td>1.8</td>\n      <td>0.3</td>\n      <td>0.1</td>\n      <td>0.1</td>\n      <td>0.6</td>\n      <td>1.2</td>\n      <td>2.5</td>\n    </tr>\n    <tr>\n      <th>35629</th>\n      <td>George Zídek</td>\n      <td>1996-97</td>\n      <td>23</td>\n      <td>DEN</td>\n      <td>NBA</td>\n      <td>C</td>\n      <td>16</td>\n      <td>0</td>\n      <td>5.5</td>\n      <td>1.0</td>\n      <td>...</td>\n      <td>.800</td>\n      <td>0.6</td>\n      <td>0.8</td>\n      <td>1.4</td>\n      <td>0.3</td>\n      <td>0.1</td>\n      <td>0.0</td>\n      <td>0.3</td>\n      <td>1.1</td>\n      <td>3.3</td>\n    </tr>\n    <tr>\n      <th>35630</th>\n      <td>George Zídek</td>\n      <td>1997-98</td>\n      <td>24</td>\n      <td>TOT</td>\n      <td>NBA</td>\n      <td>C</td>\n      <td>12</td>\n      <td>0</td>\n      <td>5.3</td>\n      <td>0.6</td>\n      <td>...</td>\n      <td>.875</td>\n      <td>0.3</td>\n      <td>1.1</td>\n      <td>1.4</td>\n      <td>0.2</td>\n      <td>0.0</td>\n      <td>0.2</td>\n      <td>0.3</td>\n      <td>0.8</td>\n      <td>2.4</td>\n    </tr>\n    <tr>\n      <th>35631</th>\n      <td>George Zídek</td>\n      <td>1997-98</td>\n      <td>24</td>\n      <td>DEN</td>\n      <td>NBA</td>\n      <td>C</td>\n      <td>6</td>\n      <td>0</td>\n      <td>7.0</td>\n      <td>0.7</td>\n      <td>...</td>\n      <td>.833</td>\n      <td>0.7</td>\n      <td>1.5</td>\n      <td>2.2</td>\n      <td>0.2</td>\n      <td>0.0</td>\n      <td>0.3</td>\n      <td>0.5</td>\n      <td>0.8</td>\n      <td>3.0</td>\n    </tr>\n    <tr>\n      <th>35632</th>\n      <td>George Zídek</td>\n      <td>1997-98</td>\n      <td>24</td>\n      <td>SEA</td>\n      <td>NBA</td>\n      <td>C</td>\n      <td>6</td>\n      <td>0</td>\n      <td>3.7</td>\n      <td>0.5</td>\n      <td>...</td>\n      <td>1.000</td>\n      <td>0.0</td>\n      <td>0.7</td>\n      <td>0.7</td>\n      <td>0.2</td>\n      <td>0.0</td>\n      <td>0.0</td>\n      <td>0.2</td>\n      <td>0.8</td>\n      <td>1.8</td>\n    </tr>\n    <tr>\n      <th>35633</th>\n      <td>Derrick Zimmerman</td>\n      <td>2005-06</td>\n      <td>24</td>\n      <td>NJN</td>\n      <td>NBA</td>\n      <td>PG</td>\n      <td>2</td>\n      <td>0</td>\n      <td>16.0</td>\n      <td>1.0</td>\n      <td>...</td>\n      <td>nan</td>\n      <td>0.5</td>\n      <td>1.5</td>\n      <td>2.0</td>\n      <td>3.5</td>\n      <td>0.0</td>\n      <td>0.0</td>\n      <td>2.0</td>\n      <td>2.0</td>\n      <td>2.0</td>\n    </tr>\n    <tr>\n      <th>35634</th>\n      <td>Stephen Zimmerman</td>\n      <td>2016-17</td>\n      <td>20</td>\n      <td>ORL</td>\n      <td>NBA</td>\n      <td>C</td>\n      <td>19</td>\n      <td>0</td>\n      <td>5.7</td>\n      <td>0.5</td>\n      <td>...</td>\n      <td>.600</td>\n      <td>0.6</td>\n      <td>1.3</td>\n      <td>1.8</td>\n      <td>0.2</td>\n      <td>0.1</td>\n      <td>0.3</td>\n      <td>0.2</td>\n      <td>0.9</td>\n      <td>1.2</td>\n    </tr>\n    <tr>\n      <th>35635</th>\n      <td>Paul Zipser</td>\n      <td>2016-17</td>\n      <td>22</td>\n      <td>CHI</td>\n      <td>NBA</td>\n      <td>SF</td>\n      <td>44</td>\n      <td>18</td>\n      <td>19.2</td>\n      <td>2.0</td>\n      <td>...</td>\n      <td>.775</td>\n      <td>0.3</td>\n      <td>2.5</td>\n      <td>2.8</td>\n      <td>0.8</td>\n      <td>0.3</td>\n      <td>0.4</td>\n      <td>0.9</td>\n      <td>1.8</td>\n      <td>5.5</td>\n    </tr>\n    <tr>\n      <th>35636</th>\n      <td>Paul Zipser</td>\n      <td>2017-18</td>\n      <td>23</td>\n      <td>CHI</td>\n      <td>NBA</td>\n      <td>SF</td>\n      <td>54</td>\n      <td>12</td>\n      <td>15.3</td>\n      <td>1.5</td>\n      <td>...</td>\n      <td>.760</td>\n      <td>0.2</td>\n      <td>2.2</td>\n      <td>2.4</td>\n      <td>0.9</td>\n      <td>0.4</td>\n      <td>0.3</td>\n      <td>0.8</td>\n      <td>1.6</td>\n      <td>4.0</td>\n    </tr>\n    <tr>\n      <th>35637</th>\n      <td>Ante Žižić</td>\n      <td>2017-18</td>\n      <td>21</td>\n      <td>CLE</td>\n      <td>NBA</td>\n      <td>C</td>\n      <td>32</td>\n      <td>2</td>\n      <td>6.7</td>\n      <td>1.5</td>\n      <td>...</td>\n      <td>.724</td>\n      <td>0.8</td>\n      <td>1.1</td>\n      <td>1.9</td>\n      <td>0.2</td>\n      <td>0.1</td>\n      <td>0.4</td>\n      <td>0.3</td>\n      <td>0.9</td>\n      <td>3.7</td>\n    </tr>\n    <tr>\n      <th>35638</th>\n      <td>Ante Žižić</td>\n      <td>2018-19</td>\n      <td>22</td>\n      <td>CLE</td>\n      <td>NBA</td>\n      <td>C</td>\n      <td>59</td>\n      <td>25</td>\n      <td>18.3</td>\n      <td>3.1</td>\n      <td>...</td>\n      <td>.705</td>\n      <td>1.8</td>\n      <td>3.6</td>\n      <td>5.4</td>\n      <td>0.9</td>\n      <td>0.2</td>\n      <td>0.4</td>\n      <td>1.0</td>\n      <td>1.9</td>\n      <td>7.8</td>\n    </tr>\n    <tr>\n      <th>35639</th>\n      <td>Ante Žižić</td>\n      <td>2019-20</td>\n      <td>23</td>\n      <td>CLE</td>\n      <td>NBA</td>\n      <td>C</td>\n      <td>22</td>\n      <td>0</td>\n      <td>10.0</td>\n      <td>1.9</td>\n      <td>...</td>\n      <td>.737</td>\n      <td>0.8</td>\n      <td>2.2</td>\n      <td>3.0</td>\n      <td>0.3</td>\n      <td>0.3</td>\n      <td>0.2</td>\n      <td>0.5</td>\n      <td>1.2</td>\n      <td>4.4</td>\n    </tr>\n    <tr>\n      <th>35640</th>\n      <td>Jim Zoet</td>\n      <td>1982-83</td>\n      <td>29</td>\n      <td>DET</td>\n      <td>NBA</td>\n      <td>C</td>\n      <td>7</td>\n      <td>0</td>\n      <td>4.3</td>\n      <td>0.1</td>\n      <td>...</td>\n      <td>nan</td>\n      <td>0.4</td>\n      <td>0.7</td>\n      <td>1.1</td>\n      <td>0.1</td>\n      <td>0.1</td>\n      <td>0.4</td>\n      <td>0.6</td>\n      <td>1.3</td>\n      <td>0.3</td>\n    </tr>\n    <tr>\n      <th>35641</th>\n      <td>Jim Zoet</td>\n      <td>1982-83</td>\n      <td>29</td>\n      <td>DET</td>\n      <td>NBA</td>\n      <td>C</td>\n      <td>7</td>\n      <td>0</td>\n      <td>4.3</td>\n      <td>0.1</td>\n      <td>...</td>\n      <td>nan</td>\n      <td>0.4</td>\n      <td>0.7</td>\n      <td>1.1</td>\n      <td>0.1</td>\n      <td>0.1</td>\n      <td>0.4</td>\n      <td>0.6</td>\n      <td>1.3</td>\n      <td>0.3</td>\n    </tr>\n    <tr>\n      <th>35642</th>\n      <td>Ivica Zubac</td>\n      <td>2016-17</td>\n      <td>19</td>\n      <td>LAL</td>\n      <td>NBA</td>\n      <td>C</td>\n      <td>38</td>\n      <td>11</td>\n      <td>16.0</td>\n      <td>3.3</td>\n      <td>...</td>\n      <td>.653</td>\n      <td>1.1</td>\n      <td>3.1</td>\n      <td>4.2</td>\n      <td>0.8</td>\n      <td>0.4</td>\n      <td>0.9</td>\n      <td>0.8</td>\n      <td>1.7</td>\n      <td>7.5</td>\n    </tr>\n    <tr>\n      <th>35643</th>\n      <td>Ivica Zubac</td>\n      <td>2017-18</td>\n      <td>20</td>\n      <td>LAL</td>\n      <td>NBA</td>\n      <td>C</td>\n      <td>43</td>\n      <td>0</td>\n      <td>9.5</td>\n      <td>1.4</td>\n      <td>...</td>\n      <td>.765</td>\n      <td>1.0</td>\n      <td>1.8</td>\n      <td>2.9</td>\n      <td>0.6</td>\n      <td>0.2</td>\n      <td>0.3</td>\n      <td>0.6</td>\n      <td>1.1</td>\n      <td>3.7</td>\n    </tr>\n    <tr>\n      <th>35644</th>\n      <td>Ivica Zubac</td>\n      <td>2018-19</td>\n      <td>21</td>\n      <td>TOT</td>\n      <td>NBA</td>\n      <td>C</td>\n      <td>59</td>\n      <td>37</td>\n      <td>17.6</td>\n      <td>3.6</td>\n      <td>...</td>\n      <td>.802</td>\n      <td>1.9</td>\n      <td>4.2</td>\n      <td>6.1</td>\n      <td>1.1</td>\n      <td>0.2</td>\n      <td>0.9</td>\n      <td>1.2</td>\n      <td>2.3</td>\n      <td>8.9</td>\n    </tr>\n    <tr>\n      <th>35645</th>\n      <td>Ivica Zubac</td>\n      <td>2018-19</td>\n      <td>21</td>\n      <td>LAL</td>\n      <td>NBA</td>\n      <td>C</td>\n      <td>33</td>\n      <td>12</td>\n      <td>15.6</td>\n      <td>3.4</td>\n      <td>...</td>\n      <td>.864</td>\n      <td>1.6</td>\n      <td>3.3</td>\n      <td>4.9</td>\n      <td>0.8</td>\n      <td>0.1</td>\n      <td>0.8</td>\n      <td>1.0</td>\n      <td>2.2</td>\n      <td>8.5</td>\n    </tr>\n    <tr>\n      <th>35646</th>\n      <td>Ivica Zubac</td>\n      <td>2018-19</td>\n      <td>21</td>\n      <td>LAC</td>\n      <td>NBA</td>\n      <td>C</td>\n      <td>26</td>\n      <td>25</td>\n      <td>20.2</td>\n      <td>3.8</td>\n      <td>...</td>\n      <td>.733</td>\n      <td>2.3</td>\n      <td>5.3</td>\n      <td>7.7</td>\n      <td>1.5</td>\n      <td>0.4</td>\n      <td>0.9</td>\n      <td>1.4</td>\n      <td>2.5</td>\n      <td>9.4</td>\n    </tr>\n    <tr>\n      <th>35647</th>\n      <td>Ivica Zubac</td>\n      <td>2019-20</td>\n      <td>22</td>\n      <td>LAC</td>\n      <td>NBA</td>\n      <td>C</td>\n      <td>72</td>\n      <td>70</td>\n      <td>18.4</td>\n      <td>3.3</td>\n      <td>...</td>\n      <td>.747</td>\n      <td>2.7</td>\n      <td>4.8</td>\n      <td>7.5</td>\n      <td>1.1</td>\n      <td>0.2</td>\n      <td>0.9</td>\n      <td>0.8</td>\n      <td>2.3</td>\n      <td>8.3</td>\n    </tr>\n    <tr>\n      <th>35648</th>\n      <td>Ivica Zubac</td>\n      <td>2020-21</td>\n      <td>23</td>\n      <td>LAC</td>\n      <td>NBA</td>\n      <td>C</td>\n      <td>16</td>\n      <td>1</td>\n      <td>18.2</td>\n      <td>2.8</td>\n      <td>...</td>\n      <td>.816</td>\n      <td>1.7</td>\n      <td>3.5</td>\n      <td>5.2</td>\n      <td>0.9</td>\n      <td>0.4</td>\n      <td>0.9</td>\n      <td>0.9</td>\n      <td>2.4</td>\n      <td>7.6</td>\n    </tr>\n    <tr>\n      <th>35649</th>\n      <td>Ivica Zubac</td>\n      <td>2016-17</td>\n      <td>19</td>\n      <td>LAL</td>\n      <td>NBA</td>\n      <td>C</td>\n      <td>38</td>\n      <td>11</td>\n      <td>16.0</td>\n      <td>3.3</td>\n      <td>...</td>\n      <td>.653</td>\n      <td>1.1</td>\n      <td>3.1</td>\n      <td>4.2</td>\n      <td>0.8</td>\n      <td>0.4</td>\n      <td>0.9</td>\n      <td>0.8</td>\n      <td>1.7</td>\n      <td>7.5</td>\n    </tr>\n    <tr>\n      <th>35650</th>\n      <td>Ivica Zubac</td>\n      <td>2017-18</td>\n      <td>20</td>\n      <td>LAL</td>\n      <td>NBA</td>\n      <td>C</td>\n      <td>43</td>\n      <td>0</td>\n      <td>9.5</td>\n      <td>1.4</td>\n      <td>...</td>\n      <td>.765</td>\n      <td>1.0</td>\n      <td>1.8</td>\n      <td>2.9</td>\n      <td>0.6</td>\n      <td>0.2</td>\n      <td>0.3</td>\n      <td>0.6</td>\n      <td>1.1</td>\n      <td>3.7</td>\n    </tr>\n    <tr>\n      <th>35651</th>\n      <td>Ivica Zubac</td>\n      <td>2018-19</td>\n      <td>21</td>\n      <td>TOT</td>\n      <td>NBA</td>\n      <td>C</td>\n      <td>59</td>\n      <td>37</td>\n      <td>17.6</td>\n      <td>3.6</td>\n      <td>...</td>\n      <td>.802</td>\n      <td>1.9</td>\n      <td>4.2</td>\n      <td>6.1</td>\n      <td>1.1</td>\n      <td>0.2</td>\n      <td>0.9</td>\n      <td>1.2</td>\n      <td>2.3</td>\n      <td>8.9</td>\n    </tr>\n    <tr>\n      <th>35652</th>\n      <td>Ivica Zubac</td>\n      <td>2018-19</td>\n      <td>21</td>\n      <td>LAL</td>\n      <td>NBA</td>\n      <td>C</td>\n      <td>33</td>\n      <td>12</td>\n      <td>15.6</td>\n      <td>3.4</td>\n      <td>...</td>\n      <td>.864</td>\n      <td>1.6</td>\n      <td>3.3</td>\n      <td>4.9</td>\n      <td>0.8</td>\n      <td>0.1</td>\n      <td>0.8</td>\n      <td>1.0</td>\n      <td>2.2</td>\n      <td>8.5</td>\n    </tr>\n    <tr>\n      <th>35653</th>\n      <td>Ivica Zubac</td>\n      <td>2018-19</td>\n      <td>21</td>\n      <td>LAC</td>\n      <td>NBA</td>\n      <td>C</td>\n      <td>26</td>\n      <td>25</td>\n      <td>20.2</td>\n      <td>3.8</td>\n      <td>...</td>\n      <td>.733</td>\n      <td>2.3</td>\n      <td>5.3</td>\n      <td>7.7</td>\n      <td>1.5</td>\n      <td>0.4</td>\n      <td>0.9</td>\n      <td>1.4</td>\n      <td>2.5</td>\n      <td>9.4</td>\n    </tr>\n    <tr>\n      <th>35654</th>\n      <td>Ivica Zubac</td>\n      <td>2019-20</td>\n      <td>22</td>\n      <td>LAC</td>\n      <td>NBA</td>\n      <td>C</td>\n      <td>72</td>\n      <td>70</td>\n      <td>18.4</td>\n      <td>3.3</td>\n      <td>...</td>\n      <td>.747</td>\n      <td>2.7</td>\n      <td>4.8</td>\n      <td>7.5</td>\n      <td>1.1</td>\n      <td>0.2</td>\n      <td>0.9</td>\n      <td>0.8</td>\n      <td>2.3</td>\n      <td>8.3</td>\n    </tr>\n    <tr>\n      <th>35655</th>\n      <td>Ivica Zubac</td>\n      <td>2020-21</td>\n      <td>23</td>\n      <td>LAC</td>\n      <td>NBA</td>\n      <td>C</td>\n      <td>16</td>\n      <td>1</td>\n      <td>18.2</td>\n      <td>2.8</td>\n      <td>...</td>\n      <td>.816</td>\n      <td>1.7</td>\n      <td>3.5</td>\n      <td>5.2</td>\n      <td>0.9</td>\n      <td>0.4</td>\n      <td>0.9</td>\n      <td>0.9</td>\n      <td>2.4</td>\n      <td>7.6</td>\n    </tr>\n  </tbody>\n</table>\n<p>35656 rows × 31 columns</p>\n</div>"
     },
     "metadata": {},
     "execution_count": 26
    }
   ],
   "source": [
    "final_df = pd.DataFrame(data = final_array, columns = Data_list)\n",
    "final_df"
   ]
  },
  {
   "cell_type": "code",
   "execution_count": 29,
   "metadata": {},
   "outputs": [],
   "source": [
    "final_df.to_csv('NBAData.csv',index = False)"
   ]
  }
 ]
}